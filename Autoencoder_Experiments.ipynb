{
 "cells": [
  {
   "cell_type": "code",
   "execution_count": 1,
   "metadata": {
    "colab": {
     "base_uri": "https://localhost:8080/",
     "height": 217
    },
    "executionInfo": {
     "elapsed": 57,
     "status": "error",
     "timestamp": 1690897011385,
     "user": {
      "displayName": "ΙΩΑΝΝΗΣ ΠΑΠΑΚΩΣΤΑΣ",
      "userId": "05054721977669331577"
     },
     "user_tz": -180
    },
    "id": "L3BsTnrCHY-L",
    "outputId": "aff39c0f-c452-44be-bf93-c5523bd2a90f"
   },
   "outputs": [],
   "source": [
    "#pip3 install google.colab\n",
    "#from google.colab import drive\n",
    "#drive.mount('/content/drive', force_remount=True)"
   ]
  },
  {
   "cell_type": "markdown",
   "metadata": {
    "id": "7yTrysaRSfO7"
   },
   "source": [
    "###  Libraries"
   ]
  },
  {
   "cell_type": "code",
   "execution_count": 2,
   "metadata": {
    "colab": {
     "base_uri": "https://localhost:8080/",
     "height": 287
    },
    "executionInfo": {
     "elapsed": 1500,
     "status": "error",
     "timestamp": 1690897017322,
     "user": {
      "displayName": "ΙΩΑΝΝΗΣ ΠΑΠΑΚΩΣΤΑΣ",
      "userId": "05054721977669331577"
     },
     "user_tz": -180
    },
    "id": "A6Xgfba5SeYG",
    "outputId": "3a3e4f3b-54d5-4379-d747-d27332446691"
   },
   "outputs": [],
   "source": [
    "import numpy as np\n",
    "from sklearn.cluster import KMeans\n",
    "import matplotlib.colors as mcolors\n",
    "\n",
    "import torch\n",
    "\n",
    "import os\n",
    "import sys\n",
    "\n",
    "from Autoencoder import Autoencoder, CD_Autoencoder\n",
    "from Datasets.Datasets_Functions import *\n",
    "from Visualization import Visualization\n",
    "from Evaluations.Evaluation import Evaluator\n",
    "from General_Functions import General_Functions"
   ]
  },
  {
   "cell_type": "markdown",
   "metadata": {
    "id": "Y4OhuI9Y_mBT"
   },
   "source": [
    "### Global Variables"
   ]
  },
  {
   "cell_type": "code",
   "execution_count": 3,
   "metadata": {
    "executionInfo": {
     "elapsed": 328,
     "status": "aborted",
     "timestamp": 1690896732863,
     "user": {
      "displayName": "ΙΩΑΝΝΗΣ ΠΑΠΑΚΩΣΤΑΣ",
      "userId": "05054721977669331577"
     },
     "user_tz": -180
    },
    "id": "q41qJCN0_mBU"
   },
   "outputs": [],
   "source": [
    "path_to_module = './' # 'C:\\\\Users\\\\PAPASOFT INC\\\\Desktop\\\\SOFT_SIL'\n",
    "sys.path.append(path_to_module)\n",
    "os.environ['OMP_NUM_THREADS'] = '6'\n",
    "\n",
    "device = torch.device('cuda:0' if torch.cuda.is_available() else 'cpu')\n",
    "torch.cuda.set_device(device)"
   ]
  },
  {
   "cell_type": "markdown",
   "metadata": {},
   "source": [
    "### Visualization"
   ]
  },
  {
   "cell_type": "code",
   "execution_count": 4,
   "metadata": {},
   "outputs": [],
   "source": [
    "visualization = Visualization()"
   ]
  },
  {
   "cell_type": "markdown",
   "metadata": {
    "id": "SjskwTndC-y-"
   },
   "source": [
    "### ***LOAD DATASET***"
   ]
  },
  {
   "cell_type": "code",
   "execution_count": 5,
   "metadata": {
    "executionInfo": {
     "elapsed": 324,
     "status": "aborted",
     "timestamp": 1690896732864,
     "user": {
      "displayName": "ΙΩΑΝΝΗΣ ΠΑΠΑΚΩΣΤΑΣ",
      "userId": "05054721977669331577"
     },
     "user_tz": -180
    },
    "id": "6nFI8NEPhs0c"
   },
   "outputs": [
    {
     "name": "stdout",
     "output_type": "stream",
     "text": [
      "dict_keys(['tcga', 'emnist_balanced_letters', 'emnist_mnist', 'emnist_balanced_digits', 'dermatology', 'ecoil', 'iris', 'rings', 'wine', 'australian', 'moons', 'squeezed_gauss', 'gauss_densities', 'pendigits', 'fashionmnist', '3dspheres', '20_newsgroups', 'coil20', 'cifar10', 'stl10', 'r15', 'r3'])\n",
      "{'batch_size': 256, 'n_clusters': 10, 'module_name': 'Datasets.Datasets'}\n",
      "Data_Shape is: 1\n",
      "Batches Number is: 28\n"
     ]
    }
   ],
   "source": [
    "hashmap_path = path_to_module+\"Datasets/\"\n",
    "hashmap = get_hashmap(hashmap_path)\n",
    "print(hashmap.keys())\n",
    "dataset_name = 'emnist_balanced_digits'\n",
    "dataset_properties = hashmap[dataset_name]\n",
    "print(dataset_properties)\n",
    "batch_size = dataset_properties['batch_size'] = 1024\n",
    "n_clusters = dataset_properties['n_clusters'] = 10\n",
    "dataloader, input_dim, data_np, labels = function_get_dataset(dataset_name, dataset_properties)\n",
    "print('Data_Shape is:', input_dim)\n",
    "print('Batches Number is:', len(dataloader))"
   ]
  },
  {
   "cell_type": "markdown",
   "metadata": {
    "id": "s5uxFA6rSfOv"
   },
   "source": [
    "### Parameters"
   ]
  },
  {
   "cell_type": "code",
   "execution_count": 6,
   "metadata": {
    "executionInfo": {
     "elapsed": 322,
     "status": "aborted",
     "timestamp": 1690896732865,
     "user": {
      "displayName": "ΙΩΑΝΝΗΣ ΠΑΠΑΚΩΣΤΑΣ",
      "userId": "05054721977669331577"
     },
     "user_tz": -180
    },
    "id": "ND4kEAYMDTim"
   },
   "outputs": [],
   "source": [
    "# Latent Dimension, Number of Channels and Negative Slope\n",
    "latent_dim = 10\n",
    "n_channels = 1\n",
    "n_clusters = dataset_properties['n_clusters']\n",
    "\n",
    "# Batch Size and Number of Clusters\n",
    "batch_size = dataset_properties['batch_size']\n",
    "negative_slope = 0\n",
    "\n",
    "# Pre-Training Epochs and Learning Rate\n",
    "n_pret_epochs = 100\n",
    "pret_lr = 1e-3\n",
    "\n",
    "# Lamdas, Training Epochs and Learning Rate\n",
    "n_epochs = 100\n",
    "lr = 1e-4\n",
    "sil_lambda = 0.01\n",
    "entr_lambda = 0.01\n",
    "\n",
    "kmeans_initialization = True\n",
    "pretrain = False\n",
    "is_MLP_AE = False"
   ]
  },
  {
   "cell_type": "markdown",
   "metadata": {
    "id": "M2P-UOuHDOXV"
   },
   "source": [
    "### Create Autoencoder Model"
   ]
  },
  {
   "cell_type": "code",
   "execution_count": 7,
   "metadata": {
    "executionInfo": {
     "elapsed": 321,
     "status": "aborted",
     "timestamp": 1690896732866,
     "user": {
      "displayName": "ΙΩΑΝΝΗΣ ΠΑΠΑΚΩΣΤΑΣ",
      "userId": "05054721977669331577"
     },
     "user_tz": -180
    },
    "id": "PBkI9U0tgoZ1"
   },
   "outputs": [],
   "source": [
    "if is_MLP_AE:\n",
    "    autoencoder = Autoencoder(device=device, n_clusters=n_clusters, input_dim=input_dim, latent_dim=latent_dim, negative_slope=negative_slope)\n",
    "    autoencoder.set_general_training_variables(dataloader=dataloader, batch_size=batch_size)\n",
    "    autoencoder.set_pretraining_variables(n_pret_epochs=n_pret_epochs, pret_lr=pret_lr)\n",
    "    autoencoder.set_training_variables(n_epochs=n_epochs, lr=lr, sil_lambda=sil_lambda, entr_lambda=entr_lambda)\n",
    "    autoencoder.set_path_variables(path_to_module=path_to_module, dataset_name=dataset_name)\n",
    "    autoencoder.set_path()\n",
    "else:\n",
    "    autoencoder = CD_Autoencoder(device=device, n_clusters=n_clusters, input_dim=input_dim, latent_dim=latent_dim, negative_slope=negative_slope, n_channels=n_channels)\n",
    "    autoencoder.set_general_training_variables(dataloader=dataloader, batch_size=batch_size)\n",
    "    autoencoder.set_pretraining_variables(n_pret_epochs=n_pret_epochs, pret_lr=pret_lr)\n",
    "    autoencoder.set_training_variables(n_epochs=n_epochs, lr=lr, sil_lambda=sil_lambda, entr_lambda=entr_lambda)\n",
    "    autoencoder.set_path_variables(path_to_module=path_to_module, dataset_name=dataset_name)\n",
    "    autoencoder.set_path()\n",
    "autoencoder = autoencoder.to(device)"
   ]
  },
  {
   "cell_type": "code",
   "execution_count": 8,
   "metadata": {},
   "outputs": [
    {
     "data": {
      "text/plain": [
       "CD_Autoencoder(\n",
       "  (encoder_model): Sequential(\n",
       "    (0): Conv2d(1, 32, kernel_size=(5, 5), stride=(2, 2), padding=(2, 2))\n",
       "    (1): LeakyReLU(negative_slope=0, inplace=True)\n",
       "    (2): BatchNorm2d(32, eps=1e-05, momentum=0.1, affine=True, track_running_stats=True)\n",
       "    (3): Conv2d(32, 64, kernel_size=(5, 5), stride=(2, 2), padding=(2, 2))\n",
       "    (4): LeakyReLU(negative_slope=0, inplace=True)\n",
       "    (5): BatchNorm2d(64, eps=1e-05, momentum=0.1, affine=True, track_running_stats=True)\n",
       "    (6): Conv2d(64, 128, kernel_size=(3, 3), stride=(2, 2))\n",
       "    (7): LeakyReLU(negative_slope=0, inplace=True)\n",
       "    (8): BatchNorm2d(128, eps=1e-05, momentum=0.1, affine=True, track_running_stats=True)\n",
       "    (9): Flatten(start_dim=1, end_dim=-1)\n",
       "    (10): Linear(in_features=1152, out_features=10, bias=True)\n",
       "    (11): Tanh()\n",
       "    (12): BatchNorm1d(10, eps=1e-05, momentum=0.1, affine=True, track_running_stats=True)\n",
       "  )\n",
       "  (cluster_model): Sequential(\n",
       "    (0): Linear(in_features=10, out_features=10, bias=False)\n",
       "  )\n",
       "  (decoder_model): Sequential(\n",
       "    (0): Linear(in_features=10, out_features=1152, bias=True)\n",
       "    (1): LeakyReLU(negative_slope=0, inplace=True)\n",
       "    (2): BatchNorm1d(1152, eps=1e-05, momentum=0.1, affine=True, track_running_stats=True)\n",
       "    (3): Unflatten(dim=1, unflattened_size=(128, 3, 3))\n",
       "    (4): ConvTranspose2d(128, 64, kernel_size=(3, 3), stride=(2, 2))\n",
       "    (5): LeakyReLU(negative_slope=0, inplace=True)\n",
       "    (6): BatchNorm2d(64, eps=1e-05, momentum=0.1, affine=True, track_running_stats=True)\n",
       "    (7): ConvTranspose2d(64, 32, kernel_size=(5, 5), stride=(2, 2), padding=(2, 2), output_padding=(1, 1))\n",
       "    (8): LeakyReLU(negative_slope=0, inplace=True)\n",
       "    (9): BatchNorm2d(32, eps=1e-05, momentum=0.1, affine=True, track_running_stats=True)\n",
       "    (10): ConvTranspose2d(32, 1, kernel_size=(5, 5), stride=(2, 2), padding=(2, 2), output_padding=(1, 1))\n",
       "    (11): LeakyReLU(negative_slope=0, inplace=True)\n",
       "    (12): BatchNorm2d(1, eps=1e-05, momentum=0.1, affine=True, track_running_stats=True)\n",
       "  )\n",
       ")"
      ]
     },
     "execution_count": 8,
     "metadata": {},
     "output_type": "execute_result"
    }
   ],
   "source": [
    "autoencoder"
   ]
  },
  {
   "cell_type": "markdown",
   "metadata": {},
   "source": [
    "### Pretrain Autoencoder Model"
   ]
  },
  {
   "cell_type": "code",
   "execution_count": 9,
   "metadata": {},
   "outputs": [],
   "source": [
    "if(pretrain):\n",
    "    autoencoder.pretrain_autoencoder()\n",
    "    autoencoder.save_pretrained_weights()\n",
    "else:\n",
    "    model_save_path = autoencoder.data_dir_path + \"/Weigths/autoencoder_weights.pth\"\n",
    "    autoencoder.load_state_dict(torch.load(model_save_path))"
   ]
  },
  {
   "cell_type": "code",
   "execution_count": 10,
   "metadata": {},
   "outputs": [
    {
     "name": "stdout",
     "output_type": "stream",
     "text": [
      "ACC: 0.78 PUR: 0.79 NMI: 0.72 ARI: 0.65\n"
     ]
    }
   ],
   "source": [
    "# Initialize the clustering layer using k-means\n",
    "if kmeans_initialization: autoencoder.kmeans_initialization(100)"
   ]
  },
  {
   "cell_type": "code",
   "execution_count": 11,
   "metadata": {
    "executionInfo": {
     "elapsed": 313,
     "status": "aborted",
     "timestamp": 1690896732869,
     "user": {
      "displayName": "ΙΩΑΝΝΗΣ ΠΑΠΑΚΩΣΤΑΣ",
      "userId": "05054721977669331577"
     },
     "user_tz": -180
    },
    "id": "GVXfROTxGNJ2"
   },
   "outputs": [
    {
     "name": "stdout",
     "output_type": "stream",
     "text": [
      "Ep: 0 Rec L: 0.2972 Cl L: 0.2577 Entropy: 0.2301 SSil: 2.2332 SIL: 0.0000 ACC: 0.79 PUR: 0.79 NMI: 0.73 ARI: 0.66\n",
      "Ep: 1 Rec L: 0.3012 Cl L: 0.2378 Entropy: 0.2055 SSil: 4.2205 SIL: 0.0000 ACC: 0.80 PUR: 0.80 NMI: 0.75 ARI: 0.68\n",
      "Ep: 2 Rec L: 0.3045 Cl L: 0.2302 Entropy: 0.1913 SSil: 4.9805 SIL: 0.0000 ACC: 0.80 PUR: 0.81 NMI: 0.76 ARI: 0.69\n",
      "Ep: 3 Rec L: 0.3098 Cl L: 0.2231 Entropy: 0.1813 SSil: 5.6852 SIL: 0.0000 ACC: 0.81 PUR: 0.81 NMI: 0.76 ARI: 0.70\n",
      "Ep: 4 Rec L: 0.3108 Cl L: 0.2186 Entropy: 0.1726 SSil: 6.1369 SIL: 0.0000 ACC: 0.81 PUR: 0.82 NMI: 0.77 ARI: 0.71\n",
      "Ep: 5 Rec L: 0.3122 Cl L: 0.2140 Entropy: 0.1656 SSil: 6.5993 SIL: 0.0000 ACC: 0.81 PUR: 0.82 NMI: 0.77 ARI: 0.71\n",
      "Ep: 6 Rec L: 0.3129 Cl L: 0.2103 Entropy: 0.1595 SSil: 6.9712 SIL: 0.0000 ACC: 0.81 PUR: 0.82 NMI: 0.77 ARI: 0.71\n",
      "Ep: 7 Rec L: 0.3189 Cl L: 0.2073 Entropy: 0.1543 SSil: 7.2745 SIL: 0.0000 ACC: 0.81 PUR: 0.82 NMI: 0.78 ARI: 0.71\n",
      "Ep: 8 Rec L: 0.3157 Cl L: 0.2034 Entropy: 0.1489 SSil: 7.6614 SIL: 0.0000 ACC: 0.82 PUR: 0.82 NMI: 0.78 ARI: 0.72\n",
      "Ep: 9 Rec L: 0.3181 Cl L: 0.2017 Entropy: 0.1444 SSil: 7.8323 SIL: 0.0000 ACC: 0.82 PUR: 0.82 NMI: 0.78 ARI: 0.72\n",
      "Ep: 10 Rec L: 0.3164 Cl L: 0.1974 Entropy: 0.1400 SSil: 8.2592 SIL: 0.0000 ACC: 0.82 PUR: 0.82 NMI: 0.78 ARI: 0.72\n",
      "Ep: 11 Rec L: 0.3175 Cl L: 0.1970 Entropy: 0.1362 SSil: 8.2997 SIL: 0.0000 ACC: 0.82 PUR: 0.82 NMI: 0.79 ARI: 0.73\n",
      "Ep: 12 Rec L: 0.3207 Cl L: 0.1954 Entropy: 0.1325 SSil: 8.4569 SIL: 0.0000 ACC: 0.82 PUR: 0.83 NMI: 0.79 ARI: 0.73\n",
      "Ep: 13 Rec L: 0.3197 Cl L: 0.1920 Entropy: 0.1290 SSil: 8.8046 SIL: 0.0000 ACC: 0.82 PUR: 0.83 NMI: 0.79 ARI: 0.73\n",
      "Ep: 14 Rec L: 0.3195 Cl L: 0.1896 Entropy: 0.1256 SSil: 9.0373 SIL: 0.0000 ACC: 0.82 PUR: 0.83 NMI: 0.79 ARI: 0.73\n",
      "Ep: 15 Rec L: 0.3207 Cl L: 0.1895 Entropy: 0.1227 SSil: 9.0544 SIL: 0.0000 ACC: 0.82 PUR: 0.83 NMI: 0.79 ARI: 0.73\n",
      "Ep: 16 Rec L: 0.3205 Cl L: 0.1871 Entropy: 0.1196 SSil: 9.2870 SIL: 0.0000 ACC: 0.82 PUR: 0.83 NMI: 0.79 ARI: 0.73\n",
      "Ep: 17 Rec L: 0.3203 Cl L: 0.1844 Entropy: 0.1169 SSil: 9.5557 SIL: 0.0000 ACC: 0.82 PUR: 0.83 NMI: 0.79 ARI: 0.73\n",
      "Ep: 18 Rec L: 0.3202 Cl L: 0.1834 Entropy: 0.1140 SSil: 9.6634 SIL: 0.0000 ACC: 0.82 PUR: 0.83 NMI: 0.80 ARI: 0.74\n",
      "Ep: 19 Rec L: 0.3205 Cl L: 0.1808 Entropy: 0.1117 SSil: 9.9172 SIL: 0.0000 ACC: 0.82 PUR: 0.83 NMI: 0.80 ARI: 0.74\n",
      "Ep: 20 Rec L: 0.3214 Cl L: 0.1828 Entropy: 0.1096 SSil: 9.7218 SIL: 0.0000 ACC: 0.82 PUR: 0.83 NMI: 0.80 ARI: 0.74\n",
      "Ep: 21 Rec L: 0.3194 Cl L: 0.1804 Entropy: 0.1073 SSil: 9.9584 SIL: 0.0000 ACC: 0.82 PUR: 0.83 NMI: 0.80 ARI: 0.74\n",
      "Ep: 22 Rec L: 0.3212 Cl L: 0.1784 Entropy: 0.1052 SSil: 10.1621 SIL: 0.0000 ACC: 0.82 PUR: 0.83 NMI: 0.80 ARI: 0.74\n",
      "Ep: 23 Rec L: 0.3212 Cl L: 0.1761 Entropy: 0.1025 SSil: 10.3916 SIL: 0.0000 ACC: 0.82 PUR: 0.83 NMI: 0.80 ARI: 0.74\n",
      "Ep: 24 Rec L: 0.3212 Cl L: 0.1770 Entropy: 0.1008 SSil: 10.3006 SIL: 0.0000 ACC: 0.83 PUR: 0.83 NMI: 0.80 ARI: 0.74\n",
      "Ep: 25 Rec L: 0.3208 Cl L: 0.1743 Entropy: 0.0986 SSil: 10.5721 SIL: 0.0000 ACC: 0.83 PUR: 0.83 NMI: 0.80 ARI: 0.74\n",
      "Ep: 26 Rec L: 0.3230 Cl L: 0.1728 Entropy: 0.0969 SSil: 10.7191 SIL: 0.0000 ACC: 0.83 PUR: 0.83 NMI: 0.80 ARI: 0.74\n",
      "Ep: 27 Rec L: 0.3203 Cl L: 0.1714 Entropy: 0.0950 SSil: 10.8574 SIL: 0.0000 ACC: 0.83 PUR: 0.83 NMI: 0.80 ARI: 0.74\n",
      "Ep: 28 Rec L: 0.3226 Cl L: 0.1716 Entropy: 0.0935 SSil: 10.8423 SIL: 0.0000 ACC: 0.83 PUR: 0.83 NMI: 0.80 ARI: 0.75\n",
      "Ep: 29 Rec L: 0.3255 Cl L: 0.1702 Entropy: 0.0919 SSil: 10.9848 SIL: 0.0000 ACC: 0.83 PUR: 0.83 NMI: 0.80 ARI: 0.75\n",
      "Ep: 30 Rec L: 0.3212 Cl L: 0.1694 Entropy: 0.0904 SSil: 11.0628 SIL: 0.0000 ACC: 0.83 PUR: 0.83 NMI: 0.80 ARI: 0.75\n",
      "Ep: 31 Rec L: 0.3244 Cl L: 0.1681 Entropy: 0.0890 SSil: 11.1946 SIL: 0.0000 ACC: 0.83 PUR: 0.83 NMI: 0.80 ARI: 0.75\n",
      "Ep: 32 Rec L: 0.3231 Cl L: 0.1684 Entropy: 0.0875 SSil: 11.1569 SIL: 0.0000 ACC: 0.83 PUR: 0.83 NMI: 0.81 ARI: 0.75\n",
      "Ep: 33 Rec L: 0.3235 Cl L: 0.1662 Entropy: 0.0859 SSil: 11.3770 SIL: 0.0000 ACC: 0.83 PUR: 0.84 NMI: 0.81 ARI: 0.75\n",
      "Ep: 34 Rec L: 0.3235 Cl L: 0.1658 Entropy: 0.0850 SSil: 11.4178 SIL: 0.0000 ACC: 0.83 PUR: 0.84 NMI: 0.81 ARI: 0.75\n",
      "Ep: 35 Rec L: 0.3220 Cl L: 0.1659 Entropy: 0.0831 SSil: 11.4107 SIL: 0.0000 ACC: 0.83 PUR: 0.84 NMI: 0.81 ARI: 0.75\n",
      "Ep: 36 Rec L: 0.3209 Cl L: 0.1641 Entropy: 0.0820 SSil: 11.5862 SIL: 0.0000 ACC: 0.83 PUR: 0.84 NMI: 0.81 ARI: 0.75\n",
      "Ep: 37 Rec L: 0.3199 Cl L: 0.1622 Entropy: 0.0805 SSil: 11.7759 SIL: 0.0000 ACC: 0.83 PUR: 0.84 NMI: 0.81 ARI: 0.75\n",
      "Ep: 38 Rec L: 0.3209 Cl L: 0.1618 Entropy: 0.0794 SSil: 11.8177 SIL: 0.0000 ACC: 0.83 PUR: 0.84 NMI: 0.81 ARI: 0.75\n",
      "Ep: 39 Rec L: 0.3239 Cl L: 0.1612 Entropy: 0.0779 SSil: 11.8762 SIL: 0.0000 ACC: 0.83 PUR: 0.84 NMI: 0.81 ARI: 0.75\n",
      "Ep: 40 Rec L: 0.3195 Cl L: 0.1597 Entropy: 0.0770 SSil: 12.0328 SIL: 0.0000 ACC: 0.83 PUR: 0.84 NMI: 0.81 ARI: 0.75\n",
      "Ep: 41 Rec L: 0.3216 Cl L: 0.1603 Entropy: 0.0755 SSil: 11.9716 SIL: 0.0000 ACC: 0.83 PUR: 0.84 NMI: 0.81 ARI: 0.75\n",
      "Ep: 42 Rec L: 0.3220 Cl L: 0.1593 Entropy: 0.0748 SSil: 12.0685 SIL: 0.0000 ACC: 0.83 PUR: 0.84 NMI: 0.81 ARI: 0.75\n",
      "Ep: 43 Rec L: 0.3238 Cl L: 0.1603 Entropy: 0.0736 SSil: 11.9698 SIL: 0.0000 ACC: 0.83 PUR: 0.84 NMI: 0.81 ARI: 0.75\n",
      "Ep: 44 Rec L: 0.3198 Cl L: 0.1579 Entropy: 0.0724 SSil: 12.2138 SIL: 0.0000 ACC: 0.83 PUR: 0.84 NMI: 0.81 ARI: 0.75\n",
      "Ep: 45 Rec L: 0.3225 Cl L: 0.1574 Entropy: 0.0714 SSil: 12.2610 SIL: 0.0000 ACC: 0.83 PUR: 0.84 NMI: 0.81 ARI: 0.76\n",
      "Ep: 46 Rec L: 0.3226 Cl L: 0.1567 Entropy: 0.0705 SSil: 12.3308 SIL: 0.0000 ACC: 0.83 PUR: 0.84 NMI: 0.81 ARI: 0.76\n",
      "Ep: 47 Rec L: 0.3216 Cl L: 0.1549 Entropy: 0.0697 SSil: 12.5064 SIL: 0.0000 ACC: 0.83 PUR: 0.84 NMI: 0.81 ARI: 0.76\n",
      "Ep: 48 Rec L: 0.3209 Cl L: 0.1551 Entropy: 0.0687 SSil: 12.4947 SIL: 0.0000 ACC: 0.83 PUR: 0.84 NMI: 0.81 ARI: 0.76\n",
      "Ep: 49 Rec L: 0.3182 Cl L: 0.1536 Entropy: 0.0676 SSil: 12.6413 SIL: 0.0000 ACC: 0.83 PUR: 0.84 NMI: 0.81 ARI: 0.76\n",
      "Ep: 50 Rec L: 0.3192 Cl L: 0.1553 Entropy: 0.0668 SSil: 12.4739 SIL: 0.0000 ACC: 0.83 PUR: 0.84 NMI: 0.81 ARI: 0.76\n",
      "Ep: 51 Rec L: 0.3183 Cl L: 0.1524 Entropy: 0.0657 SSil: 12.7588 SIL: 0.0000 ACC: 0.83 PUR: 0.84 NMI: 0.81 ARI: 0.76\n",
      "Ep: 52 Rec L: 0.3193 Cl L: 0.1519 Entropy: 0.0648 SSil: 12.8089 SIL: 0.0000 ACC: 0.83 PUR: 0.84 NMI: 0.81 ARI: 0.76\n",
      "Ep: 53 Rec L: 0.3213 Cl L: 0.1525 Entropy: 0.0643 SSil: 12.7503 SIL: 0.0000 ACC: 0.83 PUR: 0.84 NMI: 0.81 ARI: 0.76\n",
      "Ep: 54 Rec L: 0.3171 Cl L: 0.1511 Entropy: 0.0632 SSil: 12.8885 SIL: 0.0000 ACC: 0.83 PUR: 0.84 NMI: 0.82 ARI: 0.76\n",
      "Ep: 55 Rec L: 0.3179 Cl L: 0.1507 Entropy: 0.0625 SSil: 12.9253 SIL: 0.0000 ACC: 0.83 PUR: 0.84 NMI: 0.82 ARI: 0.76\n",
      "Ep: 56 Rec L: 0.3177 Cl L: 0.1501 Entropy: 0.0616 SSil: 12.9944 SIL: 0.0000 ACC: 0.83 PUR: 0.84 NMI: 0.82 ARI: 0.76\n",
      "Ep: 57 Rec L: 0.3173 Cl L: 0.1490 Entropy: 0.0608 SSil: 13.0961 SIL: 0.0000 ACC: 0.83 PUR: 0.84 NMI: 0.82 ARI: 0.76\n",
      "Ep: 58 Rec L: 0.3200 Cl L: 0.1486 Entropy: 0.0600 SSil: 13.1368 SIL: 0.0000 ACC: 0.83 PUR: 0.84 NMI: 0.82 ARI: 0.76\n",
      "Ep: 59 Rec L: 0.3215 Cl L: 0.1489 Entropy: 0.0597 SSil: 13.1091 SIL: 0.0000 ACC: 0.83 PUR: 0.84 NMI: 0.82 ARI: 0.76\n",
      "Ep: 60 Rec L: 0.3196 Cl L: 0.1480 Entropy: 0.0588 SSil: 13.1970 SIL: 0.0000 ACC: 0.83 PUR: 0.84 NMI: 0.82 ARI: 0.76\n",
      "Ep: 61 Rec L: 0.3161 Cl L: 0.1474 Entropy: 0.0580 SSil: 13.2614 SIL: 0.0000 ACC: 0.83 PUR: 0.84 NMI: 0.82 ARI: 0.76\n",
      "Ep: 62 Rec L: 0.3186 Cl L: 0.1483 Entropy: 0.0572 SSil: 13.1680 SIL: 0.0000 ACC: 0.83 PUR: 0.84 NMI: 0.82 ARI: 0.76\n",
      "Ep: 63 Rec L: 0.3190 Cl L: 0.1480 Entropy: 0.0565 SSil: 13.1988 SIL: 0.0000 ACC: 0.83 PUR: 0.84 NMI: 0.82 ARI: 0.76\n",
      "Ep: 64 Rec L: 0.3187 Cl L: 0.1468 Entropy: 0.0559 SSil: 13.3180 SIL: 0.0000 ACC: 0.83 PUR: 0.84 NMI: 0.82 ARI: 0.76\n",
      "Ep: 65 Rec L: 0.3184 Cl L: 0.1461 Entropy: 0.0556 SSil: 13.3904 SIL: 0.0000 ACC: 0.83 PUR: 0.84 NMI: 0.82 ARI: 0.76\n",
      "Ep: 66 Rec L: 0.3159 Cl L: 0.1442 Entropy: 0.0545 SSil: 13.5774 SIL: 0.0000 ACC: 0.83 PUR: 0.84 NMI: 0.82 ARI: 0.76\n",
      "Ep: 67 Rec L: 0.3208 Cl L: 0.1454 Entropy: 0.0538 SSil: 13.4633 SIL: 0.0000 ACC: 0.83 PUR: 0.84 NMI: 0.82 ARI: 0.76\n",
      "Ep: 68 Rec L: 0.3171 Cl L: 0.1451 Entropy: 0.0536 SSil: 13.4941 SIL: 0.0000 ACC: 0.83 PUR: 0.84 NMI: 0.82 ARI: 0.76\n",
      "Ep: 69 Rec L: 0.3188 Cl L: 0.1462 Entropy: 0.0530 SSil: 13.3769 SIL: 0.0000 ACC: 0.83 PUR: 0.84 NMI: 0.82 ARI: 0.76\n",
      "Ep: 70 Rec L: 0.3174 Cl L: 0.1433 Entropy: 0.0522 SSil: 13.6723 SIL: 0.0000 ACC: 0.83 PUR: 0.84 NMI: 0.82 ARI: 0.76\n"
     ]
    },
    {
     "name": "stdout",
     "output_type": "stream",
     "text": [
      "Ep: 71 Rec L: 0.3183 Cl L: 0.1445 Entropy: 0.0517 SSil: 13.5538 SIL: 0.0000 ACC: 0.83 PUR: 0.84 NMI: 0.82 ARI: 0.76\n",
      "Ep: 72 Rec L: 0.3193 Cl L: 0.1436 Entropy: 0.0512 SSil: 13.6413 SIL: 0.0000 ACC: 0.83 PUR: 0.84 NMI: 0.82 ARI: 0.76\n",
      "Ep: 73 Rec L: 0.3156 Cl L: 0.1424 Entropy: 0.0506 SSil: 13.7560 SIL: 0.0000 ACC: 0.83 PUR: 0.84 NMI: 0.82 ARI: 0.76\n",
      "Ep: 74 Rec L: 0.3176 Cl L: 0.1420 Entropy: 0.0499 SSil: 13.8010 SIL: 0.0000 ACC: 0.83 PUR: 0.84 NMI: 0.82 ARI: 0.77\n",
      "Ep: 75 Rec L: 0.3166 Cl L: 0.1422 Entropy: 0.0495 SSil: 13.7819 SIL: 0.0000 ACC: 0.83 PUR: 0.84 NMI: 0.82 ARI: 0.76\n",
      "Ep: 76 Rec L: 0.3150 Cl L: 0.1413 Entropy: 0.0490 SSil: 13.8685 SIL: 0.0000 ACC: 0.83 PUR: 0.84 NMI: 0.82 ARI: 0.76\n",
      "Ep: 77 Rec L: 0.3136 Cl L: 0.1392 Entropy: 0.0481 SSil: 14.0751 SIL: 0.0000 ACC: 0.83 PUR: 0.84 NMI: 0.82 ARI: 0.77\n",
      "Ep: 78 Rec L: 0.3155 Cl L: 0.1396 Entropy: 0.0477 SSil: 14.0411 SIL: 0.0000 ACC: 0.83 PUR: 0.84 NMI: 0.82 ARI: 0.77\n",
      "Ep: 79 Rec L: 0.3139 Cl L: 0.1387 Entropy: 0.0471 SSil: 14.1260 SIL: 0.0000 ACC: 0.83 PUR: 0.84 NMI: 0.82 ARI: 0.77\n",
      "Ep: 80 Rec L: 0.3131 Cl L: 0.1397 Entropy: 0.0470 SSil: 14.0295 SIL: 0.0000 ACC: 0.83 PUR: 0.84 NMI: 0.82 ARI: 0.77\n",
      "Ep: 81 Rec L: 0.3172 Cl L: 0.1398 Entropy: 0.0465 SSil: 14.0184 SIL: 0.0000 ACC: 0.84 PUR: 0.84 NMI: 0.82 ARI: 0.77\n",
      "Ep: 82 Rec L: 0.3176 Cl L: 0.1398 Entropy: 0.0461 SSil: 14.0235 SIL: 0.0000 ACC: 0.83 PUR: 0.84 NMI: 0.82 ARI: 0.77\n",
      "Ep: 83 Rec L: 0.3163 Cl L: 0.1397 Entropy: 0.0454 SSil: 14.0345 SIL: 0.0000 ACC: 0.83 PUR: 0.84 NMI: 0.82 ARI: 0.77\n",
      "Ep: 84 Rec L: 0.3138 Cl L: 0.1385 Entropy: 0.0450 SSil: 14.1544 SIL: 0.0000 ACC: 0.84 PUR: 0.84 NMI: 0.82 ARI: 0.77\n",
      "Ep: 85 Rec L: 0.3169 Cl L: 0.1392 Entropy: 0.0445 SSil: 14.0778 SIL: 0.0000 ACC: 0.84 PUR: 0.84 NMI: 0.82 ARI: 0.77\n",
      "Ep: 86 Rec L: 0.3152 Cl L: 0.1386 Entropy: 0.0442 SSil: 14.1381 SIL: 0.0000 ACC: 0.84 PUR: 0.84 NMI: 0.82 ARI: 0.77\n",
      "Ep: 87 Rec L: 0.3151 Cl L: 0.1389 Entropy: 0.0439 SSil: 14.1138 SIL: 0.0000 ACC: 0.84 PUR: 0.84 NMI: 0.82 ARI: 0.77\n",
      "Ep: 88 Rec L: 0.3158 Cl L: 0.1381 Entropy: 0.0435 SSil: 14.1937 SIL: 0.0000 ACC: 0.84 PUR: 0.84 NMI: 0.82 ARI: 0.77\n",
      "Ep: 89 Rec L: 0.3136 Cl L: 0.1372 Entropy: 0.0429 SSil: 14.2846 SIL: 0.0000 ACC: 0.84 PUR: 0.84 NMI: 0.82 ARI: 0.77\n",
      "Ep: 90 Rec L: 0.3165 Cl L: 0.1380 Entropy: 0.0424 SSil: 14.2040 SIL: 0.0000 ACC: 0.84 PUR: 0.84 NMI: 0.82 ARI: 0.77\n",
      "Ep: 91 Rec L: 0.3153 Cl L: 0.1362 Entropy: 0.0422 SSil: 14.3761 SIL: 0.0000 ACC: 0.84 PUR: 0.84 NMI: 0.82 ARI: 0.77\n",
      "Ep: 92 Rec L: 0.3116 Cl L: 0.1363 Entropy: 0.0417 SSil: 14.3661 SIL: 0.0000 ACC: 0.84 PUR: 0.84 NMI: 0.82 ARI: 0.77\n",
      "Ep: 93 Rec L: 0.3138 Cl L: 0.1361 Entropy: 0.0414 SSil: 14.3886 SIL: 0.0000 ACC: 0.84 PUR: 0.84 NMI: 0.82 ARI: 0.77\n",
      "Ep: 94 Rec L: 0.3111 Cl L: 0.1353 Entropy: 0.0410 SSil: 14.4676 SIL: 0.0000 ACC: 0.84 PUR: 0.84 NMI: 0.82 ARI: 0.77\n",
      "Ep: 95 Rec L: 0.3156 Cl L: 0.1347 Entropy: 0.0407 SSil: 14.5316 SIL: 0.0000 ACC: 0.84 PUR: 0.84 NMI: 0.82 ARI: 0.77\n",
      "Ep: 96 Rec L: 0.3140 Cl L: 0.1344 Entropy: 0.0401 SSil: 14.5608 SIL: 0.0000 ACC: 0.84 PUR: 0.84 NMI: 0.82 ARI: 0.77\n",
      "Ep: 97 Rec L: 0.3112 Cl L: 0.1353 Entropy: 0.0398 SSil: 14.4739 SIL: 0.0000 ACC: 0.84 PUR: 0.84 NMI: 0.82 ARI: 0.77\n",
      "Ep: 98 Rec L: 0.3149 Cl L: 0.1349 Entropy: 0.0393 SSil: 14.5121 SIL: 0.0000 ACC: 0.84 PUR: 0.84 NMI: 0.82 ARI: 0.77\n",
      "Ep: 99 Rec L: 0.3164 Cl L: 0.1350 Entropy: 0.0392 SSil: 14.4988 SIL: 0.0000 ACC: 0.84 PUR: 0.84 NMI: 0.82 ARI: 0.77\n",
      "Ep: 100 Rec L: 0.3162 Cl L: 0.1351 Entropy: 0.0389 SSil: 14.4878 SIL: 0.0000 ACC: 0.84 PUR: 0.84 NMI: 0.82 ARI: 0.77\n",
      "Ep: 101 Rec L: 0.3124 Cl L: 0.1347 Entropy: 0.0384 SSil: 14.5318 SIL: 0.0000 ACC: 0.84 PUR: 0.84 NMI: 0.82 ARI: 0.77\n",
      "Ep: 102 Rec L: 0.3124 Cl L: 0.1322 Entropy: 0.0380 SSil: 14.7758 SIL: 0.0000 ACC: 0.84 PUR: 0.84 NMI: 0.82 ARI: 0.77\n",
      "Ep: 103 Rec L: 0.3161 Cl L: 0.1354 Entropy: 0.0380 SSil: 14.4607 SIL: 0.0000 ACC: 0.84 PUR: 0.84 NMI: 0.82 ARI: 0.77\n",
      "Ep: 104 Rec L: 0.3104 Cl L: 0.1323 Entropy: 0.0374 SSil: 14.7723 SIL: 0.0000 ACC: 0.84 PUR: 0.84 NMI: 0.82 ARI: 0.77\n",
      "Ep: 105 Rec L: 0.3114 Cl L: 0.1328 Entropy: 0.0369 SSil: 14.7249 SIL: 0.0000 ACC: 0.84 PUR: 0.84 NMI: 0.82 ARI: 0.77\n",
      "Ep: 106 Rec L: 0.3122 Cl L: 0.1329 Entropy: 0.0366 SSil: 14.7083 SIL: 0.0000 ACC: 0.84 PUR: 0.84 NMI: 0.82 ARI: 0.77\n",
      "Ep: 107 Rec L: 0.3129 Cl L: 0.1325 Entropy: 0.0364 SSil: 14.7546 SIL: 0.0000 ACC: 0.84 PUR: 0.84 NMI: 0.82 ARI: 0.77\n",
      "Ep: 108 Rec L: 0.3109 Cl L: 0.1315 Entropy: 0.0360 SSil: 14.8480 SIL: 0.0000 ACC: 0.84 PUR: 0.84 NMI: 0.82 ARI: 0.77\n",
      "Ep: 109 Rec L: 0.3113 Cl L: 0.1312 Entropy: 0.0358 SSil: 14.8781 SIL: 0.0000 ACC: 0.84 PUR: 0.84 NMI: 0.82 ARI: 0.77\n",
      "Ep: 110 Rec L: 0.3102 Cl L: 0.1318 Entropy: 0.0354 SSil: 14.8177 SIL: 0.0000 ACC: 0.84 PUR: 0.84 NMI: 0.82 ARI: 0.77\n",
      "Ep: 111 Rec L: 0.3100 Cl L: 0.1330 Entropy: 0.0352 SSil: 14.6968 SIL: 0.0000 ACC: 0.84 PUR: 0.84 NMI: 0.82 ARI: 0.77\n",
      "Ep: 112 Rec L: 0.3087 Cl L: 0.1307 Entropy: 0.0348 SSil: 14.9323 SIL: 0.0000 ACC: 0.84 PUR: 0.84 NMI: 0.82 ARI: 0.77\n",
      "Ep: 113 Rec L: 0.3102 Cl L: 0.1292 Entropy: 0.0344 SSil: 15.0792 SIL: 0.0000 ACC: 0.84 PUR: 0.84 NMI: 0.82 ARI: 0.77\n",
      "Ep: 114 Rec L: 0.3130 Cl L: 0.1307 Entropy: 0.0342 SSil: 14.9310 SIL: 0.0000 ACC: 0.84 PUR: 0.84 NMI: 0.82 ARI: 0.77\n",
      "Ep: 115 Rec L: 0.3127 Cl L: 0.1316 Entropy: 0.0338 SSil: 14.8401 SIL: 0.0000 ACC: 0.84 PUR: 0.84 NMI: 0.82 ARI: 0.77\n",
      "Ep: 116 Rec L: 0.3094 Cl L: 0.1306 Entropy: 0.0337 SSil: 14.9397 SIL: 0.0000 ACC: 0.84 PUR: 0.84 NMI: 0.82 ARI: 0.77\n"
     ]
    },
    {
     "ename": "KeyboardInterrupt",
     "evalue": "",
     "output_type": "error",
     "traceback": [
      "\u001b[1;31m---------------------------------------------------------------------------\u001b[0m",
      "\u001b[1;31mKeyboardInterrupt\u001b[0m                         Traceback (most recent call last)",
      "Cell \u001b[1;32mIn[11], line 17\u001b[0m\n\u001b[0;32m      1\u001b[0m \u001b[38;5;124;03m\"\"\"\u001b[39;00m\n\u001b[0;32m      2\u001b[0m \u001b[38;5;124;03mwhile True:\u001b[39;00m\n\u001b[0;32m      3\u001b[0m \u001b[38;5;124;03m    # Code block to execute repeatedly\u001b[39;00m\n\u001b[1;32m   (...)\u001b[0m\n\u001b[0;32m     13\u001b[0m \u001b[38;5;124;03m        break\u001b[39;00m\n\u001b[0;32m     14\u001b[0m \u001b[38;5;124;03m\"\"\"\u001b[39;00m\n\u001b[0;32m     15\u001b[0m autoencoder\u001b[38;5;241m.\u001b[39mset_training_variables(n_epochs\u001b[38;5;241m=\u001b[39m\u001b[38;5;241m200\u001b[39m, lr\u001b[38;5;241m=\u001b[39mlr, sil_lambda\u001b[38;5;241m=\u001b[39m\u001b[38;5;241m0.01\u001b[39m, entr_lambda\u001b[38;5;241m=\u001b[39m\u001b[38;5;241m0.01\u001b[39m)\n\u001b[1;32m---> 17\u001b[0m latent_data, labels, clustering \u001b[38;5;241m=\u001b[39m \u001b[43mautoencoder\u001b[49m\u001b[38;5;241;43m.\u001b[39;49m\u001b[43mtrain_autoencoder\u001b[49m\u001b[43m(\u001b[49m\u001b[43m)\u001b[49m\n\u001b[0;32m     19\u001b[0m cluster_centers \u001b[38;5;241m=\u001b[39m autoencoder\u001b[38;5;241m.\u001b[39mget_cluster_centers()\u001b[38;5;241m.\u001b[39mcpu()\u001b[38;5;241m.\u001b[39mdetach()\u001b[38;5;241m.\u001b[39mnumpy()\n",
      "File \u001b[1;32m~\\Documents\\GitHub\\Soft-Silhouette\\Autoencoder.py:177\u001b[0m, in \u001b[0;36mGenericAutoencoder.train_autoencoder\u001b[1;34m(self)\u001b[0m\n\u001b[0;32m    174\u001b[0m code \u001b[38;5;241m=\u001b[39m \u001b[38;5;28mself\u001b[39m\u001b[38;5;241m.\u001b[39mencoder(data)\n\u001b[0;32m    175\u001b[0m soft_clustering \u001b[38;5;241m=\u001b[39m \u001b[38;5;28mself\u001b[39m\u001b[38;5;241m.\u001b[39mforward_softMax(data)\u001b[38;5;241m.\u001b[39mto(\u001b[38;5;28mself\u001b[39m\u001b[38;5;241m.\u001b[39mdevice)\n\u001b[1;32m--> 177\u001b[0m soft_sil \u001b[38;5;241m=\u001b[39m \u001b[38;5;28;43mself\u001b[39;49m\u001b[38;5;241;43m.\u001b[39;49m\u001b[43mobjectives\u001b[49m\u001b[38;5;241;43m.\u001b[39;49m\u001b[43msoft_silhouette\u001b[49m\u001b[43m(\u001b[49m\u001b[43mcode\u001b[49m\u001b[43m,\u001b[49m\u001b[43m \u001b[49m\u001b[43msoft_clustering\u001b[49m\u001b[43m,\u001b[49m\u001b[43m \u001b[49m\u001b[43mrequires_distance_grad\u001b[49m\u001b[38;5;241;43m=\u001b[39;49m\u001b[38;5;28;43;01mTrue\u001b[39;49;00m\u001b[43m)\u001b[49m\n\u001b[0;32m    178\u001b[0m rec_loss \u001b[38;5;241m=\u001b[39m MSE(reconstructions, data)\n\u001b[0;32m    179\u001b[0m clustering_loss \u001b[38;5;241m=\u001b[39m \u001b[38;5;241m1\u001b[39m \u001b[38;5;241m-\u001b[39m soft_sil\n",
      "File \u001b[1;32m~\\Documents\\GitHub\\Soft-Silhouette\\Objectives.py:19\u001b[0m, in \u001b[0;36mObjectives.soft_silhouette\u001b[1;34m(self, X, soft_clustering, requires_distance_grad)\u001b[0m\n\u001b[0;32m     17\u001b[0m \u001b[38;5;66;03m# Calculate betas without explicit loops using tensor operations\u001b[39;00m\n\u001b[0;32m     18\u001b[0m alphas_without_j \u001b[38;5;241m=\u001b[39m alphas\u001b[38;5;241m.\u001b[39munsqueeze(\u001b[38;5;241m2\u001b[39m)\u001b[38;5;241m.\u001b[39mrepeat(\u001b[38;5;241m1\u001b[39m, \u001b[38;5;241m1\u001b[39m, n_clusters)\n\u001b[1;32m---> 19\u001b[0m mask \u001b[38;5;241m=\u001b[39m \u001b[38;5;241m~\u001b[39m\u001b[43mtorch\u001b[49m\u001b[38;5;241;43m.\u001b[39;49m\u001b[43meye\u001b[49m\u001b[43m(\u001b[49m\u001b[43mn_clusters\u001b[49m\u001b[43m,\u001b[49m\u001b[43m \u001b[49m\u001b[43mdtype\u001b[49m\u001b[38;5;241;43m=\u001b[39;49m\u001b[43mtorch\u001b[49m\u001b[38;5;241;43m.\u001b[39;49m\u001b[43mbool\u001b[49m\u001b[43m)\u001b[49m\u001b[38;5;241;43m.\u001b[39;49m\u001b[43mto\u001b[49m\u001b[43m(\u001b[49m\u001b[43malphas\u001b[49m\u001b[38;5;241;43m.\u001b[39;49m\u001b[43mdevice\u001b[49m\u001b[43m)\u001b[49m\u001b[38;5;241m.\u001b[39munsqueeze(\u001b[38;5;241m0\u001b[39m)\n\u001b[0;32m     20\u001b[0m alphas_without_self \u001b[38;5;241m=\u001b[39m torch\u001b[38;5;241m.\u001b[39mmasked_select(alphas_without_j, mask)\u001b[38;5;241m.\u001b[39mview(n_data, n_clusters \u001b[38;5;241m-\u001b[39m \u001b[38;5;241m1\u001b[39m, n_clusters)\n\u001b[0;32m     21\u001b[0m betas, _ \u001b[38;5;241m=\u001b[39m torch\u001b[38;5;241m.\u001b[39mmin(alphas_without_self, dim\u001b[38;5;241m=\u001b[39m\u001b[38;5;241m1\u001b[39m)\n",
      "\u001b[1;31mKeyboardInterrupt\u001b[0m: "
     ]
    }
   ],
   "source": [
    "\"\"\"\n",
    "while True:\n",
    "    # Code block to execute repeatedly\n",
    "    autoencoder.trEpochs = 10\n",
    "    autoencoder.train_autoencoder(silhouette_method = \"default\")\n",
    "    visualization.makeExcel()\n",
    "    #visualization.makePlot(useTSNE=False)\n",
    "    #visualization.makePlot(useTSNE=True)\n",
    "    visualization.plot_3D()\n",
    "\n",
    "    # Check the condition to exit the loop\n",
    "    if autoencoder.experimentName == \"Experiment_400\":\n",
    "        break\n",
    "\"\"\"\n",
    "autoencoder.set_training_variables(n_epochs=200, lr=lr, sil_lambda=0.01, entr_lambda=0.01)\n",
    "\n",
    "latent_data, labels, clustering = autoencoder.train_autoencoder()\n",
    "\n",
    "cluster_centers = autoencoder.get_cluster_centers().cpu().detach().numpy()"
   ]
  },
  {
   "cell_type": "code",
   "execution_count": null,
   "metadata": {},
   "outputs": [],
   "source": [
    "General_Functions().save_excel(autoencoder.data_dir_path, autoencoder.df_eval)"
   ]
  },
  {
   "cell_type": "code",
   "execution_count": null,
   "metadata": {},
   "outputs": [],
   "source": [
    "visualization.plot(latent_data, labels, clustering, cluster_centers, autoencoder.data_dir_path)"
   ]
  },
  {
   "cell_type": "code",
   "execution_count": null,
   "metadata": {},
   "outputs": [],
   "source": [
    "visualization.plot_tsne(latent_data, labels, clustering, cluster_centers, autoencoder.data_dir_path)"
   ]
  },
  {
   "cell_type": "code",
   "execution_count": null,
   "metadata": {},
   "outputs": [],
   "source": [
    "cluster_centers"
   ]
  },
  {
   "cell_type": "code",
   "execution_count": null,
   "metadata": {},
   "outputs": [],
   "source": [
    "clustering[0:100]"
   ]
  },
  {
   "cell_type": "code",
   "execution_count": null,
   "metadata": {},
   "outputs": [],
   "source": [
    "latent_data"
   ]
  }
 ],
 "metadata": {
  "accelerator": "GPU",
  "colab": {
   "provenance": [
    {
     "file_id": "121w-F_LopS2b6ATyJPxh0a_i4mceFfzN",
     "timestamp": 1688385039773
    }
   ]
  },
  "kernelspec": {
   "display_name": "Python 3 (ipykernel)",
   "language": "python",
   "name": "python3"
  },
  "language_info": {
   "codemirror_mode": {
    "name": "ipython",
    "version": 3
   },
   "file_extension": ".py",
   "mimetype": "text/x-python",
   "name": "python",
   "nbconvert_exporter": "python",
   "pygments_lexer": "ipython3",
   "version": "3.10.9"
  }
 },
 "nbformat": 4,
 "nbformat_minor": 1
}
