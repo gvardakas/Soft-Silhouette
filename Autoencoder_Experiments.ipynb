{
 "cells": [
  {
   "cell_type": "markdown",
   "metadata": {
    "id": "o497rr9wHZwQ"
   },
   "source": [
    "### ***GOOGLE DRIVE AND SYSTEM PATH***"
   ]
  },
  {
   "cell_type": "code",
   "execution_count": 1,
   "metadata": {
    "colab": {
     "base_uri": "https://localhost:8080/",
     "height": 217
    },
    "executionInfo": {
     "elapsed": 57,
     "status": "error",
     "timestamp": 1690897011385,
     "user": {
      "displayName": "ΙΩΑΝΝΗΣ ΠΑΠΑΚΩΣΤΑΣ",
      "userId": "05054721977669331577"
     },
     "user_tz": -180
    },
    "id": "L3BsTnrCHY-L",
    "outputId": "aff39c0f-c452-44be-bf93-c5523bd2a90f"
   },
   "outputs": [],
   "source": [
    "#pip3 install google.colab\n",
    "#from google.colab import drive\n",
    "#drive.mount('/content/drive', force_remount=True)\n",
    "import sys\n",
    "path_to_module = 'C:\\\\Users\\\\PAPASOFT INC\\\\Desktop\\\\SOFT_SIL'\n",
    "sys.path.append(path_to_module)\n",
    "import os\n",
    "#os.environ[\"OMP_NUM_THREADS\"] = '6'"
   ]
  },
  {
   "cell_type": "markdown",
   "metadata": {
    "id": "7yTrysaRSfO7"
   },
   "source": [
    "### ***NEEDED LIBRARIES***"
   ]
  },
  {
   "cell_type": "code",
   "execution_count": 2,
   "metadata": {
    "colab": {
     "base_uri": "https://localhost:8080/",
     "height": 287
    },
    "executionInfo": {
     "elapsed": 1500,
     "status": "error",
     "timestamp": 1690897017322,
     "user": {
      "displayName": "ΙΩΑΝΝΗΣ ΠΑΠΑΚΩΣΤΑΣ",
      "userId": "05054721977669331577"
     },
     "user_tz": -180
    },
    "id": "A6Xgfba5SeYG",
    "outputId": "3a3e4f3b-54d5-4379-d747-d27332446691"
   },
   "outputs": [],
   "source": [
    "# SET DEVICE\n",
    "import torch\n",
    "############\n",
    "# LOAD DATASET\n",
    "from New_Code_Files.Datasets_Functions import createHashMap, getHashMap, appendInHashMap, deleteFromHashMap, updateHashMap, functionGetDataset, makeHashMapWithListsToHashmapWithDicts\n",
    "############\n",
    "# VISUALIZATION\n",
    "import matplotlib.colors as mcolors\n",
    "import numpy as np\n",
    "from New_Code_Files.Visualization import Visualization\n",
    "############\n",
    "# CREATE AUTOENCODER\n",
    "from New_Code_Files.Autoencoder import Autoencoder, createAutoencoder\n",
    "############"
   ]
  },
  {
   "cell_type": "markdown",
   "metadata": {
    "id": "Y4OhuI9Y_mBT"
   },
   "source": [
    "### ***SET DEVICE***"
   ]
  },
  {
   "cell_type": "code",
   "execution_count": 3,
   "metadata": {
    "executionInfo": {
     "elapsed": 328,
     "status": "aborted",
     "timestamp": 1690896732863,
     "user": {
      "displayName": "ΙΩΑΝΝΗΣ ΠΑΠΑΚΩΣΤΑΣ",
      "userId": "05054721977669331577"
     },
     "user_tz": -180
    },
    "id": "q41qJCN0_mBU"
   },
   "outputs": [],
   "source": [
    "import torch\n",
    "device = torch.device('cuda:0' if torch.cuda.is_available() else 'cpu')\n",
    "torch.cuda.set_device(device)"
   ]
  },
  {
   "cell_type": "markdown",
   "metadata": {
    "id": "SjskwTndC-y-"
   },
   "source": [
    "### ***LOAD DATASET***"
   ]
  },
  {
   "cell_type": "code",
   "execution_count": 4,
   "metadata": {
    "executionInfo": {
     "elapsed": 324,
     "status": "aborted",
     "timestamp": 1690896732864,
     "user": {
      "displayName": "ΙΩΑΝΝΗΣ ΠΑΠΑΚΩΣΤΑΣ",
      "userId": "05054721977669331577"
     },
     "user_tz": -180
    },
    "id": "6nFI8NEPhs0c"
   },
   "outputs": [
    {
     "name": "stdout",
     "output_type": "stream",
     "text": [
      "dict_keys(['10x73k', 'TCGA', 'coil20', 'eMNIST_balanced_letters', 'eMNIST_mnist', 'eMNIST_balanced_digits', 'Dermatology', 'Ecoil', 'Iris', 'Rings', 'Wine', 'Australian', 'Moons', 'Squeezed_Gauss', 'Gauss_Densities', 'Pendigits', 'fashionMNIST', '3DSpheres', '20_NewsGroups', 'COIL20', 'CIFAR10', 'STL10', 'R15', 'R3'])\n",
      "{'batch_size': 100, 'n_clusters': 3, 'module_name': 'datasets.datasets_New', 'function_name': 'load_R3_dataloader', 'option_name': ''}\n",
      "Data_Shape is: 2\n",
      "Batches Number is: 15\n"
     ]
    }
   ],
   "source": [
    "hashMapFilePath = path_to_module+\"/New_Code_Files/\"\n",
    "#updateHashMap(\"R3\",{'batch_size': 100, 'n_clusters': 3, 'module_name': 'datasets.datasets_New', 'function_name': 'load_R3_dataloader', 'option_name': ''},hashMapFilePath)\n",
    "hashMap = getHashMap(hashMapFilePath)\n",
    "print(hashMap.keys())\n",
    "#datasetName = \"STL10\"\n",
    "#datasetName = \"eMNIST_balanced_letters\"\n",
    "datasetName = \"R3\"\n",
    "datasetProperties = hashMap[datasetName]\n",
    "print(datasetProperties)\n",
    "batchSize = datasetProperties['batch_size'] #= 30\n",
    "nClusters = datasetProperties['n_clusters'] #= 3\n",
    "dataloader, inputDim, data_np, labels = functionGetDataset(datasetProperties)\n",
    "print(\"Data_Shape is:\",inputDim)\n",
    "print(\"Batches Number is:\",len(dataloader))"
   ]
  },
  {
   "cell_type": "markdown",
   "metadata": {
    "id": "s5uxFA6rSfOv"
   },
   "source": [
    "### ***PARAMETERS***"
   ]
  },
  {
   "cell_type": "code",
   "execution_count": 5,
   "metadata": {
    "executionInfo": {
     "elapsed": 322,
     "status": "aborted",
     "timestamp": 1690896732865,
     "user": {
      "displayName": "ΙΩΑΝΝΗΣ ΠΑΠΑΚΩΣΤΑΣ",
      "userId": "05054721977669331577"
     },
     "user_tz": -180
    },
    "id": "ND4kEAYMDTim"
   },
   "outputs": [],
   "source": [
    "# Latent Dimension\n",
    "latentDim = 2\n",
    "\n",
    "negativeSlope = 0\n",
    "\n",
    "# Batch Size and Number of Clusters\n",
    "batchSize = datasetProperties['batch_size'] #= 30\n",
    "nClusters = datasetProperties['n_clusters'] #= 3\n",
    "\n",
    "# Pre-Training Epochs and Learning Rate\n",
    "preTrEpochs = 100\n",
    "preTrLR = 1e-3\n",
    "\n",
    "# Lamda, Training Epochs and Learning Rate\n",
    "lamda = 0.01 # Possible values: 0.01, 0.1, 1\n",
    "# For Balanced_Digits 0.01 seems good\n",
    "# For Balanced_Letters 0.01 seems good\n",
    "trLR = 1e-4\n",
    "trEpochs = 100\n",
    "\n",
    "kmeans_initialization = True\n",
    "pretrain = True\n",
    "isCD = False\n",
    "num_of_channels = 1\n",
    "kmeans_n_init = 100"
   ]
  },
  {
   "cell_type": "markdown",
   "metadata": {
    "id": "M2P-UOuHDOXV"
   },
   "source": [
    "### ***CREATE AUTOENCODER***"
   ]
  },
  {
   "cell_type": "code",
   "execution_count": 6,
   "metadata": {
    "executionInfo": {
     "elapsed": 321,
     "status": "aborted",
     "timestamp": 1690896732866,
     "user": {
      "displayName": "ΙΩΑΝΝΗΣ ΠΑΠΑΚΩΣΤΑΣ",
      "userId": "05054721977669331577"
     },
     "user_tz": -180
    },
    "id": "PBkI9U0tgoZ1"
   },
   "outputs": [],
   "source": [
    "autoencoder = createAutoencoder(pathToModule = path_to_module, datasetName =  datasetName,\n",
    " inputDim = inputDim, negativeSlope = negativeSlope,\n",
    " nClusters = nClusters, device = device, preTrEpochs = preTrEpochs, dataloader = dataloader,\n",
    " batchSize = batchSize, preTrLR = preTrLR, lamda = lamda,\n",
    " trEpochs = trEpochs, trLR = trLR,\n",
    " latentDim = latentDim, isCD = isCD, kmeans_n_init = 100,  num_of_channels = num_of_channels)"
   ]
  },
  {
   "cell_type": "markdown",
   "metadata": {
    "id": "zKSgNlKr_mBd"
   },
   "source": [
    " ### ***PRETRAIN AUTOENCODER***"
   ]
  },
  {
   "cell_type": "code",
   "execution_count": 7,
   "metadata": {
    "executionInfo": {
     "elapsed": 316,
     "status": "aborted",
     "timestamp": 1690896732867,
     "user": {
      "displayName": "ΙΩΑΝΝΗΣ ΠΑΠΑΚΩΣΤΑΣ",
      "userId": "05054721977669331577"
     },
     "user_tz": -180
    },
    "id": "AXCCGEw7_mBd",
    "scrolled": true
   },
   "outputs": [
    {
     "name": "stdout",
     "output_type": "stream",
     "text": [
      "Epoch: 1/100, Loss: 4.337663\n",
      "Epoch: 2/100, Loss: 1.802372\n",
      "Epoch: 3/100, Loss: 1.702556\n",
      "Epoch: 4/100, Loss: 1.647093\n",
      "Epoch: 5/100, Loss: 1.619609\n",
      "Epoch: 6/100, Loss: 1.642943\n",
      "Epoch: 7/100, Loss: 1.568805\n",
      "Epoch: 8/100, Loss: 1.582652\n",
      "Epoch: 9/100, Loss: 1.573087\n",
      "Epoch: 10/100, Loss: 0.960052\n",
      "Epoch: 11/100, Loss: 0.633669\n",
      "Epoch: 12/100, Loss: 0.546551\n",
      "Epoch: 13/100, Loss: 0.481240\n",
      "Epoch: 14/100, Loss: 0.411779\n",
      "Epoch: 15/100, Loss: 0.406191\n",
      "Epoch: 16/100, Loss: 0.406610\n",
      "Epoch: 17/100, Loss: 0.318611\n",
      "Epoch: 18/100, Loss: 0.319094\n",
      "Epoch: 19/100, Loss: 0.409561\n",
      "Epoch: 20/100, Loss: 0.421267\n",
      "Epoch: 21/100, Loss: 0.418405\n",
      "Epoch: 22/100, Loss: 0.340378\n",
      "Epoch: 23/100, Loss: 0.353415\n",
      "Epoch: 24/100, Loss: 0.411754\n",
      "Epoch: 25/100, Loss: 0.361499\n",
      "Epoch: 26/100, Loss: 0.336041\n",
      "Epoch: 27/100, Loss: 0.336449\n",
      "Epoch: 28/100, Loss: 0.338599\n",
      "Epoch: 29/100, Loss: 0.304547\n",
      "Epoch: 30/100, Loss: 0.262428\n",
      "Epoch: 31/100, Loss: 0.237654\n",
      "Epoch: 32/100, Loss: 0.261523\n",
      "Epoch: 33/100, Loss: 0.312614\n",
      "Epoch: 34/100, Loss: 0.350221\n",
      "Epoch: 35/100, Loss: 0.372426\n",
      "Epoch: 36/100, Loss: 0.320642\n",
      "Epoch: 37/100, Loss: 0.292886\n",
      "Epoch: 38/100, Loss: 0.306626\n",
      "Epoch: 39/100, Loss: 0.280152\n",
      "Epoch: 40/100, Loss: 0.289708\n",
      "Epoch: 41/100, Loss: 0.294591\n",
      "Epoch: 42/100, Loss: 0.276637\n",
      "Epoch: 43/100, Loss: 0.225051\n",
      "Epoch: 44/100, Loss: 0.212013\n",
      "Epoch: 45/100, Loss: 0.192303\n",
      "Epoch: 46/100, Loss: 0.188949\n",
      "Epoch: 47/100, Loss: 0.226635\n",
      "Epoch: 48/100, Loss: 0.181753\n",
      "Epoch: 49/100, Loss: 0.191607\n",
      "Epoch: 50/100, Loss: 0.177608\n",
      "Epoch: 51/100, Loss: 0.159982\n",
      "Epoch: 52/100, Loss: 0.150579\n",
      "Epoch: 53/100, Loss: 0.148602\n",
      "Epoch: 54/100, Loss: 0.129543\n",
      "Epoch: 55/100, Loss: 0.123820\n",
      "Epoch: 56/100, Loss: 0.450120\n",
      "Epoch: 57/100, Loss: 0.513233\n",
      "Epoch: 58/100, Loss: 0.419837\n",
      "Epoch: 59/100, Loss: 0.284437\n",
      "Epoch: 60/100, Loss: 0.253079\n",
      "Epoch: 61/100, Loss: 0.188425\n",
      "Epoch: 62/100, Loss: 0.174437\n",
      "Epoch: 63/100, Loss: 0.140186\n",
      "Epoch: 64/100, Loss: 0.153552\n",
      "Epoch: 65/100, Loss: 0.134543\n",
      "Epoch: 66/100, Loss: 0.127104\n",
      "Epoch: 67/100, Loss: 0.131645\n",
      "Epoch: 68/100, Loss: 0.125692\n",
      "Epoch: 69/100, Loss: 0.122977\n",
      "Epoch: 70/100, Loss: 0.122625\n",
      "Epoch: 71/100, Loss: 0.123850\n",
      "Epoch: 72/100, Loss: 0.133979\n",
      "Epoch: 73/100, Loss: 0.131080\n",
      "Epoch: 74/100, Loss: 0.125972\n",
      "Epoch: 75/100, Loss: 0.118885\n",
      "Epoch: 76/100, Loss: 0.130480\n",
      "Epoch: 77/100, Loss: 0.130036\n",
      "Epoch: 78/100, Loss: 0.144372\n",
      "Epoch: 79/100, Loss: 0.117317\n",
      "Epoch: 80/100, Loss: 0.119683\n",
      "Epoch: 81/100, Loss: 0.111283\n",
      "Epoch: 82/100, Loss: 0.117739\n",
      "Epoch: 83/100, Loss: 0.120581\n",
      "Epoch: 84/100, Loss: 0.110422\n",
      "Epoch: 85/100, Loss: 0.107243\n",
      "Epoch: 86/100, Loss: 0.117040\n",
      "Epoch: 87/100, Loss: 0.117079\n",
      "Epoch: 88/100, Loss: 0.107468\n",
      "Epoch: 89/100, Loss: 0.100522\n",
      "Epoch: 90/100, Loss: 0.105587\n",
      "Epoch: 91/100, Loss: 0.105437\n",
      "Epoch: 92/100, Loss: 0.104409\n",
      "Epoch: 93/100, Loss: 0.101786\n",
      "Epoch: 94/100, Loss: 0.097691\n",
      "Epoch: 95/100, Loss: 0.100191\n",
      "Epoch: 96/100, Loss: 0.095095\n",
      "Epoch: 97/100, Loss: 0.107303\n",
      "Epoch: 98/100, Loss: 0.108566\n",
      "Epoch: 99/100, Loss: 0.098884\n",
      "Epoch: 100/100, Loss: 0.088064\n",
      "Directory 'C:\\Users\\PAPASOFT INC\\Desktop\\SOFT_SIL/R3/AE_3_HL_LS/R3_With_100_Eps_h1_500-LR_h2_500-LR_h3_2000-LR_ls_2-TH_out_2-LR_outm_3-L_pe_100_pl_0.001_bs_100_l_0.0001_lamda_0.01/Weigths' already exists.\n"
     ]
    }
   ],
   "source": [
    "if(pretrain):\n",
    "    autoencoder.pretrain_autoencoder()\n",
    "    autoencoder.save_pretrained_weights()\n",
    "else:\n",
    "    model_save_path = autoencoder.dataDirPath + \"\\\\Weigths\\\\autoencoder_weights.pth\"\n",
    "    autoencoder.load_state_dict(torch.load(model_save_path))\n",
    "    normPreTrEpochs = autoencoder.preTrEpochs  \n",
    "    autoencoder.preTrEpochs = 1\n",
    "    autoencoder.pretrain_autoencoder()\n",
    "    autoencoder.preTrRpochs = normPreTrEpochs"
   ]
  },
  {
   "cell_type": "markdown",
   "metadata": {
    "id": "1vUVh2vy_mBW"
   },
   "source": [
    "### ***VISUALIZATION***"
   ]
  },
  {
   "cell_type": "code",
   "execution_count": 8,
   "metadata": {
    "executionInfo": {
     "elapsed": 315,
     "status": "aborted",
     "timestamp": 1690896732868,
     "user": {
      "displayName": "ΙΩΑΝΝΗΣ ΠΑΠΑΚΩΣΤΑΣ",
      "userId": "05054721977669331577"
     },
     "user_tz": -180
    },
    "id": "-qsONs7uZ8L9"
   },
   "outputs": [],
   "source": [
    "color_list = list(mcolors.CSS4_COLORS.keys()) + list(mcolors.XKCD_COLORS.keys())\n",
    "np.random.shuffle(color_list)\n",
    "color_list = ['deepskyblue', 'gold', 'hotpink', 'limegreen'] + color_list\n",
    "visualization = Visualization(color_list,15,autoencoder)"
   ]
  },
  {
   "cell_type": "markdown",
   "metadata": {
    "id": "jvZni358716X"
   },
   "source": [
    " ### ***TRAINING WITH SOFT SILHOUETTE***"
   ]
  },
  {
   "cell_type": "code",
   "execution_count": 9,
   "metadata": {
    "executionInfo": {
     "elapsed": 313,
     "status": "aborted",
     "timestamp": 1690896732868,
     "user": {
      "displayName": "ΙΩΑΝΝΗΣ ΠΑΠΑΚΩΣΤΑΣ",
      "userId": "05054721977669331577"
     },
     "user_tz": -180
    },
    "id": "-sDJVm1OQbuP"
   },
   "outputs": [
    {
     "name": "stderr",
     "output_type": "stream",
     "text": [
      "C:\\ProgramData\\anaconda3\\lib\\site-packages\\sklearn\\cluster\\_kmeans.py:1382: UserWarning: KMeans is known to have a memory leak on Windows with MKL, when there are less chunks than available threads. You can avoid it by setting the environment variable OMP_NUM_THREADS=6.\n",
      "  warnings.warn(\n"
     ]
    }
   ],
   "source": [
    "if(kmeans_initialization):\n",
    "    autoencoder.kmeans_initialization(100)"
   ]
  },
  {
   "cell_type": "code",
   "execution_count": 10,
   "metadata": {
    "executionInfo": {
     "elapsed": 313,
     "status": "aborted",
     "timestamp": 1690896732869,
     "user": {
      "displayName": "ΙΩΑΝΝΗΣ ΠΑΠΑΚΩΣΤΑΣ",
      "userId": "05054721977669331577"
     },
     "user_tz": -180
    },
    "id": "GVXfROTxGNJ2"
   },
   "outputs": [
    {
     "ename": "TypeError",
     "evalue": "Evaluation.autoencoder_evaluation() missing 1 required positional argument: 'autoencoder_labels'",
     "output_type": "error",
     "traceback": [
      "\u001b[1;31m---------------------------------------------------------------------------\u001b[0m",
      "\u001b[1;31mTypeError\u001b[0m                                 Traceback (most recent call last)",
      "Cell \u001b[1;32mIn[10], line 15\u001b[0m\n\u001b[0;32m      1\u001b[0m \u001b[38;5;124;03m\"\"\"\u001b[39;00m\n\u001b[0;32m      2\u001b[0m \u001b[38;5;124;03mwhile True:\u001b[39;00m\n\u001b[0;32m      3\u001b[0m \u001b[38;5;124;03m    # Code block to execute repeatedly\u001b[39;00m\n\u001b[1;32m   (...)\u001b[0m\n\u001b[0;32m     13\u001b[0m \u001b[38;5;124;03m        break\u001b[39;00m\n\u001b[0;32m     14\u001b[0m \u001b[38;5;124;03m\"\"\"\u001b[39;00m\n\u001b[1;32m---> 15\u001b[0m \u001b[43mautoencoder\u001b[49m\u001b[38;5;241;43m.\u001b[39;49m\u001b[43mtrain_autoencoder\u001b[49m\u001b[43m(\u001b[49m\u001b[43msilhouette_method\u001b[49m\u001b[43m \u001b[49m\u001b[38;5;241;43m=\u001b[39;49m\u001b[43m \u001b[49m\u001b[38;5;124;43m\"\u001b[39;49m\u001b[38;5;124;43mdefault\u001b[39;49m\u001b[38;5;124;43m\"\u001b[39;49m\u001b[43m)\u001b[49m\n\u001b[0;32m     17\u001b[0m visualization\u001b[38;5;241m.\u001b[39mmakeExcel()\n\u001b[0;32m     18\u001b[0m \u001b[38;5;66;03m#visualization.makePlot(useTSNE=False)\u001b[39;00m\n",
      "File \u001b[1;32m~\\Desktop\\SOFT_SIL\\New_Code_Files\\Autoencoder.py:189\u001b[0m, in \u001b[0;36mGenericAutoencoder.train_autoencoder\u001b[1;34m(self, silhouette_method)\u001b[0m\n\u001b[0;32m    187\u001b[0m \u001b[38;5;28mself\u001b[39m\u001b[38;5;241m.\u001b[39mrealLabels \u001b[38;5;241m=\u001b[39m np\u001b[38;5;241m.\u001b[39mconcatenate(\u001b[38;5;28mself\u001b[39m\u001b[38;5;241m.\u001b[39mrealLabels)\n\u001b[0;32m    188\u001b[0m \u001b[38;5;28mself\u001b[39m\u001b[38;5;241m.\u001b[39mlatentData \u001b[38;5;241m=\u001b[39m np\u001b[38;5;241m.\u001b[39mconcatenate(\u001b[38;5;28mself\u001b[39m\u001b[38;5;241m.\u001b[39mlatentData)\n\u001b[1;32m--> 189\u001b[0m acc, pur, nmi, ari \u001b[38;5;241m=\u001b[39m \u001b[38;5;28;43mself\u001b[39;49m\u001b[38;5;241;43m.\u001b[39;49m\u001b[43mevaluation\u001b[49m\u001b[38;5;241;43m.\u001b[39;49m\u001b[43mautoencoder_evaluation\u001b[49m\u001b[43m(\u001b[49m\u001b[38;5;28;43mself\u001b[39;49m\u001b[38;5;241;43m.\u001b[39;49m\u001b[43mrealLabels\u001b[49m\u001b[38;5;241;43m.\u001b[39;49m\u001b[43mastype\u001b[49m\u001b[43m(\u001b[49m\u001b[38;5;28;43mint\u001b[39;49m\u001b[43m)\u001b[49m\u001b[43m,\u001b[49m\u001b[38;5;28;43mself\u001b[39;49m\u001b[38;5;241;43m.\u001b[39;49m\u001b[43mclusters\u001b[49m\u001b[43m)\u001b[49m\n\u001b[0;32m    190\u001b[0m \u001b[38;5;28mprint\u001b[39m(\u001b[38;5;124mf\u001b[39m\u001b[38;5;124m\"\u001b[39m\u001b[38;5;124mEpoch: \u001b[39m\u001b[38;5;132;01m{\u001b[39;00mepoch\u001b[38;5;132;01m}\u001b[39;00m\u001b[38;5;124m REC_LOSS: \u001b[39m\u001b[38;5;132;01m{\u001b[39;00msumRecLoss\u001b[38;5;132;01m:\u001b[39;00m\u001b[38;5;124m.4f\u001b[39m\u001b[38;5;132;01m}\u001b[39;00m\u001b[38;5;124m CL_LOSS: \u001b[39m\u001b[38;5;132;01m{\u001b[39;00msumClusteringLoss\u001b[38;5;132;01m:\u001b[39;00m\u001b[38;5;124m.4f\u001b[39m\u001b[38;5;132;01m}\u001b[39;00m\u001b[38;5;124m SIL: \u001b[39m\u001b[38;5;132;01m{\u001b[39;00msumSoftSilhouette\u001b[38;5;132;01m:\u001b[39;00m\u001b[38;5;124m.4f\u001b[39m\u001b[38;5;132;01m}\u001b[39;00m\u001b[38;5;124m ACC: \u001b[39m\u001b[38;5;132;01m{\u001b[39;00macc\u001b[38;5;132;01m:\u001b[39;00m\u001b[38;5;124m.2f\u001b[39m\u001b[38;5;132;01m}\u001b[39;00m\u001b[38;5;124m PUR: \u001b[39m\u001b[38;5;132;01m{\u001b[39;00mpur\u001b[38;5;132;01m:\u001b[39;00m\u001b[38;5;124m.2f\u001b[39m\u001b[38;5;132;01m}\u001b[39;00m\u001b[38;5;124m NMI: \u001b[39m\u001b[38;5;132;01m{\u001b[39;00mnmi\u001b[38;5;132;01m:\u001b[39;00m\u001b[38;5;124m.2f\u001b[39m\u001b[38;5;132;01m}\u001b[39;00m\u001b[38;5;124m ARI: \u001b[39m\u001b[38;5;132;01m{\u001b[39;00mari\u001b[38;5;132;01m:\u001b[39;00m\u001b[38;5;124m.2f\u001b[39m\u001b[38;5;132;01m}\u001b[39;00m\u001b[38;5;124m\"\u001b[39m)\n\u001b[0;32m    191\u001b[0m \u001b[38;5;28mself\u001b[39m\u001b[38;5;241m.\u001b[39mdf\u001b[38;5;241m.\u001b[39mloc[epoch] \u001b[38;5;241m=\u001b[39m [sumRecLoss,sumClusteringLoss,sumSoftSilhouette,acc,pur,nmi,ari]\n",
      "\u001b[1;31mTypeError\u001b[0m: Evaluation.autoencoder_evaluation() missing 1 required positional argument: 'autoencoder_labels'"
     ]
    }
   ],
   "source": [
    "\"\"\"\n",
    "while True:\n",
    "    # Code block to execute repeatedly\n",
    "    autoencoder.trEpochs = 10\n",
    "    autoencoder.train_autoencoder(silhouette_method = \"default\")\n",
    "    visualization.makeExcel()\n",
    "    #visualization.makePlot(useTSNE=False)\n",
    "    #visualization.makePlot(useTSNE=True)\n",
    "    visualization.plot_3D()\n",
    "\n",
    "    # Check the condition to exit the loop\n",
    "    if autoencoder.experimentName == \"Experiment_400\":\n",
    "        break\n",
    "\"\"\"\n",
    "autoencoder.train_autoencoder(silhouette_method = \"default\")\n",
    "\n",
    "visualization.makeExcel()\n",
    "#visualization.makePlot(useTSNE=False)\n",
    "visualization.plot_tsne()"
   ]
  }
 ],
 "metadata": {
  "accelerator": "GPU",
  "colab": {
   "provenance": [
    {
     "file_id": "121w-F_LopS2b6ATyJPxh0a_i4mceFfzN",
     "timestamp": 1688385039773
    }
   ]
  },
  "kernelspec": {
   "display_name": "Python 3 (ipykernel)",
   "language": "python",
   "name": "python3"
  },
  "language_info": {
   "codemirror_mode": {
    "name": "ipython",
    "version": 3
   },
   "file_extension": ".py",
   "mimetype": "text/x-python",
   "name": "python",
   "nbconvert_exporter": "python",
   "pygments_lexer": "ipython3",
   "version": "3.10.9"
  }
 },
 "nbformat": 4,
 "nbformat_minor": 1
}
