{
 "cells": [
  {
   "cell_type": "code",
   "execution_count": 1,
   "metadata": {
    "colab": {
     "base_uri": "https://localhost:8080/",
     "height": 217
    },
    "executionInfo": {
     "elapsed": 57,
     "status": "error",
     "timestamp": 1690897011385,
     "user": {
      "displayName": "ΙΩΑΝΝΗΣ ΠΑΠΑΚΩΣΤΑΣ",
      "userId": "05054721977669331577"
     },
     "user_tz": -180
    },
    "id": "L3BsTnrCHY-L",
    "outputId": "aff39c0f-c452-44be-bf93-c5523bd2a90f"
   },
   "outputs": [],
   "source": [
    "#pip3 install google.colab\n",
    "#from google.colab import drive\n",
    "#drive.mount('/content/drive', force_remount=True)"
   ]
  },
  {
   "cell_type": "markdown",
   "metadata": {
    "id": "7yTrysaRSfO7"
   },
   "source": [
    "###  Libraries"
   ]
  },
  {
   "cell_type": "code",
   "execution_count": 2,
   "metadata": {
    "colab": {
     "base_uri": "https://localhost:8080/",
     "height": 287
    },
    "executionInfo": {
     "elapsed": 1500,
     "status": "error",
     "timestamp": 1690897017322,
     "user": {
      "displayName": "ΙΩΑΝΝΗΣ ΠΑΠΑΚΩΣΤΑΣ",
      "userId": "05054721977669331577"
     },
     "user_tz": -180
    },
    "id": "A6Xgfba5SeYG",
    "outputId": "3a3e4f3b-54d5-4379-d747-d27332446691"
   },
   "outputs": [],
   "source": [
    "import numpy as np\n",
    "from sklearn.cluster import KMeans\n",
    "import matplotlib.colors as mcolors\n",
    "\n",
    "import torch\n",
    "\n",
    "import os\n",
    "import sys\n",
    "\n",
    "from Autoencoder import Autoencoder, CD_Autoencoder\n",
    "from Datasets.Datasets_Functions import *\n",
    "from Visualization import Visualization\n",
    "from Evaluations.Evaluation import Evaluator\n",
    "from General_Functions import General_Functions"
   ]
  },
  {
   "cell_type": "markdown",
   "metadata": {
    "id": "Y4OhuI9Y_mBT"
   },
   "source": [
    "### Global Variables"
   ]
  },
  {
   "cell_type": "code",
   "execution_count": 3,
   "metadata": {
    "executionInfo": {
     "elapsed": 328,
     "status": "aborted",
     "timestamp": 1690896732863,
     "user": {
      "displayName": "ΙΩΑΝΝΗΣ ΠΑΠΑΚΩΣΤΑΣ",
      "userId": "05054721977669331577"
     },
     "user_tz": -180
    },
    "id": "q41qJCN0_mBU"
   },
   "outputs": [],
   "source": [
    "path_to_module = './' # 'C:\\\\Users\\\\PAPASOFT INC\\\\Desktop\\\\SOFT_SIL'\n",
    "sys.path.append(path_to_module)\n",
    "os.environ['OMP_NUM_THREADS'] = '6'\n",
    "\n",
    "device = torch.device('cuda:0' if torch.cuda.is_available() else 'cpu')\n",
    "torch.cuda.set_device(device)"
   ]
  },
  {
   "cell_type": "markdown",
   "metadata": {},
   "source": [
    "### Visualization"
   ]
  },
  {
   "cell_type": "code",
   "execution_count": 4,
   "metadata": {},
   "outputs": [],
   "source": [
    "visualization = Visualization()"
   ]
  },
  {
   "cell_type": "markdown",
   "metadata": {
    "id": "SjskwTndC-y-"
   },
   "source": [
    "### ***LOAD DATASET***"
   ]
  },
  {
   "cell_type": "code",
   "execution_count": 5,
   "metadata": {
    "executionInfo": {
     "elapsed": 324,
     "status": "aborted",
     "timestamp": 1690896732864,
     "user": {
      "displayName": "ΙΩΑΝΝΗΣ ΠΑΠΑΚΩΣΤΑΣ",
      "userId": "05054721977669331577"
     },
     "user_tz": -180
    },
    "id": "6nFI8NEPhs0c"
   },
   "outputs": [
    {
     "name": "stdout",
     "output_type": "stream",
     "text": [
      "dict_keys(['tcga', 'emnist_balanced_letters', 'emnist_mnist', 'emnist_balanced_digits', 'dermatology', 'ecoil', 'iris', 'rings', 'wine', 'australian', 'moons', 'squeezed_gauss', 'gauss_densities', 'pendigits', 'fashionmnist', '3dspheres', '20_newsgroups', 'coil20', 'cifar10', 'stl10', 'r15', 'r3', 'olivetti_faces', 'r100', '10x73k', 'usps', 'kmnist', 'reuters_4', 'hars'])\n",
      "{'batch_size': 1024, 'n_clusters': 4, 'module_name': 'Datasets.Datasets'}\n"
     ]
    },
    {
     "name": "stderr",
     "output_type": "stream",
     "text": [
      "[nltk_data] Downloading package punkt to C:\\Users\\PAPASOFT\n",
      "[nltk_data]     INC\\AppData\\Roaming\\nltk_data...\n",
      "[nltk_data]   Package punkt is already up-to-date!\n",
      "[nltk_data] Downloading package stopwords to C:\\Users\\PAPASOFT\n",
      "[nltk_data]     INC\\AppData\\Roaming\\nltk_data...\n",
      "[nltk_data]   Package stopwords is already up-to-date!\n"
     ]
    },
    {
     "name": "stdout",
     "output_type": "stream",
     "text": [
      "Data_Shape is: 100\n",
      "Batches Number is: 40\n"
     ]
    }
   ],
   "source": [
    "hashmap_path = path_to_module + 'Datasets/'\n",
    "hashmap = get_hashmap(hashmap_path)\n",
    "print(hashmap.keys())\n",
    "dataset_name = \"r100\"\n",
    "#update_outer_hashmap('emnist_balanced_digits',{'batch_size':256, 'n_clusters':10, 'module_name': 'Datasets.Datasets'}, hashmap_path)\n",
    "dataset_properties = hashmap[dataset_name]\n",
    "print(dataset_properties)\n",
    "batch_size = dataset_properties['batch_size'] = 256\n",
    "dataloader, input_dim, data_np, labels = function_get_dataset(dataset_name, dataset_properties)\n",
    "print('Data_Shape is:', input_dim)\n",
    "print('Batches Number is:', len(dataloader))"
   ]
  },
  {
   "cell_type": "code",
   "execution_count": 6,
   "metadata": {},
   "outputs": [],
   "source": [
    "if(False):\n",
    "    print(data_np.shape)\n",
    "    #data_np = np.reshape(data_np, (len(data_np), 28 * 28))\n",
    "    kmeans = KMeans(n_clusters=dataset_properties['n_clusters'], n_init=10).fit(data_np)\n",
    "    evaluator = Evaluator()\n",
    "    evaluator.evaluate_model(data_np, labels, kmeans.labels_)\n",
    "    "
   ]
  },
  {
   "cell_type": "markdown",
   "metadata": {
    "id": "s5uxFA6rSfOv"
   },
   "source": [
    "### Parameters"
   ]
  },
  {
   "cell_type": "code",
   "execution_count": 7,
   "metadata": {
    "executionInfo": {
     "elapsed": 322,
     "status": "aborted",
     "timestamp": 1690896732865,
     "user": {
      "displayName": "ΙΩΑΝΝΗΣ ΠΑΠΑΚΩΣΤΑΣ",
      "userId": "05054721977669331577"
     },
     "user_tz": -180
    },
    "id": "ND4kEAYMDTim"
   },
   "outputs": [],
   "source": [
    "# Latent Dimension, Number of Channels and Negative Slope\n",
    "latent_dim = 10\n",
    "n_clusters = dataset_properties['n_clusters'] # = 6\n",
    "# Batch Size and Number of Clusters\n",
    "batch_size = dataset_properties['batch_size'] #= 1024\n",
    "negative_slope = 0\n",
    "\n",
    "# Pre-Training Epochs and Learning Rate\n",
    "n_pret_epochs = 100\n",
    "pret_lr = 1e-3\n",
    "\n",
    "# Lamdas, Training Epochs and Learning Rate\n",
    "n_epochs = 100\n",
    "lr = 5e-4\n",
    "sil_lambda = 0.01\n",
    "entr_lambda = 0.01\n",
    "\n",
    "kmeans_initialization = True\n",
    "pretrain = True\n",
    "is_MLP_AE = True"
   ]
  },
  {
   "cell_type": "markdown",
   "metadata": {
    "id": "M2P-UOuHDOXV"
   },
   "source": [
    "### Create Autoencoder Model"
   ]
  },
  {
   "cell_type": "code",
   "execution_count": 8,
   "metadata": {
    "executionInfo": {
     "elapsed": 321,
     "status": "aborted",
     "timestamp": 1690896732866,
     "user": {
      "displayName": "ΙΩΑΝΝΗΣ ΠΑΠΑΚΩΣΤΑΣ",
      "userId": "05054721977669331577"
     },
     "user_tz": -180
    },
    "id": "PBkI9U0tgoZ1"
   },
   "outputs": [],
   "source": [
    "if is_MLP_AE:\n",
    "    autoencoder = Autoencoder(device=device, n_clusters=n_clusters, input_dim=input_dim, latent_dim=latent_dim, negative_slope=negative_slope)\n",
    "else:\n",
    "    autoencoder = CD_Autoencoder(device=device, n_clusters=n_clusters, input_dim=input_dim, latent_dim=latent_dim, negative_slope=negative_slope)\n",
    "autoencoder.set_general_training_variables(dataloader=dataloader, batch_size=batch_size)\n",
    "autoencoder.set_pretraining_variables(n_pret_epochs=n_pret_epochs, pret_lr=pret_lr)\n",
    "autoencoder.set_training_variables(n_epochs=n_epochs, lr=lr, sil_lambda=sil_lambda, entr_lambda=entr_lambda)\n",
    "autoencoder.set_path_variables(path_to_module=path_to_module, dataset_name=dataset_name)\n",
    "autoencoder.set_path()\n",
    "autoencoder = autoencoder.to(device)"
   ]
  },
  {
   "cell_type": "code",
   "execution_count": 9,
   "metadata": {},
   "outputs": [
    {
     "data": {
      "text/plain": [
       "Autoencoder(\n",
       "  (encoder_model): Sequential(\n",
       "    (0): Linear(in_features=100, out_features=500, bias=True)\n",
       "    (1): LeakyReLU(negative_slope=0, inplace=True)\n",
       "    (2): BatchNorm1d(500, eps=1e-05, momentum=0.1, affine=True, track_running_stats=True)\n",
       "    (3): Linear(in_features=500, out_features=500, bias=True)\n",
       "    (4): LeakyReLU(negative_slope=0, inplace=True)\n",
       "    (5): BatchNorm1d(500, eps=1e-05, momentum=0.1, affine=True, track_running_stats=True)\n",
       "    (6): Linear(in_features=500, out_features=2000, bias=True)\n",
       "    (7): LeakyReLU(negative_slope=0, inplace=True)\n",
       "    (8): BatchNorm1d(2000, eps=1e-05, momentum=0.1, affine=True, track_running_stats=True)\n",
       "    (9): Linear(in_features=2000, out_features=10, bias=True)\n",
       "    (10): Tanh()\n",
       "    (11): BatchNorm1d(10, eps=1e-05, momentum=0.1, affine=True, track_running_stats=True)\n",
       "  )\n",
       "  (cluster_model): Sequential(\n",
       "    (0): RBF()\n",
       "  )\n",
       "  (decoder_model): Sequential(\n",
       "    (0): Linear(in_features=10, out_features=2000, bias=True)\n",
       "    (1): LeakyReLU(negative_slope=0, inplace=True)\n",
       "    (2): BatchNorm1d(2000, eps=1e-05, momentum=0.1, affine=True, track_running_stats=True)\n",
       "    (3): Linear(in_features=2000, out_features=500, bias=True)\n",
       "    (4): LeakyReLU(negative_slope=0, inplace=True)\n",
       "    (5): BatchNorm1d(500, eps=1e-05, momentum=0.1, affine=True, track_running_stats=True)\n",
       "    (6): Linear(in_features=500, out_features=500, bias=True)\n",
       "    (7): LeakyReLU(negative_slope=0, inplace=True)\n",
       "    (8): BatchNorm1d(500, eps=1e-05, momentum=0.1, affine=True, track_running_stats=True)\n",
       "    (9): Linear(in_features=500, out_features=100, bias=True)\n",
       "    (10): LeakyReLU(negative_slope=0, inplace=True)\n",
       "  )\n",
       ")"
      ]
     },
     "execution_count": 9,
     "metadata": {},
     "output_type": "execute_result"
    }
   ],
   "source": [
    "autoencoder"
   ]
  },
  {
   "cell_type": "markdown",
   "metadata": {},
   "source": [
    "### Pretrain Autoencoder"
   ]
  },
  {
   "cell_type": "code",
   "execution_count": 10,
   "metadata": {
    "scrolled": true
   },
   "outputs": [
    {
     "name": "stdout",
     "output_type": "stream",
     "text": [
      "Epoch: 0, Loss: 3.401958\n",
      "Epoch: 1, Loss: 1.667900\n",
      "Epoch: 2, Loss: 0.994101\n",
      "Epoch: 3, Loss: 0.780274\n",
      "Epoch: 4, Loss: 0.552981\n",
      "Epoch: 5, Loss: 0.566718\n",
      "Epoch: 6, Loss: 0.610756\n",
      "Epoch: 7, Loss: 0.894002\n",
      "Epoch: 8, Loss: 0.571277\n",
      "Epoch: 9, Loss: 0.565692\n",
      "Epoch: 10, Loss: 0.567350\n",
      "Epoch: 11, Loss: 0.364141\n",
      "Epoch: 12, Loss: 0.380103\n",
      "Epoch: 13, Loss: 0.210606\n",
      "Epoch: 14, Loss: 0.167939\n",
      "Epoch: 15, Loss: 0.206399\n",
      "Epoch: 16, Loss: 0.166258\n",
      "Epoch: 17, Loss: 0.116307\n",
      "Epoch: 18, Loss: 0.123428\n",
      "Epoch: 19, Loss: 0.107431\n",
      "Epoch: 20, Loss: 0.105181\n",
      "Epoch: 21, Loss: 0.095329\n",
      "Epoch: 22, Loss: 0.099944\n",
      "Epoch: 23, Loss: 0.097724\n",
      "Epoch: 24, Loss: 0.100457\n",
      "Epoch: 25, Loss: 0.092633\n",
      "Epoch: 26, Loss: 0.096737\n",
      "Epoch: 27, Loss: 0.077420\n",
      "Epoch: 28, Loss: 0.122596\n",
      "Epoch: 29, Loss: 0.145651\n",
      "Epoch: 30, Loss: 0.119124\n",
      "Epoch: 31, Loss: 0.082732\n",
      "Epoch: 32, Loss: 0.076208\n",
      "Epoch: 33, Loss: 0.077081\n",
      "Epoch: 34, Loss: 0.070682\n",
      "Epoch: 35, Loss: 0.076956\n",
      "Epoch: 36, Loss: 0.070644\n",
      "Epoch: 37, Loss: 0.090425\n",
      "Epoch: 38, Loss: 0.072407\n",
      "Epoch: 39, Loss: 0.063906\n",
      "Epoch: 40, Loss: 0.073826\n",
      "Epoch: 41, Loss: 0.075750\n",
      "Epoch: 42, Loss: 0.177467\n",
      "Epoch: 43, Loss: 0.067745\n",
      "Epoch: 44, Loss: 0.067212\n",
      "Epoch: 45, Loss: 0.054541\n",
      "Epoch: 46, Loss: 0.046731\n",
      "Epoch: 47, Loss: 0.045778\n",
      "Epoch: 48, Loss: 0.047687\n",
      "Epoch: 49, Loss: 0.046492\n",
      "Epoch: 50, Loss: 0.049751\n",
      "Epoch: 51, Loss: 0.060783\n",
      "Epoch: 52, Loss: 0.078936\n",
      "Epoch: 53, Loss: 0.059450\n",
      "Epoch: 54, Loss: 0.054841\n",
      "Epoch: 55, Loss: 0.047347\n",
      "Epoch: 56, Loss: 0.056545\n",
      "Epoch: 57, Loss: 0.052183\n",
      "Epoch: 58, Loss: 0.043978\n",
      "Epoch: 59, Loss: 0.045652\n",
      "Epoch: 60, Loss: 0.066591\n",
      "Epoch: 61, Loss: 0.064671\n",
      "Epoch: 62, Loss: 0.057187\n",
      "Epoch: 63, Loss: 0.063952\n",
      "Epoch: 64, Loss: 0.061857\n",
      "Epoch: 65, Loss: 0.043369\n",
      "Epoch: 66, Loss: 0.058876\n",
      "Epoch: 67, Loss: 0.044369\n",
      "Epoch: 68, Loss: 0.040185\n",
      "Epoch: 69, Loss: 0.073368\n",
      "Epoch: 70, Loss: 0.053621\n",
      "Epoch: 71, Loss: 0.050584\n",
      "Epoch: 72, Loss: 0.048938\n",
      "Epoch: 73, Loss: 0.050040\n",
      "Epoch: 74, Loss: 0.047831\n",
      "Epoch: 75, Loss: 0.043917\n",
      "Epoch: 76, Loss: 0.049646\n",
      "Epoch: 77, Loss: 0.061322\n",
      "Epoch: 78, Loss: 0.058710\n",
      "Epoch: 79, Loss: 0.071217\n",
      "Epoch: 80, Loss: 0.062619\n",
      "Epoch: 81, Loss: 0.084702\n",
      "Epoch: 82, Loss: 0.066887\n",
      "Epoch: 83, Loss: 0.045333\n",
      "Epoch: 84, Loss: 0.045858\n",
      "Epoch: 85, Loss: 0.058906\n",
      "Epoch: 86, Loss: 0.055343\n",
      "Epoch: 87, Loss: 0.066619\n",
      "Epoch: 88, Loss: 0.054833\n",
      "Epoch: 89, Loss: 0.068205\n",
      "Epoch: 90, Loss: 0.205063\n",
      "Epoch: 91, Loss: 0.129705\n",
      "Epoch: 92, Loss: 0.082002\n",
      "Epoch: 93, Loss: 0.069000\n",
      "Epoch: 94, Loss: 0.055333\n",
      "Epoch: 95, Loss: 0.041928\n",
      "Epoch: 96, Loss: 0.046555\n",
      "Epoch: 97, Loss: 0.062713\n",
      "Epoch: 98, Loss: 0.060284\n",
      "Epoch: 99, Loss: 0.049553\n",
      "Directory './Results/r100/SSAE/100_Eps_ld_10_out_4_bs_256_lr_0.0005_sil_lambda_0.01_entr_lambda_0.01/Weigths' already exists.\n"
     ]
    }
   ],
   "source": [
    "if(pretrain):\n",
    "    autoencoder.pretrain_autoencoder()\n",
    "    autoencoder.save_pretrained_weights()\n",
    "else:\n",
    "    model_save_path = autoencoder.data_dir_path + '/Weigths/autoencoder_weights.pth'\n",
    "    autoencoder.load_state_dict(torch.load(model_save_path))"
   ]
  },
  {
   "cell_type": "code",
   "execution_count": 11,
   "metadata": {},
   "outputs": [
    {
     "data": {
      "text/plain": [
       "(0.9381, 0.9381, 0.8380540513327964, 0.8482333723561085, 0)"
      ]
     },
     "execution_count": 11,
     "metadata": {},
     "output_type": "execute_result"
    }
   ],
   "source": [
    "#if(False):\n",
    "data, latent_data, labels = autoencoder.get_latent_data()\n",
    "kmeans = KMeans(n_clusters=n_clusters, n_init=100).fit(latent_data)\n",
    "evaluator = Evaluator()\n",
    "evaluator.evaluate_model(data, labels, kmeans.labels_)"
   ]
  },
  {
   "cell_type": "code",
   "execution_count": 12,
   "metadata": {},
   "outputs": [
    {
     "ename": "AttributeError",
     "evalue": "'Evaluator' object has no attribute 'EVA'",
     "output_type": "error",
     "traceback": [
      "\u001b[1;31m---------------------------------------------------------------------------\u001b[0m",
      "\u001b[1;31mAttributeError\u001b[0m                            Traceback (most recent call last)",
      "Cell \u001b[1;32mIn[12], line 1\u001b[0m\n\u001b[1;32m----> 1\u001b[0m \u001b[43mevaluator\u001b[49m\u001b[38;5;241;43m.\u001b[39;49m\u001b[43mEVA\u001b[49m()\n",
      "\u001b[1;31mAttributeError\u001b[0m: 'Evaluator' object has no attribute 'EVA'"
     ]
    }
   ],
   "source": [
    "evaluator.EVA()"
   ]
  },
  {
   "cell_type": "markdown",
   "metadata": {},
   "source": [
    "### Initialize the clustering layer using k-means"
   ]
  },
  {
   "cell_type": "code",
   "execution_count": null,
   "metadata": {},
   "outputs": [],
   "source": [
    "n_inits = 100\n",
    "if kmeans_initialization: autoencoder.kmeans_initialization(n_inits)"
   ]
  },
  {
   "cell_type": "markdown",
   "metadata": {},
   "source": [
    "### Train Autoencoder"
   ]
  },
  {
   "cell_type": "code",
   "execution_count": null,
   "metadata": {
    "executionInfo": {
     "elapsed": 313,
     "status": "aborted",
     "timestamp": 1690896732869,
     "user": {
      "displayName": "ΙΩΑΝΝΗΣ ΠΑΠΑΚΩΣΤΑΣ",
      "userId": "05054721977669331577"
     },
     "user_tz": -180
    },
    "id": "GVXfROTxGNJ2"
   },
   "outputs": [],
   "source": [
    "#autoencoder.set_training_variables(n_epochs=100, lr=5e-4, sil_lambda=0.01, entr_lambda=0.01)\n",
    "latent_data, labels, clustering = autoencoder.train_autoencoder()"
   ]
  },
  {
   "cell_type": "code",
   "execution_count": null,
   "metadata": {},
   "outputs": [],
   "source": [
    "cluster_centers = autoencoder.get_cluster_centers().cpu().detach().numpy()\n",
    "data, latent_data, labels = autoencoder.get_latent_data()\n",
    "General_Functions().save_excel(autoencoder.data_dir_path, autoencoder.df_eval)"
   ]
  },
  {
   "cell_type": "code",
   "execution_count": null,
   "metadata": {},
   "outputs": [],
   "source": [
    "visualization.plot(latent_data, labels, clustering, cluster_centers, autoencoder.data_dir_path)"
   ]
  },
  {
   "cell_type": "code",
   "execution_count": null,
   "metadata": {},
   "outputs": [],
   "source": [
    "#visualization.plot_tsne(latent_data, labels, clustering, cluster_centers, autoencoder.data_dir_path)"
   ]
  },
  {
   "cell_type": "code",
   "execution_count": null,
   "metadata": {},
   "outputs": [],
   "source": [
    "data, similarity, labels = autoencoder.get_similarity_data()\n",
    "print(labels)\n",
    "images = General_Functions().find_images_to_plot(30, 36, data, similarity, labels)"
   ]
  },
  {
   "cell_type": "code",
   "execution_count": null,
   "metadata": {},
   "outputs": [],
   "source": [
    "import numpy as np\n",
    "import pandas as pd\n",
    "import matplotlib.pyplot as plt\n",
    "import matplotlib.patches as mpatches\n",
    "from matplotlib.ticker import FixedLocator\n",
    "import matplotlib.colors as mcolors\n",
    "\n",
    "from sklearn.manifold import TSNE\n",
    "\n",
    "from openpyxl import load_workbook,Workbook\n",
    "import os.path\n",
    "\n",
    "from General_Functions import General_Functions\n",
    "\n",
    "def plot_collage(images, num_x_images, num_y_images, image_size, data_dir_path):\n",
    "    \n",
    "        # Create a blank canvas for the collage\n",
    "        collage_size = (image_size[0] * 10, image_size[1] * 10)\n",
    "\n",
    "        fig, axes = plt.subplots(num_x_images, num_y_images, figsize=(image_size[0], image_size[1]), facecolor = 'black')\n",
    "\n",
    "        for i in range(num_x_images):\n",
    "            for j in range(num_y_images):\n",
    "                index = i * num_y_images + j\n",
    "                image = images[index].reshape(image_size[0], image_size[1])\n",
    "                \n",
    "                axes[i, j].imshow(image, cmap='gray')\n",
    "                axes[i, j].axis('off')\n",
    "\n",
    "        plt.subplots_adjust(wspace=0, hspace=0)\n",
    "        plt.savefig(data_dir_path + \"/Experiments/Collage.png\", facecolor = 'white')\n",
    "        plt.show()\n",
    "plot_collage(images, 6, 10, (28, 28), autoencoder.data_dir_path)\n",
    "from PIL import Image\n",
    "\n",
    "# Open an image\n",
    "image_path = \"path/to/your/image.jpg\"\n",
    "original_image = Image.open(image_path)\n",
    "\n",
    "# Set the desired size in pixels\n",
    "new_size = (width_in_pixels, height_in_pixels)\n",
    "\n",
    "# Resize the image\n",
    "resized_image = original_image.resize(new_size)\n",
    "\n",
    "# Save or display the resized image\n",
    "resized_image.save(\"path/to/your/resized/image.jpg\")\n",
    "resized_image.show()"
   ]
  }
 ],
 "metadata": {
  "accelerator": "GPU",
  "colab": {
   "provenance": [
    {
     "file_id": "121w-F_LopS2b6ATyJPxh0a_i4mceFfzN",
     "timestamp": 1688385039773
    }
   ]
  },
  "kernelspec": {
   "display_name": "Python 3 (ipykernel)",
   "language": "python",
   "name": "python3"
  },
  "language_info": {
   "codemirror_mode": {
    "name": "ipython",
    "version": 3
   },
   "file_extension": ".py",
   "mimetype": "text/x-python",
   "name": "python",
   "nbconvert_exporter": "python",
   "pygments_lexer": "ipython3",
   "version": "3.10.9"
  }
 },
 "nbformat": 4,
 "nbformat_minor": 1
}
