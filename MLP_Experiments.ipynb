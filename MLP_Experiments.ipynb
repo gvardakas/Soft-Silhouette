{
 "cells": [
  {
   "cell_type": "code",
   "execution_count": 1,
   "id": "53395d6a",
   "metadata": {},
   "outputs": [],
   "source": [
    "#pip3 install google.colab\n",
    "#from google.colab import drive\n",
    "#drive.mount('/content/drive', force_remount=True)"
   ]
  },
  {
   "cell_type": "markdown",
   "id": "5f8e722b",
   "metadata": {},
   "source": [
    "###  Libraries"
   ]
  },
  {
   "cell_type": "code",
   "execution_count": 1,
   "id": "8256748a",
   "metadata": {},
   "outputs": [
    {
     "name": "stderr",
     "output_type": "stream",
     "text": [
      "/home/geo/anaconda3/envs/gvardakas/lib/python3.10/site-packages/tqdm/auto.py:22: TqdmWarning: IProgress not found. Please update jupyter and ipywidgets. See https://ipywidgets.readthedocs.io/en/stable/user_install.html\n",
      "  from .autonotebook import tqdm as notebook_tqdm\n"
     ]
    }
   ],
   "source": [
    "import numpy as np\n",
    "from sklearn.cluster import KMeans\n",
    "import matplotlib.colors as mcolors\n",
    "\n",
    "import torch\n",
    "\n",
    "import os\n",
    "import sys\n",
    "\n",
    "from MLP import MLP\n",
    "from Datasets_Functions import *\n",
    "from Visualization import Visualization\n",
    "from Evaluations.Evaluation import Evaluator"
   ]
  },
  {
   "cell_type": "markdown",
   "id": "6638a8a3",
   "metadata": {},
   "source": [
    "### Global Variables"
   ]
  },
  {
   "cell_type": "code",
   "execution_count": 2,
   "id": "4a53b4e5",
   "metadata": {},
   "outputs": [],
   "source": [
    "path_to_module = './' # 'C:\\\\Users\\\\PAPASOFT INC\\\\Desktop\\\\SOFT_SIL'\n",
    "sys.path.append(path_to_module)\n",
    "os.environ['OMP_NUM_THREADS'] = '1'\n",
    "\n",
    "device = torch.device('cuda:0' if torch.cuda.is_available() else 'cpu')\n",
    "torch.cuda.set_device(device)"
   ]
  },
  {
   "cell_type": "markdown",
   "id": "3467285d",
   "metadata": {},
   "source": [
    "### Load datasets"
   ]
  },
  {
   "cell_type": "code",
   "execution_count": 3,
   "id": "e5c75b05",
   "metadata": {},
   "outputs": [
    {
     "name": "stdout",
     "output_type": "stream",
     "text": [
      "dict_keys(['10x73k', 'TCGA', 'coil20', 'eMNIST_balanced_letters', 'eMNIST_mnist', 'eMNIST_balanced_digits', 'Dermatology', 'Ecoil', 'Iris', 'Rings', 'Wine', 'Australian', 'Moons', 'Squeezed_Gauss', 'Gauss_Densities', 'Pendigits', 'fashionMNIST', '3DSpheres', '20_NewsGroups', 'COIL20', 'CIFAR10', 'STL10', 'R15', 'R3'])\n",
      "{'batch_size': 100, 'n_clusters': 3, 'module_name': 'datasets.datasets_New', 'function_name': 'load_R3_dataloader', 'option_name': ''}\n",
      "Data_Shape is: 2\n",
      "Batches Number is: 15\n"
     ]
    }
   ],
   "source": [
    "hashMapFilePath = path_to_module \n",
    "#updateHashMap(\"R15\",{'batch_size': 50, 'n_clusters': 15, 'module_name': 'datasets.datasets_New', 'function_name': 'load_R15_dataloader', 'option_name': ''},hashMapFilePath)\n",
    "hashMap = getHashMap(hashMapFilePath)\n",
    "print(hashMap.keys())\n",
    "dataset_name = \"R3\"\n",
    "datasetProperties = hashMap[dataset_name]\n",
    "print(datasetProperties)\n",
    "batch_size = datasetProperties['batch_size'] #= 30\n",
    "n_clusters = datasetProperties['n_clusters'] #= 3\n",
    "datasetProperties['module_name'] = 'Datasets.Datasets'\n",
    "dataloader, input_dim, data_np, labels = functionGetDataset(datasetProperties)\n",
    "print('Data_Shape is:', input_dim)\n",
    "print('Batches Number is:',len(dataloader))"
   ]
  },
  {
   "cell_type": "markdown",
   "id": "7a37d27c",
   "metadata": {},
   "source": [
    "### Parameters"
   ]
  },
  {
   "cell_type": "code",
   "execution_count": 4,
   "id": "46464ecf",
   "metadata": {},
   "outputs": [],
   "source": [
    "# Batch Size and Number of Clusters\n",
    "batch_size = datasetProperties['batch_size']\n",
    "n_clusters = datasetProperties['n_clusters']\n",
    "\n",
    "# Training Epochs and Learning Rate\n",
    "lr = 1e-3\n",
    "n_epochs = 10\n",
    "entr_lambda = 1\n",
    "\n",
    "kmeans_initialization = True"
   ]
  },
  {
   "cell_type": "markdown",
   "id": "586dff4c",
   "metadata": {},
   "source": [
    "### Create MLP model"
   ]
  },
  {
   "cell_type": "code",
   "execution_count": 5,
   "id": "10cc7d58",
   "metadata": {},
   "outputs": [],
   "source": [
    "mlp = MLP(device=device, n_clusters=n_clusters, input_dim=input_dim)\n",
    "mlp.set_training_variables(dataloader=dataloader, batch_size=batch_size, n_epochs=n_epochs, lr=lr, entr_lambda=entr_lambda)\n",
    "mlp.set_path_variables(path_to_module=path_to_module, dataset_name=dataset_name)\n",
    "mlp.set_path()\n",
    "\n",
    "mlp = mlp.to(device)"
   ]
  },
  {
   "cell_type": "code",
   "execution_count": 6,
   "id": "cac79ca8",
   "metadata": {},
   "outputs": [
    {
     "name": "stderr",
     "output_type": "stream",
     "text": [
      "Exception ignored on calling ctypes callback function: <function _ThreadpoolInfo._find_modules_with_dl_iterate_phdr.<locals>.match_module_callback at 0x7f505308b2e0>\n",
      "Traceback (most recent call last):\n",
      "  File \"/home/geo/anaconda3/envs/gvardakas/lib/python3.10/site-packages/threadpoolctl.py\", line 400, in match_module_callback\n",
      "    self._make_module_from_path(filepath)\n",
      "  File \"/home/geo/anaconda3/envs/gvardakas/lib/python3.10/site-packages/threadpoolctl.py\", line 515, in _make_module_from_path\n",
      "    module = module_class(filepath, prefix, user_api, internal_api)\n",
      "  File \"/home/geo/anaconda3/envs/gvardakas/lib/python3.10/site-packages/threadpoolctl.py\", line 606, in __init__\n",
      "    self.version = self.get_version()\n",
      "  File \"/home/geo/anaconda3/envs/gvardakas/lib/python3.10/site-packages/threadpoolctl.py\", line 646, in get_version\n",
      "    config = get_config().split()\n",
      "AttributeError: 'NoneType' object has no attribute 'split'\n",
      "Exception ignored on calling ctypes callback function: <function _ThreadpoolInfo._find_modules_with_dl_iterate_phdr.<locals>.match_module_callback at 0x7f505308b2e0>\n",
      "Traceback (most recent call last):\n",
      "  File \"/home/geo/anaconda3/envs/gvardakas/lib/python3.10/site-packages/threadpoolctl.py\", line 400, in match_module_callback\n",
      "    self._make_module_from_path(filepath)\n",
      "  File \"/home/geo/anaconda3/envs/gvardakas/lib/python3.10/site-packages/threadpoolctl.py\", line 515, in _make_module_from_path\n",
      "    module = module_class(filepath, prefix, user_api, internal_api)\n",
      "  File \"/home/geo/anaconda3/envs/gvardakas/lib/python3.10/site-packages/threadpoolctl.py\", line 606, in __init__\n",
      "    self.version = self.get_version()\n",
      "  File \"/home/geo/anaconda3/envs/gvardakas/lib/python3.10/site-packages/threadpoolctl.py\", line 646, in get_version\n",
      "    config = get_config().split()\n",
      "AttributeError: 'NoneType' object has no attribute 'split'\n",
      "Exception ignored on calling ctypes callback function: <function _ThreadpoolInfo._find_modules_with_dl_iterate_phdr.<locals>.match_module_callback at 0x7f505308b2e0>\n",
      "Traceback (most recent call last):\n",
      "  File \"/home/geo/anaconda3/envs/gvardakas/lib/python3.10/site-packages/threadpoolctl.py\", line 400, in match_module_callback\n",
      "    self._make_module_from_path(filepath)\n",
      "  File \"/home/geo/anaconda3/envs/gvardakas/lib/python3.10/site-packages/threadpoolctl.py\", line 515, in _make_module_from_path\n",
      "    module = module_class(filepath, prefix, user_api, internal_api)\n",
      "  File \"/home/geo/anaconda3/envs/gvardakas/lib/python3.10/site-packages/threadpoolctl.py\", line 606, in __init__\n",
      "    self.version = self.get_version()\n",
      "  File \"/home/geo/anaconda3/envs/gvardakas/lib/python3.10/site-packages/threadpoolctl.py\", line 646, in get_version\n",
      "    config = get_config().split()\n",
      "AttributeError: 'NoneType' object has no attribute 'split'\n",
      "Exception ignored on calling ctypes callback function: <function _ThreadpoolInfo._find_modules_with_dl_iterate_phdr.<locals>.match_module_callback at 0x7f505308b2e0>\n",
      "Traceback (most recent call last):\n",
      "  File \"/home/geo/anaconda3/envs/gvardakas/lib/python3.10/site-packages/threadpoolctl.py\", line 400, in match_module_callback\n",
      "    self._make_module_from_path(filepath)\n",
      "  File \"/home/geo/anaconda3/envs/gvardakas/lib/python3.10/site-packages/threadpoolctl.py\", line 515, in _make_module_from_path\n",
      "    module = module_class(filepath, prefix, user_api, internal_api)\n",
      "  File \"/home/geo/anaconda3/envs/gvardakas/lib/python3.10/site-packages/threadpoolctl.py\", line 606, in __init__\n",
      "    self.version = self.get_version()\n",
      "  File \"/home/geo/anaconda3/envs/gvardakas/lib/python3.10/site-packages/threadpoolctl.py\", line 646, in get_version\n",
      "    config = get_config().split()\n",
      "AttributeError: 'NoneType' object has no attribute 'split'\n",
      "Exception ignored on calling ctypes callback function: <function _ThreadpoolInfo._find_modules_with_dl_iterate_phdr.<locals>.match_module_callback at 0x7f505308b2e0>\n",
      "Traceback (most recent call last):\n",
      "  File \"/home/geo/anaconda3/envs/gvardakas/lib/python3.10/site-packages/threadpoolctl.py\", line 400, in match_module_callback\n",
      "    self._make_module_from_path(filepath)\n",
      "  File \"/home/geo/anaconda3/envs/gvardakas/lib/python3.10/site-packages/threadpoolctl.py\", line 515, in _make_module_from_path\n",
      "    module = module_class(filepath, prefix, user_api, internal_api)\n",
      "  File \"/home/geo/anaconda3/envs/gvardakas/lib/python3.10/site-packages/threadpoolctl.py\", line 606, in __init__\n",
      "    self.version = self.get_version()\n",
      "  File \"/home/geo/anaconda3/envs/gvardakas/lib/python3.10/site-packages/threadpoolctl.py\", line 646, in get_version\n",
      "    config = get_config().split()\n",
      "AttributeError: 'NoneType' object has no attribute 'split'\n",
      "Exception ignored on calling ctypes callback function: <function _ThreadpoolInfo._find_modules_with_dl_iterate_phdr.<locals>.match_module_callback at 0x7f505308b2e0>\n",
      "Traceback (most recent call last):\n",
      "  File \"/home/geo/anaconda3/envs/gvardakas/lib/python3.10/site-packages/threadpoolctl.py\", line 400, in match_module_callback\n",
      "    self._make_module_from_path(filepath)\n",
      "  File \"/home/geo/anaconda3/envs/gvardakas/lib/python3.10/site-packages/threadpoolctl.py\", line 515, in _make_module_from_path\n",
      "    module = module_class(filepath, prefix, user_api, internal_api)\n",
      "  File \"/home/geo/anaconda3/envs/gvardakas/lib/python3.10/site-packages/threadpoolctl.py\", line 606, in __init__\n",
      "    self.version = self.get_version()\n",
      "  File \"/home/geo/anaconda3/envs/gvardakas/lib/python3.10/site-packages/threadpoolctl.py\", line 646, in get_version\n",
      "    config = get_config().split()\n",
      "AttributeError: 'NoneType' object has no attribute 'split'\n",
      "Exception ignored on calling ctypes callback function: <function _ThreadpoolInfo._find_modules_with_dl_iterate_phdr.<locals>.match_module_callback at 0x7f505308b2e0>\n",
      "Traceback (most recent call last):\n",
      "  File \"/home/geo/anaconda3/envs/gvardakas/lib/python3.10/site-packages/threadpoolctl.py\", line 400, in match_module_callback\n",
      "    self._make_module_from_path(filepath)\n",
      "  File \"/home/geo/anaconda3/envs/gvardakas/lib/python3.10/site-packages/threadpoolctl.py\", line 515, in _make_module_from_path\n",
      "    module = module_class(filepath, prefix, user_api, internal_api)\n",
      "  File \"/home/geo/anaconda3/envs/gvardakas/lib/python3.10/site-packages/threadpoolctl.py\", line 606, in __init__\n",
      "    self.version = self.get_version()\n",
      "  File \"/home/geo/anaconda3/envs/gvardakas/lib/python3.10/site-packages/threadpoolctl.py\", line 646, in get_version\n",
      "    config = get_config().split()\n",
      "AttributeError: 'NoneType' object has no attribute 'split'\n",
      "Exception ignored on calling ctypes callback function: <function _ThreadpoolInfo._find_modules_with_dl_iterate_phdr.<locals>.match_module_callback at 0x7f505308b2e0>\n",
      "Traceback (most recent call last):\n",
      "  File \"/home/geo/anaconda3/envs/gvardakas/lib/python3.10/site-packages/threadpoolctl.py\", line 400, in match_module_callback\n",
      "    self._make_module_from_path(filepath)\n",
      "  File \"/home/geo/anaconda3/envs/gvardakas/lib/python3.10/site-packages/threadpoolctl.py\", line 515, in _make_module_from_path\n",
      "    module = module_class(filepath, prefix, user_api, internal_api)\n",
      "  File \"/home/geo/anaconda3/envs/gvardakas/lib/python3.10/site-packages/threadpoolctl.py\", line 606, in __init__\n",
      "    self.version = self.get_version()\n",
      "  File \"/home/geo/anaconda3/envs/gvardakas/lib/python3.10/site-packages/threadpoolctl.py\", line 646, in get_version\n",
      "    config = get_config().split()\n",
      "AttributeError: 'NoneType' object has no attribute 'split'\n",
      "Exception ignored on calling ctypes callback function: <function _ThreadpoolInfo._find_modules_with_dl_iterate_phdr.<locals>.match_module_callback at 0x7f505308b2e0>\n",
      "Traceback (most recent call last):\n",
      "  File \"/home/geo/anaconda3/envs/gvardakas/lib/python3.10/site-packages/threadpoolctl.py\", line 400, in match_module_callback\n",
      "    self._make_module_from_path(filepath)\n",
      "  File \"/home/geo/anaconda3/envs/gvardakas/lib/python3.10/site-packages/threadpoolctl.py\", line 515, in _make_module_from_path\n",
      "    module = module_class(filepath, prefix, user_api, internal_api)\n",
      "  File \"/home/geo/anaconda3/envs/gvardakas/lib/python3.10/site-packages/threadpoolctl.py\", line 606, in __init__\n",
      "    self.version = self.get_version()\n",
      "  File \"/home/geo/anaconda3/envs/gvardakas/lib/python3.10/site-packages/threadpoolctl.py\", line 646, in get_version\n",
      "    config = get_config().split()\n",
      "AttributeError: 'NoneType' object has no attribute 'split'\n"
     ]
    },
    {
     "name": "stderr",
     "output_type": "stream",
     "text": [
      "Exception ignored on calling ctypes callback function: <function _ThreadpoolInfo._find_modules_with_dl_iterate_phdr.<locals>.match_module_callback at 0x7f505308b2e0>\n",
      "Traceback (most recent call last):\n",
      "  File \"/home/geo/anaconda3/envs/gvardakas/lib/python3.10/site-packages/threadpoolctl.py\", line 400, in match_module_callback\n",
      "    self._make_module_from_path(filepath)\n",
      "  File \"/home/geo/anaconda3/envs/gvardakas/lib/python3.10/site-packages/threadpoolctl.py\", line 515, in _make_module_from_path\n",
      "    module = module_class(filepath, prefix, user_api, internal_api)\n",
      "  File \"/home/geo/anaconda3/envs/gvardakas/lib/python3.10/site-packages/threadpoolctl.py\", line 606, in __init__\n",
      "    self.version = self.get_version()\n",
      "  File \"/home/geo/anaconda3/envs/gvardakas/lib/python3.10/site-packages/threadpoolctl.py\", line 646, in get_version\n",
      "    config = get_config().split()\n",
      "AttributeError: 'NoneType' object has no attribute 'split'\n"
     ]
    }
   ],
   "source": [
    "# Initialize the clustering layer using k-means\n",
    "if kmeans_initialization : mlp.kmeans_initialization(10)"
   ]
  },
  {
   "cell_type": "markdown",
   "id": "31b76a71",
   "metadata": {},
   "source": [
    "### Colors for visualization"
   ]
  },
  {
   "cell_type": "code",
   "execution_count": 7,
   "id": "1545fc4c",
   "metadata": {},
   "outputs": [],
   "source": [
    "color_list = list(mcolors.CSS4_COLORS.keys()) + list(mcolors.XKCD_COLORS.keys())\n",
    "np.random.shuffle(color_list)\n",
    "color_list = ['deepskyblue', 'gold', 'hotpink', 'limegreen'] + color_list\n",
    "visualization = Visualization(color_list,15,mlp)"
   ]
  },
  {
   "cell_type": "markdown",
   "id": "64e01334",
   "metadata": {},
   "source": [
    "### Training the MLP"
   ]
  },
  {
   "cell_type": "code",
   "execution_count": 9,
   "id": "99c04fdd",
   "metadata": {},
   "outputs": [
    {
     "name": "stdout",
     "output_type": "stream",
     "text": [
      "Epoch: 0 Cl Loss: 15.6520 Entropy: 23.3277 Soft Sil: -0.6520 SIL: 0.5059 ACC: 0.70 PUR: 0.70 NMI: 0.67 ARI: 0.55\n",
      "Epoch: 1 Cl Loss: 15.6605 Entropy: 23.3023 Soft Sil: -0.6605 SIL: 0.4986 ACC: 0.70 PUR: 0.70 NMI: 0.67 ARI: 0.55\n",
      "Epoch: 2 Cl Loss: 15.6550 Entropy: 23.2761 Soft Sil: -0.6550 SIL: 0.4997 ACC: 0.70 PUR: 0.70 NMI: 0.67 ARI: 0.55\n",
      "Epoch: 3 Cl Loss: 15.6562 Entropy: 23.2482 Soft Sil: -0.6562 SIL: 0.4982 ACC: 0.70 PUR: 0.70 NMI: 0.67 ARI: 0.55\n",
      "Epoch: 4 Cl Loss: 15.6504 Entropy: 23.2184 Soft Sil: -0.6504 SIL: 0.4993 ACC: 0.70 PUR: 0.70 NMI: 0.66 ARI: 0.55\n",
      "Epoch: 5 Cl Loss: 15.6460 Entropy: 23.1871 Soft Sil: -0.6460 SIL: 0.5074 ACC: 0.71 PUR: 0.71 NMI: 0.66 ARI: 0.55\n",
      "Epoch: 6 Cl Loss: 15.6450 Entropy: 23.1538 Soft Sil: -0.6450 SIL: 0.5066 ACC: 0.71 PUR: 0.71 NMI: 0.66 ARI: 0.55\n",
      "Epoch: 7 Cl Loss: 15.6388 Entropy: 23.1181 Soft Sil: -0.6388 SIL: 0.5145 ACC: 0.72 PUR: 0.72 NMI: 0.66 ARI: 0.55\n",
      "Epoch: 8 Cl Loss: 15.6350 Entropy: 23.0800 Soft Sil: -0.6350 SIL: 0.5192 ACC: 0.72 PUR: 0.72 NMI: 0.65 ARI: 0.55\n",
      "Epoch: 9 Cl Loss: 15.6171 Entropy: 23.0401 Soft Sil: -0.6171 SIL: 0.5233 ACC: 0.73 PUR: 0.73 NMI: 0.65 ARI: 0.55\n"
     ]
    }
   ],
   "source": [
    "mlp.train()"
   ]
  },
  {
   "cell_type": "markdown",
   "id": "70f020ce",
   "metadata": {},
   "source": [
    "### $k$-means evaluation"
   ]
  },
  {
   "cell_type": "code",
   "execution_count": 14,
   "id": "f5eb9515",
   "metadata": {},
   "outputs": [
    {
     "name": "stderr",
     "output_type": "stream",
     "text": [
      "Exception ignored on calling ctypes callback function: <function _ThreadpoolInfo._find_modules_with_dl_iterate_phdr.<locals>.match_module_callback at 0x7fd9e72bbf40>\n",
      "Traceback (most recent call last):\n",
      "  File \"/home/geo/anaconda3/envs/gvardakas/lib/python3.10/site-packages/threadpoolctl.py\", line 400, in match_module_callback\n",
      "    self._make_module_from_path(filepath)\n",
      "  File \"/home/geo/anaconda3/envs/gvardakas/lib/python3.10/site-packages/threadpoolctl.py\", line 515, in _make_module_from_path\n",
      "    module = module_class(filepath, prefix, user_api, internal_api)\n",
      "  File \"/home/geo/anaconda3/envs/gvardakas/lib/python3.10/site-packages/threadpoolctl.py\", line 606, in __init__\n",
      "    self.version = self.get_version()\n",
      "  File \"/home/geo/anaconda3/envs/gvardakas/lib/python3.10/site-packages/threadpoolctl.py\", line 646, in get_version\n",
      "    config = get_config().split()\n",
      "AttributeError: 'NoneType' object has no attribute 'split'\n",
      "Exception ignored on calling ctypes callback function: <function _ThreadpoolInfo._find_modules_with_dl_iterate_phdr.<locals>.match_module_callback at 0x7fd9e72bbf40>\n",
      "Traceback (most recent call last):\n",
      "  File \"/home/geo/anaconda3/envs/gvardakas/lib/python3.10/site-packages/threadpoolctl.py\", line 400, in match_module_callback\n",
      "    self._make_module_from_path(filepath)\n",
      "  File \"/home/geo/anaconda3/envs/gvardakas/lib/python3.10/site-packages/threadpoolctl.py\", line 515, in _make_module_from_path\n",
      "    module = module_class(filepath, prefix, user_api, internal_api)\n",
      "  File \"/home/geo/anaconda3/envs/gvardakas/lib/python3.10/site-packages/threadpoolctl.py\", line 606, in __init__\n",
      "    self.version = self.get_version()\n",
      "  File \"/home/geo/anaconda3/envs/gvardakas/lib/python3.10/site-packages/threadpoolctl.py\", line 646, in get_version\n",
      "    config = get_config().split()\n",
      "AttributeError: 'NoneType' object has no attribute 'split'\n",
      "Exception ignored on calling ctypes callback function: <function _ThreadpoolInfo._find_modules_with_dl_iterate_phdr.<locals>.match_module_callback at 0x7fd9e72bbf40>\n",
      "Traceback (most recent call last):\n",
      "  File \"/home/geo/anaconda3/envs/gvardakas/lib/python3.10/site-packages/threadpoolctl.py\", line 400, in match_module_callback\n",
      "    self._make_module_from_path(filepath)\n",
      "  File \"/home/geo/anaconda3/envs/gvardakas/lib/python3.10/site-packages/threadpoolctl.py\", line 515, in _make_module_from_path\n",
      "    module = module_class(filepath, prefix, user_api, internal_api)\n",
      "  File \"/home/geo/anaconda3/envs/gvardakas/lib/python3.10/site-packages/threadpoolctl.py\", line 606, in __init__\n",
      "    self.version = self.get_version()\n",
      "  File \"/home/geo/anaconda3/envs/gvardakas/lib/python3.10/site-packages/threadpoolctl.py\", line 646, in get_version\n",
      "    config = get_config().split()\n",
      "AttributeError: 'NoneType' object has no attribute 'split'\n",
      "Exception ignored on calling ctypes callback function: <function _ThreadpoolInfo._find_modules_with_dl_iterate_phdr.<locals>.match_module_callback at 0x7fd8ee726440>\n",
      "Traceback (most recent call last):\n",
      "  File \"/home/geo/anaconda3/envs/gvardakas/lib/python3.10/site-packages/threadpoolctl.py\", line 400, in match_module_callback\n",
      "    self._make_module_from_path(filepath)\n",
      "  File \"/home/geo/anaconda3/envs/gvardakas/lib/python3.10/site-packages/threadpoolctl.py\", line 515, in _make_module_from_path\n",
      "    module = module_class(filepath, prefix, user_api, internal_api)\n",
      "  File \"/home/geo/anaconda3/envs/gvardakas/lib/python3.10/site-packages/threadpoolctl.py\", line 606, in __init__\n",
      "    self.version = self.get_version()\n",
      "  File \"/home/geo/anaconda3/envs/gvardakas/lib/python3.10/site-packages/threadpoolctl.py\", line 646, in get_version\n",
      "    config = get_config().split()\n",
      "AttributeError: 'NoneType' object has no attribute 'split'\n",
      "Exception ignored on calling ctypes callback function: <function _ThreadpoolInfo._find_modules_with_dl_iterate_phdr.<locals>.match_module_callback at 0x7fd8ee726440>\n",
      "Traceback (most recent call last):\n",
      "  File \"/home/geo/anaconda3/envs/gvardakas/lib/python3.10/site-packages/threadpoolctl.py\", line 400, in match_module_callback\n",
      "    self._make_module_from_path(filepath)\n",
      "  File \"/home/geo/anaconda3/envs/gvardakas/lib/python3.10/site-packages/threadpoolctl.py\", line 515, in _make_module_from_path\n",
      "    module = module_class(filepath, prefix, user_api, internal_api)\n",
      "  File \"/home/geo/anaconda3/envs/gvardakas/lib/python3.10/site-packages/threadpoolctl.py\", line 606, in __init__\n",
      "    self.version = self.get_version()\n",
      "  File \"/home/geo/anaconda3/envs/gvardakas/lib/python3.10/site-packages/threadpoolctl.py\", line 646, in get_version\n",
      "    config = get_config().split()\n",
      "AttributeError: 'NoneType' object has no attribute 'split'\n",
      "Exception ignored on calling ctypes callback function: <function _ThreadpoolInfo._find_modules_with_dl_iterate_phdr.<locals>.match_module_callback at 0x7fd8ee726440>\n",
      "Traceback (most recent call last):\n",
      "  File \"/home/geo/anaconda3/envs/gvardakas/lib/python3.10/site-packages/threadpoolctl.py\", line 400, in match_module_callback\n",
      "    self._make_module_from_path(filepath)\n",
      "  File \"/home/geo/anaconda3/envs/gvardakas/lib/python3.10/site-packages/threadpoolctl.py\", line 515, in _make_module_from_path\n",
      "    module = module_class(filepath, prefix, user_api, internal_api)\n",
      "  File \"/home/geo/anaconda3/envs/gvardakas/lib/python3.10/site-packages/threadpoolctl.py\", line 606, in __init__\n",
      "    self.version = self.get_version()\n",
      "  File \"/home/geo/anaconda3/envs/gvardakas/lib/python3.10/site-packages/threadpoolctl.py\", line 646, in get_version\n",
      "    config = get_config().split()\n",
      "AttributeError: 'NoneType' object has no attribute 'split'\n",
      "Exception ignored on calling ctypes callback function: <function _ThreadpoolInfo._find_modules_with_dl_iterate_phdr.<locals>.match_module_callback at 0x7fd9e72bbd00>\n",
      "Traceback (most recent call last):\n",
      "  File \"/home/geo/anaconda3/envs/gvardakas/lib/python3.10/site-packages/threadpoolctl.py\", line 400, in match_module_callback\n",
      "    self._make_module_from_path(filepath)\n",
      "  File \"/home/geo/anaconda3/envs/gvardakas/lib/python3.10/site-packages/threadpoolctl.py\", line 515, in _make_module_from_path\n",
      "    module = module_class(filepath, prefix, user_api, internal_api)\n",
      "  File \"/home/geo/anaconda3/envs/gvardakas/lib/python3.10/site-packages/threadpoolctl.py\", line 606, in __init__\n",
      "    self.version = self.get_version()\n",
      "  File \"/home/geo/anaconda3/envs/gvardakas/lib/python3.10/site-packages/threadpoolctl.py\", line 646, in get_version\n",
      "    config = get_config().split()\n",
      "AttributeError: 'NoneType' object has no attribute 'split'\n",
      "Exception ignored on calling ctypes callback function: <function _ThreadpoolInfo._find_modules_with_dl_iterate_phdr.<locals>.match_module_callback at 0x7fd9e72bbf40>\n",
      "Traceback (most recent call last):\n",
      "  File \"/home/geo/anaconda3/envs/gvardakas/lib/python3.10/site-packages/threadpoolctl.py\", line 400, in match_module_callback\n",
      "    self._make_module_from_path(filepath)\n",
      "  File \"/home/geo/anaconda3/envs/gvardakas/lib/python3.10/site-packages/threadpoolctl.py\", line 515, in _make_module_from_path\n",
      "    module = module_class(filepath, prefix, user_api, internal_api)\n",
      "  File \"/home/geo/anaconda3/envs/gvardakas/lib/python3.10/site-packages/threadpoolctl.py\", line 606, in __init__\n",
      "    self.version = self.get_version()\n",
      "  File \"/home/geo/anaconda3/envs/gvardakas/lib/python3.10/site-packages/threadpoolctl.py\", line 646, in get_version\n",
      "    config = get_config().split()\n",
      "AttributeError: 'NoneType' object has no attribute 'split'\n",
      "Exception ignored on calling ctypes callback function: <function _ThreadpoolInfo._find_modules_with_dl_iterate_phdr.<locals>.match_module_callback at 0x7fd9e72bbf40>\n",
      "Traceback (most recent call last):\n",
      "  File \"/home/geo/anaconda3/envs/gvardakas/lib/python3.10/site-packages/threadpoolctl.py\", line 400, in match_module_callback\n",
      "    self._make_module_from_path(filepath)\n",
      "  File \"/home/geo/anaconda3/envs/gvardakas/lib/python3.10/site-packages/threadpoolctl.py\", line 515, in _make_module_from_path\n",
      "    module = module_class(filepath, prefix, user_api, internal_api)\n",
      "  File \"/home/geo/anaconda3/envs/gvardakas/lib/python3.10/site-packages/threadpoolctl.py\", line 606, in __init__\n",
      "    self.version = self.get_version()\n",
      "  File \"/home/geo/anaconda3/envs/gvardakas/lib/python3.10/site-packages/threadpoolctl.py\", line 646, in get_version\n",
      "    config = get_config().split()\n",
      "AttributeError: 'NoneType' object has no attribute 'split'\n"
     ]
    },
    {
     "name": "stderr",
     "output_type": "stream",
     "text": [
      "Exception ignored on calling ctypes callback function: <function _ThreadpoolInfo._find_modules_with_dl_iterate_phdr.<locals>.match_module_callback at 0x7fd8ee726440>\n",
      "Traceback (most recent call last):\n",
      "  File \"/home/geo/anaconda3/envs/gvardakas/lib/python3.10/site-packages/threadpoolctl.py\", line 400, in match_module_callback\n",
      "    self._make_module_from_path(filepath)\n",
      "  File \"/home/geo/anaconda3/envs/gvardakas/lib/python3.10/site-packages/threadpoolctl.py\", line 515, in _make_module_from_path\n",
      "    module = module_class(filepath, prefix, user_api, internal_api)\n",
      "  File \"/home/geo/anaconda3/envs/gvardakas/lib/python3.10/site-packages/threadpoolctl.py\", line 606, in __init__\n",
      "    self.version = self.get_version()\n",
      "  File \"/home/geo/anaconda3/envs/gvardakas/lib/python3.10/site-packages/threadpoolctl.py\", line 646, in get_version\n",
      "    config = get_config().split()\n",
      "AttributeError: 'NoneType' object has no attribute 'split'\n"
     ]
    },
    {
     "data": {
      "text/plain": [
       "(0.8953333333333333,\n",
       " 0.8953333333333333,\n",
       " 0.7177317900021786,\n",
       " 0.7301051511663789,\n",
       " 0.6630162)"
      ]
     },
     "execution_count": 14,
     "metadata": {},
     "output_type": "execute_result"
    }
   ],
   "source": [
    "data, labels = mlp.get_data()\n",
    "kmeans = KMeans(n_clusters=n_clusters, n_init=10).fit(data)\n",
    "evaluator = Evaluator()\n",
    "evaluator.evaluate_model(data, labels, kmeans.labels_)"
   ]
  },
  {
   "cell_type": "code",
   "execution_count": 15,
   "id": "ad747b3f",
   "metadata": {},
   "outputs": [
    {
     "data": {
      "image/png": "[encoded data removed]",
      "text/plain": [
       "<Figure size 1000x1000 with 1 Axes>"
      ]
     },
     "metadata": {},
     "output_type": "display_data"
    }
   ],
   "source": [
    "#visualization.makeExcel()\n",
    "#visualization.plot_tsne(mlp=True)\n",
    "visualization.plot(mlp=True)"
   ]
  },
  {
   "cell_type": "code",
   "execution_count": null,
   "id": "1b75ba2d",
   "metadata": {},
   "outputs": [],
   "source": []
  },
  {
   "cell_type": "code",
   "execution_count": null,
   "id": "b59a90d9",
   "metadata": {},
   "outputs": [],
   "source": []
  }
 ],
 "metadata": {
  "kernelspec": {
   "display_name": "Python 3 (ipykernel)",
   "language": "python",
   "name": "python3"
  },
  "language_info": {
   "codemirror_mode": {
    "name": "ipython",
    "version": 3
   },
   "file_extension": ".py",
   "mimetype": "text/x-python",
   "name": "python",
   "nbconvert_exporter": "python",
   "pygments_lexer": "ipython3",
   "version": "3.10.9"
  }
 },
 "nbformat": 4,
 "nbformat_minor": 5
}
