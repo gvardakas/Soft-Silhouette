{
 "cells": [
  {
   "cell_type": "code",
   "execution_count": 1,
   "id": "53395d6a",
   "metadata": {},
   "outputs": [],
   "source": [
    "#pip3 install google.colab\n",
    "#from google.colab import drive\n",
    "#drive.mount('/content/drive', force_remount=True)"
   ]
  },
  {
   "cell_type": "markdown",
   "id": "5f8e722b",
   "metadata": {},
   "source": [
    "###  Libraries"
   ]
  },
  {
   "cell_type": "code",
   "execution_count": 2,
   "id": "8256748a",
   "metadata": {},
   "outputs": [
    {
     "name": "stderr",
     "output_type": "stream",
     "text": [
      "/home/geo/anaconda3/envs/gvardakas/lib/python3.10/site-packages/tqdm/auto.py:22: TqdmWarning: IProgress not found. Please update jupyter and ipywidgets. See https://ipywidgets.readthedocs.io/en/stable/user_install.html\n",
      "  from .autonotebook import tqdm as notebook_tqdm\n"
     ]
    }
   ],
   "source": [
    "import numpy as np\n",
    "from sklearn.cluster import KMeans\n",
    "import matplotlib.colors as mcolors\n",
    "\n",
    "import torch\n",
    "\n",
    "import os\n",
    "import sys\n",
    "\n",
    "from MLP import MLP\n",
    "from Datasets_Functions import *\n",
    "from Visualization import Visualization\n",
    "from Evaluations.Evaluation import Evaluator"
   ]
  },
  {
   "cell_type": "markdown",
   "id": "6638a8a3",
   "metadata": {},
   "source": [
    "### Global Variables"
   ]
  },
  {
   "cell_type": "code",
   "execution_count": 3,
   "id": "4a53b4e5",
   "metadata": {},
   "outputs": [],
   "source": [
    "path_to_module = './' # 'C:\\\\Users\\\\PAPASOFT INC\\\\Desktop\\\\SOFT_SIL'\n",
    "sys.path.append(path_to_module)\n",
    "os.environ['OMP_NUM_THREADS'] = '1'\n",
    "\n",
    "device = torch.device('cuda:0' if torch.cuda.is_available() else 'cpu')\n",
    "torch.cuda.set_device(device)"
   ]
  },
  {
   "cell_type": "markdown",
   "id": "3467285d",
   "metadata": {},
   "source": [
    "### Load datasets"
   ]
  },
  {
   "cell_type": "code",
   "execution_count": 4,
   "id": "e5c75b05",
   "metadata": {},
   "outputs": [
    {
     "name": "stdout",
     "output_type": "stream",
     "text": [
      "dict_keys(['10x73k', 'TCGA', 'coil20', 'eMNIST_balanced_letters', 'eMNIST_mnist', 'eMNIST_balanced_digits', 'Dermatology', 'Ecoil', 'Iris', 'Rings', 'Wine', 'Australian', 'Moons', 'Squeezed_Gauss', 'Gauss_Densities', 'Pendigits', 'fashionMNIST', '3DSpheres', '20_NewsGroups', 'COIL20', 'CIFAR10', 'STL10', 'R15', 'R3'])\n",
      "{'batch_size': 100, 'n_clusters': 3, 'module_name': 'datasets.datasets_New', 'function_name': 'load_R3_dataloader', 'option_name': ''}\n",
      "Data_Shape is: 2\n",
      "Batches Number is: 15\n"
     ]
    }
   ],
   "source": [
    "hashMapFilePath = path_to_module \n",
    "#updateHashMap(\"R15\",{'batch_size': 50, 'n_clusters': 15, 'module_name': 'datasets.datasets_New', 'function_name': 'load_R15_dataloader', 'option_name': ''},hashMapFilePath)\n",
    "hashMap = getHashMap(hashMapFilePath)\n",
    "print(hashMap.keys())\n",
    "dataset_name = \"R3\"\n",
    "datasetProperties = hashMap[dataset_name]\n",
    "print(datasetProperties)\n",
    "batch_size = datasetProperties['batch_size'] #= 30\n",
    "n_clusters = datasetProperties['n_clusters'] #= 3\n",
    "datasetProperties['module_name'] = 'Datasets.Datasets'\n",
    "dataloader, input_dim, data_np, labels = functionGetDataset(datasetProperties)\n",
    "print('Data_Shape is:', input_dim)\n",
    "print('Batches Number is:',len(dataloader))"
   ]
  },
  {
   "cell_type": "markdown",
   "id": "7a37d27c",
   "metadata": {},
   "source": [
    "### Parameters"
   ]
  },
  {
   "cell_type": "code",
   "execution_count": 5,
   "id": "46464ecf",
   "metadata": {},
   "outputs": [],
   "source": [
    "# Batch Size and Number of Clusters\n",
    "batch_size = datasetProperties['batch_size']\n",
    "n_clusters = datasetProperties['n_clusters']\n",
    "\n",
    "# Training Epochs and Learning Rate\n",
    "lr = 1e-3\n",
    "n_epochs = 100\n",
    "\n",
    "kmeans_initialization = True"
   ]
  },
  {
   "cell_type": "markdown",
   "id": "586dff4c",
   "metadata": {},
   "source": [
    "### Create MLP model"
   ]
  },
  {
   "cell_type": "code",
   "execution_count": 6,
   "id": "10cc7d58",
   "metadata": {},
   "outputs": [],
   "source": [
    "mlp = MLP(device=device, n_clusters=n_clusters, input_dim=input_dim)\n",
    "mlp.set_training_variables(dataloader=dataloader, batch_size=batch_size, n_epochs=n_epochs, lr=lr)\n",
    "mlp.set_path_variables(path_to_module=path_to_module, dataset_name=dataset_name)\n",
    "mlp.set_path()\n",
    "\n",
    "mlp = mlp.to(device)"
   ]
  },
  {
   "cell_type": "markdown",
   "id": "31b76a71",
   "metadata": {},
   "source": [
    "### Colors for visualization"
   ]
  },
  {
   "cell_type": "code",
   "execution_count": 7,
   "id": "1545fc4c",
   "metadata": {},
   "outputs": [],
   "source": [
    "color_list = list(mcolors.CSS4_COLORS.keys()) + list(mcolors.XKCD_COLORS.keys())\n",
    "np.random.shuffle(color_list)\n",
    "color_list = ['deepskyblue', 'gold', 'hotpink', 'limegreen'] + color_list\n",
    "visualization = Visualization(color_list,15,mlp)"
   ]
  },
  {
   "cell_type": "markdown",
   "id": "64e01334",
   "metadata": {},
   "source": [
    "### Training the MLP"
   ]
  },
  {
   "cell_type": "code",
   "execution_count": 8,
   "id": "99c04fdd",
   "metadata": {},
   "outputs": [
    {
     "name": "stderr",
     "output_type": "stream",
     "text": [
      "Exception ignored on calling ctypes callback function: <function _ThreadpoolInfo._find_modules_with_dl_iterate_phdr.<locals>.match_module_callback at 0x7ff04180e200>\n",
      "Traceback (most recent call last):\n",
      "  File \"/home/geo/anaconda3/envs/gvardakas/lib/python3.10/site-packages/threadpoolctl.py\", line 400, in match_module_callback\n",
      "    self._make_module_from_path(filepath)\n",
      "  File \"/home/geo/anaconda3/envs/gvardakas/lib/python3.10/site-packages/threadpoolctl.py\", line 515, in _make_module_from_path\n",
      "    module = module_class(filepath, prefix, user_api, internal_api)\n",
      "  File \"/home/geo/anaconda3/envs/gvardakas/lib/python3.10/site-packages/threadpoolctl.py\", line 606, in __init__\n",
      "    self.version = self.get_version()\n",
      "  File \"/home/geo/anaconda3/envs/gvardakas/lib/python3.10/site-packages/threadpoolctl.py\", line 646, in get_version\n",
      "    config = get_config().split()\n",
      "AttributeError: 'NoneType' object has no attribute 'split'\n",
      "Exception ignored on calling ctypes callback function: <function _ThreadpoolInfo._find_modules_with_dl_iterate_phdr.<locals>.match_module_callback at 0x7ff04180e200>\n",
      "Traceback (most recent call last):\n",
      "  File \"/home/geo/anaconda3/envs/gvardakas/lib/python3.10/site-packages/threadpoolctl.py\", line 400, in match_module_callback\n",
      "    self._make_module_from_path(filepath)\n",
      "  File \"/home/geo/anaconda3/envs/gvardakas/lib/python3.10/site-packages/threadpoolctl.py\", line 515, in _make_module_from_path\n",
      "    module = module_class(filepath, prefix, user_api, internal_api)\n",
      "  File \"/home/geo/anaconda3/envs/gvardakas/lib/python3.10/site-packages/threadpoolctl.py\", line 606, in __init__\n",
      "    self.version = self.get_version()\n",
      "  File \"/home/geo/anaconda3/envs/gvardakas/lib/python3.10/site-packages/threadpoolctl.py\", line 646, in get_version\n",
      "    config = get_config().split()\n",
      "AttributeError: 'NoneType' object has no attribute 'split'\n",
      "Exception ignored on calling ctypes callback function: <function _ThreadpoolInfo._find_modules_with_dl_iterate_phdr.<locals>.match_module_callback at 0x7ff04180eb90>\n",
      "Traceback (most recent call last):\n",
      "  File \"/home/geo/anaconda3/envs/gvardakas/lib/python3.10/site-packages/threadpoolctl.py\", line 400, in match_module_callback\n",
      "    self._make_module_from_path(filepath)\n",
      "  File \"/home/geo/anaconda3/envs/gvardakas/lib/python3.10/site-packages/threadpoolctl.py\", line 515, in _make_module_from_path\n",
      "    module = module_class(filepath, prefix, user_api, internal_api)\n",
      "  File \"/home/geo/anaconda3/envs/gvardakas/lib/python3.10/site-packages/threadpoolctl.py\", line 606, in __init__\n",
      "    self.version = self.get_version()\n",
      "  File \"/home/geo/anaconda3/envs/gvardakas/lib/python3.10/site-packages/threadpoolctl.py\", line 646, in get_version\n",
      "    config = get_config().split()\n",
      "AttributeError: 'NoneType' object has no attribute 'split'\n",
      "Exception ignored on calling ctypes callback function: <function _ThreadpoolInfo._find_modules_with_dl_iterate_phdr.<locals>.match_module_callback at 0x7ff04180fc70>\n",
      "Traceback (most recent call last):\n",
      "  File \"/home/geo/anaconda3/envs/gvardakas/lib/python3.10/site-packages/threadpoolctl.py\", line 400, in match_module_callback\n",
      "    self._make_module_from_path(filepath)\n",
      "  File \"/home/geo/anaconda3/envs/gvardakas/lib/python3.10/site-packages/threadpoolctl.py\", line 515, in _make_module_from_path\n",
      "    module = module_class(filepath, prefix, user_api, internal_api)\n",
      "  File \"/home/geo/anaconda3/envs/gvardakas/lib/python3.10/site-packages/threadpoolctl.py\", line 606, in __init__\n",
      "    self.version = self.get_version()\n",
      "  File \"/home/geo/anaconda3/envs/gvardakas/lib/python3.10/site-packages/threadpoolctl.py\", line 646, in get_version\n",
      "    config = get_config().split()\n",
      "AttributeError: 'NoneType' object has no attribute 'split'\n",
      "Exception ignored on calling ctypes callback function: <function _ThreadpoolInfo._find_modules_with_dl_iterate_phdr.<locals>.match_module_callback at 0x7ff04180fc70>\n",
      "Traceback (most recent call last):\n",
      "  File \"/home/geo/anaconda3/envs/gvardakas/lib/python3.10/site-packages/threadpoolctl.py\", line 400, in match_module_callback\n",
      "    self._make_module_from_path(filepath)\n",
      "  File \"/home/geo/anaconda3/envs/gvardakas/lib/python3.10/site-packages/threadpoolctl.py\", line 515, in _make_module_from_path\n",
      "    module = module_class(filepath, prefix, user_api, internal_api)\n",
      "  File \"/home/geo/anaconda3/envs/gvardakas/lib/python3.10/site-packages/threadpoolctl.py\", line 606, in __init__\n",
      "    self.version = self.get_version()\n",
      "  File \"/home/geo/anaconda3/envs/gvardakas/lib/python3.10/site-packages/threadpoolctl.py\", line 646, in get_version\n",
      "    config = get_config().split()\n",
      "AttributeError: 'NoneType' object has no attribute 'split'\n",
      "Exception ignored on calling ctypes callback function: <function _ThreadpoolInfo._find_modules_with_dl_iterate_phdr.<locals>.match_module_callback at 0x7ff04180fc70>\n",
      "Traceback (most recent call last):\n",
      "  File \"/home/geo/anaconda3/envs/gvardakas/lib/python3.10/site-packages/threadpoolctl.py\", line 400, in match_module_callback\n",
      "    self._make_module_from_path(filepath)\n",
      "  File \"/home/geo/anaconda3/envs/gvardakas/lib/python3.10/site-packages/threadpoolctl.py\", line 515, in _make_module_from_path\n",
      "    module = module_class(filepath, prefix, user_api, internal_api)\n",
      "  File \"/home/geo/anaconda3/envs/gvardakas/lib/python3.10/site-packages/threadpoolctl.py\", line 606, in __init__\n",
      "    self.version = self.get_version()\n",
      "  File \"/home/geo/anaconda3/envs/gvardakas/lib/python3.10/site-packages/threadpoolctl.py\", line 646, in get_version\n",
      "    config = get_config().split()\n",
      "AttributeError: 'NoneType' object has no attribute 'split'\n",
      "Exception ignored on calling ctypes callback function: <function _ThreadpoolInfo._find_modules_with_dl_iterate_phdr.<locals>.match_module_callback at 0x7ff04180fd90>\n",
      "Traceback (most recent call last):\n",
      "  File \"/home/geo/anaconda3/envs/gvardakas/lib/python3.10/site-packages/threadpoolctl.py\", line 400, in match_module_callback\n",
      "    self._make_module_from_path(filepath)\n",
      "  File \"/home/geo/anaconda3/envs/gvardakas/lib/python3.10/site-packages/threadpoolctl.py\", line 515, in _make_module_from_path\n",
      "    module = module_class(filepath, prefix, user_api, internal_api)\n",
      "  File \"/home/geo/anaconda3/envs/gvardakas/lib/python3.10/site-packages/threadpoolctl.py\", line 606, in __init__\n",
      "    self.version = self.get_version()\n",
      "  File \"/home/geo/anaconda3/envs/gvardakas/lib/python3.10/site-packages/threadpoolctl.py\", line 646, in get_version\n",
      "    config = get_config().split()\n",
      "AttributeError: 'NoneType' object has no attribute 'split'\n",
      "Exception ignored on calling ctypes callback function: <function _ThreadpoolInfo._find_modules_with_dl_iterate_phdr.<locals>.match_module_callback at 0x7ff04180fd90>\n",
      "Traceback (most recent call last):\n",
      "  File \"/home/geo/anaconda3/envs/gvardakas/lib/python3.10/site-packages/threadpoolctl.py\", line 400, in match_module_callback\n",
      "    self._make_module_from_path(filepath)\n",
      "  File \"/home/geo/anaconda3/envs/gvardakas/lib/python3.10/site-packages/threadpoolctl.py\", line 515, in _make_module_from_path\n",
      "    module = module_class(filepath, prefix, user_api, internal_api)\n",
      "  File \"/home/geo/anaconda3/envs/gvardakas/lib/python3.10/site-packages/threadpoolctl.py\", line 606, in __init__\n",
      "    self.version = self.get_version()\n",
      "  File \"/home/geo/anaconda3/envs/gvardakas/lib/python3.10/site-packages/threadpoolctl.py\", line 646, in get_version\n",
      "    config = get_config().split()\n",
      "AttributeError: 'NoneType' object has no attribute 'split'\n",
      "Exception ignored on calling ctypes callback function: <function _ThreadpoolInfo._find_modules_with_dl_iterate_phdr.<locals>.match_module_callback at 0x7ff04180fc70>\n",
      "Traceback (most recent call last):\n",
      "  File \"/home/geo/anaconda3/envs/gvardakas/lib/python3.10/site-packages/threadpoolctl.py\", line 400, in match_module_callback\n",
      "    self._make_module_from_path(filepath)\n",
      "  File \"/home/geo/anaconda3/envs/gvardakas/lib/python3.10/site-packages/threadpoolctl.py\", line 515, in _make_module_from_path\n",
      "    module = module_class(filepath, prefix, user_api, internal_api)\n",
      "  File \"/home/geo/anaconda3/envs/gvardakas/lib/python3.10/site-packages/threadpoolctl.py\", line 606, in __init__\n",
      "    self.version = self.get_version()\n",
      "  File \"/home/geo/anaconda3/envs/gvardakas/lib/python3.10/site-packages/threadpoolctl.py\", line 646, in get_version\n",
      "    config = get_config().split()\n",
      "AttributeError: 'NoneType' object has no attribute 'split'\n"
     ]
    },
    {
     "name": "stderr",
     "output_type": "stream",
     "text": [
      "Exception ignored on calling ctypes callback function: <function _ThreadpoolInfo._find_modules_with_dl_iterate_phdr.<locals>.match_module_callback at 0x7ff04180fc70>\n",
      "Traceback (most recent call last):\n",
      "  File \"/home/geo/anaconda3/envs/gvardakas/lib/python3.10/site-packages/threadpoolctl.py\", line 400, in match_module_callback\n",
      "    self._make_module_from_path(filepath)\n",
      "  File \"/home/geo/anaconda3/envs/gvardakas/lib/python3.10/site-packages/threadpoolctl.py\", line 515, in _make_module_from_path\n",
      "    module = module_class(filepath, prefix, user_api, internal_api)\n",
      "  File \"/home/geo/anaconda3/envs/gvardakas/lib/python3.10/site-packages/threadpoolctl.py\", line 606, in __init__\n",
      "    self.version = self.get_version()\n",
      "  File \"/home/geo/anaconda3/envs/gvardakas/lib/python3.10/site-packages/threadpoolctl.py\", line 646, in get_version\n",
      "    config = get_config().split()\n",
      "AttributeError: 'NoneType' object has no attribute 'split'\n"
     ]
    },
    {
     "name": "stdout",
     "output_type": "stream",
     "text": [
      "Epoch: 0 CL_LOSS: 15.6420 SOFT_SIL: -0.6420 SIL: 0.6577 ACC: 0.88 PUR: 0.88 NMI: 0.72 ARI: 0.71\n",
      "Epoch: 1 CL_LOSS: 15.6114 SOFT_SIL: -0.6114 SIL: 0.5929 ACC: 0.81 PUR: 0.81 NMI: 0.67 ARI: 0.60\n",
      "Epoch: 2 CL_LOSS: 15.5937 SOFT_SIL: -0.5937 SIL: 0.5320 ACC: 0.74 PUR: 0.74 NMI: 0.66 ARI: 0.55\n",
      "Epoch: 3 CL_LOSS: 15.5826 SOFT_SIL: -0.5826 SIL: 0.5153 ACC: 0.72 PUR: 0.72 NMI: 0.66 ARI: 0.55\n",
      "Epoch: 4 CL_LOSS: 15.5670 SOFT_SIL: -0.5670 SIL: 0.5174 ACC: 0.73 PUR: 0.73 NMI: 0.66 ARI: 0.55\n",
      "Epoch: 5 CL_LOSS: 15.5548 SOFT_SIL: -0.5548 SIL: 0.5168 ACC: 0.72 PUR: 0.72 NMI: 0.66 ARI: 0.55\n",
      "Epoch: 6 CL_LOSS: 15.5386 SOFT_SIL: -0.5386 SIL: 0.5124 ACC: 0.72 PUR: 0.72 NMI: 0.66 ARI: 0.55\n",
      "Epoch: 7 CL_LOSS: 15.5194 SOFT_SIL: -0.5194 SIL: 0.5097 ACC: 0.72 PUR: 0.72 NMI: 0.66 ARI: 0.55\n",
      "Epoch: 8 CL_LOSS: 15.4997 SOFT_SIL: -0.4997 SIL: 0.4997 ACC: 0.71 PUR: 0.71 NMI: 0.66 ARI: 0.55\n",
      "Epoch: 9 CL_LOSS: 15.4763 SOFT_SIL: -0.4763 SIL: 0.4914 ACC: 0.70 PUR: 0.70 NMI: 0.66 ARI: 0.55\n",
      "Epoch: 10 CL_LOSS: 15.4545 SOFT_SIL: -0.4545 SIL: 0.4888 ACC: 0.70 PUR: 0.70 NMI: 0.66 ARI: 0.55\n",
      "Epoch: 11 CL_LOSS: 15.4236 SOFT_SIL: -0.4236 SIL: 0.4853 ACC: 0.70 PUR: 0.70 NMI: 0.66 ARI: 0.55\n",
      "Epoch: 12 CL_LOSS: 15.3971 SOFT_SIL: -0.3971 SIL: 0.4796 ACC: 0.69 PUR: 0.69 NMI: 0.66 ARI: 0.55\n",
      "Epoch: 13 CL_LOSS: 15.3653 SOFT_SIL: -0.3653 SIL: 0.4760 ACC: 0.69 PUR: 0.69 NMI: 0.66 ARI: 0.55\n",
      "Epoch: 14 CL_LOSS: 15.3318 SOFT_SIL: -0.3318 SIL: 0.4697 ACC: 0.69 PUR: 0.69 NMI: 0.65 ARI: 0.54\n",
      "Epoch: 15 CL_LOSS: 15.2924 SOFT_SIL: -0.2924 SIL: 0.4527 ACC: 0.68 PUR: 0.68 NMI: 0.65 ARI: 0.54\n",
      "Epoch: 16 CL_LOSS: 15.2548 SOFT_SIL: -0.2548 SIL: 0.2878 ACC: 0.67 PUR: 0.67 NMI: 0.53 ARI: 0.48\n",
      "Epoch: 17 CL_LOSS: 15.2227 SOFT_SIL: -0.2227 SIL: 0.3205 ACC: 0.68 PUR: 0.68 NMI: 0.55 ARI: 0.49\n",
      "Epoch: 18 CL_LOSS: 15.1892 SOFT_SIL: -0.1892 SIL: 0.2891 ACC: 0.67 PUR: 0.67 NMI: 0.53 ARI: 0.48\n",
      "Epoch: 19 CL_LOSS: 15.1567 SOFT_SIL: -0.1567 SIL: 0.2915 ACC: 0.66 PUR: 0.66 NMI: 0.54 ARI: 0.48\n",
      "Epoch: 20 CL_LOSS: 15.1229 SOFT_SIL: -0.1229 SIL: 0.2902 ACC: 0.68 PUR: 0.68 NMI: 0.54 ARI: 0.48\n",
      "Epoch: 21 CL_LOSS: 15.0877 SOFT_SIL: -0.0877 SIL: 0.2888 ACC: 0.67 PUR: 0.67 NMI: 0.54 ARI: 0.48\n",
      "Epoch: 22 CL_LOSS: 15.0521 SOFT_SIL: -0.0521 SIL: 0.2894 ACC: 0.66 PUR: 0.66 NMI: 0.54 ARI: 0.48\n",
      "Epoch: 23 CL_LOSS: 15.0155 SOFT_SIL: -0.0155 SIL: 0.1076 ACC: 0.61 PUR: 0.61 NMI: 0.23 ARI: 0.26\n",
      "Epoch: 24 CL_LOSS: 15.0052 SOFT_SIL: -0.0052 SIL: 0.3019 ACC: 0.52 PUR: 0.60 NMI: 0.32 ARI: 0.30\n",
      "Epoch: 25 CL_LOSS: 15.0038 SOFT_SIL: -0.0038 SIL: -0.0389 ACC: 0.47 PUR: 0.47 NMI: 0.05 ARI: 0.06\n",
      "Epoch: 26 CL_LOSS: 15.0035 SOFT_SIL: -0.0035 SIL: -0.0377 ACC: 0.39 PUR: 0.41 NMI: 0.02 ARI: 0.02\n",
      "Epoch: 27 CL_LOSS: 15.0027 SOFT_SIL: -0.0027 SIL: -0.0325 ACC: 0.39 PUR: 0.42 NMI: 0.02 ARI: 0.03\n",
      "Epoch: 28 CL_LOSS: 15.0029 SOFT_SIL: -0.0029 SIL: -0.0694 ACC: 0.41 PUR: 0.42 NMI: 0.03 ARI: 0.03\n",
      "Epoch: 29 CL_LOSS: 15.0017 SOFT_SIL: -0.0017 SIL: -0.0297 ACC: 0.42 PUR: 0.45 NMI: 0.05 ARI: 0.05\n",
      "Epoch: 30 CL_LOSS: 15.0027 SOFT_SIL: -0.0027 SIL: -0.0619 ACC: 0.41 PUR: 0.41 NMI: 0.02 ARI: 0.02\n",
      "Epoch: 31 CL_LOSS: 15.0024 SOFT_SIL: -0.0024 SIL: -0.0487 ACC: 0.39 PUR: 0.39 NMI: 0.01 ARI: 0.01\n",
      "Epoch: 32 CL_LOSS: 15.0021 SOFT_SIL: -0.0021 SIL: -0.0422 ACC: 0.40 PUR: 0.40 NMI: 0.01 ARI: 0.02\n",
      "Epoch: 33 CL_LOSS: 15.0015 SOFT_SIL: -0.0014 SIL: -0.0175 ACC: 0.36 PUR: 0.37 NMI: 0.00 ARI: 0.00\n",
      "Epoch: 34 CL_LOSS: 15.0024 SOFT_SIL: -0.0024 SIL: -0.0590 ACC: 0.40 PUR: 0.40 NMI: 0.02 ARI: 0.01\n",
      "Epoch: 35 CL_LOSS: 15.0015 SOFT_SIL: -0.0015 SIL: -0.0278 ACC: 0.37 PUR: 0.37 NMI: 0.00 ARI: 0.00\n",
      "Epoch: 36 CL_LOSS: 15.0015 SOFT_SIL: -0.0015 SIL: -0.0355 ACC: 0.38 PUR: 0.38 NMI: 0.00 ARI: 0.00\n",
      "Epoch: 37 CL_LOSS: 15.0014 SOFT_SIL: -0.0014 SIL: -0.0519 ACC: 0.42 PUR: 0.42 NMI: 0.03 ARI: 0.03\n",
      "Epoch: 38 CL_LOSS: 15.0014 SOFT_SIL: -0.0014 SIL: -0.0149 ACC: 0.35 PUR: 0.35 NMI: 0.00 ARI: -0.00\n",
      "Epoch: 39 CL_LOSS: 15.0016 SOFT_SIL: -0.0016 SIL: -0.0636 ACC: 0.38 PUR: 0.38 NMI: 0.01 ARI: 0.01\n",
      "Epoch: 40 CL_LOSS: 15.0020 SOFT_SIL: -0.0020 SIL: -0.0399 ACC: 0.35 PUR: 0.35 NMI: 0.00 ARI: 0.00\n",
      "Epoch: 41 CL_LOSS: 15.0021 SOFT_SIL: -0.0021 SIL: -0.0396 ACC: 0.35 PUR: 0.36 NMI: 0.00 ARI: 0.00\n",
      "Epoch: 42 CL_LOSS: 15.0010 SOFT_SIL: -0.0010 SIL: -0.0283 ACC: 0.38 PUR: 0.40 NMI: 0.01 ARI: 0.01\n",
      "Epoch: 43 CL_LOSS: 15.0012 SOFT_SIL: -0.0012 SIL: -0.0355 ACC: 0.36 PUR: 0.36 NMI: 0.00 ARI: 0.00\n",
      "Epoch: 44 CL_LOSS: 15.0012 SOFT_SIL: -0.0012 SIL: -0.0455 ACC: 0.37 PUR: 0.37 NMI: 0.01 ARI: 0.01\n",
      "Epoch: 45 CL_LOSS: 15.0024 SOFT_SIL: -0.0024 SIL: -0.0264 ACC: 0.36 PUR: 0.36 NMI: 0.00 ARI: 0.00\n",
      "Epoch: 46 CL_LOSS: 15.0019 SOFT_SIL: -0.0019 SIL: -0.0878 ACC: 0.39 PUR: 0.40 NMI: 0.03 ARI: 0.02\n",
      "Epoch: 47 CL_LOSS: 15.0020 SOFT_SIL: -0.0020 SIL: -0.0658 ACC: 0.38 PUR: 0.38 NMI: 0.01 ARI: 0.01\n",
      "Epoch: 48 CL_LOSS: 15.0020 SOFT_SIL: -0.0020 SIL: -0.0490 ACC: 0.37 PUR: 0.37 NMI: 0.00 ARI: 0.00\n",
      "Epoch: 49 CL_LOSS: 15.0010 SOFT_SIL: -0.0010 SIL: -0.0454 ACC: 0.41 PUR: 0.41 NMI: 0.02 ARI: 0.02\n",
      "Epoch: 50 CL_LOSS: 15.0011 SOFT_SIL: -0.0011 SIL: -0.0604 ACC: 0.36 PUR: 0.36 NMI: 0.00 ARI: 0.00\n",
      "Epoch: 51 CL_LOSS: 15.0015 SOFT_SIL: -0.0015 SIL: -0.0763 ACC: 0.41 PUR: 0.41 NMI: 0.03 ARI: 0.02\n",
      "Epoch: 52 CL_LOSS: 15.0016 SOFT_SIL: -0.0016 SIL: -0.0204 ACC: 0.34 PUR: 0.35 NMI: 0.00 ARI: -0.00\n",
      "Epoch: 53 CL_LOSS: 15.0013 SOFT_SIL: -0.0013 SIL: -0.0492 ACC: 0.40 PUR: 0.41 NMI: 0.02 ARI: 0.02\n",
      "Epoch: 54 CL_LOSS: 15.0011 SOFT_SIL: -0.0011 SIL: -0.0180 ACC: 0.45 PUR: 0.48 NMI: 0.06 ARI: 0.07\n",
      "Epoch: 55 CL_LOSS: 15.0009 SOFT_SIL: -0.0009 SIL: -0.0306 ACC: 0.36 PUR: 0.36 NMI: 0.00 ARI: 0.00\n",
      "Epoch: 56 CL_LOSS: 15.0017 SOFT_SIL: -0.0017 SIL: -0.0642 ACC: 0.37 PUR: 0.38 NMI: 0.01 ARI: 0.01\n",
      "Epoch: 57 CL_LOSS: 15.0019 SOFT_SIL: -0.0019 SIL: -0.1121 ACC: 0.40 PUR: 0.40 NMI: 0.03 ARI: 0.02\n",
      "Epoch: 58 CL_LOSS: 15.0009 SOFT_SIL: -0.0009 SIL: -0.0708 ACC: 0.42 PUR: 0.42 NMI: 0.03 ARI: 0.03\n",
      "Epoch: 59 CL_LOSS: 15.0008 SOFT_SIL: -0.0008 SIL: -0.0392 ACC: 0.38 PUR: 0.38 NMI: 0.01 ARI: 0.01\n",
      "Epoch: 60 CL_LOSS: 15.0012 SOFT_SIL: -0.0012 SIL: -0.0443 ACC: 0.39 PUR: 0.39 NMI: 0.01 ARI: 0.01\n",
      "Epoch: 61 CL_LOSS: 15.0012 SOFT_SIL: -0.0012 SIL: -0.0385 ACC: 0.37 PUR: 0.37 NMI: 0.01 ARI: 0.00\n",
      "Epoch: 62 CL_LOSS: 15.0013 SOFT_SIL: -0.0013 SIL: -0.0286 ACC: 0.35 PUR: 0.35 NMI: 0.00 ARI: 0.00\n",
      "Epoch: 63 CL_LOSS: 15.0018 SOFT_SIL: -0.0018 SIL: -0.0183 ACC: 0.37 PUR: 0.37 NMI: 0.00 ARI: 0.00\n",
      "Epoch: 64 CL_LOSS: 15.0010 SOFT_SIL: -0.0010 SIL: -0.0317 ACC: 0.36 PUR: 0.37 NMI: 0.01 ARI: 0.00\n",
      "Epoch: 65 CL_LOSS: 15.0012 SOFT_SIL: -0.0012 SIL: -0.0481 ACC: 0.41 PUR: 0.43 NMI: 0.04 ARI: 0.04\n",
      "Epoch: 66 CL_LOSS: 15.0013 SOFT_SIL: -0.0013 SIL: -0.0381 ACC: 0.39 PUR: 0.39 NMI: 0.01 ARI: 0.01\n",
      "Epoch: 67 CL_LOSS: 15.0010 SOFT_SIL: -0.0010 SIL: -0.0504 ACC: 0.40 PUR: 0.40 NMI: 0.01 ARI: 0.01\n",
      "Epoch: 68 CL_LOSS: 15.0010 SOFT_SIL: -0.0010 SIL: -0.0660 ACC: 0.41 PUR: 0.41 NMI: 0.02 ARI: 0.02\n",
      "Epoch: 69 CL_LOSS: 15.0016 SOFT_SIL: -0.0016 SIL: -0.0500 ACC: 0.37 PUR: 0.37 NMI: 0.01 ARI: 0.00\n",
      "Epoch: 70 CL_LOSS: 15.0014 SOFT_SIL: -0.0014 SIL: -0.0623 ACC: 0.37 PUR: 0.38 NMI: 0.01 ARI: 0.01\n",
      "Epoch: 71 CL_LOSS: 15.0020 SOFT_SIL: -0.0020 SIL: -0.0572 ACC: 0.38 PUR: 0.38 NMI: 0.01 ARI: 0.01\n",
      "Epoch: 72 CL_LOSS: 15.0026 SOFT_SIL: -0.0026 SIL: -0.0373 ACC: 0.35 PUR: 0.35 NMI: 0.00 ARI: -0.00\n",
      "Epoch: 73 CL_LOSS: 15.0018 SOFT_SIL: -0.0018 SIL: -0.0678 ACC: 0.39 PUR: 0.39 NMI: 0.02 ARI: 0.01\n",
      "Epoch: 74 CL_LOSS: 15.0018 SOFT_SIL: -0.0018 SIL: -0.0794 ACC: 0.38 PUR: 0.39 NMI: 0.02 ARI: 0.01\n",
      "Epoch: 75 CL_LOSS: 15.0010 SOFT_SIL: -0.0010 SIL: -0.0212 ACC: 0.35 PUR: 0.35 NMI: 0.00 ARI: -0.00\n",
      "Epoch: 76 CL_LOSS: 15.0018 SOFT_SIL: -0.0018 SIL: -0.0385 ACC: 0.36 PUR: 0.36 NMI: 0.00 ARI: 0.00\n",
      "Epoch: 77 CL_LOSS: 15.0015 SOFT_SIL: -0.0015 SIL: -0.0215 ACC: 0.36 PUR: 0.36 NMI: 0.00 ARI: 0.00\n",
      "Epoch: 78 CL_LOSS: 15.0008 SOFT_SIL: -0.0008 SIL: -0.0436 ACC: 0.38 PUR: 0.38 NMI: 0.01 ARI: 0.01\n",
      "Epoch: 79 CL_LOSS: 15.0014 SOFT_SIL: -0.0014 SIL: -0.0276 ACC: 0.35 PUR: 0.35 NMI: 0.00 ARI: 0.00\n",
      "Epoch: 80 CL_LOSS: 15.0015 SOFT_SIL: -0.0015 SIL: -0.0285 ACC: 0.38 PUR: 0.39 NMI: 0.01 ARI: 0.01\n",
      "Epoch: 81 CL_LOSS: 15.0015 SOFT_SIL: -0.0015 SIL: -0.0319 ACC: 0.37 PUR: 0.39 NMI: 0.01 ARI: 0.01\n",
      "Epoch: 82 CL_LOSS: 15.0011 SOFT_SIL: -0.0011 SIL: -0.0606 ACC: 0.42 PUR: 0.47 NMI: 0.09 ARI: 0.07\n",
      "Epoch: 83 CL_LOSS: 15.0008 SOFT_SIL: -0.0008 SIL: -0.0441 ACC: 0.38 PUR: 0.40 NMI: 0.02 ARI: 0.02\n"
     ]
    },
    {
     "name": "stdout",
     "output_type": "stream",
     "text": [
      "Epoch: 84 CL_LOSS: 15.0016 SOFT_SIL: -0.0016 SIL: -0.0525 ACC: 0.36 PUR: 0.37 NMI: 0.01 ARI: 0.00\n",
      "Epoch: 85 CL_LOSS: 15.0016 SOFT_SIL: -0.0016 SIL: -0.0753 ACC: 0.37 PUR: 0.38 NMI: 0.01 ARI: 0.01\n",
      "Epoch: 86 CL_LOSS: 15.0014 SOFT_SIL: -0.0014 SIL: -0.0726 ACC: 0.37 PUR: 0.37 NMI: 0.01 ARI: 0.01\n",
      "Epoch: 87 CL_LOSS: 15.0020 SOFT_SIL: -0.0020 SIL: -0.0128 ACC: 0.34 PUR: 0.34 NMI: 0.00 ARI: -0.00\n",
      "Epoch: 88 CL_LOSS: 15.0020 SOFT_SIL: -0.0020 SIL: -0.0398 ACC: 0.40 PUR: 0.40 NMI: 0.02 ARI: 0.02\n",
      "Epoch: 89 CL_LOSS: 15.0016 SOFT_SIL: -0.0016 SIL: -0.0375 ACC: 0.36 PUR: 0.36 NMI: 0.00 ARI: 0.00\n",
      "Epoch: 90 CL_LOSS: 15.0017 SOFT_SIL: -0.0017 SIL: -0.0276 ACC: 0.36 PUR: 0.36 NMI: 0.00 ARI: 0.00\n",
      "Epoch: 91 CL_LOSS: 15.0024 SOFT_SIL: -0.0024 SIL: -0.0106 ACC: 0.34 PUR: 0.34 NMI: 0.00 ARI: -0.00\n",
      "Epoch: 92 CL_LOSS: 15.0020 SOFT_SIL: -0.0020 SIL: -0.0357 ACC: 0.38 PUR: 0.38 NMI: 0.01 ARI: 0.01\n",
      "Epoch: 93 CL_LOSS: 15.0017 SOFT_SIL: -0.0017 SIL: -0.0279 ACC: 0.36 PUR: 0.36 NMI: 0.00 ARI: 0.00\n",
      "Epoch: 94 CL_LOSS: 15.0009 SOFT_SIL: -0.0009 SIL: -0.0518 ACC: 0.37 PUR: 0.37 NMI: 0.01 ARI: 0.00\n",
      "Epoch: 95 CL_LOSS: 15.0015 SOFT_SIL: -0.0015 SIL: -0.0483 ACC: 0.38 PUR: 0.38 NMI: 0.02 ARI: 0.01\n",
      "Epoch: 96 CL_LOSS: 15.0018 SOFT_SIL: -0.0018 SIL: -0.0433 ACC: 0.37 PUR: 0.37 NMI: 0.00 ARI: 0.00\n",
      "Epoch: 97 CL_LOSS: 15.0015 SOFT_SIL: -0.0015 SIL: -0.0353 ACC: 0.42 PUR: 0.44 NMI: 0.04 ARI: 0.04\n",
      "Epoch: 98 CL_LOSS: 15.0016 SOFT_SIL: -0.0016 SIL: -0.0298 ACC: 0.38 PUR: 0.39 NMI: 0.01 ARI: 0.01\n",
      "Epoch: 99 CL_LOSS: 15.0011 SOFT_SIL: -0.0011 SIL: -0.0445 ACC: 0.36 PUR: 0.37 NMI: 0.00 ARI: 0.00\n"
     ]
    }
   ],
   "source": [
    "# Initialize the clustering layer using k-means\n",
    "if(kmeans_initialization): \n",
    "    mlp.kmeans_initialization(10)\n",
    "\n",
    "mlp.train()"
   ]
  },
  {
   "cell_type": "markdown",
   "id": "70f020ce",
   "metadata": {},
   "source": [
    "### $k$-means evaluation"
   ]
  },
  {
   "cell_type": "code",
   "execution_count": 9,
   "id": "f5eb9515",
   "metadata": {},
   "outputs": [
    {
     "name": "stderr",
     "output_type": "stream",
     "text": [
      "Exception ignored on calling ctypes callback function: <function _ThreadpoolInfo._find_modules_with_dl_iterate_phdr.<locals>.match_module_callback at 0x7ff0418d8040>\n",
      "Traceback (most recent call last):\n",
      "  File \"/home/geo/anaconda3/envs/gvardakas/lib/python3.10/site-packages/threadpoolctl.py\", line 400, in match_module_callback\n",
      "    self._make_module_from_path(filepath)\n",
      "  File \"/home/geo/anaconda3/envs/gvardakas/lib/python3.10/site-packages/threadpoolctl.py\", line 515, in _make_module_from_path\n",
      "    module = module_class(filepath, prefix, user_api, internal_api)\n",
      "  File \"/home/geo/anaconda3/envs/gvardakas/lib/python3.10/site-packages/threadpoolctl.py\", line 606, in __init__\n",
      "    self.version = self.get_version()\n",
      "  File \"/home/geo/anaconda3/envs/gvardakas/lib/python3.10/site-packages/threadpoolctl.py\", line 646, in get_version\n",
      "    config = get_config().split()\n",
      "AttributeError: 'NoneType' object has no attribute 'split'\n",
      "Exception ignored on calling ctypes callback function: <function _ThreadpoolInfo._find_modules_with_dl_iterate_phdr.<locals>.match_module_callback at 0x7ff04180e4d0>\n",
      "Traceback (most recent call last):\n",
      "  File \"/home/geo/anaconda3/envs/gvardakas/lib/python3.10/site-packages/threadpoolctl.py\", line 400, in match_module_callback\n",
      "    self._make_module_from_path(filepath)\n",
      "  File \"/home/geo/anaconda3/envs/gvardakas/lib/python3.10/site-packages/threadpoolctl.py\", line 515, in _make_module_from_path\n",
      "    module = module_class(filepath, prefix, user_api, internal_api)\n",
      "  File \"/home/geo/anaconda3/envs/gvardakas/lib/python3.10/site-packages/threadpoolctl.py\", line 606, in __init__\n",
      "    self.version = self.get_version()\n",
      "  File \"/home/geo/anaconda3/envs/gvardakas/lib/python3.10/site-packages/threadpoolctl.py\", line 646, in get_version\n",
      "    config = get_config().split()\n",
      "AttributeError: 'NoneType' object has no attribute 'split'\n",
      "Exception ignored on calling ctypes callback function: <function _ThreadpoolInfo._find_modules_with_dl_iterate_phdr.<locals>.match_module_callback at 0x7ff04180e4d0>\n",
      "Traceback (most recent call last):\n",
      "  File \"/home/geo/anaconda3/envs/gvardakas/lib/python3.10/site-packages/threadpoolctl.py\", line 400, in match_module_callback\n",
      "    self._make_module_from_path(filepath)\n",
      "  File \"/home/geo/anaconda3/envs/gvardakas/lib/python3.10/site-packages/threadpoolctl.py\", line 515, in _make_module_from_path\n",
      "    module = module_class(filepath, prefix, user_api, internal_api)\n",
      "  File \"/home/geo/anaconda3/envs/gvardakas/lib/python3.10/site-packages/threadpoolctl.py\", line 606, in __init__\n",
      "    self.version = self.get_version()\n",
      "  File \"/home/geo/anaconda3/envs/gvardakas/lib/python3.10/site-packages/threadpoolctl.py\", line 646, in get_version\n",
      "    config = get_config().split()\n",
      "AttributeError: 'NoneType' object has no attribute 'split'\n",
      "Exception ignored on calling ctypes callback function: <function _ThreadpoolInfo._find_modules_with_dl_iterate_phdr.<locals>.match_module_callback at 0x7ff04180e4d0>\n",
      "Traceback (most recent call last):\n",
      "  File \"/home/geo/anaconda3/envs/gvardakas/lib/python3.10/site-packages/threadpoolctl.py\", line 400, in match_module_callback\n",
      "    self._make_module_from_path(filepath)\n",
      "  File \"/home/geo/anaconda3/envs/gvardakas/lib/python3.10/site-packages/threadpoolctl.py\", line 515, in _make_module_from_path\n",
      "    module = module_class(filepath, prefix, user_api, internal_api)\n",
      "  File \"/home/geo/anaconda3/envs/gvardakas/lib/python3.10/site-packages/threadpoolctl.py\", line 606, in __init__\n",
      "    self.version = self.get_version()\n",
      "  File \"/home/geo/anaconda3/envs/gvardakas/lib/python3.10/site-packages/threadpoolctl.py\", line 646, in get_version\n",
      "    config = get_config().split()\n",
      "AttributeError: 'NoneType' object has no attribute 'split'\n",
      "Exception ignored on calling ctypes callback function: <function _ThreadpoolInfo._find_modules_with_dl_iterate_phdr.<locals>.match_module_callback at 0x7ff04180e4d0>\n",
      "Traceback (most recent call last):\n",
      "  File \"/home/geo/anaconda3/envs/gvardakas/lib/python3.10/site-packages/threadpoolctl.py\", line 400, in match_module_callback\n",
      "    self._make_module_from_path(filepath)\n",
      "  File \"/home/geo/anaconda3/envs/gvardakas/lib/python3.10/site-packages/threadpoolctl.py\", line 515, in _make_module_from_path\n",
      "    module = module_class(filepath, prefix, user_api, internal_api)\n",
      "  File \"/home/geo/anaconda3/envs/gvardakas/lib/python3.10/site-packages/threadpoolctl.py\", line 606, in __init__\n",
      "    self.version = self.get_version()\n",
      "  File \"/home/geo/anaconda3/envs/gvardakas/lib/python3.10/site-packages/threadpoolctl.py\", line 646, in get_version\n",
      "    config = get_config().split()\n",
      "AttributeError: 'NoneType' object has no attribute 'split'\n",
      "Exception ignored on calling ctypes callback function: <function _ThreadpoolInfo._find_modules_with_dl_iterate_phdr.<locals>.match_module_callback at 0x7ff04180e4d0>\n",
      "Traceback (most recent call last):\n",
      "  File \"/home/geo/anaconda3/envs/gvardakas/lib/python3.10/site-packages/threadpoolctl.py\", line 400, in match_module_callback\n",
      "    self._make_module_from_path(filepath)\n",
      "  File \"/home/geo/anaconda3/envs/gvardakas/lib/python3.10/site-packages/threadpoolctl.py\", line 515, in _make_module_from_path\n",
      "    module = module_class(filepath, prefix, user_api, internal_api)\n",
      "  File \"/home/geo/anaconda3/envs/gvardakas/lib/python3.10/site-packages/threadpoolctl.py\", line 606, in __init__\n",
      "    self.version = self.get_version()\n",
      "  File \"/home/geo/anaconda3/envs/gvardakas/lib/python3.10/site-packages/threadpoolctl.py\", line 646, in get_version\n",
      "    config = get_config().split()\n",
      "AttributeError: 'NoneType' object has no attribute 'split'\n",
      "Exception ignored on calling ctypes callback function: <function _ThreadpoolInfo._find_modules_with_dl_iterate_phdr.<locals>.match_module_callback at 0x7ff04180e4d0>\n",
      "Traceback (most recent call last):\n",
      "  File \"/home/geo/anaconda3/envs/gvardakas/lib/python3.10/site-packages/threadpoolctl.py\", line 400, in match_module_callback\n",
      "    self._make_module_from_path(filepath)\n",
      "  File \"/home/geo/anaconda3/envs/gvardakas/lib/python3.10/site-packages/threadpoolctl.py\", line 515, in _make_module_from_path\n",
      "    module = module_class(filepath, prefix, user_api, internal_api)\n",
      "  File \"/home/geo/anaconda3/envs/gvardakas/lib/python3.10/site-packages/threadpoolctl.py\", line 606, in __init__\n",
      "    self.version = self.get_version()\n",
      "  File \"/home/geo/anaconda3/envs/gvardakas/lib/python3.10/site-packages/threadpoolctl.py\", line 646, in get_version\n",
      "    config = get_config().split()\n",
      "AttributeError: 'NoneType' object has no attribute 'split'\n",
      "Exception ignored on calling ctypes callback function: <function _ThreadpoolInfo._find_modules_with_dl_iterate_phdr.<locals>.match_module_callback at 0x7ff04180e4d0>\n",
      "Traceback (most recent call last):\n",
      "  File \"/home/geo/anaconda3/envs/gvardakas/lib/python3.10/site-packages/threadpoolctl.py\", line 400, in match_module_callback\n",
      "    self._make_module_from_path(filepath)\n",
      "  File \"/home/geo/anaconda3/envs/gvardakas/lib/python3.10/site-packages/threadpoolctl.py\", line 515, in _make_module_from_path\n",
      "    module = module_class(filepath, prefix, user_api, internal_api)\n",
      "  File \"/home/geo/anaconda3/envs/gvardakas/lib/python3.10/site-packages/threadpoolctl.py\", line 606, in __init__\n",
      "    self.version = self.get_version()\n",
      "  File \"/home/geo/anaconda3/envs/gvardakas/lib/python3.10/site-packages/threadpoolctl.py\", line 646, in get_version\n",
      "    config = get_config().split()\n",
      "AttributeError: 'NoneType' object has no attribute 'split'\n",
      "Exception ignored on calling ctypes callback function: <function _ThreadpoolInfo._find_modules_with_dl_iterate_phdr.<locals>.match_module_callback at 0x7ff04180e4d0>\n",
      "Traceback (most recent call last):\n",
      "  File \"/home/geo/anaconda3/envs/gvardakas/lib/python3.10/site-packages/threadpoolctl.py\", line 400, in match_module_callback\n",
      "    self._make_module_from_path(filepath)\n",
      "  File \"/home/geo/anaconda3/envs/gvardakas/lib/python3.10/site-packages/threadpoolctl.py\", line 515, in _make_module_from_path\n",
      "    module = module_class(filepath, prefix, user_api, internal_api)\n",
      "  File \"/home/geo/anaconda3/envs/gvardakas/lib/python3.10/site-packages/threadpoolctl.py\", line 606, in __init__\n",
      "    self.version = self.get_version()\n",
      "  File \"/home/geo/anaconda3/envs/gvardakas/lib/python3.10/site-packages/threadpoolctl.py\", line 646, in get_version\n",
      "    config = get_config().split()\n",
      "AttributeError: 'NoneType' object has no attribute 'split'\n"
     ]
    },
    {
     "name": "stderr",
     "output_type": "stream",
     "text": [
      "Exception ignored on calling ctypes callback function: <function _ThreadpoolInfo._find_modules_with_dl_iterate_phdr.<locals>.match_module_callback at 0x7ff04180e4d0>\n",
      "Traceback (most recent call last):\n",
      "  File \"/home/geo/anaconda3/envs/gvardakas/lib/python3.10/site-packages/threadpoolctl.py\", line 400, in match_module_callback\n",
      "    self._make_module_from_path(filepath)\n",
      "  File \"/home/geo/anaconda3/envs/gvardakas/lib/python3.10/site-packages/threadpoolctl.py\", line 515, in _make_module_from_path\n",
      "    module = module_class(filepath, prefix, user_api, internal_api)\n",
      "  File \"/home/geo/anaconda3/envs/gvardakas/lib/python3.10/site-packages/threadpoolctl.py\", line 606, in __init__\n",
      "    self.version = self.get_version()\n",
      "  File \"/home/geo/anaconda3/envs/gvardakas/lib/python3.10/site-packages/threadpoolctl.py\", line 646, in get_version\n",
      "    config = get_config().split()\n",
      "AttributeError: 'NoneType' object has no attribute 'split'\n"
     ]
    },
    {
     "data": {
      "text/plain": [
       "(0.8953333333333333,\n",
       " 0.8953333333333333,\n",
       " 0.7227625615665902,\n",
       " 0.7310410025034824,\n",
       " 0.6711373)"
      ]
     },
     "execution_count": 9,
     "metadata": {},
     "output_type": "execute_result"
    }
   ],
   "source": [
    "data, labels = mlp.get_data()\n",
    "kmeans = KMeans(n_clusters=n_clusters, n_init=10).fit(data)\n",
    "evaluator = Evaluator()\n",
    "evaluator.evaluate_model(data, labels, kmeans.labels_)"
   ]
  },
  {
   "cell_type": "code",
   "execution_count": 11,
   "id": "ad747b3f",
   "metadata": {},
   "outputs": [
    {
     "ename": "AttributeError",
     "evalue": "'MLP' object has no attribute 'dataDirPath'",
     "output_type": "error",
     "traceback": [
      "\u001b[0;31m---------------------------------------------------------------------------\u001b[0m",
      "\u001b[0;31mAttributeError\u001b[0m                            Traceback (most recent call last)",
      "Cell \u001b[0;32mIn[11], line 1\u001b[0m\n\u001b[0;32m----> 1\u001b[0m \u001b[43mvisualization\u001b[49m\u001b[38;5;241;43m.\u001b[39;49m\u001b[43mmakeExcel\u001b[49m\u001b[43m(\u001b[49m\u001b[43m)\u001b[49m\n\u001b[1;32m      2\u001b[0m \u001b[38;5;66;03m#visualization.plot_tsne(mlp=True)\u001b[39;00m\n\u001b[1;32m      3\u001b[0m visualization\u001b[38;5;241m.\u001b[39mplot(mlp\u001b[38;5;241m=\u001b[39m\u001b[38;5;28;01mTrue\u001b[39;00m)\n",
      "File \u001b[0;32m~/Desktop/Soft-Silhouette/Visualization.py:146\u001b[0m, in \u001b[0;36mVisualization.makeExcel\u001b[0;34m(self)\u001b[0m\n\u001b[1;32m    145\u001b[0m \u001b[38;5;28;01mdef\u001b[39;00m \u001b[38;5;21mmakeExcel\u001b[39m(\u001b[38;5;28mself\u001b[39m):\n\u001b[0;32m--> 146\u001b[0m     \u001b[38;5;28mself\u001b[39m\u001b[38;5;241m.\u001b[39mcreate_directory_if_not_exists(\u001b[38;5;28;43mself\u001b[39;49m\u001b[38;5;241;43m.\u001b[39;49m\u001b[43mmodel\u001b[49m\u001b[38;5;241;43m.\u001b[39;49m\u001b[43mdataDirPath\u001b[49m)\n\u001b[1;32m    147\u001b[0m     \u001b[38;5;28mself\u001b[39m\u001b[38;5;241m.\u001b[39mmodel\u001b[38;5;241m.\u001b[39mexpDirPath \u001b[38;5;241m=\u001b[39m \u001b[38;5;28mself\u001b[39m\u001b[38;5;241m.\u001b[39mmodel\u001b[38;5;241m.\u001b[39mdataDirPath \u001b[38;5;241m+\u001b[39m \u001b[38;5;124m\"\u001b[39m\u001b[38;5;130;01m\\\\\u001b[39;00m\u001b[38;5;124m\"\u001b[39m \u001b[38;5;241m+\u001b[39m \u001b[38;5;124m\"\u001b[39m\u001b[38;5;124mExperiment_Plots\u001b[39m\u001b[38;5;124m\"\u001b[39m\n\u001b[1;32m    148\u001b[0m     \u001b[38;5;28mself\u001b[39m\u001b[38;5;241m.\u001b[39mcreate_directory_if_not_exists(\u001b[38;5;28mself\u001b[39m\u001b[38;5;241m.\u001b[39mmodel\u001b[38;5;241m.\u001b[39mexpDirPath)\n",
      "File \u001b[0;32m~/anaconda3/envs/gvardakas/lib/python3.10/site-packages/torch/nn/modules/module.py:1269\u001b[0m, in \u001b[0;36mModule.__getattr__\u001b[0;34m(self, name)\u001b[0m\n\u001b[1;32m   1267\u001b[0m     \u001b[38;5;28;01mif\u001b[39;00m name \u001b[38;5;129;01min\u001b[39;00m modules:\n\u001b[1;32m   1268\u001b[0m         \u001b[38;5;28;01mreturn\u001b[39;00m modules[name]\n\u001b[0;32m-> 1269\u001b[0m \u001b[38;5;28;01mraise\u001b[39;00m \u001b[38;5;167;01mAttributeError\u001b[39;00m(\u001b[38;5;124m\"\u001b[39m\u001b[38;5;124m'\u001b[39m\u001b[38;5;132;01m{}\u001b[39;00m\u001b[38;5;124m'\u001b[39m\u001b[38;5;124m object has no attribute \u001b[39m\u001b[38;5;124m'\u001b[39m\u001b[38;5;132;01m{}\u001b[39;00m\u001b[38;5;124m'\u001b[39m\u001b[38;5;124m\"\u001b[39m\u001b[38;5;241m.\u001b[39mformat(\n\u001b[1;32m   1270\u001b[0m     \u001b[38;5;28mtype\u001b[39m(\u001b[38;5;28mself\u001b[39m)\u001b[38;5;241m.\u001b[39m\u001b[38;5;18m__name__\u001b[39m, name))\n",
      "\u001b[0;31mAttributeError\u001b[0m: 'MLP' object has no attribute 'dataDirPath'"
     ]
    }
   ],
   "source": [
    "visualization.makeExcel()\n",
    "#visualization.plot_tsne(mlp=True)\n",
    "visualization.plot(mlp=True)"
   ]
  },
  {
   "cell_type": "code",
   "execution_count": null,
   "id": "30d6b44b",
   "metadata": {},
   "outputs": [],
   "source": []
  }
 ],
 "metadata": {
  "kernelspec": {
   "display_name": "Python 3 (ipykernel)",
   "language": "python",
   "name": "python3"
  },
  "language_info": {
   "codemirror_mode": {
    "name": "ipython",
    "version": 3
   },
   "file_extension": ".py",
   "mimetype": "text/x-python",
   "name": "python",
   "nbconvert_exporter": "python",
   "pygments_lexer": "ipython3",
   "version": "3.10.9"
  }
 },
 "nbformat": 4,
 "nbformat_minor": 5
}
