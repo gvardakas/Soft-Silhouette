{
 "cells": [
  {
   "cell_type": "code",
   "execution_count": 1,
   "id": "53395d6a",
   "metadata": {},
   "outputs": [],
   "source": [
    "#pip3 install google.colab\n",
    "#from google.colab import drive\n",
    "#drive.mount('/content/drive', force_remount=True)"
   ]
  },
  {
   "cell_type": "markdown",
   "id": "5f8e722b",
   "metadata": {},
   "source": [
    "###  Libraries"
   ]
  },
  {
   "cell_type": "code",
   "execution_count": 3,
   "id": "8256748a",
   "metadata": {},
   "outputs": [
    {
     "name": "stderr",
     "output_type": "stream",
     "text": [
      "/home/geo/anaconda3/envs/gvardakas/lib/python3.10/site-packages/tqdm/auto.py:22: TqdmWarning: IProgress not found. Please update jupyter and ipywidgets. See https://ipywidgets.readthedocs.io/en/stable/user_install.html\n",
      "  from .autonotebook import tqdm as notebook_tqdm\n"
     ]
    }
   ],
   "source": [
    "import numpy as np\n",
    "from sklearn.cluster import KMeans\n",
    "import matplotlib.colors as mcolors\n",
    "\n",
    "import torch\n",
    "\n",
    "import os\n",
    "import sys\n",
    "\n",
    "from MLP import MLP\n",
    "from Datasets_Functions import *\n",
    "from Visualization import Visualization\n",
    "from Evaluations.Evaluation import Evaluator"
   ]
  },
  {
   "cell_type": "markdown",
   "id": "6638a8a3",
   "metadata": {},
   "source": [
    "### Global Variables"
   ]
  },
  {
   "cell_type": "code",
   "execution_count": 4,
   "id": "4a53b4e5",
   "metadata": {},
   "outputs": [],
   "source": [
    "path_to_module = './' # 'C:\\\\Users\\\\PAPASOFT INC\\\\Desktop\\\\SOFT_SIL'\n",
    "sys.path.append(path_to_module)\n",
    "os.environ['OMP_NUM_THREADS'] = '6'\n",
    "\n",
    "device = torch.device('cuda:0' if torch.cuda.is_available() else 'cpu')\n",
    "torch.cuda.set_device(device)"
   ]
  },
  {
   "cell_type": "markdown",
   "id": "3467285d",
   "metadata": {},
   "source": [
    "### Load datasets"
   ]
  },
  {
   "cell_type": "code",
   "execution_count": 5,
   "id": "e5c75b05",
   "metadata": {},
   "outputs": [
    {
     "name": "stdout",
     "output_type": "stream",
     "text": [
      "dict_keys(['10x73k', 'TCGA', 'coil20', 'eMNIST_balanced_letters', 'eMNIST_mnist', 'eMNIST_balanced_digits', 'Dermatology', 'Ecoil', 'Iris', 'Rings', 'Wine', 'Australian', 'Moons', 'Squeezed_Gauss', 'Gauss_Densities', 'Pendigits', 'fashionMNIST', '3DSpheres', '20_NewsGroups', 'COIL20', 'CIFAR10', 'STL10', 'R15', 'R3'])\n",
      "{'batch_size': 100, 'n_clusters': 3, 'module_name': 'Datasets.Datasets', 'function_name': 'load_R3_dataloader', 'option_name': ''}\n",
      "Data_Shape is: 2\n",
      "Batches Number is: 15\n"
     ]
    }
   ],
   "source": [
    "hashmap = get_hashmap(path_to_module)\n",
    "print(hashmap.keys())\n",
    "dataset_name = \"R3\"\n",
    "dataset_properties = hashmap[dataset_name]\n",
    "print(dataset_properties)\n",
    "batch_size = dataset_properties['batch_size'] #= 30\n",
    "n_clusters = dataset_properties['n_clusters'] #= 3\n",
    "dataloader, input_dim, data_np, labels = function_get_dataset(dataset_properties)\n",
    "print('Data_Shape is:', input_dim)\n",
    "print('Batches Number is:', len(dataloader))"
   ]
  },
  {
   "cell_type": "markdown",
   "id": "7a37d27c",
   "metadata": {},
   "source": [
    "### Parameters"
   ]
  },
  {
   "cell_type": "code",
   "execution_count": 16,
   "id": "46464ecf",
   "metadata": {},
   "outputs": [],
   "source": [
    "# Batch Size and Number of Clusters\n",
    "batch_size = dataset_properties['batch_size']\n",
    "n_clusters = dataset_properties['n_clusters']\n",
    "\n",
    "# Training Epochs and Learning Rate\n",
    "lr = 1e-3\n",
    "n_epochs = 100\n",
    "entr_lambda = 1\n",
    "\n",
    "kmeans_initialization = True"
   ]
  },
  {
   "cell_type": "markdown",
   "id": "586dff4c",
   "metadata": {},
   "source": [
    "### Create MLP model"
   ]
  },
  {
   "cell_type": "code",
   "execution_count": 17,
   "id": "10cc7d58",
   "metadata": {},
   "outputs": [],
   "source": [
    "mlp = MLP(device=device, n_clusters=n_clusters, input_dim=input_dim)\n",
    "mlp.set_training_variables(dataloader=dataloader, batch_size=batch_size, n_epochs=n_epochs, lr=lr, entr_lambda=entr_lambda)\n",
    "mlp.set_path_variables(path_to_module=path_to_module, dataset_name=dataset_name)\n",
    "mlp.set_path()\n",
    "\n",
    "mlp = mlp.to(device)"
   ]
  },
  {
   "cell_type": "code",
   "execution_count": 18,
   "id": "cac79ca8",
   "metadata": {},
   "outputs": [
    {
     "name": "stderr",
     "output_type": "stream",
     "text": [
      "Exception ignored on calling ctypes callback function: <function _ThreadpoolInfo._find_modules_with_dl_iterate_phdr.<locals>.match_module_callback at 0x7f8c7bb3d1b0>\n",
      "Traceback (most recent call last):\n",
      "  File \"/home/geo/anaconda3/envs/gvardakas/lib/python3.10/site-packages/threadpoolctl.py\", line 400, in match_module_callback\n",
      "    self._make_module_from_path(filepath)\n",
      "  File \"/home/geo/anaconda3/envs/gvardakas/lib/python3.10/site-packages/threadpoolctl.py\", line 515, in _make_module_from_path\n",
      "    module = module_class(filepath, prefix, user_api, internal_api)\n",
      "  File \"/home/geo/anaconda3/envs/gvardakas/lib/python3.10/site-packages/threadpoolctl.py\", line 606, in __init__\n",
      "    self.version = self.get_version()\n",
      "  File \"/home/geo/anaconda3/envs/gvardakas/lib/python3.10/site-packages/threadpoolctl.py\", line 646, in get_version\n",
      "    config = get_config().split()\n",
      "AttributeError: 'NoneType' object has no attribute 'split'\n",
      "Exception ignored on calling ctypes callback function: <function _ThreadpoolInfo._find_modules_with_dl_iterate_phdr.<locals>.match_module_callback at 0x7f8c7bb3d1b0>\n",
      "Traceback (most recent call last):\n",
      "  File \"/home/geo/anaconda3/envs/gvardakas/lib/python3.10/site-packages/threadpoolctl.py\", line 400, in match_module_callback\n",
      "    self._make_module_from_path(filepath)\n",
      "  File \"/home/geo/anaconda3/envs/gvardakas/lib/python3.10/site-packages/threadpoolctl.py\", line 515, in _make_module_from_path\n",
      "    module = module_class(filepath, prefix, user_api, internal_api)\n",
      "  File \"/home/geo/anaconda3/envs/gvardakas/lib/python3.10/site-packages/threadpoolctl.py\", line 606, in __init__\n",
      "    self.version = self.get_version()\n",
      "  File \"/home/geo/anaconda3/envs/gvardakas/lib/python3.10/site-packages/threadpoolctl.py\", line 646, in get_version\n",
      "    config = get_config().split()\n",
      "AttributeError: 'NoneType' object has no attribute 'split'\n",
      "Exception ignored on calling ctypes callback function: <function _ThreadpoolInfo._find_modules_with_dl_iterate_phdr.<locals>.match_module_callback at 0x7f8c7bb3d1b0>\n",
      "Traceback (most recent call last):\n",
      "  File \"/home/geo/anaconda3/envs/gvardakas/lib/python3.10/site-packages/threadpoolctl.py\", line 400, in match_module_callback\n",
      "    self._make_module_from_path(filepath)\n",
      "  File \"/home/geo/anaconda3/envs/gvardakas/lib/python3.10/site-packages/threadpoolctl.py\", line 515, in _make_module_from_path\n",
      "    module = module_class(filepath, prefix, user_api, internal_api)\n",
      "  File \"/home/geo/anaconda3/envs/gvardakas/lib/python3.10/site-packages/threadpoolctl.py\", line 606, in __init__\n",
      "    self.version = self.get_version()\n",
      "  File \"/home/geo/anaconda3/envs/gvardakas/lib/python3.10/site-packages/threadpoolctl.py\", line 646, in get_version\n",
      "    config = get_config().split()\n",
      "AttributeError: 'NoneType' object has no attribute 'split'\n",
      "Exception ignored on calling ctypes callback function: <function _ThreadpoolInfo._find_modules_with_dl_iterate_phdr.<locals>.match_module_callback at 0x7f8d78185870>\n",
      "Traceback (most recent call last):\n",
      "  File \"/home/geo/anaconda3/envs/gvardakas/lib/python3.10/site-packages/threadpoolctl.py\", line 400, in match_module_callback\n",
      "    self._make_module_from_path(filepath)\n",
      "  File \"/home/geo/anaconda3/envs/gvardakas/lib/python3.10/site-packages/threadpoolctl.py\", line 515, in _make_module_from_path\n",
      "    module = module_class(filepath, prefix, user_api, internal_api)\n",
      "  File \"/home/geo/anaconda3/envs/gvardakas/lib/python3.10/site-packages/threadpoolctl.py\", line 606, in __init__\n",
      "    self.version = self.get_version()\n",
      "  File \"/home/geo/anaconda3/envs/gvardakas/lib/python3.10/site-packages/threadpoolctl.py\", line 646, in get_version\n",
      "    config = get_config().split()\n",
      "AttributeError: 'NoneType' object has no attribute 'split'\n",
      "Exception ignored on calling ctypes callback function: <function _ThreadpoolInfo._find_modules_with_dl_iterate_phdr.<locals>.match_module_callback at 0x7f8d78185870>\n",
      "Traceback (most recent call last):\n",
      "  File \"/home/geo/anaconda3/envs/gvardakas/lib/python3.10/site-packages/threadpoolctl.py\", line 400, in match_module_callback\n",
      "    self._make_module_from_path(filepath)\n",
      "  File \"/home/geo/anaconda3/envs/gvardakas/lib/python3.10/site-packages/threadpoolctl.py\", line 515, in _make_module_from_path\n",
      "    module = module_class(filepath, prefix, user_api, internal_api)\n",
      "  File \"/home/geo/anaconda3/envs/gvardakas/lib/python3.10/site-packages/threadpoolctl.py\", line 606, in __init__\n",
      "    self.version = self.get_version()\n",
      "  File \"/home/geo/anaconda3/envs/gvardakas/lib/python3.10/site-packages/threadpoolctl.py\", line 646, in get_version\n",
      "    config = get_config().split()\n",
      "AttributeError: 'NoneType' object has no attribute 'split'\n",
      "Exception ignored on calling ctypes callback function: <function _ThreadpoolInfo._find_modules_with_dl_iterate_phdr.<locals>.match_module_callback at 0x7f8d7937c040>\n",
      "Traceback (most recent call last):\n",
      "  File \"/home/geo/anaconda3/envs/gvardakas/lib/python3.10/site-packages/threadpoolctl.py\", line 400, in match_module_callback\n",
      "    self._make_module_from_path(filepath)\n",
      "  File \"/home/geo/anaconda3/envs/gvardakas/lib/python3.10/site-packages/threadpoolctl.py\", line 515, in _make_module_from_path\n",
      "    module = module_class(filepath, prefix, user_api, internal_api)\n",
      "  File \"/home/geo/anaconda3/envs/gvardakas/lib/python3.10/site-packages/threadpoolctl.py\", line 606, in __init__\n",
      "    self.version = self.get_version()\n",
      "  File \"/home/geo/anaconda3/envs/gvardakas/lib/python3.10/site-packages/threadpoolctl.py\", line 646, in get_version\n",
      "    config = get_config().split()\n",
      "AttributeError: 'NoneType' object has no attribute 'split'\n",
      "Exception ignored on calling ctypes callback function: <function _ThreadpoolInfo._find_modules_with_dl_iterate_phdr.<locals>.match_module_callback at 0x7f8d7937c040>\n",
      "Traceback (most recent call last):\n",
      "  File \"/home/geo/anaconda3/envs/gvardakas/lib/python3.10/site-packages/threadpoolctl.py\", line 400, in match_module_callback\n",
      "    self._make_module_from_path(filepath)\n",
      "  File \"/home/geo/anaconda3/envs/gvardakas/lib/python3.10/site-packages/threadpoolctl.py\", line 515, in _make_module_from_path\n",
      "    module = module_class(filepath, prefix, user_api, internal_api)\n",
      "  File \"/home/geo/anaconda3/envs/gvardakas/lib/python3.10/site-packages/threadpoolctl.py\", line 606, in __init__\n",
      "    self.version = self.get_version()\n",
      "  File \"/home/geo/anaconda3/envs/gvardakas/lib/python3.10/site-packages/threadpoolctl.py\", line 646, in get_version\n",
      "    config = get_config().split()\n",
      "AttributeError: 'NoneType' object has no attribute 'split'\n",
      "Exception ignored on calling ctypes callback function: <function _ThreadpoolInfo._find_modules_with_dl_iterate_phdr.<locals>.match_module_callback at 0x7f8d7937c040>\n",
      "Traceback (most recent call last):\n",
      "  File \"/home/geo/anaconda3/envs/gvardakas/lib/python3.10/site-packages/threadpoolctl.py\", line 400, in match_module_callback\n",
      "    self._make_module_from_path(filepath)\n",
      "  File \"/home/geo/anaconda3/envs/gvardakas/lib/python3.10/site-packages/threadpoolctl.py\", line 515, in _make_module_from_path\n",
      "    module = module_class(filepath, prefix, user_api, internal_api)\n",
      "  File \"/home/geo/anaconda3/envs/gvardakas/lib/python3.10/site-packages/threadpoolctl.py\", line 606, in __init__\n",
      "    self.version = self.get_version()\n",
      "  File \"/home/geo/anaconda3/envs/gvardakas/lib/python3.10/site-packages/threadpoolctl.py\", line 646, in get_version\n",
      "    config = get_config().split()\n",
      "AttributeError: 'NoneType' object has no attribute 'split'\n",
      "Exception ignored on calling ctypes callback function: <function _ThreadpoolInfo._find_modules_with_dl_iterate_phdr.<locals>.match_module_callback at 0x7f8d7937c040>\n",
      "Traceback (most recent call last):\n",
      "  File \"/home/geo/anaconda3/envs/gvardakas/lib/python3.10/site-packages/threadpoolctl.py\", line 400, in match_module_callback\n",
      "    self._make_module_from_path(filepath)\n",
      "  File \"/home/geo/anaconda3/envs/gvardakas/lib/python3.10/site-packages/threadpoolctl.py\", line 515, in _make_module_from_path\n",
      "    module = module_class(filepath, prefix, user_api, internal_api)\n",
      "  File \"/home/geo/anaconda3/envs/gvardakas/lib/python3.10/site-packages/threadpoolctl.py\", line 606, in __init__\n",
      "    self.version = self.get_version()\n",
      "  File \"/home/geo/anaconda3/envs/gvardakas/lib/python3.10/site-packages/threadpoolctl.py\", line 646, in get_version\n",
      "    config = get_config().split()\n",
      "AttributeError: 'NoneType' object has no attribute 'split'\n"
     ]
    },
    {
     "name": "stderr",
     "output_type": "stream",
     "text": [
      "Exception ignored on calling ctypes callback function: <function _ThreadpoolInfo._find_modules_with_dl_iterate_phdr.<locals>.match_module_callback at 0x7f8d7937c040>\n",
      "Traceback (most recent call last):\n",
      "  File \"/home/geo/anaconda3/envs/gvardakas/lib/python3.10/site-packages/threadpoolctl.py\", line 400, in match_module_callback\n",
      "    self._make_module_from_path(filepath)\n",
      "  File \"/home/geo/anaconda3/envs/gvardakas/lib/python3.10/site-packages/threadpoolctl.py\", line 515, in _make_module_from_path\n",
      "    module = module_class(filepath, prefix, user_api, internal_api)\n",
      "  File \"/home/geo/anaconda3/envs/gvardakas/lib/python3.10/site-packages/threadpoolctl.py\", line 606, in __init__\n",
      "    self.version = self.get_version()\n",
      "  File \"/home/geo/anaconda3/envs/gvardakas/lib/python3.10/site-packages/threadpoolctl.py\", line 646, in get_version\n",
      "    config = get_config().split()\n",
      "AttributeError: 'NoneType' object has no attribute 'split'\n"
     ]
    }
   ],
   "source": [
    "# Initialize the clustering layer using k-means\n",
    "if kmeans_initialization : mlp.kmeans_initialization(10)"
   ]
  },
  {
   "cell_type": "markdown",
   "id": "31b76a71",
   "metadata": {},
   "source": [
    "### Colors for visualization"
   ]
  },
  {
   "cell_type": "code",
   "execution_count": 19,
   "id": "1545fc4c",
   "metadata": {},
   "outputs": [],
   "source": [
    "color_list = list(mcolors.CSS4_COLORS.keys()) + list(mcolors.XKCD_COLORS.keys())\n",
    "np.random.shuffle(color_list)\n",
    "color_list = ['deepskyblue', 'gold', 'hotpink', 'limegreen'] + color_list\n",
    "visualization = Visualization()"
   ]
  },
  {
   "cell_type": "markdown",
   "id": "64e01334",
   "metadata": {},
   "source": [
    "### Training the MLP"
   ]
  },
  {
   "cell_type": "code",
   "execution_count": 20,
   "id": "99c04fdd",
   "metadata": {},
   "outputs": [
    {
     "name": "stdout",
     "output_type": "stream",
     "text": [
      "Epoch: 0 Cl Loss: 15.6488 Entropy: 23.5417 Soft Sil: -0.6488 SIL: 0.0000 ACC: 0.87 PUR: 0.87 NMI: 0.70 ARI: 0.68\n",
      "Epoch: 1 Cl Loss: 15.6177 Entropy: 23.5324 Soft Sil: -0.6177 SIL: 0.0000 ACC: 0.80 PUR: 0.80 NMI: 0.68 ARI: 0.59\n",
      "Epoch: 2 Cl Loss: 15.6107 Entropy: 23.5208 Soft Sil: -0.6107 SIL: 0.0000 ACC: 0.72 PUR: 0.72 NMI: 0.66 ARI: 0.55\n",
      "Epoch: 3 Cl Loss: 15.6181 Entropy: 23.5067 Soft Sil: -0.6181 SIL: 0.0000 ACC: 0.69 PUR: 0.69 NMI: 0.67 ARI: 0.55\n",
      "Epoch: 4 Cl Loss: 15.6278 Entropy: 23.4922 Soft Sil: -0.6278 SIL: 0.0000 ACC: 0.69 PUR: 0.69 NMI: 0.67 ARI: 0.55\n",
      "Epoch: 5 Cl Loss: 15.6269 Entropy: 23.4822 Soft Sil: -0.6269 SIL: 0.0000 ACC: 0.68 PUR: 0.68 NMI: 0.67 ARI: 0.55\n",
      "Epoch: 6 Cl Loss: 15.6277 Entropy: 23.4707 Soft Sil: -0.6277 SIL: 0.0000 ACC: 0.69 PUR: 0.69 NMI: 0.67 ARI: 0.55\n",
      "Epoch: 7 Cl Loss: 15.6275 Entropy: 23.4558 Soft Sil: -0.6275 SIL: 0.0000 ACC: 0.69 PUR: 0.69 NMI: 0.67 ARI: 0.55\n",
      "Epoch: 8 Cl Loss: 15.6398 Entropy: 23.4406 Soft Sil: -0.6398 SIL: 0.0000 ACC: 0.69 PUR: 0.69 NMI: 0.67 ARI: 0.55\n",
      "Epoch: 9 Cl Loss: 15.6310 Entropy: 23.4246 Soft Sil: -0.6310 SIL: 0.0000 ACC: 0.69 PUR: 0.69 NMI: 0.67 ARI: 0.55\n",
      "Epoch: 10 Cl Loss: 15.6441 Entropy: 23.4039 Soft Sil: -0.6441 SIL: 0.0000 ACC: 0.69 PUR: 0.69 NMI: 0.67 ARI: 0.55\n",
      "Epoch: 11 Cl Loss: 15.6498 Entropy: 23.3821 Soft Sil: -0.6498 SIL: 0.0000 ACC: 0.69 PUR: 0.69 NMI: 0.67 ARI: 0.55\n",
      "Epoch: 12 Cl Loss: 15.6378 Entropy: 23.3608 Soft Sil: -0.6378 SIL: 0.0000 ACC: 0.70 PUR: 0.70 NMI: 0.67 ARI: 0.55\n",
      "Epoch: 13 Cl Loss: 15.6364 Entropy: 23.3361 Soft Sil: -0.6364 SIL: 0.0000 ACC: 0.70 PUR: 0.70 NMI: 0.67 ARI: 0.55\n",
      "Epoch: 14 Cl Loss: 15.6400 Entropy: 23.3079 Soft Sil: -0.6400 SIL: 0.0000 ACC: 0.70 PUR: 0.70 NMI: 0.67 ARI: 0.55\n",
      "Epoch: 15 Cl Loss: 15.6384 Entropy: 23.2775 Soft Sil: -0.6384 SIL: 0.0000 ACC: 0.70 PUR: 0.70 NMI: 0.67 ARI: 0.55\n",
      "Epoch: 16 Cl Loss: 15.6345 Entropy: 23.2452 Soft Sil: -0.6345 SIL: 0.0000 ACC: 0.70 PUR: 0.70 NMI: 0.67 ARI: 0.55\n",
      "Epoch: 17 Cl Loss: 15.6262 Entropy: 23.2123 Soft Sil: -0.6262 SIL: 0.0000 ACC: 0.71 PUR: 0.71 NMI: 0.67 ARI: 0.55\n",
      "Epoch: 18 Cl Loss: 15.6190 Entropy: 23.1759 Soft Sil: -0.6190 SIL: 0.0000 ACC: 0.71 PUR: 0.71 NMI: 0.67 ARI: 0.55\n",
      "Epoch: 19 Cl Loss: 15.6083 Entropy: 23.1373 Soft Sil: -0.6083 SIL: 0.0000 ACC: 0.72 PUR: 0.72 NMI: 0.67 ARI: 0.55\n",
      "Epoch: 20 Cl Loss: 15.6032 Entropy: 23.0967 Soft Sil: -0.6032 SIL: 0.0000 ACC: 0.72 PUR: 0.72 NMI: 0.67 ARI: 0.55\n",
      "Epoch: 21 Cl Loss: 15.5861 Entropy: 23.0537 Soft Sil: -0.5861 SIL: 0.0000 ACC: 0.72 PUR: 0.72 NMI: 0.67 ARI: 0.55\n",
      "Epoch: 22 Cl Loss: 15.5783 Entropy: 23.0088 Soft Sil: -0.5783 SIL: 0.0000 ACC: 0.75 PUR: 0.75 NMI: 0.67 ARI: 0.56\n",
      "Epoch: 23 Cl Loss: 15.5572 Entropy: 22.9627 Soft Sil: -0.5572 SIL: 0.0000 ACC: 0.75 PUR: 0.75 NMI: 0.67 ARI: 0.56\n",
      "Epoch: 24 Cl Loss: 15.5442 Entropy: 22.9137 Soft Sil: -0.5442 SIL: 0.0000 ACC: 0.77 PUR: 0.77 NMI: 0.68 ARI: 0.57\n",
      "Epoch: 25 Cl Loss: 15.5231 Entropy: 22.8619 Soft Sil: -0.5231 SIL: 0.0000 ACC: 0.67 PUR: 0.67 NMI: 0.55 ARI: 0.49\n",
      "Epoch: 26 Cl Loss: 15.5152 Entropy: 22.8081 Soft Sil: -0.5152 SIL: 0.0000 ACC: 0.77 PUR: 0.77 NMI: 0.61 ARI: 0.55\n",
      "Epoch: 27 Cl Loss: 15.4945 Entropy: 22.7538 Soft Sil: -0.4945 SIL: 0.0000 ACC: 0.68 PUR: 0.68 NMI: 0.55 ARI: 0.49\n",
      "Epoch: 28 Cl Loss: 15.4827 Entropy: 22.6991 Soft Sil: -0.4827 SIL: 0.0000 ACC: 0.75 PUR: 0.75 NMI: 0.59 ARI: 0.53\n",
      "Epoch: 29 Cl Loss: 15.4590 Entropy: 22.6440 Soft Sil: -0.4590 SIL: 0.0000 ACC: 0.68 PUR: 0.68 NMI: 0.54 ARI: 0.49\n",
      "Epoch: 30 Cl Loss: 15.4415 Entropy: 22.5879 Soft Sil: -0.4415 SIL: 0.0000 ACC: 0.71 PUR: 0.71 NMI: 0.55 ARI: 0.50\n",
      "Epoch: 31 Cl Loss: 15.4224 Entropy: 22.5313 Soft Sil: -0.4224 SIL: 0.0000 ACC: 0.69 PUR: 0.69 NMI: 0.55 ARI: 0.49\n",
      "Epoch: 32 Cl Loss: 15.4029 Entropy: 22.4734 Soft Sil: -0.4029 SIL: 0.0000 ACC: 0.73 PUR: 0.73 NMI: 0.57 ARI: 0.52\n",
      "Epoch: 33 Cl Loss: 15.3773 Entropy: 22.4149 Soft Sil: -0.3773 SIL: 0.0000 ACC: 0.71 PUR: 0.71 NMI: 0.55 ARI: 0.50\n",
      "Epoch: 34 Cl Loss: 15.3619 Entropy: 22.3553 Soft Sil: -0.3619 SIL: 0.0000 ACC: 0.68 PUR: 0.68 NMI: 0.55 ARI: 0.49\n",
      "Epoch: 35 Cl Loss: 15.3392 Entropy: 22.2946 Soft Sil: -0.3392 SIL: 0.0000 ACC: 0.69 PUR: 0.69 NMI: 0.55 ARI: 0.49\n",
      "Epoch: 36 Cl Loss: 15.3082 Entropy: 22.2335 Soft Sil: -0.3082 SIL: 0.0000 ACC: 0.71 PUR: 0.71 NMI: 0.54 ARI: 0.49\n",
      "Epoch: 37 Cl Loss: 15.2845 Entropy: 22.1705 Soft Sil: -0.2845 SIL: 0.0000 ACC: 0.68 PUR: 0.68 NMI: 0.54 ARI: 0.48\n",
      "Epoch: 38 Cl Loss: 15.2650 Entropy: 22.1069 Soft Sil: -0.2650 SIL: 0.0000 ACC: 0.72 PUR: 0.72 NMI: 0.55 ARI: 0.50\n",
      "Epoch: 39 Cl Loss: 15.2349 Entropy: 22.0429 Soft Sil: -0.2349 SIL: 0.0000 ACC: 0.68 PUR: 0.68 NMI: 0.54 ARI: 0.48\n",
      "Epoch: 40 Cl Loss: 15.2097 Entropy: 21.9773 Soft Sil: -0.2097 SIL: 0.0000 ACC: 0.69 PUR: 0.69 NMI: 0.54 ARI: 0.48\n",
      "Epoch: 41 Cl Loss: 15.1801 Entropy: 21.9108 Soft Sil: -0.1801 SIL: 0.0000 ACC: 0.71 PUR: 0.71 NMI: 0.55 ARI: 0.50\n",
      "Epoch: 42 Cl Loss: 15.1562 Entropy: 21.8435 Soft Sil: -0.1562 SIL: 0.0000 ACC: 0.69 PUR: 0.69 NMI: 0.53 ARI: 0.48\n",
      "Epoch: 43 Cl Loss: 15.1309 Entropy: 21.7756 Soft Sil: -0.1309 SIL: 0.0000 ACC: 0.72 PUR: 0.72 NMI: 0.53 ARI: 0.49\n",
      "Epoch: 44 Cl Loss: 15.0979 Entropy: 21.7063 Soft Sil: -0.0979 SIL: 0.0000 ACC: 0.66 PUR: 0.66 NMI: 0.52 ARI: 0.47\n",
      "Epoch: 45 Cl Loss: 15.0761 Entropy: 21.6354 Soft Sil: -0.0761 SIL: 0.0000 ACC: 0.72 PUR: 0.72 NMI: 0.53 ARI: 0.49\n",
      "Epoch: 46 Cl Loss: 15.0374 Entropy: 21.5642 Soft Sil: -0.0374 SIL: 0.0000 ACC: 0.67 PUR: 0.67 NMI: 0.51 ARI: 0.47\n",
      "Epoch: 47 Cl Loss: 15.0168 Entropy: 21.4916 Soft Sil: -0.0168 SIL: 0.0000 ACC: 0.71 PUR: 0.71 NMI: 0.52 ARI: 0.48\n",
      "Epoch: 48 Cl Loss: 14.9840 Entropy: 21.4199 Soft Sil: 0.0160 SIL: 0.0000 ACC: 0.68 PUR: 0.68 NMI: 0.51 ARI: 0.47\n",
      "Epoch: 49 Cl Loss: 14.9479 Entropy: 21.3457 Soft Sil: 0.0521 SIL: 0.0000 ACC: 0.68 PUR: 0.68 NMI: 0.51 ARI: 0.47\n",
      "Epoch: 50 Cl Loss: 14.9320 Entropy: 21.2722 Soft Sil: 0.0680 SIL: 0.0000 ACC: 0.73 PUR: 0.73 NMI: 0.53 ARI: 0.49\n",
      "Epoch: 51 Cl Loss: 14.9015 Entropy: 21.1983 Soft Sil: 0.0985 SIL: 0.0000 ACC: 0.67 PUR: 0.67 NMI: 0.50 ARI: 0.46\n",
      "Epoch: 52 Cl Loss: 14.8734 Entropy: 21.1239 Soft Sil: 0.1266 SIL: 0.0000 ACC: 0.67 PUR: 0.67 NMI: 0.50 ARI: 0.46\n",
      "Epoch: 53 Cl Loss: 14.8470 Entropy: 21.0486 Soft Sil: 0.1530 SIL: 0.0000 ACC: 0.70 PUR: 0.70 NMI: 0.51 ARI: 0.47\n",
      "Epoch: 54 Cl Loss: 14.8105 Entropy: 20.9734 Soft Sil: 0.1895 SIL: 0.0000 ACC: 0.72 PUR: 0.72 NMI: 0.52 ARI: 0.48\n",
      "Epoch: 55 Cl Loss: 14.7690 Entropy: 20.8971 Soft Sil: 0.2310 SIL: 0.0000 ACC: 0.66 PUR: 0.67 NMI: 0.50 ARI: 0.46\n",
      "Epoch: 56 Cl Loss: 14.7676 Entropy: 20.8215 Soft Sil: 0.2324 SIL: 0.0000 ACC: 0.74 PUR: 0.74 NMI: 0.52 ARI: 0.49\n",
      "Epoch: 57 Cl Loss: 14.7179 Entropy: 20.7450 Soft Sil: 0.2821 SIL: 0.0000 ACC: 0.66 PUR: 0.67 NMI: 0.50 ARI: 0.46\n",
      "Epoch: 58 Cl Loss: 14.6844 Entropy: 20.6675 Soft Sil: 0.3156 SIL: 0.0000 ACC: 0.69 PUR: 0.69 NMI: 0.50 ARI: 0.46\n",
      "Epoch: 59 Cl Loss: 14.6623 Entropy: 20.5911 Soft Sil: 0.3377 SIL: 0.0000 ACC: 0.70 PUR: 0.70 NMI: 0.50 ARI: 0.46\n",
      "Epoch: 60 Cl Loss: 14.6293 Entropy: 20.5143 Soft Sil: 0.3707 SIL: 0.0000 ACC: 0.66 PUR: 0.67 NMI: 0.49 ARI: 0.45\n",
      "Epoch: 61 Cl Loss: 14.6119 Entropy: 20.4376 Soft Sil: 0.3881 SIL: 0.0000 ACC: 0.78 PUR: 0.78 NMI: 0.55 ARI: 0.53\n",
      "Epoch: 62 Cl Loss: 14.5770 Entropy: 20.3601 Soft Sil: 0.4230 SIL: 0.0000 ACC: 0.68 PUR: 0.68 NMI: 0.49 ARI: 0.45\n",
      "Epoch: 63 Cl Loss: 14.5510 Entropy: 20.2834 Soft Sil: 0.4490 SIL: 0.0000 ACC: 0.71 PUR: 0.71 NMI: 0.51 ARI: 0.47\n",
      "Epoch: 64 Cl Loss: 14.5334 Entropy: 20.2070 Soft Sil: 0.4666 SIL: 0.0000 ACC: 0.70 PUR: 0.70 NMI: 0.50 ARI: 0.46\n",
      "Epoch: 65 Cl Loss: 14.4804 Entropy: 20.1322 Soft Sil: 0.5196 SIL: 0.0000 ACC: 0.71 PUR: 0.71 NMI: 0.50 ARI: 0.47\n",
      "Epoch: 66 Cl Loss: 14.4777 Entropy: 20.0564 Soft Sil: 0.5223 SIL: 0.0000 ACC: 0.77 PUR: 0.77 NMI: 0.53 ARI: 0.51\n",
      "Epoch: 67 Cl Loss: 14.4312 Entropy: 19.9813 Soft Sil: 0.5688 SIL: 0.0000 ACC: 0.67 PUR: 0.67 NMI: 0.49 ARI: 0.45\n",
      "Epoch: 68 Cl Loss: 14.4019 Entropy: 19.9062 Soft Sil: 0.5981 SIL: 0.0000 ACC: 0.76 PUR: 0.76 NMI: 0.53 ARI: 0.51\n",
      "Epoch: 69 Cl Loss: 14.3733 Entropy: 19.8318 Soft Sil: 0.6267 SIL: 0.0000 ACC: 0.69 PUR: 0.69 NMI: 0.49 ARI: 0.45\n",
      "Epoch: 70 Cl Loss: 14.3512 Entropy: 19.7572 Soft Sil: 0.6488 SIL: 0.0000 ACC: 0.70 PUR: 0.70 NMI: 0.50 ARI: 0.46\n",
      "Epoch: 71 Cl Loss: 14.3384 Entropy: 19.6832 Soft Sil: 0.6616 SIL: 0.0000 ACC: 0.68 PUR: 0.68 NMI: 0.49 ARI: 0.45\n",
      "Epoch: 72 Cl Loss: 14.2978 Entropy: 19.6110 Soft Sil: 0.7022 SIL: 0.0000 ACC: 0.77 PUR: 0.77 NMI: 0.53 ARI: 0.51\n",
      "Epoch: 73 Cl Loss: 14.2726 Entropy: 19.5391 Soft Sil: 0.7274 SIL: 0.0000 ACC: 0.71 PUR: 0.71 NMI: 0.50 ARI: 0.46\n",
      "Epoch: 74 Cl Loss: 14.2506 Entropy: 19.4670 Soft Sil: 0.7494 SIL: 0.0000 ACC: 0.67 PUR: 0.67 NMI: 0.49 ARI: 0.45\n",
      "Epoch: 75 Cl Loss: 14.2238 Entropy: 19.3953 Soft Sil: 0.7762 SIL: 0.0000 ACC: 0.72 PUR: 0.72 NMI: 0.50 ARI: 0.47\n",
      "Epoch: 76 Cl Loss: 14.1915 Entropy: 19.3250 Soft Sil: 0.8085 SIL: 0.0000 ACC: 0.73 PUR: 0.73 NMI: 0.50 ARI: 0.47\n"
     ]
    },
    {
     "name": "stdout",
     "output_type": "stream",
     "text": [
      "Epoch: 77 Cl Loss: 14.1672 Entropy: 19.2546 Soft Sil: 0.8328 SIL: 0.0000 ACC: 0.69 PUR: 0.69 NMI: 0.49 ARI: 0.45\n",
      "Epoch: 78 Cl Loss: 14.1497 Entropy: 19.1868 Soft Sil: 0.8503 SIL: 0.0000 ACC: 0.69 PUR: 0.69 NMI: 0.49 ARI: 0.46\n",
      "Epoch: 79 Cl Loss: 14.1310 Entropy: 19.1180 Soft Sil: 0.8690 SIL: 0.0000 ACC: 0.71 PUR: 0.71 NMI: 0.50 ARI: 0.46\n",
      "Epoch: 80 Cl Loss: 14.0930 Entropy: 19.0506 Soft Sil: 0.9070 SIL: 0.0000 ACC: 0.81 PUR: 0.81 NMI: 0.56 ARI: 0.56\n",
      "Epoch: 81 Cl Loss: 14.0711 Entropy: 18.9832 Soft Sil: 0.9289 SIL: 0.0000 ACC: 0.69 PUR: 0.69 NMI: 0.49 ARI: 0.45\n",
      "Epoch: 82 Cl Loss: 14.0449 Entropy: 18.9161 Soft Sil: 0.9551 SIL: 0.0000 ACC: 0.73 PUR: 0.73 NMI: 0.50 ARI: 0.47\n",
      "Epoch: 83 Cl Loss: 14.0161 Entropy: 18.8504 Soft Sil: 0.9839 SIL: 0.0000 ACC: 0.70 PUR: 0.70 NMI: 0.49 ARI: 0.45\n",
      "Epoch: 84 Cl Loss: 13.9958 Entropy: 18.7847 Soft Sil: 1.0042 SIL: 0.0000 ACC: 0.70 PUR: 0.70 NMI: 0.49 ARI: 0.45\n",
      "Epoch: 85 Cl Loss: 14.0036 Entropy: 18.7202 Soft Sil: 0.9964 SIL: 0.0000 ACC: 0.74 PUR: 0.74 NMI: 0.50 ARI: 0.48\n",
      "Epoch: 86 Cl Loss: 13.9471 Entropy: 18.6564 Soft Sil: 1.0529 SIL: 0.0000 ACC: 0.69 PUR: 0.69 NMI: 0.48 ARI: 0.45\n",
      "Epoch: 87 Cl Loss: 13.9097 Entropy: 18.5940 Soft Sil: 1.0903 SIL: 0.0000 ACC: 0.73 PUR: 0.73 NMI: 0.50 ARI: 0.47\n",
      "Epoch: 88 Cl Loss: 13.8842 Entropy: 18.5310 Soft Sil: 1.1158 SIL: 0.0000 ACC: 0.76 PUR: 0.76 NMI: 0.52 ARI: 0.50\n",
      "Epoch: 89 Cl Loss: 13.8715 Entropy: 18.4690 Soft Sil: 1.1285 SIL: 0.0000 ACC: 0.73 PUR: 0.73 NMI: 0.50 ARI: 0.47\n",
      "Epoch: 90 Cl Loss: 13.8588 Entropy: 18.4067 Soft Sil: 1.1412 SIL: 0.0000 ACC: 0.73 PUR: 0.73 NMI: 0.50 ARI: 0.47\n",
      "Epoch: 91 Cl Loss: 13.8348 Entropy: 18.3466 Soft Sil: 1.1652 SIL: 0.0000 ACC: 0.66 PUR: 0.67 NMI: 0.48 ARI: 0.44\n",
      "Epoch: 92 Cl Loss: 13.7871 Entropy: 18.2868 Soft Sil: 1.2129 SIL: 0.0000 ACC: 0.69 PUR: 0.69 NMI: 0.48 ARI: 0.44\n",
      "Epoch: 93 Cl Loss: 13.7922 Entropy: 18.2276 Soft Sil: 1.2078 SIL: 0.0000 ACC: 0.79 PUR: 0.79 NMI: 0.54 ARI: 0.53\n",
      "Epoch: 94 Cl Loss: 13.7681 Entropy: 18.1693 Soft Sil: 1.2319 SIL: 0.0000 ACC: 0.75 PUR: 0.75 NMI: 0.51 ARI: 0.49\n",
      "Epoch: 95 Cl Loss: 13.7555 Entropy: 18.1112 Soft Sil: 1.2445 SIL: 0.0000 ACC: 0.78 PUR: 0.78 NMI: 0.53 ARI: 0.52\n",
      "Epoch: 96 Cl Loss: 13.7306 Entropy: 18.0558 Soft Sil: 1.2694 SIL: 0.0000 ACC: 0.77 PUR: 0.77 NMI: 0.52 ARI: 0.50\n",
      "Epoch: 97 Cl Loss: 13.7059 Entropy: 17.9998 Soft Sil: 1.2941 SIL: 0.0000 ACC: 0.75 PUR: 0.75 NMI: 0.51 ARI: 0.49\n",
      "Epoch: 98 Cl Loss: 13.6656 Entropy: 17.9436 Soft Sil: 1.3344 SIL: 0.0000 ACC: 0.68 PUR: 0.68 NMI: 0.48 ARI: 0.44\n",
      "Epoch: 99 Cl Loss: 13.6729 Entropy: 17.8888 Soft Sil: 1.3271 SIL: 0.0000 ACC: 0.67 PUR: 0.67 NMI: 0.48 ARI: 0.44\n"
     ]
    }
   ],
   "source": [
    "mlp.train()"
   ]
  },
  {
   "cell_type": "markdown",
   "id": "70f020ce",
   "metadata": {},
   "source": [
    "### $k$-means evaluation"
   ]
  },
  {
   "cell_type": "code",
   "execution_count": null,
   "id": "f5eb9515",
   "metadata": {},
   "outputs": [],
   "source": [
    "data, labels = mlp.get_data()\n",
    "kmeans = KMeans(n_clusters=n_clusters, n_init=10).fit(data)\n",
    "evaluator = Evaluator()\n",
    "evaluator.evaluate_model(data, labels, kmeans.labels_)"
   ]
  },
  {
   "cell_type": "code",
   "execution_count": null,
   "id": "ad747b3f",
   "metadata": {},
   "outputs": [],
   "source": [
    "#visualization.makeExcel()\n",
    "#visualization.plot_tsne(mlp=True)\n",
    "visualization.plot(mlp=True)"
   ]
  },
  {
   "cell_type": "code",
   "execution_count": null,
   "id": "1b75ba2d",
   "metadata": {},
   "outputs": [],
   "source": []
  },
  {
   "cell_type": "code",
   "execution_count": null,
   "id": "b59a90d9",
   "metadata": {},
   "outputs": [],
   "source": []
  }
 ],
 "metadata": {
  "kernelspec": {
   "display_name": "Python 3 (ipykernel)",
   "language": "python",
   "name": "python3"
  },
  "language_info": {
   "codemirror_mode": {
    "name": "ipython",
    "version": 3
   },
   "file_extension": ".py",
   "mimetype": "text/x-python",
   "name": "python",
   "nbconvert_exporter": "python",
   "pygments_lexer": "ipython3",
   "version": "3.10.9"
  }
 },
 "nbformat": 4,
 "nbformat_minor": 5
}
