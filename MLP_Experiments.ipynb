{
 "cells": [
  {
   "cell_type": "code",
   "execution_count": 1,
   "id": "53395d6a",
   "metadata": {},
   "outputs": [],
   "source": [
    "#pip3 install google.colab\n",
    "#from google.colab import drive\n",
    "#drive.mount('/content/drive', force_remount=True)"
   ]
  },
  {
   "cell_type": "markdown",
   "id": "5f8e722b",
   "metadata": {},
   "source": [
    "###  Libraries"
   ]
  },
  {
   "cell_type": "code",
   "execution_count": 2,
   "id": "8256748a",
   "metadata": {},
   "outputs": [
    {
     "name": "stderr",
     "output_type": "stream",
     "text": [
      "/home/geo/anaconda3/envs/gvardakas/lib/python3.10/site-packages/tqdm/auto.py:22: TqdmWarning: IProgress not found. Please update jupyter and ipywidgets. See https://ipywidgets.readthedocs.io/en/stable/user_install.html\n",
      "  from .autonotebook import tqdm as notebook_tqdm\n"
     ]
    }
   ],
   "source": [
    "import numpy as np\n",
    "from sklearn.cluster import KMeans\n",
    "import matplotlib.colors as mcolors\n",
    "\n",
    "import torch\n",
    "\n",
    "import os\n",
    "import sys\n",
    "\n",
    "from MLP import MLP\n",
    "from Datasets_Functions import *\n",
    "from Visualization import Visualization\n",
    "from Evaluations.Evaluation import Evaluator"
   ]
  },
  {
   "cell_type": "markdown",
   "id": "6638a8a3",
   "metadata": {},
   "source": [
    "### Global Variables"
   ]
  },
  {
   "cell_type": "code",
   "execution_count": 3,
   "id": "4a53b4e5",
   "metadata": {},
   "outputs": [],
   "source": [
    "path_to_module = './' # 'C:\\\\Users\\\\PAPASOFT INC\\\\Desktop\\\\SOFT_SIL'\n",
    "sys.path.append(path_to_module)\n",
    "os.environ['OMP_NUM_THREADS'] = '1'\n",
    "\n",
    "device = torch.device('cuda:0' if torch.cuda.is_available() else 'cpu')\n",
    "torch.cuda.set_device(device)"
   ]
  },
  {
   "cell_type": "markdown",
   "id": "3467285d",
   "metadata": {},
   "source": [
    "### Load datasets"
   ]
  },
  {
   "cell_type": "code",
   "execution_count": 4,
   "id": "e5c75b05",
   "metadata": {},
   "outputs": [
    {
     "name": "stdout",
     "output_type": "stream",
     "text": [
      "dict_keys(['10x73k', 'TCGA', 'coil20', 'eMNIST_balanced_letters', 'eMNIST_mnist', 'eMNIST_balanced_digits', 'Dermatology', 'Ecoil', 'Iris', 'Rings', 'Wine', 'Australian', 'Moons', 'Squeezed_Gauss', 'Gauss_Densities', 'Pendigits', 'fashionMNIST', '3DSpheres', '20_NewsGroups', 'COIL20', 'CIFAR10', 'STL10', 'R15', 'R3'])\n",
      "{'batch_size': 100, 'n_clusters': 3, 'module_name': 'datasets.datasets_New', 'function_name': 'load_R3_dataloader', 'option_name': ''}\n",
      "Data_Shape is: 2\n",
      "Batches Number is: 15\n"
     ]
    }
   ],
   "source": [
    "hashMapFilePath = path_to_module \n",
    "#updateHashMap(\"R15\",{'batch_size': 50, 'n_clusters': 15, 'module_name': 'datasets.datasets_New', 'function_name': 'load_R15_dataloader', 'option_name': ''},hashMapFilePath)\n",
    "hashMap = getHashMap(hashMapFilePath)\n",
    "print(hashMap.keys())\n",
    "dataset_name = \"R3\"\n",
    "datasetProperties = hashMap[dataset_name]\n",
    "print(datasetProperties)\n",
    "batch_size = datasetProperties['batch_size'] #= 30\n",
    "n_clusters = datasetProperties['n_clusters'] #= 3\n",
    "datasetProperties['module_name'] = 'Datasets.Datasets'\n",
    "dataloader, input_dim, data_np, labels = functionGetDataset(datasetProperties)\n",
    "print('Data_Shape is:', input_dim)\n",
    "print('Batches Number is:',len(dataloader))"
   ]
  },
  {
   "cell_type": "markdown",
   "id": "7a37d27c",
   "metadata": {},
   "source": [
    "### Parameters"
   ]
  },
  {
   "cell_type": "code",
   "execution_count": 5,
   "id": "46464ecf",
   "metadata": {},
   "outputs": [],
   "source": [
    "# Batch Size and Number of Clusters\n",
    "batch_size = datasetProperties['batch_size']\n",
    "n_clusters = datasetProperties['n_clusters']\n",
    "\n",
    "# Training Epochs and Learning Rate\n",
    "lr = 1e-3\n",
    "n_epochs = 50\n",
    "entr_lambda = 100\n",
    "\n",
    "kmeans_initialization = True"
   ]
  },
  {
   "cell_type": "markdown",
   "id": "586dff4c",
   "metadata": {},
   "source": [
    "### Create MLP model"
   ]
  },
  {
   "cell_type": "code",
   "execution_count": 6,
   "id": "10cc7d58",
   "metadata": {},
   "outputs": [],
   "source": [
    "mlp = MLP(device=device, n_clusters=n_clusters, input_dim=input_dim)\n",
    "mlp.set_training_variables(dataloader=dataloader, batch_size=batch_size, n_epochs=n_epochs, lr=lr, entr_lambda=entr_lambda)\n",
    "mlp.set_path_variables(path_to_module=path_to_module, dataset_name=dataset_name)\n",
    "mlp.set_path()\n",
    "\n",
    "mlp = mlp.to(device)"
   ]
  },
  {
   "cell_type": "markdown",
   "id": "31b76a71",
   "metadata": {},
   "source": [
    "### Colors for visualization"
   ]
  },
  {
   "cell_type": "code",
   "execution_count": 7,
   "id": "1545fc4c",
   "metadata": {},
   "outputs": [],
   "source": [
    "color_list = list(mcolors.CSS4_COLORS.keys()) + list(mcolors.XKCD_COLORS.keys())\n",
    "np.random.shuffle(color_list)\n",
    "color_list = ['deepskyblue', 'gold', 'hotpink', 'limegreen'] + color_list\n",
    "visualization = Visualization(color_list,15,mlp)"
   ]
  },
  {
   "cell_type": "markdown",
   "id": "64e01334",
   "metadata": {},
   "source": [
    "### Training the MLP"
   ]
  },
  {
   "cell_type": "code",
   "execution_count": 8,
   "id": "99c04fdd",
   "metadata": {},
   "outputs": [
    {
     "name": "stderr",
     "output_type": "stream",
     "text": [
      "Exception ignored on calling ctypes callback function: <function _ThreadpoolInfo._find_modules_with_dl_iterate_phdr.<locals>.match_module_callback at 0x7efd0646e290>\n",
      "Traceback (most recent call last):\n",
      "  File \"/home/geo/anaconda3/envs/gvardakas/lib/python3.10/site-packages/threadpoolctl.py\", line 400, in match_module_callback\n",
      "    self._make_module_from_path(filepath)\n",
      "  File \"/home/geo/anaconda3/envs/gvardakas/lib/python3.10/site-packages/threadpoolctl.py\", line 515, in _make_module_from_path\n",
      "    module = module_class(filepath, prefix, user_api, internal_api)\n",
      "  File \"/home/geo/anaconda3/envs/gvardakas/lib/python3.10/site-packages/threadpoolctl.py\", line 606, in __init__\n",
      "    self.version = self.get_version()\n",
      "  File \"/home/geo/anaconda3/envs/gvardakas/lib/python3.10/site-packages/threadpoolctl.py\", line 646, in get_version\n",
      "    config = get_config().split()\n",
      "AttributeError: 'NoneType' object has no attribute 'split'\n",
      "Exception ignored on calling ctypes callback function: <function _ThreadpoolInfo._find_modules_with_dl_iterate_phdr.<locals>.match_module_callback at 0x7efd0646e290>\n",
      "Traceback (most recent call last):\n",
      "  File \"/home/geo/anaconda3/envs/gvardakas/lib/python3.10/site-packages/threadpoolctl.py\", line 400, in match_module_callback\n",
      "    self._make_module_from_path(filepath)\n",
      "  File \"/home/geo/anaconda3/envs/gvardakas/lib/python3.10/site-packages/threadpoolctl.py\", line 515, in _make_module_from_path\n",
      "    module = module_class(filepath, prefix, user_api, internal_api)\n",
      "  File \"/home/geo/anaconda3/envs/gvardakas/lib/python3.10/site-packages/threadpoolctl.py\", line 606, in __init__\n",
      "    self.version = self.get_version()\n",
      "  File \"/home/geo/anaconda3/envs/gvardakas/lib/python3.10/site-packages/threadpoolctl.py\", line 646, in get_version\n",
      "    config = get_config().split()\n",
      "AttributeError: 'NoneType' object has no attribute 'split'\n",
      "Exception ignored on calling ctypes callback function: <function _ThreadpoolInfo._find_modules_with_dl_iterate_phdr.<locals>.match_module_callback at 0x7efd0646e290>\n",
      "Traceback (most recent call last):\n",
      "  File \"/home/geo/anaconda3/envs/gvardakas/lib/python3.10/site-packages/threadpoolctl.py\", line 400, in match_module_callback\n",
      "    self._make_module_from_path(filepath)\n",
      "  File \"/home/geo/anaconda3/envs/gvardakas/lib/python3.10/site-packages/threadpoolctl.py\", line 515, in _make_module_from_path\n",
      "    module = module_class(filepath, prefix, user_api, internal_api)\n",
      "  File \"/home/geo/anaconda3/envs/gvardakas/lib/python3.10/site-packages/threadpoolctl.py\", line 606, in __init__\n",
      "    self.version = self.get_version()\n",
      "  File \"/home/geo/anaconda3/envs/gvardakas/lib/python3.10/site-packages/threadpoolctl.py\", line 646, in get_version\n",
      "    config = get_config().split()\n",
      "AttributeError: 'NoneType' object has no attribute 'split'\n",
      "Exception ignored on calling ctypes callback function: <function _ThreadpoolInfo._find_modules_with_dl_iterate_phdr.<locals>.match_module_callback at 0x7efd0646fc70>\n",
      "Traceback (most recent call last):\n",
      "  File \"/home/geo/anaconda3/envs/gvardakas/lib/python3.10/site-packages/threadpoolctl.py\", line 400, in match_module_callback\n",
      "    self._make_module_from_path(filepath)\n",
      "  File \"/home/geo/anaconda3/envs/gvardakas/lib/python3.10/site-packages/threadpoolctl.py\", line 515, in _make_module_from_path\n",
      "    module = module_class(filepath, prefix, user_api, internal_api)\n",
      "  File \"/home/geo/anaconda3/envs/gvardakas/lib/python3.10/site-packages/threadpoolctl.py\", line 606, in __init__\n",
      "    self.version = self.get_version()\n",
      "  File \"/home/geo/anaconda3/envs/gvardakas/lib/python3.10/site-packages/threadpoolctl.py\", line 646, in get_version\n",
      "    config = get_config().split()\n",
      "AttributeError: 'NoneType' object has no attribute 'split'\n",
      "Exception ignored on calling ctypes callback function: <function _ThreadpoolInfo._find_modules_with_dl_iterate_phdr.<locals>.match_module_callback at 0x7efd0646fc70>\n",
      "Traceback (most recent call last):\n",
      "  File \"/home/geo/anaconda3/envs/gvardakas/lib/python3.10/site-packages/threadpoolctl.py\", line 400, in match_module_callback\n",
      "    self._make_module_from_path(filepath)\n",
      "  File \"/home/geo/anaconda3/envs/gvardakas/lib/python3.10/site-packages/threadpoolctl.py\", line 515, in _make_module_from_path\n",
      "    module = module_class(filepath, prefix, user_api, internal_api)\n",
      "  File \"/home/geo/anaconda3/envs/gvardakas/lib/python3.10/site-packages/threadpoolctl.py\", line 606, in __init__\n",
      "    self.version = self.get_version()\n",
      "  File \"/home/geo/anaconda3/envs/gvardakas/lib/python3.10/site-packages/threadpoolctl.py\", line 646, in get_version\n",
      "    config = get_config().split()\n",
      "AttributeError: 'NoneType' object has no attribute 'split'\n",
      "Exception ignored on calling ctypes callback function: <function _ThreadpoolInfo._find_modules_with_dl_iterate_phdr.<locals>.match_module_callback at 0x7efd0646e290>\n",
      "Traceback (most recent call last):\n",
      "  File \"/home/geo/anaconda3/envs/gvardakas/lib/python3.10/site-packages/threadpoolctl.py\", line 400, in match_module_callback\n",
      "    self._make_module_from_path(filepath)\n",
      "  File \"/home/geo/anaconda3/envs/gvardakas/lib/python3.10/site-packages/threadpoolctl.py\", line 515, in _make_module_from_path\n",
      "    module = module_class(filepath, prefix, user_api, internal_api)\n",
      "  File \"/home/geo/anaconda3/envs/gvardakas/lib/python3.10/site-packages/threadpoolctl.py\", line 606, in __init__\n",
      "    self.version = self.get_version()\n",
      "  File \"/home/geo/anaconda3/envs/gvardakas/lib/python3.10/site-packages/threadpoolctl.py\", line 646, in get_version\n",
      "    config = get_config().split()\n",
      "AttributeError: 'NoneType' object has no attribute 'split'\n",
      "Exception ignored on calling ctypes callback function: <function _ThreadpoolInfo._find_modules_with_dl_iterate_phdr.<locals>.match_module_callback at 0x7efd0646f910>\n",
      "Traceback (most recent call last):\n",
      "  File \"/home/geo/anaconda3/envs/gvardakas/lib/python3.10/site-packages/threadpoolctl.py\", line 400, in match_module_callback\n",
      "    self._make_module_from_path(filepath)\n",
      "  File \"/home/geo/anaconda3/envs/gvardakas/lib/python3.10/site-packages/threadpoolctl.py\", line 515, in _make_module_from_path\n",
      "    module = module_class(filepath, prefix, user_api, internal_api)\n",
      "  File \"/home/geo/anaconda3/envs/gvardakas/lib/python3.10/site-packages/threadpoolctl.py\", line 606, in __init__\n",
      "    self.version = self.get_version()\n",
      "  File \"/home/geo/anaconda3/envs/gvardakas/lib/python3.10/site-packages/threadpoolctl.py\", line 646, in get_version\n",
      "    config = get_config().split()\n",
      "AttributeError: 'NoneType' object has no attribute 'split'\n",
      "Exception ignored on calling ctypes callback function: <function _ThreadpoolInfo._find_modules_with_dl_iterate_phdr.<locals>.match_module_callback at 0x7efd0646fc70>\n",
      "Traceback (most recent call last):\n",
      "  File \"/home/geo/anaconda3/envs/gvardakas/lib/python3.10/site-packages/threadpoolctl.py\", line 400, in match_module_callback\n",
      "    self._make_module_from_path(filepath)\n",
      "  File \"/home/geo/anaconda3/envs/gvardakas/lib/python3.10/site-packages/threadpoolctl.py\", line 515, in _make_module_from_path\n",
      "    module = module_class(filepath, prefix, user_api, internal_api)\n",
      "  File \"/home/geo/anaconda3/envs/gvardakas/lib/python3.10/site-packages/threadpoolctl.py\", line 606, in __init__\n",
      "    self.version = self.get_version()\n",
      "  File \"/home/geo/anaconda3/envs/gvardakas/lib/python3.10/site-packages/threadpoolctl.py\", line 646, in get_version\n",
      "    config = get_config().split()\n",
      "AttributeError: 'NoneType' object has no attribute 'split'\n",
      "Exception ignored on calling ctypes callback function: <function _ThreadpoolInfo._find_modules_with_dl_iterate_phdr.<locals>.match_module_callback at 0x7efd0646e290>\n",
      "Traceback (most recent call last):\n",
      "  File \"/home/geo/anaconda3/envs/gvardakas/lib/python3.10/site-packages/threadpoolctl.py\", line 400, in match_module_callback\n",
      "    self._make_module_from_path(filepath)\n",
      "  File \"/home/geo/anaconda3/envs/gvardakas/lib/python3.10/site-packages/threadpoolctl.py\", line 515, in _make_module_from_path\n",
      "    module = module_class(filepath, prefix, user_api, internal_api)\n",
      "  File \"/home/geo/anaconda3/envs/gvardakas/lib/python3.10/site-packages/threadpoolctl.py\", line 606, in __init__\n",
      "    self.version = self.get_version()\n",
      "  File \"/home/geo/anaconda3/envs/gvardakas/lib/python3.10/site-packages/threadpoolctl.py\", line 646, in get_version\n",
      "    config = get_config().split()\n",
      "AttributeError: 'NoneType' object has no attribute 'split'\n"
     ]
    },
    {
     "name": "stderr",
     "output_type": "stream",
     "text": [
      "Exception ignored on calling ctypes callback function: <function _ThreadpoolInfo._find_modules_with_dl_iterate_phdr.<locals>.match_module_callback at 0x7efd0646e290>\n",
      "Traceback (most recent call last):\n",
      "  File \"/home/geo/anaconda3/envs/gvardakas/lib/python3.10/site-packages/threadpoolctl.py\", line 400, in match_module_callback\n",
      "    self._make_module_from_path(filepath)\n",
      "  File \"/home/geo/anaconda3/envs/gvardakas/lib/python3.10/site-packages/threadpoolctl.py\", line 515, in _make_module_from_path\n",
      "    module = module_class(filepath, prefix, user_api, internal_api)\n",
      "  File \"/home/geo/anaconda3/envs/gvardakas/lib/python3.10/site-packages/threadpoolctl.py\", line 606, in __init__\n",
      "    self.version = self.get_version()\n",
      "  File \"/home/geo/anaconda3/envs/gvardakas/lib/python3.10/site-packages/threadpoolctl.py\", line 646, in get_version\n",
      "    config = get_config().split()\n",
      "AttributeError: 'NoneType' object has no attribute 'split'\n"
     ]
    },
    {
     "name": "stdout",
     "output_type": "stream",
     "text": [
      "Epoch: 0 Cl_loss: 15.6389 Entropy: 2354.9396 Soft_sil: -0.6389 SIL: 0.6473 ACC: 0.86 PUR: 0.86 NMI: 0.71 ARI: 0.68\n",
      "Epoch: 1 Cl_loss: 15.6031 Entropy: 2355.7918 Soft_sil: -0.6031 SIL: 0.5893 ACC: 0.80 PUR: 0.80 NMI: 0.68 ARI: 0.59\n",
      "Epoch: 2 Cl_loss: 15.5883 Entropy: 2356.5827 Soft_sil: -0.5883 SIL: 0.5182 ACC: 0.74 PUR: 0.74 NMI: 0.68 ARI: 0.56\n",
      "Epoch: 3 Cl_loss: 15.5806 Entropy: 2357.7399 Soft_sil: -0.5806 SIL: 0.5017 ACC: 0.73 PUR: 0.73 NMI: 0.68 ARI: 0.56\n",
      "Epoch: 4 Cl_loss: 15.5669 Entropy: 2359.1922 Soft_sil: -0.5669 SIL: 0.5052 ACC: 0.73 PUR: 0.73 NMI: 0.68 ARI: 0.56\n",
      "Epoch: 5 Cl_loss: 15.5512 Entropy: 2360.6125 Soft_sil: -0.5512 SIL: 0.5079 ACC: 0.73 PUR: 0.73 NMI: 0.68 ARI: 0.56\n",
      "Epoch: 6 Cl_loss: 15.5359 Entropy: 2362.0517 Soft_sil: -0.5359 SIL: 0.5044 ACC: 0.73 PUR: 0.73 NMI: 0.68 ARI: 0.56\n",
      "Epoch: 7 Cl_loss: 15.5137 Entropy: 2363.4851 Soft_sil: -0.5137 SIL: 0.4982 ACC: 0.72 PUR: 0.72 NMI: 0.68 ARI: 0.56\n",
      "Epoch: 8 Cl_loss: 15.4960 Entropy: 2364.9399 Soft_sil: -0.4960 SIL: 0.4864 ACC: 0.71 PUR: 0.71 NMI: 0.68 ARI: 0.55\n",
      "Epoch: 9 Cl_loss: 15.4765 Entropy: 2366.3781 Soft_sil: -0.4765 SIL: 0.4799 ACC: 0.71 PUR: 0.71 NMI: 0.67 ARI: 0.55\n",
      "Epoch: 10 Cl_loss: 15.4518 Entropy: 2367.7365 Soft_sil: -0.4518 SIL: 0.4769 ACC: 0.71 PUR: 0.71 NMI: 0.67 ARI: 0.55\n",
      "Epoch: 11 Cl_loss: 15.4241 Entropy: 2369.0090 Soft_sil: -0.4241 SIL: 0.4740 ACC: 0.71 PUR: 0.71 NMI: 0.68 ARI: 0.55\n",
      "Epoch: 12 Cl_loss: 15.3952 Entropy: 2370.2627 Soft_sil: -0.3952 SIL: 0.4661 ACC: 0.70 PUR: 0.70 NMI: 0.68 ARI: 0.55\n",
      "Epoch: 13 Cl_loss: 15.3628 Entropy: 2371.5131 Soft_sil: -0.3628 SIL: 0.4597 ACC: 0.70 PUR: 0.70 NMI: 0.67 ARI: 0.55\n",
      "Epoch: 14 Cl_loss: 15.3237 Entropy: 2372.5757 Soft_sil: -0.3237 SIL: 0.4296 ACC: 0.68 PUR: 0.68 NMI: 0.68 ARI: 0.55\n",
      "Epoch: 15 Cl_loss: 15.2874 Entropy: 2373.5141 Soft_sil: -0.2874 SIL: 0.4314 ACC: 0.68 PUR: 0.68 NMI: 0.68 ARI: 0.55\n",
      "Epoch: 16 Cl_loss: 15.2493 Entropy: 2374.3642 Soft_sil: -0.2493 SIL: 0.3345 ACC: 0.73 PUR: 0.73 NMI: 0.57 ARI: 0.51\n",
      "Epoch: 17 Cl_loss: 15.2173 Entropy: 2375.1817 Soft_sil: -0.2173 SIL: 0.3096 ACC: 0.68 PUR: 0.68 NMI: 0.56 ARI: 0.50\n",
      "Epoch: 18 Cl_loss: 15.1867 Entropy: 2375.8710 Soft_sil: -0.1867 SIL: 0.2982 ACC: 0.71 PUR: 0.71 NMI: 0.56 ARI: 0.50\n",
      "Epoch: 19 Cl_loss: 15.1519 Entropy: 2376.4133 Soft_sil: -0.1519 SIL: 0.2793 ACC: 0.67 PUR: 0.67 NMI: 0.55 ARI: 0.49\n",
      "Epoch: 20 Cl_loss: 15.1177 Entropy: 2376.8447 Soft_sil: -0.1177 SIL: 0.2795 ACC: 0.69 PUR: 0.69 NMI: 0.56 ARI: 0.49\n",
      "Epoch: 21 Cl_loss: 15.0840 Entropy: 2377.1479 Soft_sil: -0.0840 SIL: 0.2819 ACC: 0.70 PUR: 0.70 NMI: 0.56 ARI: 0.50\n",
      "Epoch: 22 Cl_loss: 15.0470 Entropy: 2377.3523 Soft_sil: -0.0470 SIL: 0.2796 ACC: 0.68 PUR: 0.68 NMI: 0.56 ARI: 0.49\n",
      "Epoch: 23 Cl_loss: 15.0123 Entropy: 2377.4362 Soft_sil: -0.0123 SIL: -0.0270 ACC: 0.50 PUR: 0.50 NMI: 0.11 ARI: 0.11\n",
      "Epoch: 24 Cl_loss: 15.0057 Entropy: 2377.4429 Soft_sil: -0.0057 SIL: 0.0943 ACC: 0.48 PUR: 0.51 NMI: 0.10 ARI: 0.11\n",
      "Epoch: 25 Cl_loss: 15.0039 Entropy: 2377.4436 Soft_sil: -0.0039 SIL: -0.0550 ACC: 0.40 PUR: 0.40 NMI: 0.02 ARI: 0.02\n",
      "Epoch: 26 Cl_loss: 15.0044 Entropy: 2377.4436 Soft_sil: -0.0044 SIL: -0.0874 ACC: 0.40 PUR: 0.40 NMI: 0.02 ARI: 0.02\n",
      "Epoch: 27 Cl_loss: 15.0027 Entropy: 2377.4438 Soft_sil: -0.0027 SIL: -0.0252 ACC: 0.36 PUR: 0.36 NMI: 0.00 ARI: 0.00\n",
      "Epoch: 28 Cl_loss: 15.0014 Entropy: 2377.4438 Soft_sil: -0.0014 SIL: -0.0196 ACC: 0.35 PUR: 0.36 NMI: 0.00 ARI: 0.00\n",
      "Epoch: 29 Cl_loss: 15.0032 Entropy: 2377.4437 Soft_sil: -0.0032 SIL: -0.0408 ACC: 0.39 PUR: 0.39 NMI: 0.01 ARI: 0.01\n",
      "Epoch: 30 Cl_loss: 15.0025 Entropy: 2377.4438 Soft_sil: -0.0025 SIL: -0.0426 ACC: 0.36 PUR: 0.36 NMI: 0.00 ARI: 0.00\n",
      "Epoch: 31 Cl_loss: 15.0014 Entropy: 2377.4439 Soft_sil: -0.0014 SIL: -0.0714 ACC: 0.38 PUR: 0.40 NMI: 0.02 ARI: 0.02\n",
      "Epoch: 32 Cl_loss: 15.0018 Entropy: 2377.4438 Soft_sil: -0.0018 SIL: -0.0190 ACC: 0.35 PUR: 0.36 NMI: 0.00 ARI: 0.00\n",
      "Epoch: 33 Cl_loss: 15.0016 Entropy: 2377.4438 Soft_sil: -0.0016 SIL: -0.0493 ACC: 0.42 PUR: 0.42 NMI: 0.03 ARI: 0.03\n",
      "Epoch: 34 Cl_loss: 15.0032 Entropy: 2377.4437 Soft_sil: -0.0032 SIL: -0.0150 ACC: 0.35 PUR: 0.35 NMI: 0.00 ARI: -0.00\n",
      "Epoch: 35 Cl_loss: 15.0027 Entropy: 2377.4438 Soft_sil: -0.0027 SIL: -0.0699 ACC: 0.36 PUR: 0.36 NMI: 0.01 ARI: 0.00\n",
      "Epoch: 36 Cl_loss: 15.0019 Entropy: 2377.4438 Soft_sil: -0.0019 SIL: -0.0415 ACC: 0.37 PUR: 0.37 NMI: 0.01 ARI: 0.00\n",
      "Epoch: 37 Cl_loss: 15.0023 Entropy: 2377.4438 Soft_sil: -0.0023 SIL: -0.0801 ACC: 0.36 PUR: 0.37 NMI: 0.01 ARI: 0.00\n",
      "Epoch: 38 Cl_loss: 15.0022 Entropy: 2377.4438 Soft_sil: -0.0022 SIL: -0.0323 ACC: 0.36 PUR: 0.36 NMI: 0.00 ARI: 0.00\n",
      "Epoch: 39 Cl_loss: 15.0019 Entropy: 2377.4439 Soft_sil: -0.0019 SIL: -0.0328 ACC: 0.37 PUR: 0.38 NMI: 0.01 ARI: 0.01\n",
      "Epoch: 40 Cl_loss: 15.0032 Entropy: 2377.4438 Soft_sil: -0.0032 SIL: -0.0520 ACC: 0.38 PUR: 0.38 NMI: 0.01 ARI: 0.01\n",
      "Epoch: 41 Cl_loss: 15.0018 Entropy: 2377.4438 Soft_sil: -0.0018 SIL: -0.0070 ACC: 0.34 PUR: 0.34 NMI: 0.00 ARI: -0.00\n",
      "Epoch: 42 Cl_loss: 15.0016 Entropy: 2377.4438 Soft_sil: -0.0016 SIL: -0.0407 ACC: 0.37 PUR: 0.38 NMI: 0.01 ARI: 0.01\n",
      "Epoch: 43 Cl_loss: 15.0017 Entropy: 2377.4438 Soft_sil: -0.0017 SIL: -0.0375 ACC: 0.36 PUR: 0.36 NMI: 0.00 ARI: 0.00\n",
      "Epoch: 44 Cl_loss: 15.0013 Entropy: 2377.4439 Soft_sil: -0.0013 SIL: -0.0496 ACC: 0.37 PUR: 0.37 NMI: 0.01 ARI: 0.00\n",
      "Epoch: 45 Cl_loss: 15.0013 Entropy: 2377.4439 Soft_sil: -0.0013 SIL: -0.0523 ACC: 0.40 PUR: 0.41 NMI: 0.02 ARI: 0.02\n",
      "Epoch: 46 Cl_loss: 15.0021 Entropy: 2377.4438 Soft_sil: -0.0021 SIL: -0.0629 ACC: 0.39 PUR: 0.39 NMI: 0.01 ARI: 0.01\n",
      "Epoch: 47 Cl_loss: 15.0027 Entropy: 2377.4438 Soft_sil: -0.0027 SIL: -0.0491 ACC: 0.40 PUR: 0.40 NMI: 0.01 ARI: 0.01\n",
      "Epoch: 48 Cl_loss: 15.0027 Entropy: 2377.4438 Soft_sil: -0.0027 SIL: -0.0365 ACC: 0.36 PUR: 0.36 NMI: 0.00 ARI: 0.00\n",
      "Epoch: 49 Cl_loss: 15.0016 Entropy: 2377.4439 Soft_sil: -0.0016 SIL: -0.0198 ACC: 0.35 PUR: 0.36 NMI: 0.00 ARI: 0.00\n"
     ]
    }
   ],
   "source": [
    "# Initialize the clustering layer using k-means\n",
    "if(kmeans_initialization): \n",
    "    mlp.kmeans_initialization(10)\n",
    "\n",
    "mlp.train()"
   ]
  },
  {
   "cell_type": "markdown",
   "id": "70f020ce",
   "metadata": {},
   "source": [
    "### $k$-means evaluation"
   ]
  },
  {
   "cell_type": "code",
   "execution_count": 9,
   "id": "f5eb9515",
   "metadata": {},
   "outputs": [
    {
     "name": "stderr",
     "output_type": "stream",
     "text": [
      "Exception ignored on calling ctypes callback function: <function _ThreadpoolInfo._find_modules_with_dl_iterate_phdr.<locals>.match_module_callback at 0x7efd0646ff40>\n",
      "Traceback (most recent call last):\n",
      "  File \"/home/geo/anaconda3/envs/gvardakas/lib/python3.10/site-packages/threadpoolctl.py\", line 400, in match_module_callback\n",
      "    self._make_module_from_path(filepath)\n",
      "  File \"/home/geo/anaconda3/envs/gvardakas/lib/python3.10/site-packages/threadpoolctl.py\", line 515, in _make_module_from_path\n",
      "    module = module_class(filepath, prefix, user_api, internal_api)\n",
      "  File \"/home/geo/anaconda3/envs/gvardakas/lib/python3.10/site-packages/threadpoolctl.py\", line 606, in __init__\n",
      "    self.version = self.get_version()\n",
      "  File \"/home/geo/anaconda3/envs/gvardakas/lib/python3.10/site-packages/threadpoolctl.py\", line 646, in get_version\n",
      "    config = get_config().split()\n",
      "AttributeError: 'NoneType' object has no attribute 'split'\n",
      "Exception ignored on calling ctypes callback function: <function _ThreadpoolInfo._find_modules_with_dl_iterate_phdr.<locals>.match_module_callback at 0x7efd0646ff40>\n",
      "Traceback (most recent call last):\n",
      "  File \"/home/geo/anaconda3/envs/gvardakas/lib/python3.10/site-packages/threadpoolctl.py\", line 400, in match_module_callback\n",
      "    self._make_module_from_path(filepath)\n",
      "  File \"/home/geo/anaconda3/envs/gvardakas/lib/python3.10/site-packages/threadpoolctl.py\", line 515, in _make_module_from_path\n",
      "    module = module_class(filepath, prefix, user_api, internal_api)\n",
      "  File \"/home/geo/anaconda3/envs/gvardakas/lib/python3.10/site-packages/threadpoolctl.py\", line 606, in __init__\n",
      "    self.version = self.get_version()\n",
      "  File \"/home/geo/anaconda3/envs/gvardakas/lib/python3.10/site-packages/threadpoolctl.py\", line 646, in get_version\n",
      "    config = get_config().split()\n",
      "AttributeError: 'NoneType' object has no attribute 'split'\n",
      "Exception ignored on calling ctypes callback function: <function _ThreadpoolInfo._find_modules_with_dl_iterate_phdr.<locals>.match_module_callback at 0x7efd0646ff40>\n",
      "Traceback (most recent call last):\n",
      "  File \"/home/geo/anaconda3/envs/gvardakas/lib/python3.10/site-packages/threadpoolctl.py\", line 400, in match_module_callback\n",
      "    self._make_module_from_path(filepath)\n",
      "  File \"/home/geo/anaconda3/envs/gvardakas/lib/python3.10/site-packages/threadpoolctl.py\", line 515, in _make_module_from_path\n",
      "    module = module_class(filepath, prefix, user_api, internal_api)\n",
      "  File \"/home/geo/anaconda3/envs/gvardakas/lib/python3.10/site-packages/threadpoolctl.py\", line 606, in __init__\n",
      "    self.version = self.get_version()\n",
      "  File \"/home/geo/anaconda3/envs/gvardakas/lib/python3.10/site-packages/threadpoolctl.py\", line 646, in get_version\n",
      "    config = get_config().split()\n",
      "AttributeError: 'NoneType' object has no attribute 'split'\n",
      "Exception ignored on calling ctypes callback function: <function _ThreadpoolInfo._find_modules_with_dl_iterate_phdr.<locals>.match_module_callback at 0x7efd0646ff40>\n",
      "Traceback (most recent call last):\n",
      "  File \"/home/geo/anaconda3/envs/gvardakas/lib/python3.10/site-packages/threadpoolctl.py\", line 400, in match_module_callback\n",
      "    self._make_module_from_path(filepath)\n",
      "  File \"/home/geo/anaconda3/envs/gvardakas/lib/python3.10/site-packages/threadpoolctl.py\", line 515, in _make_module_from_path\n",
      "    module = module_class(filepath, prefix, user_api, internal_api)\n",
      "  File \"/home/geo/anaconda3/envs/gvardakas/lib/python3.10/site-packages/threadpoolctl.py\", line 606, in __init__\n",
      "    self.version = self.get_version()\n",
      "  File \"/home/geo/anaconda3/envs/gvardakas/lib/python3.10/site-packages/threadpoolctl.py\", line 646, in get_version\n",
      "    config = get_config().split()\n",
      "AttributeError: 'NoneType' object has no attribute 'split'\n",
      "Exception ignored on calling ctypes callback function: <function _ThreadpoolInfo._find_modules_with_dl_iterate_phdr.<locals>.match_module_callback at 0x7efd0646ff40>\n",
      "Traceback (most recent call last):\n",
      "  File \"/home/geo/anaconda3/envs/gvardakas/lib/python3.10/site-packages/threadpoolctl.py\", line 400, in match_module_callback\n",
      "    self._make_module_from_path(filepath)\n",
      "  File \"/home/geo/anaconda3/envs/gvardakas/lib/python3.10/site-packages/threadpoolctl.py\", line 515, in _make_module_from_path\n",
      "    module = module_class(filepath, prefix, user_api, internal_api)\n",
      "  File \"/home/geo/anaconda3/envs/gvardakas/lib/python3.10/site-packages/threadpoolctl.py\", line 606, in __init__\n",
      "    self.version = self.get_version()\n",
      "  File \"/home/geo/anaconda3/envs/gvardakas/lib/python3.10/site-packages/threadpoolctl.py\", line 646, in get_version\n",
      "    config = get_config().split()\n",
      "AttributeError: 'NoneType' object has no attribute 'split'\n",
      "Exception ignored on calling ctypes callback function: <function _ThreadpoolInfo._find_modules_with_dl_iterate_phdr.<locals>.match_module_callback at 0x7efd0646ff40>\n",
      "Traceback (most recent call last):\n",
      "  File \"/home/geo/anaconda3/envs/gvardakas/lib/python3.10/site-packages/threadpoolctl.py\", line 400, in match_module_callback\n",
      "    self._make_module_from_path(filepath)\n",
      "  File \"/home/geo/anaconda3/envs/gvardakas/lib/python3.10/site-packages/threadpoolctl.py\", line 515, in _make_module_from_path\n",
      "    module = module_class(filepath, prefix, user_api, internal_api)\n",
      "  File \"/home/geo/anaconda3/envs/gvardakas/lib/python3.10/site-packages/threadpoolctl.py\", line 606, in __init__\n",
      "    self.version = self.get_version()\n",
      "  File \"/home/geo/anaconda3/envs/gvardakas/lib/python3.10/site-packages/threadpoolctl.py\", line 646, in get_version\n",
      "    config = get_config().split()\n",
      "AttributeError: 'NoneType' object has no attribute 'split'\n",
      "Exception ignored on calling ctypes callback function: <function _ThreadpoolInfo._find_modules_with_dl_iterate_phdr.<locals>.match_module_callback at 0x7efd0646ff40>\n",
      "Traceback (most recent call last):\n",
      "  File \"/home/geo/anaconda3/envs/gvardakas/lib/python3.10/site-packages/threadpoolctl.py\", line 400, in match_module_callback\n",
      "    self._make_module_from_path(filepath)\n",
      "  File \"/home/geo/anaconda3/envs/gvardakas/lib/python3.10/site-packages/threadpoolctl.py\", line 515, in _make_module_from_path\n",
      "    module = module_class(filepath, prefix, user_api, internal_api)\n",
      "  File \"/home/geo/anaconda3/envs/gvardakas/lib/python3.10/site-packages/threadpoolctl.py\", line 606, in __init__\n",
      "    self.version = self.get_version()\n",
      "  File \"/home/geo/anaconda3/envs/gvardakas/lib/python3.10/site-packages/threadpoolctl.py\", line 646, in get_version\n",
      "    config = get_config().split()\n",
      "AttributeError: 'NoneType' object has no attribute 'split'\n",
      "Exception ignored on calling ctypes callback function: <function _ThreadpoolInfo._find_modules_with_dl_iterate_phdr.<locals>.match_module_callback at 0x7efd0646ff40>\n",
      "Traceback (most recent call last):\n",
      "  File \"/home/geo/anaconda3/envs/gvardakas/lib/python3.10/site-packages/threadpoolctl.py\", line 400, in match_module_callback\n",
      "    self._make_module_from_path(filepath)\n",
      "  File \"/home/geo/anaconda3/envs/gvardakas/lib/python3.10/site-packages/threadpoolctl.py\", line 515, in _make_module_from_path\n",
      "    module = module_class(filepath, prefix, user_api, internal_api)\n",
      "  File \"/home/geo/anaconda3/envs/gvardakas/lib/python3.10/site-packages/threadpoolctl.py\", line 606, in __init__\n",
      "    self.version = self.get_version()\n",
      "  File \"/home/geo/anaconda3/envs/gvardakas/lib/python3.10/site-packages/threadpoolctl.py\", line 646, in get_version\n",
      "    config = get_config().split()\n",
      "AttributeError: 'NoneType' object has no attribute 'split'\n",
      "Exception ignored on calling ctypes callback function: <function _ThreadpoolInfo._find_modules_with_dl_iterate_phdr.<locals>.match_module_callback at 0x7efd0646ff40>\n",
      "Traceback (most recent call last):\n",
      "  File \"/home/geo/anaconda3/envs/gvardakas/lib/python3.10/site-packages/threadpoolctl.py\", line 400, in match_module_callback\n",
      "    self._make_module_from_path(filepath)\n",
      "  File \"/home/geo/anaconda3/envs/gvardakas/lib/python3.10/site-packages/threadpoolctl.py\", line 515, in _make_module_from_path\n",
      "    module = module_class(filepath, prefix, user_api, internal_api)\n",
      "  File \"/home/geo/anaconda3/envs/gvardakas/lib/python3.10/site-packages/threadpoolctl.py\", line 606, in __init__\n",
      "    self.version = self.get_version()\n",
      "  File \"/home/geo/anaconda3/envs/gvardakas/lib/python3.10/site-packages/threadpoolctl.py\", line 646, in get_version\n",
      "    config = get_config().split()\n",
      "AttributeError: 'NoneType' object has no attribute 'split'\n"
     ]
    },
    {
     "name": "stderr",
     "output_type": "stream",
     "text": [
      "Exception ignored on calling ctypes callback function: <function _ThreadpoolInfo._find_modules_with_dl_iterate_phdr.<locals>.match_module_callback at 0x7efd0646ff40>\n",
      "Traceback (most recent call last):\n",
      "  File \"/home/geo/anaconda3/envs/gvardakas/lib/python3.10/site-packages/threadpoolctl.py\", line 400, in match_module_callback\n",
      "    self._make_module_from_path(filepath)\n",
      "  File \"/home/geo/anaconda3/envs/gvardakas/lib/python3.10/site-packages/threadpoolctl.py\", line 515, in _make_module_from_path\n",
      "    module = module_class(filepath, prefix, user_api, internal_api)\n",
      "  File \"/home/geo/anaconda3/envs/gvardakas/lib/python3.10/site-packages/threadpoolctl.py\", line 606, in __init__\n",
      "    self.version = self.get_version()\n",
      "  File \"/home/geo/anaconda3/envs/gvardakas/lib/python3.10/site-packages/threadpoolctl.py\", line 646, in get_version\n",
      "    config = get_config().split()\n",
      "AttributeError: 'NoneType' object has no attribute 'split'\n"
     ]
    },
    {
     "data": {
      "text/plain": [
       "(0.8873333333333333,\n",
       " 0.8873333333333333,\n",
       " 0.7121934736682122,\n",
       " 0.7139286069734333,\n",
       " 0.6649299)"
      ]
     },
     "execution_count": 9,
     "metadata": {},
     "output_type": "execute_result"
    }
   ],
   "source": [
    "data, labels = mlp.get_data()\n",
    "kmeans = KMeans(n_clusters=n_clusters, n_init=10).fit(data)\n",
    "evaluator = Evaluator()\n",
    "evaluator.evaluate_model(data, labels, kmeans.labels_)"
   ]
  },
  {
   "cell_type": "code",
   "execution_count": 10,
   "id": "ad747b3f",
   "metadata": {},
   "outputs": [
    {
     "data": {
      "image/png": "[encoded data removed]",
      "text/plain": [
       "<Figure size 1000x1000 with 1 Axes>"
      ]
     },
     "metadata": {},
     "output_type": "display_data"
    }
   ],
   "source": [
    "#visualization.makeExcel()\n",
    "#visualization.plot_tsne(mlp=True)\n",
    "visualization.plot(mlp=True)"
   ]
  },
  {
   "cell_type": "code",
   "execution_count": 11,
   "id": "30d6b44b",
   "metadata": {},
   "outputs": [
    {
     "name": "stdout",
     "output_type": "stream",
     "text": [
      "Entropy: 0.9219280948873624\n"
     ]
    }
   ],
   "source": [
    "import scipy.stats as stats\n",
    "\n",
    "# Define a probability distribution (replace this with your own probabilities)\n",
    "probs = [0.8, 0.1, 0.1]\n",
    "\n",
    "# Calculate entropy\n",
    "entropy_value = stats.entropy(probs, base=2)  # You can specify the base of the logarithm (default is natural logarithm)\n",
    "\n",
    "print(\"Entropy:\", entropy_value)\n"
   ]
  },
  {
   "cell_type": "code",
   "execution_count": null,
   "id": "62aa8056",
   "metadata": {},
   "outputs": [],
   "source": []
  },
  {
   "cell_type": "code",
   "execution_count": null,
   "id": "2a890ca4",
   "metadata": {},
   "outputs": [],
   "source": []
  },
  {
   "cell_type": "code",
   "execution_count": null,
   "id": "b3f030ba",
   "metadata": {},
   "outputs": [],
   "source": []
  },
  {
   "cell_type": "code",
   "execution_count": null,
   "id": "efcb93e5",
   "metadata": {},
   "outputs": [],
   "source": []
  },
  {
   "cell_type": "code",
   "execution_count": null,
   "id": "1b75ba2d",
   "metadata": {},
   "outputs": [],
   "source": []
  }
 ],
 "metadata": {
  "kernelspec": {
   "display_name": "Python 3 (ipykernel)",
   "language": "python",
   "name": "python3"
  },
  "language_info": {
   "codemirror_mode": {
    "name": "ipython",
    "version": 3
   },
   "file_extension": ".py",
   "mimetype": "text/x-python",
   "name": "python",
   "nbconvert_exporter": "python",
   "pygments_lexer": "ipython3",
   "version": "3.10.9"
  }
 },
 "nbformat": 4,
 "nbformat_minor": 5
}
