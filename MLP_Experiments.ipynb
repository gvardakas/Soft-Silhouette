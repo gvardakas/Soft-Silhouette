{
 "cells": [
  {
   "cell_type": "code",
   "execution_count": 1,
   "id": "53395d6a",
   "metadata": {},
   "outputs": [],
   "source": [
    "#pip3 install google.colab\n",
    "#from google.colab import drive\n",
    "#drive.mount('/content/drive', force_remount=True)"
   ]
  },
  {
   "cell_type": "markdown",
   "id": "5f8e722b",
   "metadata": {},
   "source": [
    "###  Libraries"
   ]
  },
  {
   "cell_type": "code",
   "execution_count": 2,
   "id": "8256748a",
   "metadata": {},
   "outputs": [],
   "source": [
    "import numpy as np\n",
    "from sklearn.cluster import KMeans\n",
    "import matplotlib.colors as mcolors\n",
    "\n",
    "import torch\n",
    "\n",
    "import os\n",
    "import sys\n",
    "\n",
    "from MLP import MLP\n",
    "from Datasets_Functions import *\n",
    "from Visualization import Visualization\n",
    "from Evaluations.Evaluation import Evaluator"
   ]
  },
  {
   "cell_type": "markdown",
   "id": "6638a8a3",
   "metadata": {},
   "source": [
    "### Global Variables"
   ]
  },
  {
   "cell_type": "code",
   "execution_count": 3,
   "id": "4a53b4e5",
   "metadata": {},
   "outputs": [],
   "source": [
    "path_to_module = './' # 'C:\\\\Users\\\\PAPASOFT INC\\\\Desktop\\\\SOFT_SIL'\n",
    "sys.path.append(path_to_module)\n",
    "os.environ['OMP_NUM_THREADS'] = '6'\n",
    "\n",
    "device = torch.device('cuda:0' if torch.cuda.is_available() else 'cpu')\n",
    "torch.cuda.set_device(device)"
   ]
  },
  {
   "cell_type": "markdown",
   "id": "3467285d",
   "metadata": {},
   "source": [
    "### Load datasets"
   ]
  },
  {
   "cell_type": "code",
   "execution_count": 4,
   "id": "e5c75b05",
   "metadata": {},
   "outputs": [
    {
     "name": "stdout",
     "output_type": "stream",
     "text": [
      "dict_keys(['10x73k', 'TCGA', 'coil20', 'eMNIST_balanced_letters', 'eMNIST_mnist', 'eMNIST_balanced_digits', 'Dermatology', 'Ecoil', 'Iris', 'Rings', 'Wine', 'Australian', 'Moons', 'Squeezed_Gauss', 'Gauss_Densities', 'Pendigits', 'fashionMNIST', '3DSpheres', '20_NewsGroups', 'COIL20', 'CIFAR10', 'STL10', 'R15', 'R3'])\n",
      "{'batch_size': 100, 'n_clusters': 3, 'module_name': 'Datasets.Datasets', 'function_name': 'load_R3_dataloader', 'option_name': ''}\n",
      "Data_Shape is: 2\n",
      "Batches Number is: 15\n"
     ]
    }
   ],
   "source": [
    "hashmap = get_hashmap(path_to_module)\n",
    "print(hashmap.keys())\n",
    "dataset_name = \"R3\"\n",
    "dataset_properties = hashmap[dataset_name]\n",
    "print(dataset_properties)\n",
    "batch_size = dataset_properties['batch_size'] #= 30\n",
    "n_clusters = dataset_properties['n_clusters'] #= 3\n",
    "dataloader, input_dim, data_np, labels = function_get_dataset(dataset_properties)\n",
    "print('Data_Shape is:', input_dim)\n",
    "print('Batches Number is:', len(dataloader))"
   ]
  },
  {
   "cell_type": "markdown",
   "id": "7a37d27c",
   "metadata": {},
   "source": [
    "### Parameters"
   ]
  },
  {
   "cell_type": "code",
   "execution_count": 5,
   "id": "46464ecf",
   "metadata": {},
   "outputs": [],
   "source": [
    "# Batch Size and Number of Clusters\n",
    "batch_size = dataset_properties['batch_size']\n",
    "n_clusters = dataset_properties['n_clusters']\n",
    "\n",
    "# Training Epochs and Learning Rate\n",
    "lr = 1e-3\n",
    "n_epochs = 100\n",
    "entr_lambda = 1\n",
    "\n",
    "kmeans_initialization = True"
   ]
  },
  {
   "cell_type": "markdown",
   "id": "586dff4c",
   "metadata": {},
   "source": [
    "### Create MLP model"
   ]
  },
  {
   "cell_type": "code",
   "execution_count": 6,
   "id": "10cc7d58",
   "metadata": {},
   "outputs": [],
   "source": [
    "mlp = MLP(device=device, n_clusters=n_clusters, input_dim=input_dim)\n",
    "mlp.set_training_variables(dataloader=dataloader, batch_size=batch_size, n_epochs=n_epochs, lr=lr, entr_lambda=entr_lambda)\n",
    "mlp.set_path_variables(path_to_module=path_to_module, dataset_name=dataset_name)\n",
    "mlp.set_path()\n",
    "\n",
    "mlp = mlp.to(device)"
   ]
  },
  {
   "cell_type": "code",
   "execution_count": 7,
   "id": "cac79ca8",
   "metadata": {},
   "outputs": [
    {
     "name": "stderr",
     "output_type": "stream",
     "text": [
      "C:\\ProgramData\\anaconda3\\lib\\site-packages\\sklearn\\cluster\\_kmeans.py:1382: UserWarning: KMeans is known to have a memory leak on Windows with MKL, when there are less chunks than available threads. You can avoid it by setting the environment variable OMP_NUM_THREADS=6.\n",
      "  warnings.warn(\n"
     ]
    }
   ],
   "source": [
    "# Initialize the clustering layer using k-means\n",
    "if kmeans_initialization : mlp.kmeans_initialization(10)"
   ]
  },
  {
   "cell_type": "markdown",
   "id": "31b76a71",
   "metadata": {},
   "source": [
    "### Colors for visualization"
   ]
  },
  {
   "cell_type": "code",
   "execution_count": 8,
   "id": "1545fc4c",
   "metadata": {},
   "outputs": [],
   "source": [
    "color_list = list(mcolors.CSS4_COLORS.keys()) + list(mcolors.XKCD_COLORS.keys())\n",
    "np.random.shuffle(color_list)\n",
    "color_list = ['deepskyblue', 'gold', 'hotpink', 'limegreen'] + color_list\n",
    "visualization = Visualization()"
   ]
  },
  {
   "cell_type": "markdown",
   "id": "64e01334",
   "metadata": {},
   "source": [
    "### Training the MLP"
   ]
  },
  {
   "cell_type": "code",
   "execution_count": 9,
   "id": "99c04fdd",
   "metadata": {},
   "outputs": [
    {
     "name": "stdout",
     "output_type": "stream",
     "text": [
      "Epoch: 0 Cl Loss: 17.0103 Entropy: 23.3303 Soft Sil: -2.0103 SIL: 0.0000 ACC: 0.34 PUR: 0.34 NMI: 0.02 ARI: 0.00\n",
      "Epoch: 1 Cl Loss: 16.8403 Entropy: 23.3762 Soft Sil: -1.8403 SIL: 0.0000 ACC: 0.37 PUR: 0.37 NMI: 0.07 ARI: 0.01\n",
      "Epoch: 2 Cl Loss: 16.6757 Entropy: 23.4189 Soft Sil: -1.6757 SIL: 0.0000 ACC: 0.44 PUR: 0.44 NMI: 0.18 ARI: 0.05\n",
      "Epoch: 3 Cl Loss: 16.5053 Entropy: 23.4594 Soft Sil: -1.5053 SIL: 0.0000 ACC: 0.54 PUR: 0.54 NMI: 0.35 ARI: 0.20\n",
      "Epoch: 4 Cl Loss: 16.3523 Entropy: 23.4972 Soft Sil: -1.3523 SIL: 0.0000 ACC: 0.60 PUR: 0.60 NMI: 0.50 ARI: 0.36\n",
      "Epoch: 5 Cl Loss: 16.2018 Entropy: 23.5329 Soft Sil: -1.2018 SIL: 0.0000 ACC: 0.64 PUR: 0.64 NMI: 0.60 ARI: 0.46\n",
      "Epoch: 6 Cl Loss: 16.0539 Entropy: 23.5707 Soft Sil: -1.0539 SIL: 0.0000 ACC: 0.65 PUR: 0.65 NMI: 0.65 ARI: 0.52\n",
      "Epoch: 7 Cl Loss: 15.9052 Entropy: 23.6076 Soft Sil: -0.9052 SIL: 0.0000 ACC: 0.66 PUR: 0.66 NMI: 0.67 ARI: 0.53\n",
      "Epoch: 8 Cl Loss: 15.7534 Entropy: 23.6403 Soft Sil: -0.7534 SIL: 0.0000 ACC: 0.66 PUR: 0.66 NMI: 0.71 ARI: 0.56\n",
      "Epoch: 9 Cl Loss: 15.5986 Entropy: 23.6676 Soft Sil: -0.5986 SIL: 0.0000 ACC: 0.67 PUR: 0.67 NMI: 0.72 ARI: 0.57\n",
      "Epoch: 10 Cl Loss: 15.4749 Entropy: 23.6886 Soft Sil: -0.4749 SIL: 0.0000 ACC: 0.67 PUR: 0.67 NMI: 0.70 ARI: 0.56\n",
      "Epoch: 11 Cl Loss: 15.4038 Entropy: 23.7026 Soft Sil: -0.4038 SIL: 0.0000 ACC: 0.72 PUR: 0.72 NMI: 0.65 ARI: 0.54\n",
      "Epoch: 12 Cl Loss: 15.3509 Entropy: 23.7121 Soft Sil: -0.3509 SIL: 0.0000 ACC: 0.73 PUR: 0.73 NMI: 0.61 ARI: 0.53\n",
      "Epoch: 13 Cl Loss: 15.3076 Entropy: 23.7190 Soft Sil: -0.3076 SIL: 0.0000 ACC: 0.75 PUR: 0.75 NMI: 0.58 ARI: 0.52\n",
      "Epoch: 14 Cl Loss: 15.2781 Entropy: 23.7239 Soft Sil: -0.2781 SIL: 0.0000 ACC: 0.75 PUR: 0.75 NMI: 0.56 ARI: 0.50\n",
      "Epoch: 15 Cl Loss: 15.2592 Entropy: 23.7273 Soft Sil: -0.2592 SIL: 0.0000 ACC: 0.74 PUR: 0.74 NMI: 0.54 ARI: 0.48\n",
      "Epoch: 16 Cl Loss: 15.2529 Entropy: 23.7292 Soft Sil: -0.2529 SIL: 0.0000 ACC: 0.71 PUR: 0.71 NMI: 0.52 ARI: 0.46\n",
      "Epoch: 17 Cl Loss: 15.2541 Entropy: 23.7305 Soft Sil: -0.2541 SIL: 0.0000 ACC: 0.72 PUR: 0.72 NMI: 0.52 ARI: 0.47\n",
      "Epoch: 18 Cl Loss: 15.2493 Entropy: 23.7314 Soft Sil: -0.2493 SIL: 0.0000 ACC: 0.73 PUR: 0.73 NMI: 0.52 ARI: 0.47\n",
      "Epoch: 19 Cl Loss: 15.2459 Entropy: 23.7320 Soft Sil: -0.2459 SIL: 0.0000 ACC: 0.72 PUR: 0.72 NMI: 0.52 ARI: 0.47\n",
      "Epoch: 20 Cl Loss: 15.2462 Entropy: 23.7325 Soft Sil: -0.2462 SIL: 0.0000 ACC: 0.72 PUR: 0.72 NMI: 0.52 ARI: 0.47\n",
      "Epoch: 21 Cl Loss: 15.2473 Entropy: 23.7333 Soft Sil: -0.2473 SIL: 0.0000 ACC: 0.72 PUR: 0.72 NMI: 0.52 ARI: 0.47\n",
      "Epoch: 22 Cl Loss: 15.2419 Entropy: 23.7343 Soft Sil: -0.2419 SIL: 0.0000 ACC: 0.72 PUR: 0.72 NMI: 0.52 ARI: 0.47\n",
      "Epoch: 23 Cl Loss: 15.2412 Entropy: 23.7351 Soft Sil: -0.2412 SIL: 0.0000 ACC: 0.71 PUR: 0.71 NMI: 0.51 ARI: 0.46\n",
      "Epoch: 24 Cl Loss: 15.2438 Entropy: 23.7359 Soft Sil: -0.2438 SIL: 0.0000 ACC: 0.72 PUR: 0.72 NMI: 0.52 ARI: 0.47\n",
      "Epoch: 25 Cl Loss: 15.2364 Entropy: 23.7366 Soft Sil: -0.2364 SIL: 0.0000 ACC: 0.72 PUR: 0.72 NMI: 0.52 ARI: 0.47\n",
      "Epoch: 26 Cl Loss: 15.2394 Entropy: 23.7375 Soft Sil: -0.2394 SIL: 0.0000 ACC: 0.71 PUR: 0.71 NMI: 0.51 ARI: 0.46\n",
      "Epoch: 27 Cl Loss: 15.2300 Entropy: 23.7383 Soft Sil: -0.2300 SIL: 0.0000 ACC: 0.71 PUR: 0.71 NMI: 0.52 ARI: 0.46\n",
      "Epoch: 28 Cl Loss: 15.2279 Entropy: 23.7390 Soft Sil: -0.2279 SIL: 0.0000 ACC: 0.71 PUR: 0.71 NMI: 0.52 ARI: 0.46\n",
      "Epoch: 29 Cl Loss: 15.2277 Entropy: 23.7397 Soft Sil: -0.2277 SIL: 0.0000 ACC: 0.72 PUR: 0.72 NMI: 0.52 ARI: 0.47\n",
      "Epoch: 30 Cl Loss: 15.2263 Entropy: 23.7407 Soft Sil: -0.2263 SIL: 0.0000 ACC: 0.71 PUR: 0.71 NMI: 0.51 ARI: 0.46\n",
      "Epoch: 31 Cl Loss: 15.2237 Entropy: 23.7417 Soft Sil: -0.2237 SIL: 0.0000 ACC: 0.71 PUR: 0.71 NMI: 0.51 ARI: 0.46\n",
      "Epoch: 32 Cl Loss: 15.2203 Entropy: 23.7426 Soft Sil: -0.2203 SIL: 0.0000 ACC: 0.71 PUR: 0.71 NMI: 0.52 ARI: 0.46\n",
      "Epoch: 33 Cl Loss: 15.2171 Entropy: 23.7436 Soft Sil: -0.2171 SIL: 0.0000 ACC: 0.71 PUR: 0.71 NMI: 0.51 ARI: 0.46\n",
      "Epoch: 34 Cl Loss: 15.2163 Entropy: 23.7445 Soft Sil: -0.2163 SIL: 0.0000 ACC: 0.71 PUR: 0.71 NMI: 0.51 ARI: 0.46\n",
      "Epoch: 35 Cl Loss: 15.2133 Entropy: 23.7452 Soft Sil: -0.2133 SIL: 0.0000 ACC: 0.72 PUR: 0.72 NMI: 0.52 ARI: 0.47\n",
      "Epoch: 36 Cl Loss: 15.2084 Entropy: 23.7463 Soft Sil: -0.2084 SIL: 0.0000 ACC: 0.71 PUR: 0.71 NMI: 0.51 ARI: 0.46\n",
      "Epoch: 37 Cl Loss: 15.2088 Entropy: 23.7473 Soft Sil: -0.2088 SIL: 0.0000 ACC: 0.71 PUR: 0.71 NMI: 0.51 ARI: 0.46\n",
      "Epoch: 38 Cl Loss: 15.2035 Entropy: 23.7484 Soft Sil: -0.2035 SIL: 0.0000 ACC: 0.71 PUR: 0.71 NMI: 0.51 ARI: 0.46\n",
      "Epoch: 39 Cl Loss: 15.2004 Entropy: 23.7494 Soft Sil: -0.2004 SIL: 0.0000 ACC: 0.70 PUR: 0.70 NMI: 0.51 ARI: 0.46\n",
      "Epoch: 40 Cl Loss: 15.1973 Entropy: 23.7505 Soft Sil: -0.1973 SIL: 0.0000 ACC: 0.70 PUR: 0.70 NMI: 0.51 ARI: 0.46\n",
      "Epoch: 41 Cl Loss: 15.1926 Entropy: 23.7514 Soft Sil: -0.1926 SIL: 0.0000 ACC: 0.71 PUR: 0.71 NMI: 0.51 ARI: 0.46\n",
      "Epoch: 42 Cl Loss: 15.1888 Entropy: 23.7523 Soft Sil: -0.1888 SIL: 0.0000 ACC: 0.71 PUR: 0.71 NMI: 0.51 ARI: 0.46\n",
      "Epoch: 43 Cl Loss: 15.1848 Entropy: 23.7536 Soft Sil: -0.1848 SIL: 0.0000 ACC: 0.70 PUR: 0.70 NMI: 0.51 ARI: 0.46\n",
      "Epoch: 44 Cl Loss: 15.1819 Entropy: 23.7548 Soft Sil: -0.1819 SIL: 0.0000 ACC: 0.70 PUR: 0.70 NMI: 0.51 ARI: 0.46\n",
      "Epoch: 45 Cl Loss: 15.1754 Entropy: 23.7557 Soft Sil: -0.1754 SIL: 0.0000 ACC: 0.70 PUR: 0.70 NMI: 0.51 ARI: 0.46\n",
      "Epoch: 46 Cl Loss: 15.1702 Entropy: 23.7564 Soft Sil: -0.1702 SIL: 0.0000 ACC: 0.70 PUR: 0.70 NMI: 0.51 ARI: 0.46\n",
      "Epoch: 47 Cl Loss: 15.1664 Entropy: 23.7576 Soft Sil: -0.1664 SIL: 0.0000 ACC: 0.70 PUR: 0.70 NMI: 0.51 ARI: 0.46\n",
      "Epoch: 48 Cl Loss: 15.1614 Entropy: 23.7587 Soft Sil: -0.1614 SIL: 0.0000 ACC: 0.70 PUR: 0.70 NMI: 0.51 ARI: 0.46\n",
      "Epoch: 49 Cl Loss: 15.1581 Entropy: 23.7597 Soft Sil: -0.1581 SIL: 0.0000 ACC: 0.69 PUR: 0.69 NMI: 0.50 ARI: 0.45\n",
      "Epoch: 50 Cl Loss: 15.1536 Entropy: 23.7608 Soft Sil: -0.1536 SIL: 0.0000 ACC: 0.70 PUR: 0.70 NMI: 0.51 ARI: 0.46\n",
      "Epoch: 51 Cl Loss: 15.1469 Entropy: 23.7618 Soft Sil: -0.1469 SIL: 0.0000 ACC: 0.69 PUR: 0.69 NMI: 0.51 ARI: 0.45\n",
      "Epoch: 52 Cl Loss: 15.1449 Entropy: 23.7627 Soft Sil: -0.1449 SIL: 0.0000 ACC: 0.69 PUR: 0.69 NMI: 0.50 ARI: 0.45\n",
      "Epoch: 53 Cl Loss: 15.1359 Entropy: 23.7637 Soft Sil: -0.1359 SIL: 0.0000 ACC: 0.70 PUR: 0.70 NMI: 0.51 ARI: 0.46\n",
      "Epoch: 54 Cl Loss: 15.1302 Entropy: 23.7649 Soft Sil: -0.1302 SIL: 0.0000 ACC: 0.68 PUR: 0.68 NMI: 0.50 ARI: 0.45\n",
      "Epoch: 55 Cl Loss: 15.1251 Entropy: 23.7657 Soft Sil: -0.1251 SIL: 0.0000 ACC: 0.69 PUR: 0.69 NMI: 0.50 ARI: 0.45\n",
      "Epoch: 56 Cl Loss: 15.1178 Entropy: 23.7666 Soft Sil: -0.1178 SIL: 0.0000 ACC: 0.69 PUR: 0.69 NMI: 0.50 ARI: 0.45\n",
      "Epoch: 57 Cl Loss: 15.1128 Entropy: 23.7675 Soft Sil: -0.1128 SIL: 0.0000 ACC: 0.68 PUR: 0.68 NMI: 0.50 ARI: 0.45\n",
      "Epoch: 58 Cl Loss: 15.1039 Entropy: 23.7684 Soft Sil: -0.1039 SIL: 0.0000 ACC: 0.68 PUR: 0.68 NMI: 0.50 ARI: 0.45\n",
      "Epoch: 59 Cl Loss: 15.1004 Entropy: 23.7691 Soft Sil: -0.1004 SIL: 0.0000 ACC: 0.69 PUR: 0.69 NMI: 0.50 ARI: 0.45\n",
      "Epoch: 60 Cl Loss: 15.0904 Entropy: 23.7701 Soft Sil: -0.0904 SIL: 0.0000 ACC: 0.67 PUR: 0.67 NMI: 0.50 ARI: 0.45\n",
      "Epoch: 61 Cl Loss: 15.0831 Entropy: 23.7707 Soft Sil: -0.0831 SIL: 0.0000 ACC: 0.67 PUR: 0.67 NMI: 0.50 ARI: 0.44\n",
      "Epoch: 62 Cl Loss: 15.0761 Entropy: 23.7714 Soft Sil: -0.0761 SIL: 0.0000 ACC: 0.69 PUR: 0.69 NMI: 0.50 ARI: 0.45\n",
      "Epoch: 63 Cl Loss: 15.0664 Entropy: 23.7721 Soft Sil: -0.0664 SIL: 0.0000 ACC: 0.67 PUR: 0.67 NMI: 0.50 ARI: 0.45\n",
      "Epoch: 64 Cl Loss: 15.0579 Entropy: 23.7726 Soft Sil: -0.0579 SIL: 0.0000 ACC: 0.67 PUR: 0.67 NMI: 0.50 ARI: 0.45\n",
      "Epoch: 65 Cl Loss: 15.0491 Entropy: 23.7731 Soft Sil: -0.0491 SIL: 0.0000 ACC: 0.67 PUR: 0.67 NMI: 0.50 ARI: 0.45\n",
      "Epoch: 66 Cl Loss: 15.0405 Entropy: 23.7735 Soft Sil: -0.0405 SIL: 0.0000 ACC: 0.67 PUR: 0.67 NMI: 0.50 ARI: 0.45\n",
      "Epoch: 67 Cl Loss: 15.0310 Entropy: 23.7739 Soft Sil: -0.0310 SIL: 0.0000 ACC: 0.64 PUR: 0.66 NMI: 0.46 ARI: 0.41\n",
      "Epoch: 68 Cl Loss: 15.0237 Entropy: 23.7741 Soft Sil: -0.0237 SIL: 0.0000 ACC: 0.57 PUR: 0.66 NMI: 0.41 ARI: 0.35\n",
      "Epoch: 69 Cl Loss: 15.0135 Entropy: 23.7743 Soft Sil: -0.0135 SIL: 0.0000 ACC: 0.68 PUR: 0.68 NMI: 0.48 ARI: 0.44\n",
      "Epoch: 70 Cl Loss: 15.0062 Entropy: 23.7744 Soft Sil: -0.0062 SIL: 0.0000 ACC: 0.57 PUR: 0.63 NMI: 0.34 ARI: 0.31\n",
      "Epoch: 71 Cl Loss: 15.0045 Entropy: 23.7744 Soft Sil: -0.0045 SIL: 0.0000 ACC: 0.57 PUR: 0.57 NMI: 0.21 ARI: 0.19\n",
      "Epoch: 72 Cl Loss: 15.0033 Entropy: 23.7744 Soft Sil: -0.0033 SIL: 0.0000 ACC: 0.48 PUR: 0.48 NMI: 0.07 ARI: 0.08\n",
      "Epoch: 73 Cl Loss: 15.0029 Entropy: 23.7744 Soft Sil: -0.0029 SIL: 0.0000 ACC: 0.54 PUR: 0.54 NMI: 0.23 ARI: 0.21\n",
      "Epoch: 74 Cl Loss: 15.0027 Entropy: 23.7744 Soft Sil: -0.0027 SIL: 0.0000 ACC: 0.39 PUR: 0.40 NMI: 0.02 ARI: 0.02\n"
     ]
    },
    {
     "name": "stdout",
     "output_type": "stream",
     "text": [
      "Epoch: 75 Cl Loss: 15.0030 Entropy: 23.7744 Soft Sil: -0.0030 SIL: 0.0000 ACC: 0.50 PUR: 0.50 NMI: 0.24 ARI: 0.14\n",
      "Epoch: 76 Cl Loss: 15.0024 Entropy: 23.7744 Soft Sil: -0.0024 SIL: 0.0000 ACC: 0.37 PUR: 0.39 NMI: 0.01 ARI: 0.01\n",
      "Epoch: 77 Cl Loss: 15.0029 Entropy: 23.7744 Soft Sil: -0.0029 SIL: 0.0000 ACC: 0.39 PUR: 0.40 NMI: 0.02 ARI: 0.01\n",
      "Epoch: 78 Cl Loss: 15.0016 Entropy: 23.7744 Soft Sil: -0.0016 SIL: 0.0000 ACC: 0.37 PUR: 0.37 NMI: 0.00 ARI: 0.00\n",
      "Epoch: 79 Cl Loss: 15.0020 Entropy: 23.7744 Soft Sil: -0.0020 SIL: 0.0000 ACC: 0.37 PUR: 0.37 NMI: 0.01 ARI: 0.01\n",
      "Epoch: 80 Cl Loss: 15.0030 Entropy: 23.7744 Soft Sil: -0.0030 SIL: 0.0000 ACC: 0.40 PUR: 0.40 NMI: 0.01 ARI: 0.01\n",
      "Epoch: 81 Cl Loss: 15.0022 Entropy: 23.7744 Soft Sil: -0.0022 SIL: 0.0000 ACC: 0.40 PUR: 0.40 NMI: 0.02 ARI: 0.02\n",
      "Epoch: 82 Cl Loss: 15.0021 Entropy: 23.7744 Soft Sil: -0.0021 SIL: 0.0000 ACC: 0.44 PUR: 0.44 NMI: 0.05 ARI: 0.04\n",
      "Epoch: 83 Cl Loss: 15.0022 Entropy: 23.7744 Soft Sil: -0.0022 SIL: 0.0000 ACC: 0.34 PUR: 0.35 NMI: 0.01 ARI: -0.00\n",
      "Epoch: 84 Cl Loss: 15.0021 Entropy: 23.7744 Soft Sil: -0.0021 SIL: 0.0000 ACC: 0.49 PUR: 0.49 NMI: 0.13 ARI: 0.09\n",
      "Epoch: 85 Cl Loss: 15.0020 Entropy: 23.7744 Soft Sil: -0.0020 SIL: 0.0000 ACC: 0.51 PUR: 0.51 NMI: 0.14 ARI: 0.13\n",
      "Epoch: 86 Cl Loss: 15.0022 Entropy: 23.7744 Soft Sil: -0.0022 SIL: 0.0000 ACC: 0.36 PUR: 0.37 NMI: 0.01 ARI: 0.01\n",
      "Epoch: 87 Cl Loss: 15.0027 Entropy: 23.7744 Soft Sil: -0.0027 SIL: 0.0000 ACC: 0.37 PUR: 0.37 NMI: 0.01 ARI: 0.00\n",
      "Epoch: 88 Cl Loss: 15.0025 Entropy: 23.7744 Soft Sil: -0.0025 SIL: 0.0000 ACC: 0.38 PUR: 0.38 NMI: 0.01 ARI: 0.00\n",
      "Epoch: 89 Cl Loss: 15.0016 Entropy: 23.7744 Soft Sil: -0.0016 SIL: 0.0000 ACC: 0.39 PUR: 0.39 NMI: 0.01 ARI: 0.01\n",
      "Epoch: 90 Cl Loss: 15.0017 Entropy: 23.7744 Soft Sil: -0.0017 SIL: 0.0000 ACC: 0.35 PUR: 0.36 NMI: 0.00 ARI: 0.00\n",
      "Epoch: 91 Cl Loss: 15.0018 Entropy: 23.7744 Soft Sil: -0.0018 SIL: 0.0000 ACC: 0.42 PUR: 0.42 NMI: 0.02 ARI: 0.02\n",
      "Epoch: 92 Cl Loss: 15.0010 Entropy: 23.7744 Soft Sil: -0.0010 SIL: 0.0000 ACC: 0.39 PUR: 0.40 NMI: 0.01 ARI: 0.01\n",
      "Epoch: 93 Cl Loss: 15.0011 Entropy: 23.7744 Soft Sil: -0.0011 SIL: 0.0000 ACC: 0.43 PUR: 0.43 NMI: 0.04 ARI: 0.03\n",
      "Epoch: 94 Cl Loss: 15.0015 Entropy: 23.7744 Soft Sil: -0.0015 SIL: 0.0000 ACC: 0.43 PUR: 0.43 NMI: 0.03 ARI: 0.03\n",
      "Epoch: 95 Cl Loss: 15.0022 Entropy: 23.7744 Soft Sil: -0.0022 SIL: 0.0000 ACC: 0.37 PUR: 0.37 NMI: 0.01 ARI: 0.00\n",
      "Epoch: 96 Cl Loss: 15.0017 Entropy: 23.7744 Soft Sil: -0.0017 SIL: 0.0000 ACC: 0.36 PUR: 0.36 NMI: 0.01 ARI: 0.00\n",
      "Epoch: 97 Cl Loss: 15.0015 Entropy: 23.7744 Soft Sil: -0.0015 SIL: 0.0000 ACC: 0.36 PUR: 0.36 NMI: 0.00 ARI: 0.00\n",
      "Epoch: 98 Cl Loss: 15.0015 Entropy: 23.7744 Soft Sil: -0.0015 SIL: 0.0000 ACC: 0.37 PUR: 0.38 NMI: 0.01 ARI: 0.01\n",
      "Epoch: 99 Cl Loss: 15.0013 Entropy: 23.7744 Soft Sil: -0.0013 SIL: 0.0000 ACC: 0.37 PUR: 0.37 NMI: 0.00 ARI: 0.00\n"
     ]
    }
   ],
   "source": [
    "mlp.train()"
   ]
  },
  {
   "cell_type": "markdown",
   "id": "70f020ce",
   "metadata": {},
   "source": [
    "### $k$-means evaluation"
   ]
  },
  {
   "cell_type": "code",
   "execution_count": 10,
   "id": "f5eb9515",
   "metadata": {},
   "outputs": [
    {
     "name": "stderr",
     "output_type": "stream",
     "text": [
      "C:\\ProgramData\\anaconda3\\lib\\site-packages\\sklearn\\cluster\\_kmeans.py:1382: UserWarning: KMeans is known to have a memory leak on Windows with MKL, when there are less chunks than available threads. You can avoid it by setting the environment variable OMP_NUM_THREADS=6.\n",
      "  warnings.warn(\n"
     ]
    },
    {
     "data": {
      "text/plain": [
       "(1.0, 1.0, 1.0, 1.0, 0)"
      ]
     },
     "execution_count": 10,
     "metadata": {},
     "output_type": "execute_result"
    }
   ],
   "source": [
    "data, labels = mlp.get_data()\n",
    "kmeans = KMeans(n_clusters=n_clusters, n_init=10).fit(data)\n",
    "evaluator = Evaluator()\n",
    "evaluator.evaluate_model(data, labels, kmeans.labels_)"
   ]
  },
  {
   "cell_type": "code",
   "execution_count": 11,
   "id": "ad747b3f",
   "metadata": {},
   "outputs": [
    {
     "ename": "TypeError",
     "evalue": "Visualization.plot() missing 5 required positional arguments: 'data', 'y_true', 'y_predict', 'cluster_centers', and 'data_dir_path'",
     "output_type": "error",
     "traceback": [
      "\u001b[1;31m---------------------------------------------------------------------------\u001b[0m",
      "\u001b[1;31mTypeError\u001b[0m                                 Traceback (most recent call last)",
      "Cell \u001b[1;32mIn[11], line 3\u001b[0m\n\u001b[0;32m      1\u001b[0m \u001b[38;5;66;03m#visualization.makeExcel()\u001b[39;00m\n\u001b[0;32m      2\u001b[0m \u001b[38;5;66;03m#visualization.plot_tsne(mlp=True)\u001b[39;00m\n\u001b[1;32m----> 3\u001b[0m \u001b[43mvisualization\u001b[49m\u001b[38;5;241;43m.\u001b[39;49m\u001b[43mplot\u001b[49m\u001b[43m(\u001b[49m\u001b[43m)\u001b[49m\n",
      "\u001b[1;31mTypeError\u001b[0m: Visualization.plot() missing 5 required positional arguments: 'data', 'y_true', 'y_predict', 'cluster_centers', and 'data_dir_path'"
     ]
    }
   ],
   "source": [
    "#visualization.makeExcel()\n",
    "#visualization.plot_tsne(mlp=True)\n",
    "visualization.plot(data, )"
   ]
  },
  {
   "cell_type": "code",
   "execution_count": null,
   "id": "99f40197",
   "metadata": {},
   "outputs": [],
   "source": [
    "visualization.plot(latent_data, labels, clustering, cluster_centers, autoencoder.data_dir_path)"
   ]
  },
  {
   "cell_type": "code",
   "execution_count": null,
   "id": "6dd60780",
   "metadata": {},
   "outputs": [],
   "source": [
    "visualization.plot_tsne(latent_data, labels, clustering, cluster_centers, autoencoder.data_dir_path)"
   ]
  },
  {
   "cell_type": "code",
   "execution_count": null,
   "id": "c243118b",
   "metadata": {},
   "outputs": [],
   "source": []
  }
 ],
 "metadata": {
  "kernelspec": {
   "display_name": "Python 3 (ipykernel)",
   "language": "python",
   "name": "python3"
  },
  "language_info": {
   "codemirror_mode": {
    "name": "ipython",
    "version": 3
   },
   "file_extension": ".py",
   "mimetype": "text/x-python",
   "name": "python",
   "nbconvert_exporter": "python",
   "pygments_lexer": "ipython3",
   "version": "3.10.9"
  }
 },
 "nbformat": 4,
 "nbformat_minor": 5
}
