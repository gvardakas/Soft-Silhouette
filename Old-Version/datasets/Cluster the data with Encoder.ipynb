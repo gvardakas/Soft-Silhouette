{
 "cells": [
  {
   "cell_type": "code",
   "execution_count": 1,
   "metadata": {},
   "outputs": [],
   "source": [
    "import torch\n",
    "from torch.autograd import Variable\n",
    "import numpy as np\n",
    "import matplotlib.pyplot as plt\n",
    "import matplotlib.cm as cm\n",
    "import matplotlib\n",
    "import itertools\n",
    "import numpy as np\n",
    "import pandas as pd\n",
    "\n",
    "from sklearn.manifold import TSNE\n",
    "from sklearn.cluster import KMeans\n",
    "from sklearn.metrics import accuracy_score\n",
    "from sklearn.metrics.cluster import normalized_mutual_info_score, adjusted_rand_score\n",
    "\n",
    "\n",
    "from datasets.datasets import get_10x_73k, get_australian_dataloader, get_wine_dataloader, get_rings_dataloader, get_iris_dataloader, get_synthetic_dataloader, get_MNIST_dataloader, get_MNIST_subset_dataloader, get_Pendigits_dataloader, get_even_or_odd_Pendigits_dataloader, get_FashionMNIST_dataloader, get_FashionMNIST_5_dataloader\n",
    "from Generator_Encoder.encoder import Conv_Encoder, FC_Encoder"
   ]
  },
  {
   "cell_type": "markdown",
   "metadata": {},
   "source": [
    "## Mnist"
   ]
  },
  {
   "cell_type": "code",
   "execution_count": 2,
   "metadata": {},
   "outputs": [
    {
     "ename": "FileNotFoundError",
     "evalue": "[Errno 2] No such file or directory: './encoder.pth'",
     "output_type": "error",
     "traceback": [
      "\u001b[0;31m---------------------------------------------------------------------------\u001b[0m",
      "\u001b[0;31mFileNotFoundError\u001b[0m                         Traceback (most recent call last)",
      "\u001b[0;32m<ipython-input-2-512dc5d3dd97>\u001b[0m in \u001b[0;36m<module>\u001b[0;34m\u001b[0m\n\u001b[1;32m      9\u001b[0m \u001b[0;34m\u001b[0m\u001b[0m\n\u001b[1;32m     10\u001b[0m \u001b[0mencoder\u001b[0m \u001b[0;34m=\u001b[0m \u001b[0mConv_Encoder\u001b[0m\u001b[0;34m(\u001b[0m\u001b[0mlatent_dim\u001b[0m\u001b[0;34m,\u001b[0m \u001b[0mn_clusters\u001b[0m\u001b[0;34m)\u001b[0m\u001b[0;34m\u001b[0m\u001b[0;34m\u001b[0m\u001b[0m\n\u001b[0;32m---> 11\u001b[0;31m \u001b[0mencoder\u001b[0m\u001b[0;34m.\u001b[0m\u001b[0mload_state_dict\u001b[0m\u001b[0;34m(\u001b[0m\u001b[0mtorch\u001b[0m\u001b[0;34m.\u001b[0m\u001b[0mload\u001b[0m\u001b[0;34m(\u001b[0m\u001b[0;34m\"./encoder.pth\"\u001b[0m\u001b[0;34m)\u001b[0m\u001b[0;34m)\u001b[0m\u001b[0;34m\u001b[0m\u001b[0;34m\u001b[0m\u001b[0m\n\u001b[0m\u001b[1;32m     12\u001b[0m \u001b[0;31m#encoder.load_state_dict(torch.load(\"./Trained_Models/encoder.pth\"))\u001b[0m\u001b[0;34m\u001b[0m\u001b[0;34m\u001b[0m\u001b[0;34m\u001b[0m\u001b[0m\n",
      "\u001b[0;32m~/.local/lib/python3.8/site-packages/torch/serialization.py\u001b[0m in \u001b[0;36mload\u001b[0;34m(f, map_location, pickle_module, **pickle_load_args)\u001b[0m\n\u001b[1;32m    569\u001b[0m         \u001b[0mpickle_load_args\u001b[0m\u001b[0;34m[\u001b[0m\u001b[0;34m'encoding'\u001b[0m\u001b[0;34m]\u001b[0m \u001b[0;34m=\u001b[0m \u001b[0;34m'utf-8'\u001b[0m\u001b[0;34m\u001b[0m\u001b[0;34m\u001b[0m\u001b[0m\n\u001b[1;32m    570\u001b[0m \u001b[0;34m\u001b[0m\u001b[0m\n\u001b[0;32m--> 571\u001b[0;31m     \u001b[0;32mwith\u001b[0m \u001b[0m_open_file_like\u001b[0m\u001b[0;34m(\u001b[0m\u001b[0mf\u001b[0m\u001b[0;34m,\u001b[0m \u001b[0;34m'rb'\u001b[0m\u001b[0;34m)\u001b[0m \u001b[0;32mas\u001b[0m \u001b[0mopened_file\u001b[0m\u001b[0;34m:\u001b[0m\u001b[0;34m\u001b[0m\u001b[0;34m\u001b[0m\u001b[0m\n\u001b[0m\u001b[1;32m    572\u001b[0m         \u001b[0;32mif\u001b[0m \u001b[0m_is_zipfile\u001b[0m\u001b[0;34m(\u001b[0m\u001b[0mopened_file\u001b[0m\u001b[0;34m)\u001b[0m\u001b[0;34m:\u001b[0m\u001b[0;34m\u001b[0m\u001b[0;34m\u001b[0m\u001b[0m\n\u001b[1;32m    573\u001b[0m             \u001b[0;31m# The zipfile reader is going to advance the current file position.\u001b[0m\u001b[0;34m\u001b[0m\u001b[0;34m\u001b[0m\u001b[0;34m\u001b[0m\u001b[0m\n",
      "\u001b[0;32m~/.local/lib/python3.8/site-packages/torch/serialization.py\u001b[0m in \u001b[0;36m_open_file_like\u001b[0;34m(name_or_buffer, mode)\u001b[0m\n\u001b[1;32m    227\u001b[0m \u001b[0;32mdef\u001b[0m \u001b[0m_open_file_like\u001b[0m\u001b[0;34m(\u001b[0m\u001b[0mname_or_buffer\u001b[0m\u001b[0;34m,\u001b[0m \u001b[0mmode\u001b[0m\u001b[0;34m)\u001b[0m\u001b[0;34m:\u001b[0m\u001b[0;34m\u001b[0m\u001b[0;34m\u001b[0m\u001b[0m\n\u001b[1;32m    228\u001b[0m     \u001b[0;32mif\u001b[0m \u001b[0m_is_path\u001b[0m\u001b[0;34m(\u001b[0m\u001b[0mname_or_buffer\u001b[0m\u001b[0;34m)\u001b[0m\u001b[0;34m:\u001b[0m\u001b[0;34m\u001b[0m\u001b[0;34m\u001b[0m\u001b[0m\n\u001b[0;32m--> 229\u001b[0;31m         \u001b[0;32mreturn\u001b[0m \u001b[0m_open_file\u001b[0m\u001b[0;34m(\u001b[0m\u001b[0mname_or_buffer\u001b[0m\u001b[0;34m,\u001b[0m \u001b[0mmode\u001b[0m\u001b[0;34m)\u001b[0m\u001b[0;34m\u001b[0m\u001b[0;34m\u001b[0m\u001b[0m\n\u001b[0m\u001b[1;32m    230\u001b[0m     \u001b[0;32melse\u001b[0m\u001b[0;34m:\u001b[0m\u001b[0;34m\u001b[0m\u001b[0;34m\u001b[0m\u001b[0m\n\u001b[1;32m    231\u001b[0m         \u001b[0;32mif\u001b[0m \u001b[0;34m'w'\u001b[0m \u001b[0;32min\u001b[0m \u001b[0mmode\u001b[0m\u001b[0;34m:\u001b[0m\u001b[0;34m\u001b[0m\u001b[0;34m\u001b[0m\u001b[0m\n",
      "\u001b[0;32m~/.local/lib/python3.8/site-packages/torch/serialization.py\u001b[0m in \u001b[0;36m__init__\u001b[0;34m(self, name, mode)\u001b[0m\n\u001b[1;32m    208\u001b[0m \u001b[0;32mclass\u001b[0m \u001b[0m_open_file\u001b[0m\u001b[0;34m(\u001b[0m\u001b[0m_opener\u001b[0m\u001b[0;34m)\u001b[0m\u001b[0;34m:\u001b[0m\u001b[0;34m\u001b[0m\u001b[0;34m\u001b[0m\u001b[0m\n\u001b[1;32m    209\u001b[0m     \u001b[0;32mdef\u001b[0m \u001b[0m__init__\u001b[0m\u001b[0;34m(\u001b[0m\u001b[0mself\u001b[0m\u001b[0;34m,\u001b[0m \u001b[0mname\u001b[0m\u001b[0;34m,\u001b[0m \u001b[0mmode\u001b[0m\u001b[0;34m)\u001b[0m\u001b[0;34m:\u001b[0m\u001b[0;34m\u001b[0m\u001b[0;34m\u001b[0m\u001b[0m\n\u001b[0;32m--> 210\u001b[0;31m         \u001b[0msuper\u001b[0m\u001b[0;34m(\u001b[0m\u001b[0m_open_file\u001b[0m\u001b[0;34m,\u001b[0m \u001b[0mself\u001b[0m\u001b[0;34m)\u001b[0m\u001b[0;34m.\u001b[0m\u001b[0m__init__\u001b[0m\u001b[0;34m(\u001b[0m\u001b[0mopen\u001b[0m\u001b[0;34m(\u001b[0m\u001b[0mname\u001b[0m\u001b[0;34m,\u001b[0m \u001b[0mmode\u001b[0m\u001b[0;34m)\u001b[0m\u001b[0;34m)\u001b[0m\u001b[0;34m\u001b[0m\u001b[0;34m\u001b[0m\u001b[0m\n\u001b[0m\u001b[1;32m    211\u001b[0m \u001b[0;34m\u001b[0m\u001b[0m\n\u001b[1;32m    212\u001b[0m     \u001b[0;32mdef\u001b[0m \u001b[0m__exit__\u001b[0m\u001b[0;34m(\u001b[0m\u001b[0mself\u001b[0m\u001b[0;34m,\u001b[0m \u001b[0;34m*\u001b[0m\u001b[0margs\u001b[0m\u001b[0;34m)\u001b[0m\u001b[0;34m:\u001b[0m\u001b[0;34m\u001b[0m\u001b[0;34m\u001b[0m\u001b[0m\n",
      "\u001b[0;31mFileNotFoundError\u001b[0m: [Errno 2] No such file or directory: './encoder.pth'"
     ]
    }
   ],
   "source": [
    "Tensor = torch.cuda.FloatTensor if False else torch.FloatTensor\n",
    "\n",
    "latent_dim = 10\n",
    "n_clusters = 10\n",
    "\n",
    "batch_size = 30000\n",
    "dataloader = get_MNIST_dataloader(batch_size=batch_size)\n",
    "#dataloader = get_MNIST_subset_dataloader(batch_size=batch_size)\n",
    "\n",
    "encoder = Conv_Encoder(latent_dim, n_clusters)\n",
    "encoder.load_state_dict(torch.load(\"./encoder.pth\"))\n",
    "#encoder.load_state_dict(torch.load(\"./Trained_Models/encoder.pth\"))"
   ]
  },
  {
   "cell_type": "markdown",
   "metadata": {},
   "source": [
    "## Fashion-MNIST"
   ]
  },
  {
   "cell_type": "code",
   "execution_count": null,
   "metadata": {},
   "outputs": [],
   "source": [
    "Tensor = torch.cuda.FloatTensor if False else torch.FloatTensor\n",
    "latent_dim = 10\n",
    "n_clusters = 5\n",
    "\n",
    "batch_size = 60000\n",
    "#dataloader = get_FashionMNIST_dataloader(batch_size=batch_size)\n",
    "dataloader = get_FashionMNIST_5_dataloader(batch_size=batch_size)\n",
    "encoder = Conv_Encoder(latent_dim, n_clusters)\n",
    "#encoder.load_state_dict(torch.load(\"./Trained_Models/Fashion-MNIST/encoder.pth\"))\n",
    "encoder.load_state_dict(torch.load(\"./Trained_Models/Fashion-MNIST_5/encoder.pth\"))"
   ]
  },
  {
   "cell_type": "markdown",
   "metadata": {},
   "source": [
    "## Pendigits"
   ]
  },
  {
   "cell_type": "code",
   "execution_count": 7,
   "metadata": {
    "scrolled": true
   },
   "outputs": [
    {
     "data": {
      "text/plain": [
       "<All keys matched successfully>"
      ]
     },
     "execution_count": 7,
     "metadata": {},
     "output_type": "execute_result"
    }
   ],
   "source": [
    "Tensor = torch.cuda.FloatTensor if False else torch.FloatTensor\n",
    "\n",
    "latent_dim = 5\n",
    "n_clusters = 10\n",
    "\n",
    "batch_size = 7494\n",
    "batch_size_even = 5542\n",
    "batch_size_odd = batch_size - batch_size_even\n",
    "dataloader, data_shape = get_Pendigits_dataloader(batch_size=batch_size)\n",
    "#dataloader, data_shape = get_even_or_odd_Pendigits_dataloader(batch_size=batch_size_even, even=True)\n",
    "#dataloader, data_shape = get_even_or_odd_Pendigits_dataloader(batch_size=batch_size_odd, even=False)\n",
    "\n",
    "encoder = FC_Encoder(latent_dim, n_clusters, data_shape)\n",
    "encoder.load_state_dict(torch.load(\"./encoder_Pendigits_ACC_84_NMI_76.pth\"))"
   ]
  },
  {
   "cell_type": "markdown",
   "metadata": {},
   "source": [
    "## 10x_73k"
   ]
  },
  {
   "cell_type": "code",
   "execution_count": 2,
   "metadata": {},
   "outputs": [
    {
     "data": {
      "text/plain": [
       "<All keys matched successfully>"
      ]
     },
     "execution_count": 2,
     "metadata": {},
     "output_type": "execute_result"
    }
   ],
   "source": [
    "Tensor = torch.cuda.FloatTensor if False else torch.FloatTensor\n",
    "\n",
    "latent_dim = 10\n",
    "n_clusters = 8\n",
    "\n",
    "batch_size = 10000\n",
    "dataloader, data_shape = get_10x_73k(batch_size=batch_size, data_points=batch_size)\n",
    "\n",
    "encoder = FC_Encoder(latent_dim, n_clusters, data_shape)\n",
    "encoder.load_state_dict(torch.load(\"./encoder_10x_37k_Acc_88_NMI_75.pth\"))"
   ]
  },
  {
   "cell_type": "markdown",
   "metadata": {},
   "source": [
    "## Synthetic"
   ]
  },
  {
   "cell_type": "code",
   "execution_count": 2,
   "metadata": {},
   "outputs": [
    {
     "data": {
      "text/plain": [
       "<All keys matched successfully>"
      ]
     },
     "execution_count": 2,
     "metadata": {},
     "output_type": "execute_result"
    }
   ],
   "source": [
    "Tensor = torch.cuda.FloatTensor if False else torch.FloatTensor\n",
    "latent_dim = 2\n",
    "n_clusters = 4\n",
    "\n",
    "batch_size = 800\n",
    "\n",
    "dataloader, data_shape = get_synthetic_dataloader(batch_size=batch_size)\n",
    "encoder = FC_Encoder(latent_dim, n_clusters, data_shape)\n",
    "encoder.load_state_dict(torch.load(\"./encoder_550.pth\"))"
   ]
  },
  {
   "cell_type": "markdown",
   "metadata": {},
   "source": [
    "## Iris"
   ]
  },
  {
   "cell_type": "code",
   "execution_count": 18,
   "metadata": {},
   "outputs": [
    {
     "ename": "FileNotFoundError",
     "evalue": "[Errno 2] No such file or directory: './encoder_200.pth'",
     "output_type": "error",
     "traceback": [
      "\u001b[0;31m---------------------------------------------------------------------------\u001b[0m",
      "\u001b[0;31mFileNotFoundError\u001b[0m                         Traceback (most recent call last)",
      "\u001b[0;32m<ipython-input-18-b7f645988c10>\u001b[0m in \u001b[0;36m<module>\u001b[0;34m\u001b[0m\n\u001b[1;32m      6\u001b[0m \u001b[0mdataloader\u001b[0m\u001b[0;34m,\u001b[0m \u001b[0mdata_shape\u001b[0m \u001b[0;34m=\u001b[0m \u001b[0mget_iris_dataloader\u001b[0m\u001b[0;34m(\u001b[0m\u001b[0mbatch_size\u001b[0m\u001b[0;34m=\u001b[0m\u001b[0mbatch_size\u001b[0m\u001b[0;34m)\u001b[0m\u001b[0;34m\u001b[0m\u001b[0;34m\u001b[0m\u001b[0m\n\u001b[1;32m      7\u001b[0m \u001b[0mencoder\u001b[0m \u001b[0;34m=\u001b[0m \u001b[0mFC_Encoder\u001b[0m\u001b[0;34m(\u001b[0m\u001b[0mlatent_dim\u001b[0m\u001b[0;34m,\u001b[0m \u001b[0mn_clusters\u001b[0m\u001b[0;34m,\u001b[0m \u001b[0mdata_shape\u001b[0m\u001b[0;34m)\u001b[0m\u001b[0;34m\u001b[0m\u001b[0;34m\u001b[0m\u001b[0m\n\u001b[0;32m----> 8\u001b[0;31m \u001b[0mencoder\u001b[0m\u001b[0;34m.\u001b[0m\u001b[0mload_state_dict\u001b[0m\u001b[0;34m(\u001b[0m\u001b[0mtorch\u001b[0m\u001b[0;34m.\u001b[0m\u001b[0mload\u001b[0m\u001b[0;34m(\u001b[0m\u001b[0;34m\"./encoder_200.pth\"\u001b[0m\u001b[0;34m)\u001b[0m\u001b[0;34m)\u001b[0m\u001b[0;34m\u001b[0m\u001b[0;34m\u001b[0m\u001b[0m\n\u001b[0m",
      "\u001b[0;32m~/.local/lib/python3.8/site-packages/torch/serialization.py\u001b[0m in \u001b[0;36mload\u001b[0;34m(f, map_location, pickle_module, **pickle_load_args)\u001b[0m\n\u001b[1;32m    569\u001b[0m         \u001b[0mpickle_load_args\u001b[0m\u001b[0;34m[\u001b[0m\u001b[0;34m'encoding'\u001b[0m\u001b[0;34m]\u001b[0m \u001b[0;34m=\u001b[0m \u001b[0;34m'utf-8'\u001b[0m\u001b[0;34m\u001b[0m\u001b[0;34m\u001b[0m\u001b[0m\n\u001b[1;32m    570\u001b[0m \u001b[0;34m\u001b[0m\u001b[0m\n\u001b[0;32m--> 571\u001b[0;31m     \u001b[0;32mwith\u001b[0m \u001b[0m_open_file_like\u001b[0m\u001b[0;34m(\u001b[0m\u001b[0mf\u001b[0m\u001b[0;34m,\u001b[0m \u001b[0;34m'rb'\u001b[0m\u001b[0;34m)\u001b[0m \u001b[0;32mas\u001b[0m \u001b[0mopened_file\u001b[0m\u001b[0;34m:\u001b[0m\u001b[0;34m\u001b[0m\u001b[0;34m\u001b[0m\u001b[0m\n\u001b[0m\u001b[1;32m    572\u001b[0m         \u001b[0;32mif\u001b[0m \u001b[0m_is_zipfile\u001b[0m\u001b[0;34m(\u001b[0m\u001b[0mopened_file\u001b[0m\u001b[0;34m)\u001b[0m\u001b[0;34m:\u001b[0m\u001b[0;34m\u001b[0m\u001b[0;34m\u001b[0m\u001b[0m\n\u001b[1;32m    573\u001b[0m             \u001b[0;31m# The zipfile reader is going to advance the current file position.\u001b[0m\u001b[0;34m\u001b[0m\u001b[0;34m\u001b[0m\u001b[0;34m\u001b[0m\u001b[0m\n",
      "\u001b[0;32m~/.local/lib/python3.8/site-packages/torch/serialization.py\u001b[0m in \u001b[0;36m_open_file_like\u001b[0;34m(name_or_buffer, mode)\u001b[0m\n\u001b[1;32m    227\u001b[0m \u001b[0;32mdef\u001b[0m \u001b[0m_open_file_like\u001b[0m\u001b[0;34m(\u001b[0m\u001b[0mname_or_buffer\u001b[0m\u001b[0;34m,\u001b[0m \u001b[0mmode\u001b[0m\u001b[0;34m)\u001b[0m\u001b[0;34m:\u001b[0m\u001b[0;34m\u001b[0m\u001b[0;34m\u001b[0m\u001b[0m\n\u001b[1;32m    228\u001b[0m     \u001b[0;32mif\u001b[0m \u001b[0m_is_path\u001b[0m\u001b[0;34m(\u001b[0m\u001b[0mname_or_buffer\u001b[0m\u001b[0;34m)\u001b[0m\u001b[0;34m:\u001b[0m\u001b[0;34m\u001b[0m\u001b[0;34m\u001b[0m\u001b[0m\n\u001b[0;32m--> 229\u001b[0;31m         \u001b[0;32mreturn\u001b[0m \u001b[0m_open_file\u001b[0m\u001b[0;34m(\u001b[0m\u001b[0mname_or_buffer\u001b[0m\u001b[0;34m,\u001b[0m \u001b[0mmode\u001b[0m\u001b[0;34m)\u001b[0m\u001b[0;34m\u001b[0m\u001b[0;34m\u001b[0m\u001b[0m\n\u001b[0m\u001b[1;32m    230\u001b[0m     \u001b[0;32melse\u001b[0m\u001b[0;34m:\u001b[0m\u001b[0;34m\u001b[0m\u001b[0;34m\u001b[0m\u001b[0m\n\u001b[1;32m    231\u001b[0m         \u001b[0;32mif\u001b[0m \u001b[0;34m'w'\u001b[0m \u001b[0;32min\u001b[0m \u001b[0mmode\u001b[0m\u001b[0;34m:\u001b[0m\u001b[0;34m\u001b[0m\u001b[0;34m\u001b[0m\u001b[0m\n",
      "\u001b[0;32m~/.local/lib/python3.8/site-packages/torch/serialization.py\u001b[0m in \u001b[0;36m__init__\u001b[0;34m(self, name, mode)\u001b[0m\n\u001b[1;32m    208\u001b[0m \u001b[0;32mclass\u001b[0m \u001b[0m_open_file\u001b[0m\u001b[0;34m(\u001b[0m\u001b[0m_opener\u001b[0m\u001b[0;34m)\u001b[0m\u001b[0;34m:\u001b[0m\u001b[0;34m\u001b[0m\u001b[0;34m\u001b[0m\u001b[0m\n\u001b[1;32m    209\u001b[0m     \u001b[0;32mdef\u001b[0m \u001b[0m__init__\u001b[0m\u001b[0;34m(\u001b[0m\u001b[0mself\u001b[0m\u001b[0;34m,\u001b[0m \u001b[0mname\u001b[0m\u001b[0;34m,\u001b[0m \u001b[0mmode\u001b[0m\u001b[0;34m)\u001b[0m\u001b[0;34m:\u001b[0m\u001b[0;34m\u001b[0m\u001b[0;34m\u001b[0m\u001b[0m\n\u001b[0;32m--> 210\u001b[0;31m         \u001b[0msuper\u001b[0m\u001b[0;34m(\u001b[0m\u001b[0m_open_file\u001b[0m\u001b[0;34m,\u001b[0m \u001b[0mself\u001b[0m\u001b[0;34m)\u001b[0m\u001b[0;34m.\u001b[0m\u001b[0m__init__\u001b[0m\u001b[0;34m(\u001b[0m\u001b[0mopen\u001b[0m\u001b[0;34m(\u001b[0m\u001b[0mname\u001b[0m\u001b[0;34m,\u001b[0m \u001b[0mmode\u001b[0m\u001b[0;34m)\u001b[0m\u001b[0;34m)\u001b[0m\u001b[0;34m\u001b[0m\u001b[0;34m\u001b[0m\u001b[0m\n\u001b[0m\u001b[1;32m    211\u001b[0m \u001b[0;34m\u001b[0m\u001b[0m\n\u001b[1;32m    212\u001b[0m     \u001b[0;32mdef\u001b[0m \u001b[0m__exit__\u001b[0m\u001b[0;34m(\u001b[0m\u001b[0mself\u001b[0m\u001b[0;34m,\u001b[0m \u001b[0;34m*\u001b[0m\u001b[0margs\u001b[0m\u001b[0;34m)\u001b[0m\u001b[0;34m:\u001b[0m\u001b[0;34m\u001b[0m\u001b[0;34m\u001b[0m\u001b[0m\n",
      "\u001b[0;31mFileNotFoundError\u001b[0m: [Errno 2] No such file or directory: './encoder_200.pth'"
     ]
    }
   ],
   "source": [
    "Tensor = torch.cuda.FloatTensor if False else torch.FloatTensor\n",
    "latent_dim = 2\n",
    "n_clusters = 3\n",
    "\n",
    "batch_size = 150\n",
    "dataloader, data_shape = get_iris_dataloader(batch_size=batch_size)\n",
    "encoder = FC_Encoder(latent_dim, n_clusters, data_shape)\n",
    "encoder.load_state_dict(torch.load(\"./encoder_200.pth\"))"
   ]
  },
  {
   "cell_type": "markdown",
   "metadata": {},
   "source": [
    "## Two Rings"
   ]
  },
  {
   "cell_type": "code",
   "execution_count": 3,
   "metadata": {},
   "outputs": [
    {
     "data": {
      "text/plain": [
       "<All keys matched successfully>"
      ]
     },
     "execution_count": 3,
     "metadata": {},
     "output_type": "execute_result"
    }
   ],
   "source": [
    "Tensor = torch.cuda.FloatTensor if False else torch.FloatTensor\n",
    "latent_dim = 1\n",
    "n_clusters = 2\n",
    "\n",
    "batch_size = 1000\n",
    "dataloader, data_shape = get_rings_dataloader(batch_size=batch_size)\n",
    "encoder = FC_Encoder(latent_dim, n_clusters, data_shape)\n",
    "encoder.load_state_dict(torch.load(\"./encoder_2700.pth\"))"
   ]
  },
  {
   "cell_type": "markdown",
   "metadata": {},
   "source": [
    "## Wine"
   ]
  },
  {
   "cell_type": "code",
   "execution_count": 2,
   "metadata": {},
   "outputs": [
    {
     "data": {
      "text/plain": [
       "<All keys matched successfully>"
      ]
     },
     "execution_count": 2,
     "metadata": {},
     "output_type": "execute_result"
    }
   ],
   "source": [
    "Tensor = torch.cuda.FloatTensor if False else torch.FloatTensor\n",
    "latent_dim = 2\n",
    "n_clusters = 3\n",
    "\n",
    "batch_size = 178\n",
    "dataloader, data_shape = get_wine_dataloader(batch_size=batch_size)\n",
    "encoder = FC_Encoder(latent_dim, n_clusters, data_shape)\n",
    "encoder.load_state_dict(torch.load(\"./Wine.pth\"))"
   ]
  },
  {
   "cell_type": "markdown",
   "metadata": {},
   "source": [
    "## Austarlian"
   ]
  },
  {
   "cell_type": "code",
   "execution_count": 2,
   "metadata": {},
   "outputs": [
    {
     "data": {
      "text/plain": [
       "<All keys matched successfully>"
      ]
     },
     "execution_count": 2,
     "metadata": {},
     "output_type": "execute_result"
    }
   ],
   "source": [
    "Tensor = torch.cuda.FloatTensor if False else torch.FloatTensor\n",
    "latent_dim = 5\n",
    "n_clusters = 2\n",
    "\n",
    "batch_size = 690\n",
    "dataloader, data_shape = get_australian_dataloader(batch_size=batch_size)\n",
    "encoder = FC_Encoder(latent_dim, n_clusters, data_shape)\n",
    "encoder.load_state_dict(torch.load(\"./Austr.pth\"))"
   ]
  },
  {
   "cell_type": "markdown",
   "metadata": {},
   "source": [
    "## Compute ACC and NMI"
   ]
  },
  {
   "cell_type": "code",
   "execution_count": 3,
   "metadata": {},
   "outputs": [
    {
     "name": "stdout",
     "output_type": "stream",
     "text": [
      "{0: 1.0, 1: 0.0}\n",
      "Accuracy = 0.67, NMI = 0.10\n"
     ]
    }
   ],
   "source": [
    "latent_data = np.zeros((batch_size, latent_dim + n_clusters))\n",
    "all_labels = np.zeros((batch_size))\n",
    "\n",
    "for batch_index, (real_data, labels) in enumerate(dataloader):\n",
    "    real_data = Variable(real_data.type(Tensor), requires_grad=False)\n",
    "    # Encode real images\n",
    "    enc_zn, enc_zc, enc_zc_cluster_id = encoder(real_data)\n",
    "    \n",
    "    # Save latent_data and their labels\n",
    "    lower = batch_index * batch_size \n",
    "    upper = (batch_index + 1) * batch_size\n",
    "    np_enc_zn = enc_zn.cpu().detach().numpy()\n",
    "    np_enc_zc = enc_zc.cpu().detach().numpy()\n",
    "    np_labels = labels.cpu().detach().numpy()\n",
    "    latent_data[lower:upper] = np.concatenate((np_enc_zn, np_enc_zc), axis=1)\n",
    "    all_labels[lower:upper] = np_labels\n",
    "    \n",
    "    # Get the data clustering\n",
    "    clustering = torch.argmax(enc_zc, dim=1)\n",
    "    clustering = clustering.cpu().detach().numpy()\n",
    "    \n",
    "    # Find the cluster ids (labels)\n",
    "    c_ids = np.unique(clustering)\n",
    "    labels = labels.cpu().data.numpy()\n",
    "    \n",
    "    # Dictionary to transform cluster label to real label\n",
    "    dict_clusters_to_labels = dict()\n",
    "    \n",
    "    # For every cluster find the most frequent data label\n",
    "    for c_id in c_ids:\n",
    "        indexes_of_cluster_i = np.where(c_id == clustering)\n",
    "        elements, frequency = np.unique(labels[indexes_of_cluster_i], return_counts=True)\n",
    "        true_label_index = np.argmax(frequency)\n",
    "        true_label = elements[true_label_index]\n",
    "        dict_clusters_to_labels[c_id] = true_label\n",
    "        \n",
    "    print(dict_clusters_to_labels)\n",
    "    # Change the cluster labels to real labels\n",
    "    for i, element in enumerate(clustering):\n",
    "        clustering[i] = dict_clusters_to_labels[element]\n",
    "    \n",
    "    # Metrics\n",
    "    accuracy = accuracy_score(labels, clustering)\n",
    "    nmi = normalized_mutual_info_score(labels, clustering)\n",
    "    print(\"Accuracy = %.2f, NMI = %.2f\" % (accuracy, nmi))"
   ]
  },
  {
   "cell_type": "code",
   "execution_count": 4,
   "metadata": {},
   "outputs": [],
   "source": [
    "def compute_purity(y_pred, y_true):\n",
    "        \"\"\"\n",
    "        Calculate the purity, a measurement of quality for the clustering \n",
    "        results.\n",
    "        \n",
    "        Each cluster is assigned to the class which is most frequent in the \n",
    "        cluster.  Using these classes, the percent accuracy is then calculated.\n",
    "        \n",
    "        Returns:\n",
    "          A number between 0 and 1.  Poor clusterings have a purity close to 0 \n",
    "          while a perfect clustering has a purity of 1.\n",
    "\n",
    "        \"\"\"\n",
    "\n",
    "        # get the set of unique cluster ids\n",
    "        clusters = set(y_pred)\n",
    "\n",
    "        # find out what class is most frequent in each cluster\n",
    "        cluster_classes = {}\n",
    "        correct = 0\n",
    "        for cluster in clusters:\n",
    "            # get the indices of rows in this cluster\n",
    "            indices = np.where(y_pred == cluster)[0]\n",
    "\n",
    "            cluster_labels = y_true[indices]\n",
    "            majority_label = np.argmax(np.bincount(cluster_labels))\n",
    "            correct += np.sum(cluster_labels == majority_label)\n",
    "        \n",
    "        return float(correct) / len(y_pred)"
   ]
  },
  {
   "cell_type": "code",
   "execution_count": 6,
   "metadata": {},
   "outputs": [
    {
     "name": "stdout",
     "output_type": "stream",
     "text": [
      "Purity = 0.86, NMI = 0.43\n"
     ]
    }
   ],
   "source": [
    "#km = KMeans(n_clusters=n_clusters).fit(latent_data)\n",
    "km = KMeans(n_clusters=n_clusters).fit(real_data)\n",
    "labels_pred = km.labels_\n",
    "\n",
    "all_labels = all_labels.astype(\"int\")\n",
    "purity = compute_purity(labels_pred, all_labels)\n",
    "nmi = normalized_mutual_info_score(all_labels, labels_pred)\n",
    "print(\"Purity = %.2f, NMI = %.2f\" % (purity, nmi))"
   ]
  },
  {
   "cell_type": "markdown",
   "metadata": {},
   "source": [
    "## TSNE"
   ]
  },
  {
   "cell_type": "code",
   "execution_count": 9,
   "metadata": {},
   "outputs": [
    {
     "name": "stdout",
     "output_type": "stream",
     "text": [
      "[t-SNE] Computing 91 nearest neighbors...\n",
      "[t-SNE] Indexed 690 samples in 0.001s...\n",
      "[t-SNE] Computed neighbors for 690 samples in 0.015s...\n",
      "[t-SNE] Computed conditional probabilities for sample 690 / 690\n",
      "[t-SNE] Mean sigma: 0.029527\n",
      "[t-SNE] KL divergence after 250 iterations with early exaggeration: 59.587170\n",
      "[t-SNE] KL divergence after 500 iterations: 0.651650\n"
     ]
    },
    {
     "data": {
      "image/png": "[encoded data removed]",
      "text/plain": [
       "<Figure size 1152x720 with 1 Axes>"
      ]
     },
     "metadata": {
      "needs_background": "light"
     },
     "output_type": "display_data"
    }
   ],
   "source": [
    "# Cluster with TSNE\n",
    "tsne = TSNE(n_components=2, verbose=1, perplexity=30, n_iter=500)\n",
    "tsne_enc = tsne.fit_transform(latent_data)\n",
    "#tsne_enc = tsne.fit_transform(real_data)\n",
    "\n",
    "# Color and marker for each true class\n",
    "colors = cm.rainbow(np.linspace(0, 1, n_clusters))\n",
    "markers = matplotlib.markers.MarkerStyle.filled_markers\n",
    "\n",
    "# Save TSNE figure to file\n",
    "fig, ax = plt.subplots(figsize=(16, 10))\n",
    "for iclass in range(0, n_clusters):\n",
    "    # Get indices for each class\n",
    "    idxs = all_labels==iclass\n",
    "    # Scatter those points in tsne dims\n",
    "    ax.scatter(tsne_enc[idxs, 0], tsne_enc[idxs, 1],\n",
    "               marker=markers[iclass], c=colors[iclass].reshape(1,-1),\n",
    "               edgecolor=None, label=r'$%i$'%iclass)\n",
    "    \n",
    "figname=\"TSNE Two Rings\"\n",
    "ax.set_title(figname, fontsize=24)\n",
    "ax.set_xlabel(\"$x_{1}$\", fontsize=20)\n",
    "ax.set_ylabel(\"$x_{2}$\", fontsize=20)\n",
    "plt.legend(title=\"Class\", loc='best', numpoints=1, fontsize=18)\n",
    "plt.tight_layout()\n",
    "plt.show()\n",
    "#fig.savefig(figname, facecolor='w')"
   ]
  },
  {
   "cell_type": "code",
   "execution_count": 11,
   "metadata": {},
   "outputs": [
    {
     "data": {
      "text/plain": [
       "torch.Size([690, 14])"
      ]
     },
     "execution_count": 11,
     "metadata": {},
     "output_type": "execute_result"
    }
   ],
   "source": [
    "real_data.shape"
   ]
  },
  {
   "cell_type": "code",
   "execution_count": 12,
   "metadata": {},
   "outputs": [
    {
     "data": {
      "text/plain": [
       "(690, 7)"
      ]
     },
     "execution_count": 12,
     "metadata": {},
     "output_type": "execute_result"
    }
   ],
   "source": [
    "latent_data.shape"
   ]
  },
  {
   "cell_type": "code",
   "execution_count": null,
   "metadata": {},
   "outputs": [],
   "source": []
  }
 ],
 "metadata": {
  "kernelspec": {
   "display_name": "Python 3",
   "language": "python",
   "name": "python3"
  },
  "language_info": {
   "codemirror_mode": {
    "name": "ipython",
    "version": 3
   },
   "file_extension": ".py",
   "mimetype": "text/x-python",
   "name": "python",
   "nbconvert_exporter": "python",
   "pygments_lexer": "ipython3",
   "version": "3.6.9"
  }
 },
 "nbformat": 4,
 "nbformat_minor": 4
}
