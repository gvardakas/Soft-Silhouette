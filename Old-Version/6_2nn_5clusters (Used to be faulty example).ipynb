{
 "cells": [
  {
   "cell_type": "code",
   "execution_count": 1,
   "id": "9dd2944b",
   "metadata": {},
   "outputs": [
    {
     "data": {
      "text/plain": [
       "<matplotlib.collections.PathCollection at 0x7f6363de4b00>"
      ]
     },
     "execution_count": 1,
     "metadata": {},
     "output_type": "execute_result"
    },
    {
     "data": {
      "image/png": "[encoded data removed]",
      "text/plain": [
       "<Figure size 432x288 with 1 Axes>"
      ]
     },
     "metadata": {
      "needs_background": "light"
     },
     "output_type": "display_data"
    }
   ],
   "source": [
    "import matplotlib.pyplot as plt\n",
    "import numpy as np\n",
    "import pandas as pd\n",
    "from sklearn.mixture import GaussianMixture\n",
    "from sklearn import metrics\n",
    "import random\n",
    "from sklearn.metrics.cluster import normalized_mutual_info_score\n",
    "from sklearn.utils import shuffle\n",
    "from sklearn.metrics import accuracy_score\n",
    "from matplotlib.pyplot import figure\n",
    "from sklearn.cluster import KMeans\n",
    "\n",
    "n_clusters = 5\n",
    "k=6\n",
    "\n",
    "center = 3\n",
    "dev = 1\n",
    "n_points = 100\n",
    "cluster = [None]*6\n",
    "\n",
    "cluster[0] = np.random.normal(0, dev, (n_points,2))\n",
    "cluster[1] = np.random.normal(center, dev, (n_points,2))\n",
    "cluster[2] = np.random.normal(-center, dev, (n_points,2))\n",
    "cluster[3] = np.concatenate((np.random.normal(-center, dev, (n_points,1)),np.random.normal(center, dev, (n_points,1))), axis=1)\n",
    "cluster[4] = np.concatenate((np.random.normal(-2*center, dev, (n_points,1)),np.random.normal(0, dev, (n_points,1))), axis=1)\n",
    "cluster[5] = np.concatenate((np.random.normal(center, dev, (n_points,1)),np.random.normal(-center, dev, (n_points,1))), axis=1)\n",
    "\n",
    "X_train = cluster[0]\n",
    "for i in range(1,n_clusters):\n",
    "    X_train = np.concatenate((X_train,cluster[i]))\n",
    "\n",
    "X_train = shuffle(X_train, random_state=0)\n",
    "\n",
    "plt.scatter(X_train[:,0], X_train[:,1], c='red')"
   ]
  },
  {
   "cell_type": "code",
   "execution_count": 2,
   "id": "9d801963",
   "metadata": {},
   "outputs": [
    {
     "data": {
      "text/plain": [
       "(500, 2)"
      ]
     },
     "execution_count": 2,
     "metadata": {},
     "output_type": "execute_result"
    }
   ],
   "source": [
    "X_train.shape"
   ]
  },
  {
   "cell_type": "code",
   "execution_count": 3,
   "id": "62bf3064",
   "metadata": {},
   "outputs": [],
   "source": [
    "import torch\n",
    "from torch import nn, optim\n",
    "import torch.nn.functional as F\n",
    "\n",
    "device = torch.device(\"cpu\")\n",
    "\n",
    "class CustomDataset(torch.utils.data.Dataset):\n",
    "    def __init__(self, X_train):\n",
    "        X = torch.from_numpy(X_train).float()\n",
    "        X.requires_grad=True\n",
    "        self.X = X.to(device)\n",
    "\n",
    "\n",
    "    def __len__(self):\n",
    "        return len(self.X)\n",
    "\n",
    "    def __getitem__(self, index):\n",
    "        return self.X[index]\n",
    "    \n",
    "train_data = CustomDataset(X_train)\n",
    "train_loader = torch.utils.data.DataLoader(train_data, batch_size=10*n_clusters)\n",
    "\n",
    "class Net(nn.Module):\n",
    "\n",
    "    def __init__(self, n_features):\n",
    "        super(Net, self).__init__()\n",
    "        #self.fc1 = nn.Linear(n_features, k, bias=True)\n",
    "        #self.fc2 = nn.Linear(k, n_clusters, bias=True)\n",
    "        self.model = nn.Sequential(\n",
    "            nn.Linear(n_features, 10, bias=True),\n",
    "            nn.LeakyReLU(0.2, inplace=True),\n",
    "            nn.BatchNorm1d(10),\n",
    "            \n",
    "            nn.Linear(10, n_clusters, bias=True),\n",
    "            nn.LeakyReLU(0.2, inplace=True),\n",
    "            nn.BatchNorm1d(n_clusters),\n",
    "        )\n",
    "\n",
    "    def forward(self, x):\n",
    "        x = self.model(x)\n",
    "        x = F.softmax(x, dim=1)\n",
    "        return x\n",
    "\n",
    "    #def forward(self, x):\n",
    "        #x = nn.functional.relu(self.fc1(x))\n",
    "        #return F.softmax(self.fc2(x))\n",
    "\n",
    "net = Net(2)\n",
    "\n",
    "net = net.to(device)"
   ]
  },
  {
   "cell_type": "code",
   "execution_count": 4,
   "id": "4744cea6",
   "metadata": {},
   "outputs": [],
   "source": [
    "def soft_silhouette(X, soft_clustering, requires_distance_grad=False):\n",
    "    # No grads at distances\n",
    "    if requires_distance_grad: X = X.detach()\n",
    "    distances = torch.cdist(X, X, p=2)\n",
    "    alphas = torch.matmul(distances, soft_clustering)\n",
    "    n_data, n_clusters = alphas.shape\n",
    "    betas = torch.empty(alphas.shape)\n",
    "    \n",
    "    for i in range(n_data):\n",
    "        for j in range(n_clusters):\n",
    "            betas[i][j] = min([alphas[i][x] for x in range(alphas.shape[1]) if x!=j])\n",
    "    \n",
    "    # Calculate soft silhouette\n",
    "    sc = torch.div(torch.sub(betas, alphas), torch.max(alphas, betas))\n",
    "    s = torch.mean(torch.sum(torch.mul(soft_clustering, sc), dim=1))\n",
    "    return s"
   ]
  },
  {
   "cell_type": "code",
   "execution_count": null,
   "id": "28183c7d",
   "metadata": {},
   "outputs": [
    {
     "name": "stdout",
     "output_type": "stream",
     "text": [
      "Epoch: 0 Loss 1.0864\n",
      "Epoch: 1 Loss 1.4361\n",
      "Epoch: 2 Loss 1.5562\n",
      "Epoch: 3 Loss 1.5168\n",
      "Epoch: 4 Loss 1.3030\n",
      "Epoch: 5 Loss 1.1338\n",
      "Epoch: 6 Loss 1.0512\n",
      "Epoch: 7 Loss 1.0739\n",
      "Epoch: 8 Loss 1.0292\n",
      "Epoch: 9 Loss 1.0298\n",
      "Epoch: 10 Loss 0.9488\n",
      "Epoch: 11 Loss 0.9457\n",
      "Epoch: 12 Loss 0.9332\n",
      "Epoch: 13 Loss 0.8972\n",
      "Epoch: 14 Loss 0.8491\n",
      "Epoch: 15 Loss 0.8166\n",
      "Epoch: 16 Loss 0.7734\n",
      "Epoch: 17 Loss 0.7580\n",
      "Epoch: 18 Loss 0.7284\n",
      "Epoch: 19 Loss 0.6657\n",
      "Epoch: 20 Loss 0.6259\n",
      "Epoch: 21 Loss 0.5841\n",
      "Epoch: 22 Loss 0.5576\n",
      "Epoch: 23 Loss 0.5305\n",
      "Epoch: 24 Loss 0.5102\n",
      "Epoch: 25 Loss 0.4974\n",
      "Epoch: 26 Loss 0.4893\n",
      "Epoch: 27 Loss 0.4819\n",
      "Epoch: 28 Loss 0.4738\n",
      "Epoch: 29 Loss 0.4661\n",
      "Epoch: 30 Loss 0.4603\n",
      "Epoch: 31 Loss 0.4569\n",
      "Epoch: 32 Loss 0.4552\n",
      "Epoch: 33 Loss 0.4546\n",
      "Epoch: 34 Loss 0.4541\n",
      "Epoch: 35 Loss 0.4531\n",
      "Epoch: 36 Loss 0.4514\n",
      "Epoch: 37 Loss 0.4492\n",
      "Epoch: 38 Loss 0.4471\n",
      "Epoch: 39 Loss 0.4452\n",
      "Epoch: 40 Loss 0.4438\n",
      "Epoch: 41 Loss 0.4427\n",
      "Epoch: 42 Loss 0.4421\n",
      "Epoch: 43 Loss 0.4419\n",
      "Epoch: 44 Loss 0.4417\n",
      "Epoch: 45 Loss 0.4415\n",
      "Epoch: 46 Loss 0.4411\n",
      "Epoch: 47 Loss 0.4407\n",
      "Epoch: 48 Loss 0.4401\n",
      "Epoch: 49 Loss 0.4395\n",
      "Epoch: 50 Loss 0.4390\n",
      "Epoch: 51 Loss 0.4386\n",
      "Epoch: 52 Loss 0.4383\n",
      "Epoch: 53 Loss 0.4381\n",
      "Epoch: 54 Loss 0.4380\n",
      "Epoch: 55 Loss 0.4379\n",
      "Epoch: 56 Loss 0.4377\n",
      "Epoch: 57 Loss 0.4376\n",
      "Epoch: 58 Loss 0.4374\n",
      "Epoch: 59 Loss 0.4371\n",
      "Epoch: 60 Loss 0.4369\n",
      "Epoch: 61 Loss 0.4367\n",
      "Epoch: 62 Loss 0.4366\n",
      "Epoch: 63 Loss 0.4364\n",
      "Epoch: 64 Loss 0.4363\n",
      "Epoch: 65 Loss 0.4362\n",
      "Epoch: 66 Loss 0.4361\n",
      "Epoch: 67 Loss 0.4360\n",
      "Epoch: 68 Loss 0.4359\n",
      "Epoch: 69 Loss 0.4358\n",
      "Epoch: 70 Loss 0.4358\n",
      "Epoch: 71 Loss 0.4357\n",
      "Epoch: 72 Loss 0.4356\n",
      "Epoch: 73 Loss 0.4355\n",
      "Epoch: 74 Loss 0.4354\n",
      "Epoch: 75 Loss 0.4354\n",
      "Epoch: 76 Loss 0.4353\n",
      "Epoch: 77 Loss 0.4352\n",
      "Epoch: 78 Loss 0.4352\n",
      "Epoch: 79 Loss 0.4351\n",
      "Epoch: 80 Loss 0.4351\n",
      "Epoch: 81 Loss 0.4351\n",
      "Epoch: 82 Loss 0.4350\n",
      "Epoch: 83 Loss 0.4350\n",
      "Epoch: 84 Loss 0.4349\n",
      "Epoch: 85 Loss 0.4349\n",
      "Epoch: 86 Loss 0.4349\n",
      "Epoch: 87 Loss 0.4348\n",
      "Epoch: 88 Loss 0.4348\n",
      "Epoch: 89 Loss 0.4347\n",
      "Epoch: 90 Loss 0.4347\n",
      "Epoch: 91 Loss 0.4347\n"
     ]
    }
   ],
   "source": [
    "optimizer = optim.Adam(net.parameters(), lr=0.5)\n",
    "train_data = CustomDataset(X_train)\n",
    "train_loader = torch.utils.data.DataLoader(train_data, batch_size=int(n_points*n_clusters/1))\n",
    "\n",
    "for epoch in range(100):\n",
    "    for n, X in enumerate(train_loader):\n",
    "        y = net(X)\n",
    "        y = torch.squeeze(y)\n",
    "        loss = 1 - soft_silhouette(X, y)\n",
    "        optimizer.zero_grad()\n",
    "        loss.backward()\n",
    "        optimizer.step()\n",
    "    \n",
    "    print(\"Epoch: {:d} Loss {:.4f}\".format(epoch, loss))"
   ]
  },
  {
   "cell_type": "code",
   "execution_count": 6,
   "id": "492e16d0",
   "metadata": {},
   "outputs": [],
   "source": [
    "y_true = []\n",
    "for x in X_train:\n",
    "    for i in range(len(cluster)):\n",
    "        if len(np.where(cluster[i] == x)[0])>0:\n",
    "            y_true.append(i)"
   ]
  },
  {
   "cell_type": "code",
   "execution_count": 7,
   "id": "71d8c395",
   "metadata": {},
   "outputs": [],
   "source": [
    "def purity_score(y_true, y_pred):\n",
    "    # compute contingency matrix (also called confusion matrix)\n",
    "    contingency_matrix = metrics.cluster.contingency_matrix(y_true, y_pred)\n",
    "    # return purity\n",
    "    return np.sum(np.amax(contingency_matrix, axis=0)) / np.sum(contingency_matrix)"
   ]
  },
  {
   "cell_type": "code",
   "execution_count": 8,
   "id": "2c92335f",
   "metadata": {
    "scrolled": false
   },
   "outputs": [
    {
     "data": {
      "image/png": "[encoded data removed]",
      "text/plain": [
       "<Figure size 576x576 with 1 Axes>"
      ]
     },
     "metadata": {
      "needs_background": "light"
     },
     "output_type": "display_data"
    }
   ],
   "source": [
    "X = torch.from_numpy(X_train).float()\n",
    "X.requires_grad=True\n",
    "y = net(X)\n",
    "s = soft_silhouette(X, y)\n",
    "y = y.detach().numpy()\n",
    "X = X.detach().numpy()\n",
    "\n",
    "color1 = (0, 0, 1)\n",
    "color2 = (0, 1, 0)\n",
    "color3 = (1, 0 , 0)\n",
    "color4 = (0, 1 , 1)\n",
    "color5 = (1, 1, 0)\n",
    "color6 = (1, 0, 1)\n",
    "colors = [color1, color2, color3, color4, color5, color6, color1, color2, color3, color4, color5, color6]\n",
    "\n",
    "plt.figure(figsize=(8, 8))\n",
    "for i in range(y.shape[0]):\n",
    "    color = [0, 0, 0]\n",
    "    for j in range(y.shape[1]):\n",
    "        color[0] = min(round(color[0] + y[i][j]*colors[j][0], 3), 1)\n",
    "        color[1] = min(round(color[1] + y[i][j]*colors[j][1], 3), 1)\n",
    "        color[2] = min(round(color[2] + y[i][j]*colors[j][2], 3), 1)\n",
    "    color = tuple(color)\n",
    "    plt.scatter(X[i,0], X[i,1], color=color)\n",
    "plt.title(f'Neural Network - Clusters: {n_clusters} \\n Purity Score: {purity_score(y_true, np.argmax(y, axis=-1)):.4f} \\n NMI Score: {normalized_mutual_info_score(y_true, np.argmax(y, axis=-1)):.4f}\\n Soft Silhuette Score: {s:.3f}')\n",
    "#plt.show()\n",
    "plt.savefig(\"/home/geo/Desktop/Soft-Silhouette/fig\", facecolor=\"w\")"
   ]
  },
  {
   "cell_type": "code",
   "execution_count": 8,
   "id": "8b1b2d70",
   "metadata": {},
   "outputs": [
    {
     "ename": "NameError",
     "evalue": "name 'silhouette' is not defined",
     "output_type": "error",
     "traceback": [
      "\u001b[0;31m---------------------------------------------------------------------------\u001b[0m",
      "\u001b[0;31mNameError\u001b[0m                                 Traceback (most recent call last)",
      "\u001b[0;32m<ipython-input-8-c7c77653a1a1>\u001b[0m in \u001b[0;36m<module>\u001b[0;34m\u001b[0m\n\u001b[1;32m      4\u001b[0m \u001b[0mgm\u001b[0m \u001b[0;34m=\u001b[0m \u001b[0mGaussianMixture\u001b[0m\u001b[0;34m(\u001b[0m\u001b[0mn_components\u001b[0m\u001b[0;34m=\u001b[0m\u001b[0mn_clusters\u001b[0m\u001b[0;34m,\u001b[0m \u001b[0mrandom_state\u001b[0m\u001b[0;34m=\u001b[0m\u001b[0;36m0\u001b[0m\u001b[0;34m)\u001b[0m\u001b[0;34m.\u001b[0m\u001b[0mfit\u001b[0m\u001b[0;34m(\u001b[0m\u001b[0mX_train\u001b[0m\u001b[0;34m)\u001b[0m\u001b[0;34m\u001b[0m\u001b[0;34m\u001b[0m\u001b[0m\n\u001b[1;32m      5\u001b[0m \u001b[0mprobabilities\u001b[0m \u001b[0;34m=\u001b[0m \u001b[0mgm\u001b[0m\u001b[0;34m.\u001b[0m\u001b[0mpredict_proba\u001b[0m\u001b[0;34m(\u001b[0m\u001b[0mX_train\u001b[0m\u001b[0;34m)\u001b[0m\u001b[0;34m\u001b[0m\u001b[0;34m\u001b[0m\u001b[0m\n\u001b[0;32m----> 6\u001b[0;31m \u001b[0ms\u001b[0m \u001b[0;34m=\u001b[0m \u001b[0msilhouette\u001b[0m\u001b[0;34m(\u001b[0m\u001b[0mX\u001b[0m\u001b[0;34m,\u001b[0m \u001b[0mtorch\u001b[0m\u001b[0;34m.\u001b[0m\u001b[0mfrom_numpy\u001b[0m\u001b[0;34m(\u001b[0m\u001b[0mprobabilities\u001b[0m\u001b[0;34m)\u001b[0m\u001b[0;34m.\u001b[0m\u001b[0mfloat\u001b[0m\u001b[0;34m(\u001b[0m\u001b[0;34m)\u001b[0m\u001b[0;34m)\u001b[0m\u001b[0;34m\u001b[0m\u001b[0;34m\u001b[0m\u001b[0m\n\u001b[0m\u001b[1;32m      7\u001b[0m \u001b[0mprint\u001b[0m\u001b[0;34m(\u001b[0m\u001b[0;34mf'Mixture Model - Clusters: {n_clusters} \\n Purity Score: {purity_score(y_true, np.argmax(probabilities, axis=-1))} \\n Soft Silhouette Score: {s} \\n NMI Score: {normalized_mutual_info_score(y_true, np.argmax(probabilities, axis=-1))}'\u001b[0m\u001b[0;34m)\u001b[0m\u001b[0;34m\u001b[0m\u001b[0;34m\u001b[0m\u001b[0m\n",
      "\u001b[0;31mNameError\u001b[0m: name 'silhouette' is not defined"
     ]
    }
   ],
   "source": [
    "X = torch.from_numpy(X_train).float()\n",
    "X.requires_grad=True\n",
    "\n",
    "gm = GaussianMixture(n_components=n_clusters, random_state=0).fit(X_train)\n",
    "probabilities = gm.predict_proba(X_train)\n",
    "s = silhouette(X, torch.from_numpy(probabilities).float())\n",
    "print(f'Mixture Model - Clusters: {n_clusters} \\n Purity Score: {purity_score(y_true, np.argmax(probabilities, axis=-1))} \\n Soft Silhouette Score: {s} \\n NMI Score: {normalized_mutual_info_score(y_true, np.argmax(probabilities, axis=-1))}')\n"
   ]
  },
  {
   "cell_type": "code",
   "execution_count": null,
   "id": "5d153194",
   "metadata": {},
   "outputs": [],
   "source": [
    "kmeans = KMeans(n_clusters=n_clusters, random_state=0).fit(X_train)\n",
    "print(f'Mixture Model - Clusters: {n_clusters} \\n Purity Score: {purity_score(y_true, kmeans.labels_)}')\n"
   ]
  },
  {
   "cell_type": "code",
   "execution_count": null,
   "id": "96218e7d",
   "metadata": {},
   "outputs": [],
   "source": []
  }
 ],
 "metadata": {
  "kernelspec": {
   "display_name": "Python 3 (ipykernel)",
   "language": "python",
   "name": "python3"
  },
  "language_info": {
   "codemirror_mode": {
    "name": "ipython",
    "version": 3
   },
   "file_extension": ".py",
   "mimetype": "text/x-python",
   "name": "python",
   "nbconvert_exporter": "python",
   "pygments_lexer": "ipython3",
   "version": "3.10.4"
  }
 },
 "nbformat": 4,
 "nbformat_minor": 5
}
