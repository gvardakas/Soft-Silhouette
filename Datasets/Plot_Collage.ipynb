{
 "cells": [
  {
   "cell_type": "code",
   "execution_count": null,
   "metadata": {},
   "outputs": [],
   "source": []
  },
  {
   "cell_type": "code",
   "execution_count": null,
   "metadata": {},
   "outputs": [],
   "source": [
    "data, similarity, labels = autoencoder.get_similarity_data()\n",
    "print(labels)\n",
    "images = General_Functions().find_images_to_plot(30, 36, data, similarity, labels)"
   ]
  },
  {
   "cell_type": "code",
   "execution_count": 3,
   "metadata": {},
   "outputs": [
    {
     "ename": "ModuleNotFoundError",
     "evalue": "No module named 'General_Functions'",
     "output_type": "error",
     "traceback": [
      "\u001b[1;31m---------------------------------------------------------------------------\u001b[0m",
      "\u001b[1;31mModuleNotFoundError\u001b[0m                       Traceback (most recent call last)",
      "Cell \u001b[1;32mIn[3], line 13\u001b[0m\n\u001b[0;32m     10\u001b[0m \u001b[38;5;28;01mfrom\u001b[39;00m \u001b[38;5;21;01mopenpyxl\u001b[39;00m \u001b[38;5;28;01mimport\u001b[39;00m load_workbook,Workbook\n\u001b[0;32m     11\u001b[0m \u001b[38;5;28;01mimport\u001b[39;00m \u001b[38;5;21;01mos\u001b[39;00m\u001b[38;5;21;01m.\u001b[39;00m\u001b[38;5;21;01mpath\u001b[39;00m\n\u001b[1;32m---> 13\u001b[0m \u001b[38;5;28;01mfrom\u001b[39;00m \u001b[38;5;21;01mGeneral_Functions\u001b[39;00m \u001b[38;5;28;01mimport\u001b[39;00m General_Functions\n\u001b[0;32m     15\u001b[0m \u001b[38;5;28;01mdef\u001b[39;00m \u001b[38;5;21mplot_collage\u001b[39m(images, num_x_images, num_y_images, image_size, data_dir_path):\n\u001b[0;32m     16\u001b[0m     \n\u001b[0;32m     17\u001b[0m         \u001b[38;5;66;03m# Create a blank canvas for the collage\u001b[39;00m\n\u001b[0;32m     18\u001b[0m         collage_size \u001b[38;5;241m=\u001b[39m (image_size[\u001b[38;5;241m0\u001b[39m] \u001b[38;5;241m*\u001b[39m \u001b[38;5;241m10\u001b[39m, image_size[\u001b[38;5;241m1\u001b[39m] \u001b[38;5;241m*\u001b[39m \u001b[38;5;241m10\u001b[39m)\n",
      "\u001b[1;31mModuleNotFoundError\u001b[0m: No module named 'General_Functions'"
     ]
    }
   ],
   "source": [
    "import numpy as np\n",
    "import pandas as pd\n",
    "import matplotlib.pyplot as plt\n",
    "import matplotlib.patches as mpatches\n",
    "from matplotlib.ticker import FixedLocator\n",
    "import matplotlib.colors as mcolors\n",
    "\n",
    "from sklearn.manifold import TSNE\n",
    "\n",
    "from openpyxl import load_workbook,Workbook\n",
    "import os.path\n",
    "\n",
    "from General_Functions import General_Functions\n",
    "\n",
    "def plot_collage(images, num_x_images, num_y_images, image_size, data_dir_path):\n",
    "    \n",
    "        # Create a blank canvas for the collage\n",
    "        collage_size = (image_size[0] * 10, image_size[1] * 10)\n",
    "\n",
    "        fig, axes = plt.subplots(num_x_images, num_y_images, figsize=(image_size[0], image_size[1]), facecolor = 'black')\n",
    "\n",
    "        for i in range(num_x_images):\n",
    "            for j in range(num_y_images):\n",
    "                index = i * num_y_images + j\n",
    "                image = images[index].reshape(image_size[0], image_size[1])\n",
    "                \n",
    "                axes[i, j].imshow(image, cmap='gray')\n",
    "                axes[i, j].axis('off')\n",
    "\n",
    "        plt.subplots_adjust(wspace=0, hspace=0)\n",
    "        plt.savefig(data_dir_path + \"/Experiments/Collage.png\", facecolor = 'white')\n",
    "        plt.show()\n",
    "plot_collage(images, 6, 10, (28, 28), autoencoder.data_dir_path)\n",
    "from PIL import Image\n",
    "\n",
    "# Open an image\n",
    "image_path = \"path/to/your/image.jpg\"\n",
    "original_image = Image.open(image_path)\n",
    "\n",
    "# Set the desired size in pixels\n",
    "new_size = (width_in_pixels, height_in_pixels)\n",
    "\n",
    "# Resize the image\n",
    "resized_image = original_image.resize(new_size)\n",
    "\n",
    "# Save or display the resized image\n",
    "resized_image.save(\"path/to/your/resized/image.jpg\")\n",
    "resized_image.show()"
   ]
  }
 ],
 "metadata": {
  "kernelspec": {
   "display_name": "Python 3",
   "language": "python",
   "name": "python3"
  },
  "language_info": {
   "codemirror_mode": {
    "name": "ipython",
    "version": 3
   },
   "file_extension": ".py",
   "mimetype": "text/x-python",
   "name": "python",
   "nbconvert_exporter": "python",
   "pygments_lexer": "ipython3",
   "version": "3.11.4"
  }
 },
 "nbformat": 4,
 "nbformat_minor": 2
}
