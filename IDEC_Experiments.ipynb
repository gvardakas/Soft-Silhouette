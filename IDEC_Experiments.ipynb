{
 "cells": [
  {
   "cell_type": "code",
   "execution_count": null,
   "id": "c2ce3775",
   "metadata": {},
   "outputs": [],
   "source": [
    "import os\n",
    "import sys\n",
    "import torch\n",
    "import numpy as np\n",
    "\n",
    "from Datasets.Datasets_Functions import *\n",
    "from Visualization import Visualization\n",
    "\n",
    "from Related_Codes.IDECAutoencoder import IDECAutoencoder, IDECCDAutoencoder\n",
    "from General_Functions import General_Functions"
   ]
  },
  {
   "cell_type": "code",
   "execution_count": null,
   "id": "6287da44",
   "metadata": {},
   "outputs": [],
   "source": [
    "path_to_module = './'\n",
    "sys.path.append(path_to_module)\n",
    "os.environ['OMP_NUM_THREADS'] = '6'\n",
    "\n",
    "device = torch.device('cuda:0' if torch.cuda.is_available() else 'cpu')\n",
    "torch.cuda.set_device(device)\n",
    "print(device)"
   ]
  },
  {
   "cell_type": "code",
   "execution_count": null,
   "id": "10c7919d",
   "metadata": {},
   "outputs": [],
   "source": [
    "hashmap_path = path_to_module + 'Datasets/'\n",
    "hashmap = get_hashmap(hashmap_path)\n",
    "dataset_name = \"r100\"\n",
    "dataset_properties = hashmap[dataset_name]\n",
    "batch_size = dataset_properties['batch_size'] = 256\n",
    "n_clusters = dataset_properties['n_clusters'] \n",
    "dataloader, input_dim, data_np, labels = function_get_dataset(dataset_name, dataset_properties)"
   ]
  },
  {
   "cell_type": "code",
   "execution_count": null,
   "id": "91742e9f",
   "metadata": {},
   "outputs": [],
   "source": [
    "visualization = Visualization()"
   ]
  },
  {
   "cell_type": "markdown",
   "id": "5c91b757",
   "metadata": {},
   "source": [
    "### IDec"
   ]
  },
  {
   "cell_type": "code",
   "execution_count": null,
   "id": "a4f1ffa3",
   "metadata": {},
   "outputs": [],
   "source": [
    "n_clusters = dataset_properties['n_clusters']\n",
    "\n",
    "# Batch Size and Number of Clusters\n",
    "batch_size = dataset_properties['batch_size']\n",
    "\n",
    "# Pre-Training Epochs and Learning Rate\n",
    "n_pret_epochs = 100\n",
    "pret_lr = 5e-4\n",
    "\n",
    "# Lamdas, Training Epochs and Learning Rate\n",
    "n_epochs = 100\n",
    "lr = 5e-4\n",
    "alpha = 1.0\n",
    "gamma = 0.1\n",
    "momentum = 0.9\n",
    "latent_dim = 2\n",
    "n_channels = 1\n",
    "negative_slope = 0 \n",
    "is_MLP_AE = True\n",
    "\n",
    "if(is_MLP_AE):\n",
    "    idec_autoencoder = IDECAutoencoder(device=device, n_clusters=n_clusters, input_dim=input_dim, latent_dim=latent_dim , negative_slope=negative_slope)\n",
    "else:  \n",
    "    input_dim = 1\n",
    "    idec_autoencoder = IDECCDAutoencoder(device=device, n_clusters=n_clusters, input_dim=input_dim, latent_dim=latent_dim, negative_slope=negative_slope, n_channels=n_channels) \n",
    "idec_autoencoder.set_general_training_variables(dataloader=dataloader, batch_size=batch_size)\n",
    "idec_autoencoder.set_pretraining_variables(n_pret_epochs=n_pret_epochs, pret_lr=pret_lr)\n",
    "idec_autoencoder.set_training_variables(n_epochs=n_epochs, lr=lr, momentum=momentum, alpha=alpha, gamma=gamma)\n",
    "idec_autoencoder.set_path_variables(path_to_module=path_to_module, dataset_name=dataset_name)\n",
    "idec_autoencoder.set_path()\n",
    "idec_autoencoder = idec_autoencoder.to(device)\n",
    "\n",
    "pretrain = True\n",
    "if(pretrain):\n",
    "    idec_autoencoder.pretrain_autoencoder()\n",
    "    idec_autoencoder.save_pretrained_weights()\n",
    "else:\n",
    "    model_save_path = idec_autoencoder.data_dir_path + '/Weigths/autoencoder_weights.pth'\n",
    "    idec_autoencoder.load_state_dict(torch.load(model_save_path))"
   ]
  },
  {
   "cell_type": "code",
   "execution_count": null,
   "id": "3c9f47ea",
   "metadata": {
    "scrolled": false
   },
   "outputs": [],
   "source": [
    "idec_autoencoder.kmeans_initialization()\n",
    "idec_autoencoder.train_autoencoder()\n",
    "cluster_centers = idec_autoencoder.get_cluster_centers()\n",
    "_, idec_autoencoder_reduced_data, labels = idec_autoencoder.get_latent_data()\n",
    "General_Functions().save_excel(idec_autoencoder.data_dir_path, idec_autoencoder.df_eval)"
   ]
  },
  {
   "cell_type": "code",
   "execution_count": null,
   "id": "dfac8d62",
   "metadata": {},
   "outputs": [],
   "source": [
    "visualization.plot(idec_autoencoder_reduced_data, labels, labels, cluster_centers, idec_autoencoder.data_dir_path)"
   ]
  }
 ],
 "metadata": {
  "kernelspec": {
   "display_name": "Python 3 (ipykernel)",
   "language": "python",
   "name": "python3"
  },
  "language_info": {
   "codemirror_mode": {
    "name": "ipython",
    "version": 3
   },
   "file_extension": ".py",
   "mimetype": "text/x-python",
   "name": "python",
   "nbconvert_exporter": "python",
   "pygments_lexer": "ipython3",
   "version": "3.10.9"
  }
 },
 "nbformat": 4,
 "nbformat_minor": 5
}
