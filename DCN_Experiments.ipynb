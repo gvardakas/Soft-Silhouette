{
 "cells": [
  {
   "cell_type": "markdown",
   "id": "68f3e01b",
   "metadata": {},
   "source": [
    "###  Libraries"
   ]
  },
  {
   "cell_type": "code",
   "execution_count": null,
   "id": "c2ce3775",
   "metadata": {},
   "outputs": [],
   "source": [
    "import numpy as np\n",
    "\n",
    "from Related_Codes.DCNAutoencoder import DCNAutoencoder, DCNCDAutoencoder\n",
    "from Related_Codes.DECAutoencoder import DECAutoencoder, DECCDAutoencoder\n",
    "from Related_Codes.IDECAutoencoder import IDECAutoencoder, IDECCDAutoencoder\n",
    "from General_Functions import General_Functions\n",
    "\n",
    "from sklearn.decomposition import PCA, TruncatedSVD, NMF\n",
    "from sklearn.manifold import LocallyLinearEmbedding, SpectralEmbedding, Isomap, TSNE\n",
    "\n",
    "import torch\n",
    "\n",
    "import os\n",
    "import sys\n",
    "\n",
    "from Datasets.Datasets_Functions import *\n",
    "from Visualization import Visualization"
   ]
  },
  {
   "cell_type": "markdown",
   "id": "a1688ecb",
   "metadata": {},
   "source": [
    "### Global Variables"
   ]
  },
  {
   "cell_type": "code",
   "execution_count": null,
   "id": "6287da44",
   "metadata": {},
   "outputs": [],
   "source": [
    "path_to_module = './'\n",
    "sys.path.append(path_to_module)\n",
    "os.environ['OMP_NUM_THREADS'] = '6'\n",
    "\n",
    "device = torch.device('cuda:0' if torch.cuda.is_available() else 'cpu')\n",
    "torch.cuda.set_device(device)"
   ]
  },
  {
   "cell_type": "markdown",
   "id": "fb17162c",
   "metadata": {},
   "source": [
    "### Load Dataset"
   ]
  },
  {
   "cell_type": "code",
   "execution_count": null,
   "id": "10c7919d",
   "metadata": {},
   "outputs": [],
   "source": [
    "dataset_name = \"emnist_balanced_letters_A_J\" # The available datasets are: emnist_balanced_digits, emnist_mnist, emnist_balanced_letters_A_J, emnist_balanced_letters_K_T, emnist_balanced_letters_U_Z, har, pendigits, waveform_v1, synthetic\n",
    "module_name = \"Datasets.Datasets\"\n",
    "batch_size = 256\n",
    "n_clusters = 10\n",
    "dataloader, input_dim, data_np, labels = function_get_dataset(dataset_name, module_name, batch_size, n_clusters)\n",
    "print('Data_Shape is:', input_dim)\n",
    "print('Batches Number is:', len(dataloader))\n",
    "print(np.unique(labels))"
   ]
  },
  {
   "cell_type": "markdown",
   "id": "c94829f7",
   "metadata": {},
   "source": [
    "### Visualization"
   ]
  },
  {
   "cell_type": "code",
   "execution_count": null,
   "id": "91742e9f",
   "metadata": {},
   "outputs": [],
   "source": [
    "visualization = Visualization()"
   ]
  },
  {
   "cell_type": "markdown",
   "id": "2f8e3e04",
   "metadata": {},
   "source": [
    "### Parameters"
   ]
  },
  {
   "cell_type": "code",
   "execution_count": null,
   "id": "93a39599",
   "metadata": {
    "scrolled": true
   },
   "outputs": [],
   "source": [
    "# Set latent dimension and negative slope\n",
    "latent_dim = 5\n",
    "negative_slope = 0\n",
    "\n",
    "# Set pre-training epochs and learning rate\n",
    "n_pret_epochs = 1000\n",
    "pret_lr = 5e-4\n",
    "\n",
    "# Set lamda, beta, training epochs and learning rate\n",
    "lamda = 1\n",
    "beta = 1e-5\n",
    "n_epochs = 100\n",
    "lr = 5e-4\n",
    "\n",
    "# Set use_pretrain and is_mlp_ae\n",
    "use_pretrain = True\n",
    "is_mlp_ae = False"
   ]
  },
  {
   "cell_type": "markdown",
   "id": "9110f36b",
   "metadata": {},
   "source": [
    "### Create Autoencoder Model"
   ]
  },
  {
   "cell_type": "code",
   "execution_count": null,
   "id": "12d2cf6e",
   "metadata": {},
   "outputs": [],
   "source": [
    "if(is_mlp_ae):\n",
    "    dcn_autoencoder = DCNAutoencoder(device=device, n_clusters=n_clusters, input_dim=input_dim, latent_dim=latent_dim, negative_slope=negative_slope)\n",
    "else:  \n",
    "    input_dim = 1\n",
    "    dcn_autoencoder = DCNCDAutoencoder(device=device, n_clusters=n_clusters, input_dim=input_dim, latent_dim=latent_dim, negative_slope=negative_slope) \n",
    "dcn_autoencoder.set_general_training_variables(dataloader=dataloader, batch_size=batch_size)\n",
    "dcn_autoencoder.set_pretraining_variables(n_pret_epochs=n_pret_epochs, pret_lr=pret_lr)\n",
    "dcn_autoencoder.set_training_variables(n_epochs=n_epochs, lr=lr, lamda=lamda, beta=beta )\n",
    "dcn_autoencoder.set_path_variables(path_to_module=path_to_module, dataset_name=dataset_name)\n",
    "dcn_autoencoder.set_path()\n",
    "dcn_autoencoder = dcn_autoencoder.to(device)"
   ]
  },
  {
   "cell_type": "markdown",
   "id": "d8a2f488",
   "metadata": {},
   "source": [
    "### Pretrain Autoencoder"
   ]
  },
  {
   "cell_type": "code",
   "execution_count": null,
   "id": "4d5258b2",
   "metadata": {},
   "outputs": [],
   "source": [
    "if(use_pretrain):\n",
    "    dcn_autoencoder.pretrain_autoencoder()\n",
    "    dcn_autoencoder.save_pretrained_weights()\n",
    "else:\n",
    "    model_save_path = dcn_autoencoder.data_dir_path + '/Weigths/autoencoder_weights.pth'\n",
    "    dcn_autoencoder.load_state_dict(torch.load(model_save_path))"
   ]
  },
  {
   "cell_type": "markdown",
   "id": "48f6650f",
   "metadata": {},
   "source": [
    "### Train Autoencoder"
   ]
  },
  {
   "cell_type": "code",
   "execution_count": null,
   "id": "ae5b2223",
   "metadata": {},
   "outputs": [],
   "source": [
    "dcn_autoencoder.train_autoencoder()"
   ]
  },
  {
   "cell_type": "markdown",
   "id": "72dc4857",
   "metadata": {},
   "source": [
    "### Save Clustering Results"
   ]
  },
  {
   "cell_type": "code",
   "execution_count": null,
   "id": "3f0fcf5b",
   "metadata": {
    "scrolled": true
   },
   "outputs": [],
   "source": [
    "General_Functions().save_excel(dcn_autoencoder.data_dir_path, dcn_autoencoder.df_eval)"
   ]
  },
  {
   "cell_type": "markdown",
   "id": "0753f2bf",
   "metadata": {},
   "source": [
    "### Plot Clustering Results"
   ]
  },
  {
   "cell_type": "code",
   "execution_count": null,
   "id": "e8e80d6f",
   "metadata": {},
   "outputs": [],
   "source": [
    "cluster_centers = dcn_autoencoder.get_cluster_centers()\n",
    "_, dcn_autoencoder_reduced_data, labels = dcn_autoencoder.get_latent_data()\n",
    "visualization.plot_tsne(dcn_autoencoder_reduced_data, labels, labels, cluster_centers, dcn_autoencoder.data_dir_path)"
   ]
  }
 ],
 "metadata": {
  "kernelspec": {
   "display_name": "Python 3 (ipykernel)",
   "language": "python",
   "name": "python3"
  },
  "language_info": {
   "codemirror_mode": {
    "name": "ipython",
    "version": 3
   },
   "file_extension": ".py",
   "mimetype": "text/x-python",
   "name": "python",
   "nbconvert_exporter": "python",
   "pygments_lexer": "ipython3",
   "version": "3.11.4"
  }
 },
 "nbformat": 4,
 "nbformat_minor": 5
}
