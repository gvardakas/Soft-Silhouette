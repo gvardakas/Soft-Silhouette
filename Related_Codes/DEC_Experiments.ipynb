{
 "cells": [
  {
   "cell_type": "code",
   "execution_count": null,
   "id": "c2ce3775",
   "metadata": {},
   "outputs": [],
   "source": [
    "import numpy as np\n",
    "\n",
    "from Related_Codes.DCNAutoencoder import DCNAutoencoder, DCNCDAutoencoder\n",
    "from Related_Codes.DECAutoencoder import DECAutoencoder, DECCDAutoencoder\n",
    "from Related_Codes.IDECAutoencoder import IDECAutoencoder, IDECCDAutoencoder\n",
    "from General_Functions import General_Functions\n",
    "\n",
    "from sklearn.decomposition import PCA, TruncatedSVD, NMF\n",
    "from sklearn.manifold import LocallyLinearEmbedding, SpectralEmbedding, Isomap, TSNE\n",
    "\n",
    "import torch\n",
    "\n",
    "import os\n",
    "import sys\n",
    "\n",
    "from Datasets.Datasets_Functions import *\n",
    "from Visualization import Visualization"
   ]
  },
  {
   "cell_type": "code",
   "execution_count": null,
   "id": "6287da44",
   "metadata": {},
   "outputs": [],
   "source": [
    "path_to_module = './'\n",
    "sys.path.append(path_to_module)\n",
    "os.environ['OMP_NUM_THREADS'] = '6'\n",
    "\n",
    "device = torch.device('cuda:0' if torch.cuda.is_available() else 'cpu')\n",
    "torch.cuda.set_device(device)\n",
    " "
   ]
  },
  {
   "cell_type": "code",
   "execution_count": null,
   "id": "10c7919d",
   "metadata": {},
   "outputs": [],
   "source": [
    "hashmap_path = path_to_module + 'Datasets/'\n",
    "hashmap = get_hashmap(hashmap_path)\n",
    "print(hashmap)\n",
    "dataset_name = \"emnist_balanced_digits\"\n",
    "dataset_properties = hashmap[dataset_name]\n",
    "batch_size = dataset_properties['batch_size'] = 256\n",
    "n_clusters = dataset_properties['n_clusters'] = 10\n",
    "dataloader, input_dim, data_np, labels = function_get_dataset(dataset_name, dataset_properties)\n",
    "print(input_dim)"
   ]
  },
  {
   "cell_type": "code",
   "execution_count": null,
   "id": "91742e9f",
   "metadata": {},
   "outputs": [],
   "source": [
    "visualization = Visualization()"
   ]
  },
  {
   "cell_type": "markdown",
   "id": "0b8d90a1",
   "metadata": {},
   "source": [
    "### Dec"
   ]
  },
  {
   "cell_type": "code",
   "execution_count": null,
   "id": "6d9d2831",
   "metadata": {},
   "outputs": [],
   "source": [
    "n_clusters = dataset_properties['n_clusters']\n",
    "\n",
    "# Batch Size and Number of Clusters\n",
    "batch_size = dataset_properties['batch_size']\n",
    "\n",
    "# Pre-Training Epochs and Learning Rate\n",
    "n_pret_epochs = 100\n",
    "pret_lr = 1e-3\n",
    "\n",
    "# Lamdas, Training Epochs and Learning Rate\n",
    "n_epochs = 100\n",
    "lr = 5e-4\n",
    "alpha = 1.0\n",
    "momentum = 0.9\n",
    "latent_dim = 10\n",
    "n_channels = 1\n",
    "is_MLP_AE = False\n",
    "\n",
    "if(is_MLP_AE):\n",
    "    input_dim = 784\n",
    "    dec_autoencoder = DECAutoencoder(device=device, n_clusters=n_clusters, input_dim=input_dim, latent_dim=latent_dim)\n",
    "else:  \n",
    "    input_dim = 1\n",
    "    dec_autoencoder = DECCDAutoencoder(device=device, n_clusters=n_clusters, input_dim=input_dim, latent_dim=latent_dim, n_channels=n_channels) \n",
    "dec_autoencoder.set_general_training_variables(dataloader=dataloader, batch_size=batch_size)\n",
    "dec_autoencoder.set_pretraining_variables(n_pret_epochs=n_pret_epochs, pret_lr=pret_lr)\n",
    "dec_autoencoder.set_training_variables(n_epochs=n_epochs, lr=lr, momentum=momentum, alpha=alpha )\n",
    "dec_autoencoder.set_path_variables(path_to_module=path_to_module, dataset_name=dataset_name)\n",
    "dec_autoencoder.set_path()\n",
    "dec_autoencoder = dec_autoencoder.to(device)\n",
    "\n",
    "pretrain = True\n",
    "if(pretrain):\n",
    "    dec_autoencoder.pretrain_autoencoder()\n",
    "    dec_autoencoder.save_pretrained_weights()\n",
    "else:\n",
    "    model_save_path = dec_autoencoder.data_dir_path + '/Weigths/autoencoder_weights.pth'\n",
    "    dec_autoencoder.load_state_dict(torch.load(model_save_path))"
   ]
  },
  {
   "cell_type": "code",
   "execution_count": null,
   "id": "90315d03",
   "metadata": {
    "scrolled": true
   },
   "outputs": [],
   "source": [
    "dec_autoencoder.kmeans_initialization()\n",
    "dec_autoencoder.train_autoencoder()\n",
    "cluster_centers = dec_autoencoder.get_cluster_centers()\n",
    "_, dec_autoencoder_reduced_data, labels = dec_autoencoder.get_latent_data()\n",
    "General_Functions().save_excel(dec_autoencoder.data_dir_path, dec_autoencoder.df_eval)\n",
    "#visualization.plot(dec_autoencoder_reduced_data, labels, labels, cluster_centers, dec_autoencoder.data_dir_path)\n",
    "visualization.plot_tsne(dec_autoencoder_reduced_data, labels, labels, cluster_centers, dec_autoencoder.data_dir_path)"
   ]
  }
 ],
 "metadata": {
  "kernelspec": {
   "display_name": "Python 3 (ipykernel)",
   "language": "python",
   "name": "python3"
  },
  "language_info": {
   "codemirror_mode": {
    "name": "ipython",
    "version": 3
   },
   "file_extension": ".py",
   "mimetype": "text/x-python",
   "name": "python",
   "nbconvert_exporter": "python",
   "pygments_lexer": "ipython3",
   "version": "3.10.9"
  }
 },
 "nbformat": 4,
 "nbformat_minor": 5
}
