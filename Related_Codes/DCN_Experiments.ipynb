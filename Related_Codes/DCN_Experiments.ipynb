{
 "cells": [
  {
   "cell_type": "code",
   "execution_count": null,
   "id": "c2ce3775",
   "metadata": {},
   "outputs": [],
   "source": [
    "import numpy as np\n",
    "\n",
    "from Related_Codes.DCNAutoencoder import DCNAutoencoder, DCNCDAutoencoder\n",
    "from Related_Codes.DECAutoencoder import DECAutoencoder, DECCDAutoencoder\n",
    "from Related_Codes.IDECAutoencoder import IDECAutoencoder, IDECCDAutoencoder\n",
    "from General_Functions import General_Functions\n",
    "\n",
    "from sklearn.decomposition import PCA, TruncatedSVD, NMF\n",
    "from sklearn.manifold import LocallyLinearEmbedding, SpectralEmbedding, Isomap, TSNE\n",
    "\n",
    "import torch\n",
    "\n",
    "import os\n",
    "import sys\n",
    "\n",
    "from Datasets.Datasets_Functions import *\n",
    "from Visualization import Visualization"
   ]
  },
  {
   "cell_type": "code",
   "execution_count": null,
   "id": "6287da44",
   "metadata": {},
   "outputs": [],
   "source": [
    "path_to_module = './'\n",
    "sys.path.append(path_to_module)\n",
    "os.environ['OMP_NUM_THREADS'] = '6'\n",
    "\n",
    "device = torch.device('cuda:0' if torch.cuda.is_available() else 'cpu')\n",
    "torch.cuda.set_device(device)"
   ]
  },
  {
   "cell_type": "code",
   "execution_count": null,
   "id": "10c7919d",
   "metadata": {},
   "outputs": [],
   "source": [
    "hashmap_path = path_to_module + 'Datasets/'\n",
    "hashmap = get_hashmap(hashmap_path)\n",
    "print(hashmap)\n",
    "dataset_name = \"emnist_balanced_digits\"\n",
    "dataset_properties = hashmap[dataset_name]\n",
    "batch_size = dataset_properties['batch_size'] = 256\n",
    "n_clusters = dataset_properties['n_clusters'] = 10\n",
    "dataloader, input_dim, data_np, labels = function_get_dataset(dataset_name, dataset_properties)\n",
    "print(input_dim)"
   ]
  },
  {
   "cell_type": "code",
   "execution_count": null,
   "id": "91742e9f",
   "metadata": {},
   "outputs": [],
   "source": [
    "visualization = Visualization()"
   ]
  },
  {
   "cell_type": "markdown",
   "id": "2f8e3e04",
   "metadata": {},
   "source": [
    "### Dcn"
   ]
  },
  {
   "cell_type": "code",
   "execution_count": null,
   "id": "93a39599",
   "metadata": {
    "scrolled": true
   },
   "outputs": [],
   "source": [
    "\n",
    "\"\"\"\n",
    "parser.add_argument('--n-classes', type=int, default=10,\n",
    "                    help='output dimension')\n",
    "\"\"\"\n",
    "n_clusters = dataset_properties['n_clusters'] = 10\n",
    "\n",
    "# Batch Size and Number of Clusters\n",
    "batch_size = dataset_properties['batch_size'] = 256\n",
    "\n",
    "# Pre-Training Epochs and Learning Rate\n",
    "\"\"\"\n",
    "parser.add_argument('--pre-epoch', type=int, default=50, \n",
    "                    help='number of pre-train epochs')\n",
    "\"\"\"\n",
    "n_pret_epochs = 100\n",
    "pret_lr = 1e-3\n",
    "\n",
    "# Lamdas, Training Epochs and Learning Rate\n",
    "\"\"\"\n",
    "parser.add_argument('--epoch', type=int, default=100,\n",
    "                    help='number of epochs to train')\n",
    "\"\"\"\n",
    "n_epochs = 100\n",
    "\"\"\"\n",
    "parser.add_argument('--lr', type=float, default=1e-4,\n",
    "                    help='learning rate (default: 1e-4)')\n",
    "\"\"\"\n",
    "lr = 1e-4\n",
    "\"\"\"\n",
    "parser.add_argument('--lamda', type=float, default=1,\n",
    "                    help='coefficient of the reconstruction loss')\n",
    "\"\"\"\n",
    "lamda = 1\n",
    "\"\"\"\n",
    "parser.add_argument('--beta', type=float, default=1,\n",
    "                    help=('coefficient of the regularization term on '\n",
    "                          'clustering'))\n",
    "\"\"\"\n",
    "beta = 1e-5\n",
    "\"\"\"\n",
    "parser.add_argument('--latent_dim', type=int, default=10,\n",
    "                    help='latent space dimension')\n",
    "\"\"\"\n",
    "latent_dim = 10\n",
    "n_channels = 1\n",
    "is_MLP_AE = False\n",
    "\n",
    "if(is_MLP_AE):\n",
    "    input_dim = 784\n",
    "    dcn_autoencoder = DCNAutoencoder(device=device, n_clusters=n_clusters, input_dim=input_dim, latent_dim=latent_dim)\n",
    "else:  \n",
    "    input_dim = 1\n",
    "    dcn_autoencoder = DCNCDAutoencoder(device=device, n_clusters=n_clusters, input_dim=input_dim, latent_dim=latent_dim, n_channels=n_channels) \n",
    "dcn_autoencoder.set_general_training_variables(dataloader=dataloader, batch_size=batch_size)\n",
    "dcn_autoencoder.set_pretraining_variables(n_pret_epochs=n_pret_epochs, pret_lr=pret_lr)\n",
    "dcn_autoencoder.set_training_variables(n_epochs=n_epochs, lr=lr, lamda=lamda, beta=beta )\n",
    "dcn_autoencoder.set_path_variables(path_to_module=path_to_module, dataset_name=dataset_name)\n",
    "dcn_autoencoder.set_path()\n",
    "dcn_autoencoder = dcn_autoencoder.to(device)\n",
    "dcn_autoencoder\n",
    "pretrain = True\n",
    "if(pretrain):\n",
    "    dcn_autoencoder.pretrain_autoencoder()\n",
    "    dcn_autoencoder.save_pretrained_weights()\n",
    "else:\n",
    "    model_save_path = dcn_autoencoder.data_dir_path + '/Weigths/autoencoder_weights.pth'\n",
    "    dcn_autoencoder.load_state_dict(torch.load(model_save_path))"
   ]
  },
  {
   "cell_type": "code",
   "execution_count": null,
   "id": "3f0fcf5b",
   "metadata": {
    "scrolled": true
   },
   "outputs": [],
   "source": [
    "dcn_autoencoder.train_autoencoder()\n",
    "cluster_centers = dcn_autoencoder.get_cluster_centers()\n",
    "_, dcn_autoencoder_reduced_data, labels = dcn_autoencoder.get_latent_data()\n",
    "General_Functions().save_excel(dcn_autoencoder.data_dir_path, dcn_autoencoder.df_eval)\n",
    "visualization.plot_tsne(dcn_autoencoder_reduced_data, labels, labels, cluster_centers, dcn_autoencoder.data_dir_path)"
   ]
  }
 ],
 "metadata": {
  "kernelspec": {
   "display_name": "Python 3 (ipykernel)",
   "language": "python",
   "name": "python3"
  },
  "language_info": {
   "codemirror_mode": {
    "name": "ipython",
    "version": 3
   },
   "file_extension": ".py",
   "mimetype": "text/x-python",
   "name": "python",
   "nbconvert_exporter": "python",
   "pygments_lexer": "ipython3",
   "version": "3.10.9"
  }
 },
 "nbformat": 4,
 "nbformat_minor": 5
}
