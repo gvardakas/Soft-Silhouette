{
 "cells": [
  {
   "cell_type": "code",
   "execution_count": 1,
   "id": "8256748a",
   "metadata": {},
   "outputs": [],
   "source": [
    "#pip3 install google.colab\n",
    "#from google.colab import drive\n",
    "#drive.mount('/content/drive', force_remount=True)\n",
    "import sys\n",
    "path_to_module = 'C:\\\\Users\\\\PAPASOFT INC\\\\Desktop\\\\SOFT_SIL'\n",
    "sys.path.append(path_to_module)\n",
    "import os\n",
    "os.environ[\"OMP_NUM_THREADS\"] = '1'"
   ]
  },
  {
   "cell_type": "markdown",
   "id": "5f8e722b",
   "metadata": {},
   "source": [
    "### ***NEEDED LIBRARIES***"
   ]
  },
  {
   "cell_type": "code",
   "execution_count": 2,
   "id": "b04557dd",
   "metadata": {},
   "outputs": [],
   "source": [
    "# SET DEVICE\n",
    "import torch\n",
    "############\n",
    "# LOAD DATASET\n",
    "from New_Code_Files.Datasets_Functions import createHashMap, getHashMap, appendInHashMap, deleteFromHashMap, updateHashMap, functionGetDataset, makeHashMapWithListsToHashmapWithDicts\n",
    "############\n",
    "# VISUALIZATION\n",
    "import matplotlib.colors as mcolors\n",
    "import numpy as np\n",
    "from New_Code_Files.Visualization import Visualization\n",
    "############\n",
    "# CREATE MLP\n",
    "from New_Code_Files.MLP import MLP, createMLP\n",
    "############"
   ]
  },
  {
   "cell_type": "markdown",
   "id": "7c56edb7",
   "metadata": {},
   "source": [
    "### ***SET DEVICE***"
   ]
  },
  {
   "cell_type": "code",
   "execution_count": 3,
   "id": "69fc0f11",
   "metadata": {},
   "outputs": [],
   "source": [
    "import torch\n",
    "device = torch.device('cuda:0' if torch.cuda.is_available() else 'cpu')\n",
    "torch.cuda.set_device(device)"
   ]
  },
  {
   "cell_type": "markdown",
   "id": "3467285d",
   "metadata": {},
   "source": [
    "### ***LOAD DATASET***"
   ]
  },
  {
   "cell_type": "code",
   "execution_count": 4,
   "id": "e5c75b05",
   "metadata": {},
   "outputs": [
    {
     "name": "stdout",
     "output_type": "stream",
     "text": [
      "dict_keys(['10x73k', 'TCGA', 'coil20', 'eMNIST_balanced_letters', 'eMNIST_mnist', 'eMNIST_balanced_digits', 'Dermatology', 'Ecoil', 'Iris', 'Rings', 'Wine', 'Australian', 'Moons', 'Squeezed_Gauss', 'Gauss_Densities', 'Pendigits', 'fashionMNIST', '3DSpheres', '20_NewsGroups', 'COIL20', 'CIFAR10', 'STL10', 'R15', 'R3'])\n",
      "{'batch_size': 100, 'n_clusters': 3, 'module_name': 'datasets.datasets_New', 'function_name': 'load_R3_dataloader', 'option_name': ''}\n",
      "torch.Size([1500, 2])\n",
      "2\n",
      "Data_Shape is: 2\n",
      "Batches Number is: 15\n"
     ]
    }
   ],
   "source": [
    "hashMapFilePath = path_to_module+\"/New_Code_Files/\"\n",
    "#updateHashMap(\"R15\",{'batch_size': 50, 'n_clusters': 15, 'module_name': 'datasets.datasets_New', 'function_name': 'load_R15_dataloader', 'option_name': ''},hashMapFilePath)\n",
    "hashMap = getHashMap(hashMapFilePath)\n",
    "print(hashMap.keys())\n",
    "datasetName = \"R3\"\n",
    "datasetProperties = hashMap[datasetName]\n",
    "print(datasetProperties)\n",
    "batchSize = datasetProperties['batch_size'] #= 30\n",
    "nClusters = datasetProperties['n_clusters'] #= 3\n",
    "dataloader, inputDim, data_np, labels = functionGetDataset(datasetProperties)\n",
    "print(\"Data_Shape is:\",inputDim)\n",
    "print(\"Batches Number is:\",len(dataloader))\n"
   ]
  },
  {
   "cell_type": "markdown",
   "id": "7a37d27c",
   "metadata": {},
   "source": [
    "### ***PARAMETERS***"
   ]
  },
  {
   "cell_type": "code",
   "execution_count": 5,
   "id": "46464ecf",
   "metadata": {},
   "outputs": [],
   "source": [
    "negativeSlope = 0\n",
    "\n",
    "# Batch Size and Number of Clusters\n",
    "batchSize = datasetProperties['batch_size']\n",
    "nClusters = datasetProperties['n_clusters']\n",
    "\n",
    "# Training Epochs and Learning Rate\n",
    "trLR = 1e-3\n",
    "trEpochs = 100\n",
    "\n",
    "kmeans_initialization = True\n",
    "kmeans_n_init = 100"
   ]
  },
  {
   "cell_type": "markdown",
   "id": "586dff4c",
   "metadata": {},
   "source": [
    "### ***CREATE MLP***"
   ]
  },
  {
   "cell_type": "code",
   "execution_count": 6,
   "id": "10cc7d58",
   "metadata": {},
   "outputs": [],
   "source": [
    "# 1) Create a simple Mlp like Autoencoder.py\n",
    "# 2) Bias = False in Linear, batchnorm = false\n",
    "# 3) Train in 2-dim data like gauss_densities \n",
    "# 4) Print Data and Centers in a plot \n",
    "mlp = createMLP(pathToModule = path_to_module, datasetName =  datasetName,\n",
    " inputDim = inputDim, negativeSlope = negativeSlope,\n",
    " nClusters = nClusters, device = device, dataloader = dataloader,\n",
    " batchSize = batchSize,\n",
    " trEpochs = trEpochs, trLR = trLR,\n",
    " kmeans_n_init = 100)"
   ]
  },
  {
   "cell_type": "markdown",
   "id": "31b76a71",
   "metadata": {},
   "source": [
    "### ***VISUALIZATION***"
   ]
  },
  {
   "cell_type": "code",
   "execution_count": 7,
   "id": "1545fc4c",
   "metadata": {},
   "outputs": [],
   "source": [
    "color_list = list(mcolors.CSS4_COLORS.keys()) + list(mcolors.XKCD_COLORS.keys())\n",
    "np.random.shuffle(color_list)\n",
    "color_list = ['deepskyblue', 'gold', 'hotpink', 'limegreen'] + color_list\n",
    "visualization = Visualization(color_list,15,mlp)"
   ]
  },
  {
   "cell_type": "markdown",
   "id": "64e01334",
   "metadata": {},
   "source": [
    " ### ***TRAINING WITH SOFT SILHOUETTE***"
   ]
  },
  {
   "cell_type": "code",
   "execution_count": 8,
   "id": "99c04fdd",
   "metadata": {},
   "outputs": [],
   "source": [
    "\n",
    "if(kmeans_initialization):\n",
    "    mlp.kmeans_initialization(100)\n",
    "#mlp.take_clusters(\n"
   ]
  },
  {
   "cell_type": "code",
   "execution_count": 9,
   "id": "37a06d49",
   "metadata": {},
   "outputs": [
    {
     "name": "stdout",
     "output_type": "stream",
     "text": [
      "Epoch: 0 CL_LOSS: nan SOFT_SIL: nan SIL: 0.6709 ACC: 0.90 PUR: 0.90 NMI: 0.73 ARI: 0.75\n",
      "Epoch: 1 CL_LOSS: nan SOFT_SIL: nan SIL: 0.6709 ACC: 0.90 PUR: 0.90 NMI: 0.73 ARI: 0.75\n",
      "Epoch: 2 CL_LOSS: nan SOFT_SIL: nan SIL: 0.6709 ACC: 0.90 PUR: 0.90 NMI: 0.73 ARI: 0.75\n",
      "Epoch: 3 CL_LOSS: nan SOFT_SIL: nan SIL: 0.6709 ACC: 0.90 PUR: 0.90 NMI: 0.73 ARI: 0.75\n",
      "Epoch: 4 CL_LOSS: nan SOFT_SIL: nan SIL: 0.6709 ACC: 0.90 PUR: 0.90 NMI: 0.73 ARI: 0.75\n",
      "Epoch: 5 CL_LOSS: nan SOFT_SIL: nan SIL: 0.6709 ACC: 0.90 PUR: 0.90 NMI: 0.73 ARI: 0.75\n",
      "Epoch: 6 CL_LOSS: nan SOFT_SIL: nan SIL: 0.6709 ACC: 0.90 PUR: 0.90 NMI: 0.73 ARI: 0.75\n",
      "Epoch: 7 CL_LOSS: nan SOFT_SIL: nan SIL: 0.6709 ACC: 0.90 PUR: 0.90 NMI: 0.73 ARI: 0.75\n",
      "Epoch: 8 CL_LOSS: nan SOFT_SIL: nan SIL: 0.6709 ACC: 0.90 PUR: 0.90 NMI: 0.73 ARI: 0.75\n",
      "Epoch: 9 CL_LOSS: nan SOFT_SIL: nan SIL: 0.6709 ACC: 0.90 PUR: 0.90 NMI: 0.73 ARI: 0.75\n",
      "Epoch: 10 CL_LOSS: nan SOFT_SIL: nan SIL: 0.6709 ACC: 0.90 PUR: 0.90 NMI: 0.73 ARI: 0.75\n",
      "Epoch: 11 CL_LOSS: nan SOFT_SIL: nan SIL: 0.6709 ACC: 0.90 PUR: 0.90 NMI: 0.73 ARI: 0.75\n",
      "Epoch: 12 CL_LOSS: nan SOFT_SIL: nan SIL: 0.6709 ACC: 0.90 PUR: 0.90 NMI: 0.73 ARI: 0.75\n",
      "Epoch: 13 CL_LOSS: nan SOFT_SIL: nan SIL: 0.6709 ACC: 0.90 PUR: 0.90 NMI: 0.73 ARI: 0.75\n",
      "Epoch: 14 CL_LOSS: nan SOFT_SIL: nan SIL: 0.6709 ACC: 0.90 PUR: 0.90 NMI: 0.73 ARI: 0.75\n",
      "Epoch: 15 CL_LOSS: nan SOFT_SIL: nan SIL: 0.6709 ACC: 0.90 PUR: 0.90 NMI: 0.73 ARI: 0.75\n",
      "Epoch: 16 CL_LOSS: nan SOFT_SIL: nan SIL: 0.6709 ACC: 0.90 PUR: 0.90 NMI: 0.73 ARI: 0.75\n",
      "Epoch: 17 CL_LOSS: nan SOFT_SIL: nan SIL: 0.6709 ACC: 0.90 PUR: 0.90 NMI: 0.73 ARI: 0.75\n",
      "Epoch: 18 CL_LOSS: nan SOFT_SIL: nan SIL: 0.6709 ACC: 0.90 PUR: 0.90 NMI: 0.73 ARI: 0.75\n",
      "Epoch: 19 CL_LOSS: nan SOFT_SIL: nan SIL: 0.6709 ACC: 0.90 PUR: 0.90 NMI: 0.73 ARI: 0.75\n",
      "Epoch: 20 CL_LOSS: nan SOFT_SIL: nan SIL: 0.6709 ACC: 0.90 PUR: 0.90 NMI: 0.73 ARI: 0.75\n",
      "Epoch: 21 CL_LOSS: nan SOFT_SIL: nan SIL: 0.6709 ACC: 0.90 PUR: 0.90 NMI: 0.73 ARI: 0.75\n",
      "Epoch: 22 CL_LOSS: nan SOFT_SIL: nan SIL: 0.6709 ACC: 0.90 PUR: 0.90 NMI: 0.73 ARI: 0.75\n",
      "Epoch: 23 CL_LOSS: nan SOFT_SIL: nan SIL: 0.6709 ACC: 0.90 PUR: 0.90 NMI: 0.73 ARI: 0.75\n",
      "Epoch: 24 CL_LOSS: nan SOFT_SIL: nan SIL: 0.6709 ACC: 0.90 PUR: 0.90 NMI: 0.73 ARI: 0.75\n",
      "Epoch: 25 CL_LOSS: nan SOFT_SIL: nan SIL: 0.6709 ACC: 0.90 PUR: 0.90 NMI: 0.73 ARI: 0.75\n",
      "Epoch: 26 CL_LOSS: nan SOFT_SIL: nan SIL: 0.6709 ACC: 0.90 PUR: 0.90 NMI: 0.73 ARI: 0.75\n",
      "Epoch: 27 CL_LOSS: nan SOFT_SIL: nan SIL: 0.6709 ACC: 0.90 PUR: 0.90 NMI: 0.73 ARI: 0.75\n",
      "Epoch: 28 CL_LOSS: nan SOFT_SIL: nan SIL: 0.6709 ACC: 0.90 PUR: 0.90 NMI: 0.73 ARI: 0.75\n",
      "Epoch: 29 CL_LOSS: nan SOFT_SIL: nan SIL: 0.6709 ACC: 0.90 PUR: 0.90 NMI: 0.73 ARI: 0.75\n",
      "Epoch: 30 CL_LOSS: nan SOFT_SIL: nan SIL: 0.6709 ACC: 0.90 PUR: 0.90 NMI: 0.73 ARI: 0.75\n",
      "Epoch: 31 CL_LOSS: nan SOFT_SIL: nan SIL: 0.6709 ACC: 0.90 PUR: 0.90 NMI: 0.73 ARI: 0.75\n",
      "Epoch: 32 CL_LOSS: nan SOFT_SIL: nan SIL: 0.6709 ACC: 0.90 PUR: 0.90 NMI: 0.73 ARI: 0.75\n",
      "Epoch: 33 CL_LOSS: nan SOFT_SIL: nan SIL: 0.6709 ACC: 0.90 PUR: 0.90 NMI: 0.73 ARI: 0.75\n",
      "Epoch: 34 CL_LOSS: nan SOFT_SIL: nan SIL: 0.6709 ACC: 0.90 PUR: 0.90 NMI: 0.73 ARI: 0.75\n",
      "Epoch: 35 CL_LOSS: nan SOFT_SIL: nan SIL: 0.6709 ACC: 0.90 PUR: 0.90 NMI: 0.73 ARI: 0.75\n",
      "Epoch: 36 CL_LOSS: nan SOFT_SIL: nan SIL: 0.6709 ACC: 0.90 PUR: 0.90 NMI: 0.73 ARI: 0.75\n",
      "Epoch: 37 CL_LOSS: nan SOFT_SIL: nan SIL: 0.6709 ACC: 0.90 PUR: 0.90 NMI: 0.73 ARI: 0.75\n",
      "Epoch: 38 CL_LOSS: nan SOFT_SIL: nan SIL: 0.6709 ACC: 0.90 PUR: 0.90 NMI: 0.73 ARI: 0.75\n",
      "Epoch: 39 CL_LOSS: nan SOFT_SIL: nan SIL: 0.6709 ACC: 0.90 PUR: 0.90 NMI: 0.73 ARI: 0.75\n",
      "Epoch: 40 CL_LOSS: nan SOFT_SIL: nan SIL: 0.6709 ACC: 0.90 PUR: 0.90 NMI: 0.73 ARI: 0.75\n",
      "Epoch: 41 CL_LOSS: nan SOFT_SIL: nan SIL: 0.6709 ACC: 0.90 PUR: 0.90 NMI: 0.73 ARI: 0.75\n",
      "Epoch: 42 CL_LOSS: nan SOFT_SIL: nan SIL: 0.6709 ACC: 0.90 PUR: 0.90 NMI: 0.73 ARI: 0.75\n",
      "Epoch: 43 CL_LOSS: nan SOFT_SIL: nan SIL: 0.6709 ACC: 0.90 PUR: 0.90 NMI: 0.73 ARI: 0.75\n",
      "Epoch: 44 CL_LOSS: nan SOFT_SIL: nan SIL: 0.6709 ACC: 0.90 PUR: 0.90 NMI: 0.73 ARI: 0.75\n",
      "Epoch: 45 CL_LOSS: nan SOFT_SIL: nan SIL: 0.6709 ACC: 0.90 PUR: 0.90 NMI: 0.73 ARI: 0.75\n",
      "Epoch: 46 CL_LOSS: nan SOFT_SIL: nan SIL: 0.6709 ACC: 0.90 PUR: 0.90 NMI: 0.73 ARI: 0.75\n",
      "Epoch: 47 CL_LOSS: nan SOFT_SIL: nan SIL: 0.6709 ACC: 0.90 PUR: 0.90 NMI: 0.73 ARI: 0.75\n",
      "Epoch: 48 CL_LOSS: nan SOFT_SIL: nan SIL: 0.6709 ACC: 0.90 PUR: 0.90 NMI: 0.73 ARI: 0.75\n",
      "Epoch: 49 CL_LOSS: nan SOFT_SIL: nan SIL: 0.6709 ACC: 0.90 PUR: 0.90 NMI: 0.73 ARI: 0.75\n",
      "Epoch: 50 CL_LOSS: nan SOFT_SIL: nan SIL: 0.6709 ACC: 0.90 PUR: 0.90 NMI: 0.73 ARI: 0.75\n",
      "Epoch: 51 CL_LOSS: nan SOFT_SIL: nan SIL: 0.6709 ACC: 0.90 PUR: 0.90 NMI: 0.73 ARI: 0.75\n",
      "Epoch: 52 CL_LOSS: nan SOFT_SIL: nan SIL: 0.6709 ACC: 0.90 PUR: 0.90 NMI: 0.73 ARI: 0.75\n",
      "Epoch: 53 CL_LOSS: nan SOFT_SIL: nan SIL: 0.6709 ACC: 0.90 PUR: 0.90 NMI: 0.73 ARI: 0.75\n",
      "Epoch: 54 CL_LOSS: nan SOFT_SIL: nan SIL: 0.6709 ACC: 0.90 PUR: 0.90 NMI: 0.73 ARI: 0.75\n",
      "Epoch: 55 CL_LOSS: nan SOFT_SIL: nan SIL: 0.6709 ACC: 0.90 PUR: 0.90 NMI: 0.73 ARI: 0.75\n",
      "Epoch: 56 CL_LOSS: nan SOFT_SIL: nan SIL: 0.6709 ACC: 0.90 PUR: 0.90 NMI: 0.73 ARI: 0.75\n",
      "Epoch: 57 CL_LOSS: nan SOFT_SIL: nan SIL: 0.6709 ACC: 0.90 PUR: 0.90 NMI: 0.73 ARI: 0.75\n",
      "Epoch: 58 CL_LOSS: nan SOFT_SIL: nan SIL: 0.6709 ACC: 0.90 PUR: 0.90 NMI: 0.73 ARI: 0.75\n",
      "Epoch: 59 CL_LOSS: nan SOFT_SIL: nan SIL: 0.6709 ACC: 0.90 PUR: 0.90 NMI: 0.73 ARI: 0.75\n",
      "Epoch: 60 CL_LOSS: nan SOFT_SIL: nan SIL: 0.6709 ACC: 0.90 PUR: 0.90 NMI: 0.73 ARI: 0.75\n",
      "Epoch: 61 CL_LOSS: nan SOFT_SIL: nan SIL: 0.6709 ACC: 0.90 PUR: 0.90 NMI: 0.73 ARI: 0.75\n",
      "Epoch: 62 CL_LOSS: nan SOFT_SIL: nan SIL: 0.6709 ACC: 0.90 PUR: 0.90 NMI: 0.73 ARI: 0.75\n",
      "Epoch: 63 CL_LOSS: nan SOFT_SIL: nan SIL: 0.6709 ACC: 0.90 PUR: 0.90 NMI: 0.73 ARI: 0.75\n",
      "Epoch: 64 CL_LOSS: nan SOFT_SIL: nan SIL: 0.6709 ACC: 0.90 PUR: 0.90 NMI: 0.73 ARI: 0.75\n",
      "Epoch: 65 CL_LOSS: nan SOFT_SIL: nan SIL: 0.6709 ACC: 0.90 PUR: 0.90 NMI: 0.73 ARI: 0.75\n",
      "Epoch: 66 CL_LOSS: nan SOFT_SIL: nan SIL: 0.6709 ACC: 0.90 PUR: 0.90 NMI: 0.73 ARI: 0.75\n",
      "Epoch: 67 CL_LOSS: nan SOFT_SIL: nan SIL: 0.6709 ACC: 0.90 PUR: 0.90 NMI: 0.73 ARI: 0.75\n",
      "Epoch: 68 CL_LOSS: nan SOFT_SIL: nan SIL: 0.6709 ACC: 0.90 PUR: 0.90 NMI: 0.73 ARI: 0.75\n",
      "Epoch: 69 CL_LOSS: nan SOFT_SIL: nan SIL: 0.6709 ACC: 0.90 PUR: 0.90 NMI: 0.73 ARI: 0.75\n",
      "Epoch: 70 CL_LOSS: nan SOFT_SIL: nan SIL: 0.6709 ACC: 0.90 PUR: 0.90 NMI: 0.73 ARI: 0.75\n",
      "Epoch: 71 CL_LOSS: nan SOFT_SIL: nan SIL: 0.6709 ACC: 0.90 PUR: 0.90 NMI: 0.73 ARI: 0.75\n",
      "Epoch: 72 CL_LOSS: nan SOFT_SIL: nan SIL: 0.6709 ACC: 0.90 PUR: 0.90 NMI: 0.73 ARI: 0.75\n",
      "Epoch: 73 CL_LOSS: nan SOFT_SIL: nan SIL: 0.6709 ACC: 0.90 PUR: 0.90 NMI: 0.73 ARI: 0.75\n",
      "Epoch: 74 CL_LOSS: nan SOFT_SIL: nan SIL: 0.6709 ACC: 0.90 PUR: 0.90 NMI: 0.73 ARI: 0.75\n",
      "Epoch: 75 CL_LOSS: nan SOFT_SIL: nan SIL: 0.6709 ACC: 0.90 PUR: 0.90 NMI: 0.73 ARI: 0.75\n",
      "Epoch: 76 CL_LOSS: nan SOFT_SIL: nan SIL: 0.6709 ACC: 0.90 PUR: 0.90 NMI: 0.73 ARI: 0.75\n",
      "Epoch: 77 CL_LOSS: nan SOFT_SIL: nan SIL: 0.6709 ACC: 0.90 PUR: 0.90 NMI: 0.73 ARI: 0.75\n",
      "Epoch: 78 CL_LOSS: nan SOFT_SIL: nan SIL: 0.6709 ACC: 0.90 PUR: 0.90 NMI: 0.73 ARI: 0.75\n",
      "Epoch: 79 CL_LOSS: nan SOFT_SIL: nan SIL: 0.6709 ACC: 0.90 PUR: 0.90 NMI: 0.73 ARI: 0.75\n",
      "Epoch: 80 CL_LOSS: nan SOFT_SIL: nan SIL: 0.6709 ACC: 0.90 PUR: 0.90 NMI: 0.73 ARI: 0.75\n",
      "Epoch: 81 CL_LOSS: nan SOFT_SIL: nan SIL: 0.6709 ACC: 0.90 PUR: 0.90 NMI: 0.73 ARI: 0.75\n",
      "Epoch: 82 CL_LOSS: nan SOFT_SIL: nan SIL: 0.6709 ACC: 0.90 PUR: 0.90 NMI: 0.73 ARI: 0.75\n",
      "Epoch: 83 CL_LOSS: nan SOFT_SIL: nan SIL: 0.6709 ACC: 0.90 PUR: 0.90 NMI: 0.73 ARI: 0.75\n",
      "Epoch: 84 CL_LOSS: nan SOFT_SIL: nan SIL: 0.6709 ACC: 0.90 PUR: 0.90 NMI: 0.73 ARI: 0.75\n",
      "Epoch: 85 CL_LOSS: nan SOFT_SIL: nan SIL: 0.6709 ACC: 0.90 PUR: 0.90 NMI: 0.73 ARI: 0.75\n",
      "Epoch: 86 CL_LOSS: nan SOFT_SIL: nan SIL: 0.6709 ACC: 0.90 PUR: 0.90 NMI: 0.73 ARI: 0.75\n",
      "Epoch: 87 CL_LOSS: nan SOFT_SIL: nan SIL: 0.6709 ACC: 0.90 PUR: 0.90 NMI: 0.73 ARI: 0.75\n",
      "Epoch: 88 CL_LOSS: nan SOFT_SIL: nan SIL: 0.6709 ACC: 0.90 PUR: 0.90 NMI: 0.73 ARI: 0.75\n",
      "Epoch: 89 CL_LOSS: nan SOFT_SIL: nan SIL: 0.6709 ACC: 0.90 PUR: 0.90 NMI: 0.73 ARI: 0.75\n",
      "Epoch: 90 CL_LOSS: nan SOFT_SIL: nan SIL: 0.6709 ACC: 0.90 PUR: 0.90 NMI: 0.73 ARI: 0.75\n",
      "Epoch: 91 CL_LOSS: nan SOFT_SIL: nan SIL: 0.6709 ACC: 0.90 PUR: 0.90 NMI: 0.73 ARI: 0.75\n",
      "Epoch: 92 CL_LOSS: nan SOFT_SIL: nan SIL: 0.6709 ACC: 0.90 PUR: 0.90 NMI: 0.73 ARI: 0.75\n"
     ]
    },
    {
     "name": "stdout",
     "output_type": "stream",
     "text": [
      "Epoch: 93 CL_LOSS: nan SOFT_SIL: nan SIL: 0.6709 ACC: 0.90 PUR: 0.90 NMI: 0.73 ARI: 0.75\n",
      "Epoch: 94 CL_LOSS: nan SOFT_SIL: nan SIL: 0.6709 ACC: 0.90 PUR: 0.90 NMI: 0.73 ARI: 0.75\n",
      "Epoch: 95 CL_LOSS: nan SOFT_SIL: nan SIL: 0.6709 ACC: 0.90 PUR: 0.90 NMI: 0.73 ARI: 0.75\n",
      "Epoch: 96 CL_LOSS: nan SOFT_SIL: nan SIL: 0.6709 ACC: 0.90 PUR: 0.90 NMI: 0.73 ARI: 0.75\n",
      "Epoch: 97 CL_LOSS: nan SOFT_SIL: nan SIL: 0.6709 ACC: 0.90 PUR: 0.90 NMI: 0.73 ARI: 0.75\n",
      "Epoch: 98 CL_LOSS: nan SOFT_SIL: nan SIL: 0.6709 ACC: 0.90 PUR: 0.90 NMI: 0.73 ARI: 0.75\n",
      "Epoch: 99 CL_LOSS: nan SOFT_SIL: nan SIL: 0.6709 ACC: 0.90 PUR: 0.90 NMI: 0.73 ARI: 0.75\n",
      "ACC: 0.90 PUR: 0.90 NMI: 0.73 ARI: 0.75\n"
     ]
    },
    {
     "data": {
      "text/plain": [
       "(0.9026666666666666,\n",
       " 0.9026666666666666,\n",
       " 0.7305720732098463,\n",
       " 0.7461344722125542,\n",
       " 0.54986906)"
      ]
     },
     "execution_count": 9,
     "metadata": {},
     "output_type": "execute_result"
    }
   ],
   "source": [
    "mlp.train_mlp(silhouette_method = \"default\")\n",
    "mlp.evaluation.kmeans_evaluation(mlp.nClusters,mlp.realData,mlp.realLabels.astype(int))"
   ]
  },
  {
   "cell_type": "code",
   "execution_count": 10,
   "id": "ad747b3f",
   "metadata": {},
   "outputs": [
    {
     "name": "stdout",
     "output_type": "stream",
     "text": [
      "Directory 'C:\\Users\\PAPASOFT INC\\Desktop\\SOFT_SIL/R3/MLP/R3_With_100_Eps_in_2_out_3-L_bs_100_l_0.001' already exists.\n",
      "Directory 'C:\\Users\\PAPASOFT INC\\Desktop\\SOFT_SIL/R3/MLP/R3_With_100_Eps_in_2_out_3-L_bs_100_l_0.001\\Experiment_Plots' already exists.\n",
      "492\n",
      "540\n",
      "468\n"
     ]
    },
    {
     "name": "stderr",
     "output_type": "stream",
     "text": [
      "C:\\Users\\PAPASOFT INC\\Desktop\\SOFT_SIL\\New_Code_Files\\Visualization.py:149: FutureWarning: Setting the `book` attribute is not part of the public API, usage can give unexpected or corrupted results and will be removed in a future version\n",
      "  dataWriter.book = excelDataWΒ\n",
      "C:\\Users\\PAPASOFT INC\\Desktop\\SOFT_SIL\\New_Code_Files\\Visualization.py:152: FutureWarning: save is not part of the public API, usage can give unexpected results and will be removed in a future version\n",
      "  dataWriter.save()\n"
     ]
    },
    {
     "name": "stdout",
     "output_type": "stream",
     "text": [
      "Directory 'C:\\Users\\PAPASOFT INC\\Desktop\\SOFT_SIL/R3/MLP/R3_With_100_Eps_in_2_out_3-L_bs_100_l_0.001\\Experiment_Plots\\No_TSNE' already exists.\n"
     ]
    },
    {
     "data": {
      "image/png": "[encoded data removed]",
      "text/plain": [
       "<Figure size 1000x1000 with 1 Axes>"
      ]
     },
     "metadata": {},
     "output_type": "display_data"
    }
   ],
   "source": [
    "visualization.makeExcel()\n",
    "#visualization.plot_tsne(mlp=True)\n",
    "visualization.plot(mlp=True)"
   ]
  },
  {
   "cell_type": "code",
   "execution_count": 11,
   "id": "167c3bc7",
   "metadata": {},
   "outputs": [
    {
     "data": {
      "text/plain": [
       "tensor([[0., 1., 0.],\n",
       "        [0., 1., 0.],\n",
       "        [0., 1., 0.],\n",
       "        [0., 1., 0.],\n",
       "        [0., 1., 0.],\n",
       "        [0., 1., 0.],\n",
       "        [0., 1., 0.],\n",
       "        [0., 1., 0.],\n",
       "        [0., 1., 0.],\n",
       "        [0., 1., 0.],\n",
       "        [0., 1., 0.],\n",
       "        [0., 1., 0.],\n",
       "        [0., 1., 0.],\n",
       "        [0., 1., 0.],\n",
       "        [0., 1., 0.],\n",
       "        [0., 1., 0.],\n",
       "        [0., 1., 0.],\n",
       "        [0., 1., 0.],\n",
       "        [0., 1., 0.],\n",
       "        [0., 1., 0.],\n",
       "        [0., 1., 0.],\n",
       "        [0., 1., 0.],\n",
       "        [0., 1., 0.],\n",
       "        [0., 1., 0.],\n",
       "        [0., 1., 0.],\n",
       "        [0., 0., 1.],\n",
       "        [0., 1., 0.],\n",
       "        [0., 1., 0.],\n",
       "        [0., 1., 0.],\n",
       "        [0., 1., 0.],\n",
       "        [0., 0., 1.],\n",
       "        [0., 0., 1.],\n",
       "        [0., 1., 0.],\n",
       "        [0., 1., 0.],\n",
       "        [0., 1., 0.],\n",
       "        [0., 1., 0.],\n",
       "        [0., 1., 0.],\n",
       "        [0., 1., 0.],\n",
       "        [0., 1., 0.],\n",
       "        [0., 0., 1.],\n",
       "        [0., 1., 0.],\n",
       "        [0., 1., 0.],\n",
       "        [0., 1., 0.],\n",
       "        [0., 1., 0.],\n",
       "        [0., 1., 0.],\n",
       "        [0., 1., 0.],\n",
       "        [0., 1., 0.],\n",
       "        [0., 1., 0.],\n",
       "        [0., 1., 0.],\n",
       "        [0., 1., 0.],\n",
       "        [0., 1., 0.],\n",
       "        [0., 1., 0.],\n",
       "        [0., 1., 0.],\n",
       "        [0., 0., 1.],\n",
       "        [0., 1., 0.],\n",
       "        [0., 1., 0.],\n",
       "        [0., 0., 1.],\n",
       "        [0., 1., 0.],\n",
       "        [0., 1., 0.],\n",
       "        [0., 1., 0.],\n",
       "        [0., 1., 0.],\n",
       "        [0., 1., 0.],\n",
       "        [0., 1., 0.],\n",
       "        [0., 1., 0.],\n",
       "        [0., 1., 0.],\n",
       "        [0., 1., 0.],\n",
       "        [0., 1., 0.],\n",
       "        [0., 1., 0.],\n",
       "        [0., 0., 1.],\n",
       "        [0., 1., 0.],\n",
       "        [0., 1., 0.],\n",
       "        [0., 1., 0.],\n",
       "        [0., 1., 0.],\n",
       "        [0., 1., 0.],\n",
       "        [0., 1., 0.],\n",
       "        [0., 1., 0.],\n",
       "        [0., 1., 0.],\n",
       "        [0., 1., 0.],\n",
       "        [0., 1., 0.],\n",
       "        [0., 1., 0.],\n",
       "        [0., 1., 0.],\n",
       "        [0., 1., 0.],\n",
       "        [0., 1., 0.],\n",
       "        [0., 1., 0.],\n",
       "        [0., 1., 0.],\n",
       "        [0., 0., 1.],\n",
       "        [0., 1., 0.],\n",
       "        [0., 1., 0.],\n",
       "        [0., 1., 0.],\n",
       "        [0., 1., 0.],\n",
       "        [0., 1., 0.],\n",
       "        [0., 1., 0.],\n",
       "        [0., 0., 1.],\n",
       "        [0., 1., 0.],\n",
       "        [0., 1., 0.],\n",
       "        [0., 0., 1.],\n",
       "        [0., 0., 1.],\n",
       "        [0., 1., 0.],\n",
       "        [0., 1., 0.],\n",
       "        [0., 1., 0.]], device='cuda:0', grad_fn=<CopySlices>)"
      ]
     },
     "execution_count": 11,
     "metadata": {},
     "output_type": "execute_result"
    }
   ],
   "source": [
    "mlp.take_clusters()\n",
    "mlp.softClustering\n",
    "#mlp.evaluation.clusters_to_numpy(mlp.softClustering)"
   ]
  },
  {
   "cell_type": "code",
   "execution_count": 12,
   "id": "8349824e",
   "metadata": {},
   "outputs": [
    {
     "data": {
      "text/plain": [
       "MLP(\n",
       "  (model): Sequential(\n",
       "    (0): Linear(in_features=2, out_features=3, bias=False)\n",
       "  )\n",
       ")"
      ]
     },
     "execution_count": 12,
     "metadata": {},
     "output_type": "execute_result"
    }
   ],
   "source": [
    "mlp.clusters\n",
    "mlp"
   ]
  },
  {
   "cell_type": "code",
   "execution_count": null,
   "id": "5a22d827",
   "metadata": {},
   "outputs": [],
   "source": []
  }
 ],
 "metadata": {
  "kernelspec": {
   "display_name": "Python 3 (ipykernel)",
   "language": "python",
   "name": "python3"
  },
  "language_info": {
   "codemirror_mode": {
    "name": "ipython",
    "version": 3
   },
   "file_extension": ".py",
   "mimetype": "text/x-python",
   "name": "python",
   "nbconvert_exporter": "python",
   "pygments_lexer": "ipython3",
   "version": "3.10.9"
  }
 },
 "nbformat": 4,
 "nbformat_minor": 5
}
