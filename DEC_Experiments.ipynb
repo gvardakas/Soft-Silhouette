{
 "cells": [
  {
   "cell_type": "markdown",
   "id": "eb2da843",
   "metadata": {},
   "source": [
    "###  Libraries"
   ]
  },
  {
   "cell_type": "code",
   "execution_count": null,
   "id": "ca33a892",
   "metadata": {},
   "outputs": [],
   "source": [
    "import os\n",
    "import sys\n",
    "import torch\n",
    "import numpy as np\n",
    "\n",
    "from Datasets.Datasets_Functions import *\n",
    "from Visualization import Visualization\n",
    "\n",
    "from Related_Codes.DECAutoencoder import DECAutoencoder, DECCDAutoencoder\n",
    "from General_Functions import General_Functions"
   ]
  },
  {
   "cell_type": "markdown",
   "id": "92ff6e0f",
   "metadata": {},
   "source": [
    "### Global Variables"
   ]
  },
  {
   "cell_type": "code",
   "execution_count": null,
   "id": "6287da44",
   "metadata": {},
   "outputs": [],
   "source": [
    "path_to_module = './'\n",
    "sys.path.append(path_to_module)\n",
    "os.environ['OMP_NUM_THREADS'] = '6'\n",
    "\n",
    "device = torch.device('cuda:0' if torch.cuda.is_available() else 'cpu')\n",
    "torch.cuda.set_device(device)"
   ]
  },
  {
   "cell_type": "markdown",
   "id": "c888c3ce",
   "metadata": {},
   "source": [
    "### Load Dataset"
   ]
  },
  {
   "cell_type": "code",
   "execution_count": null,
   "id": "f2617213",
   "metadata": {},
   "outputs": [],
   "source": [
    "dataset_name = \"emnist_balanced_letters_A_J\" # The available datasets are: emnist_balanced_digits, emnist_mnist, emnist_balanced_letters_A_J, emnist_balanced_letters_K_T, emnist_balanced_letters_U_Z, har, pendigits, waveform_v1, synthetic\n",
    "module_name = \"Datasets.Datasets\"\n",
    "batch_size = 256\n",
    "n_clusters = 10\n",
    "dataloader, input_dim, data_np, labels = function_get_dataset(dataset_name, module_name, batch_size, n_clusters)\n",
    "print('Data_Shape is:', input_dim)\n",
    "print('Batches Number is:', len(dataloader))\n",
    "print(np.unique(labels))"
   ]
  },
  {
   "cell_type": "markdown",
   "id": "3bc4fa68",
   "metadata": {},
   "source": [
    "### Visualization"
   ]
  },
  {
   "cell_type": "code",
   "execution_count": null,
   "id": "91742e9f",
   "metadata": {},
   "outputs": [],
   "source": [
    "visualization = Visualization()"
   ]
  },
  {
   "cell_type": "markdown",
   "id": "e117fc97",
   "metadata": {},
   "source": [
    "### Parameters"
   ]
  },
  {
   "cell_type": "code",
   "execution_count": null,
   "id": "85c73970",
   "metadata": {},
   "outputs": [],
   "source": [
    "# Set latent dimension and negative slope\n",
    "latent_dim = 10\n",
    "negative_slope = 0\n",
    "\n",
    "# Set pre-training epochs and learning rate\n",
    "n_pret_epochs = 100\n",
    "pret_lr = 1e-3\n",
    "\n",
    "# Set alpha, momentum, training epochs and learning rate\n",
    "alpha = 1.0\n",
    "momentum = 0.9\n",
    "n_epochs = 100\n",
    "lr = 5e-4\n",
    "\n",
    "# Set use_pretrain and is_mlp_ae\n",
    "use_pretrain = True\n",
    "is_mlp_ae = False"
   ]
  },
  {
   "cell_type": "markdown",
   "id": "82bb84f9",
   "metadata": {},
   "source": [
    "### Create Autoencoder Model"
   ]
  },
  {
   "cell_type": "code",
   "execution_count": null,
   "id": "2bf00288",
   "metadata": {},
   "outputs": [],
   "source": [
    "if(is_mlp_ae):\n",
    "    dec_autoencoder = DECAutoencoder(device=device, n_clusters=n_clusters, input_dim=input_dim, latent_dim=latent_dim, negative_slope=negative_slope)\n",
    "else:  \n",
    "    input_dim = 1\n",
    "    dec_autoencoder = DECCDAutoencoder(device=device, n_clusters=n_clusters, input_dim=input_dim, latent_dim=latent_dim, negative_slope=negative_slope) \n",
    "dec_autoencoder.set_general_training_variables(dataloader=dataloader, batch_size=batch_size)\n",
    "dec_autoencoder.set_pretraining_variables(n_pret_epochs=n_pret_epochs, pret_lr=pret_lr)\n",
    "dec_autoencoder.set_training_variables(n_epochs=n_epochs, lr=lr, momentum=momentum, alpha=alpha )\n",
    "dec_autoencoder.set_path_variables(path_to_module=path_to_module, dataset_name=dataset_name)\n",
    "dec_autoencoder.set_path()\n",
    "dec_autoencoder = dec_autoencoder.to(device)"
   ]
  },
  {
   "cell_type": "markdown",
   "id": "acde9c62",
   "metadata": {},
   "source": [
    "### Pretrain Autoencoder"
   ]
  },
  {
   "cell_type": "code",
   "execution_count": null,
   "id": "6d9d2831",
   "metadata": {},
   "outputs": [],
   "source": [
    "if(use_pretrain):\n",
    "    dec_autoencoder.pretrain_autoencoder()\n",
    "    dec_autoencoder.save_pretrained_weights()\n",
    "else:\n",
    "    model_save_path = dec_autoencoder.data_dir_path + '/Weigths/autoencoder_weights.pth'\n",
    "    dec_autoencoder.load_state_dict(torch.load(model_save_path))"
   ]
  },
  {
   "cell_type": "markdown",
   "id": "6488ced9",
   "metadata": {},
   "source": [
    "### Initialize the clustering layer using k-means"
   ]
  },
  {
   "cell_type": "code",
   "execution_count": null,
   "id": "15afda3c",
   "metadata": {},
   "outputs": [],
   "source": [
    "dec_autoencoder.kmeans_initialization()"
   ]
  },
  {
   "cell_type": "markdown",
   "id": "d99a49f1",
   "metadata": {},
   "source": [
    "### Train Autoencoder"
   ]
  },
  {
   "cell_type": "code",
   "execution_count": null,
   "id": "10d555b3",
   "metadata": {},
   "outputs": [],
   "source": [
    "dec_autoencoder.train_autoencoder()"
   ]
  },
  {
   "cell_type": "markdown",
   "id": "0421624d",
   "metadata": {},
   "source": [
    "### Save Clustering Results"
   ]
  },
  {
   "cell_type": "code",
   "execution_count": null,
   "id": "861dae12",
   "metadata": {},
   "outputs": [],
   "source": [
    "General_Functions().save_excel(dec_autoencoder.data_dir_path, dec_autoencoder.df_eval)"
   ]
  },
  {
   "cell_type": "markdown",
   "id": "b67764ca",
   "metadata": {},
   "source": [
    "### Plot Clustering Results"
   ]
  },
  {
   "cell_type": "code",
   "execution_count": null,
   "id": "af9506d0",
   "metadata": {},
   "outputs": [],
   "source": [
    "cluster_centers = dec_autoencoder.get_cluster_centers()\n",
    "_, dec_autoencoder_reduced_data, labels = dec_autoencoder.get_latent_data()\n",
    "visualization.plot_tsne(dec_autoencoder_reduced_data, labels, labels, cluster_centers, dec_autoencoder.data_dir_path)"
   ]
  }
 ],
 "metadata": {
  "kernelspec": {
   "display_name": "Python 3 (ipykernel)",
   "language": "python",
   "name": "python3"
  },
  "language_info": {
   "codemirror_mode": {
    "name": "ipython",
    "version": 3
   },
   "file_extension": ".py",
   "mimetype": "text/x-python",
   "name": "python",
   "nbconvert_exporter": "python",
   "pygments_lexer": "ipython3",
   "version": "3.11.4"
  }
 },
 "nbformat": 4,
 "nbformat_minor": 5
}
