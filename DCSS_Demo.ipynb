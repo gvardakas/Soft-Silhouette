{
 "cells": [
  {
   "cell_type": "markdown",
   "metadata": {
    "id": "7yTrysaRSfO7"
   },
   "source": [
    "###  Libraries"
   ]
  },
  {
   "cell_type": "code",
   "execution_count": null,
   "metadata": {
    "colab": {
     "base_uri": "https://localhost:8080/",
     "height": 287
    },
    "executionInfo": {
     "elapsed": 1500,
     "status": "error",
     "timestamp": 1690897017322,
     "user": {
      "displayName": "ΙΩΑΝΝΗΣ ΠΑΠΑΚΩΣΤΑΣ",
      "userId": "05054721977669331577"
     },
     "user_tz": -180
    },
    "id": "A6Xgfba5SeYG",
    "outputId": "3a3e4f3b-54d5-4379-d747-d27332446691"
   },
   "outputs": [],
   "source": [
    "import numpy as np\n",
    "from sklearn.cluster import KMeans\n",
    "import matplotlib.colors as mcolors\n",
    "import torch\n",
    "import os\n",
    "import sys\n",
    "from Autoencoder import Autoencoder, CD_Autoencoder\n",
    "from Datasets.Datasets_Functions import *\n",
    "from Visualization import Visualization\n",
    "from Evaluations.Evaluation import Evaluator\n",
    "from General_Functions import General_Functions"
   ]
  },
  {
   "cell_type": "markdown",
   "metadata": {
    "id": "Y4OhuI9Y_mBT"
   },
   "source": [
    "### Global Variables"
   ]
  },
  {
   "cell_type": "code",
   "execution_count": null,
   "metadata": {
    "executionInfo": {
     "elapsed": 328,
     "status": "aborted",
     "timestamp": 1690896732863,
     "user": {
      "displayName": "ΙΩΑΝΝΗΣ ΠΑΠΑΚΩΣΤΑΣ",
      "userId": "05054721977669331577"
     },
     "user_tz": -180
    },
    "id": "q41qJCN0_mBU"
   },
   "outputs": [],
   "source": [
    "path_to_module = './'\n",
    "sys.path.append(path_to_module)\n",
    "os.environ['OMP_NUM_THREADS'] = '6'\n",
    "\n",
    "device = torch.device('cuda:0' if torch.cuda.is_available() else 'cpu')\n",
    "if torch.cuda.is_available():\n",
    "    torch.cuda.set_device(device)"
   ]
  },
  {
   "cell_type": "markdown",
   "metadata": {},
   "source": [
    "### Visualization"
   ]
  },
  {
   "cell_type": "code",
   "execution_count": null,
   "metadata": {},
   "outputs": [],
   "source": [
    "visualization = Visualization()"
   ]
  },
  {
   "cell_type": "markdown",
   "metadata": {
    "id": "SjskwTndC-y-"
   },
   "source": [
    "### Load Dataset"
   ]
  },
  {
   "cell_type": "code",
   "execution_count": null,
   "metadata": {
    "executionInfo": {
     "elapsed": 324,
     "status": "aborted",
     "timestamp": 1690896732864,
     "user": {
      "displayName": "ΙΩΑΝΝΗΣ ΠΑΠΑΚΩΣΤΑΣ",
      "userId": "05054721977669331577"
     },
     "user_tz": -180
    },
    "id": "6nFI8NEPhs0c"
   },
   "outputs": [],
   "source": [
    "dataset_name = \"emnist_balanced_digits\" # The available datasets are: emnist_balanced_digits, emnist_mnist, emnist_balanced_letters_A_J, emnist_balanced_letters_K_T, emnist_balanced_letters_U_Z, har, pendigits, waveform_v1, synthetic\n",
    "module_name = \"Datasets.Datasets\"\n",
    "batch_size = 256\n",
    "n_clusters = 10\n",
    "dataloader, input_dim, data_np, labels = function_get_dataset(dataset_name, module_name, batch_size, n_clusters)\n",
    "print('Data_Shape is:', input_dim)\n",
    "print('Batches Number is:', len(dataloader))\n",
    "print(np.unique(labels))"
   ]
  },
  {
   "cell_type": "markdown",
   "metadata": {
    "id": "s5uxFA6rSfOv"
   },
   "source": [
    "### Parameters"
   ]
  },
  {
   "cell_type": "code",
   "execution_count": null,
   "metadata": {
    "executionInfo": {
     "elapsed": 322,
     "status": "aborted",
     "timestamp": 1690896732865,
     "user": {
      "displayName": "ΙΩΑΝΝΗΣ ΠΑΠΑΚΩΣΤΑΣ",
      "userId": "05054721977669331577"
     },
     "user_tz": -180
    },
    "id": "ND4kEAYMDTim"
   },
   "outputs": [],
   "source": [
    "# Set latent dimension and negative slope\n",
    "latent_dim = 10\n",
    "negative_slope = 0\n",
    "\n",
    "# Set pre-training epochs and learning rate\n",
    "n_pret_epochs = 100\n",
    "pret_lr = 1e-3\n",
    "\n",
    "# Set lamdas, training epochs and learning rate\n",
    "sil_lambda = 0.01\n",
    "entr_lambda = 0.01\n",
    "n_epochs = 100\n",
    "lr = 5e-4\n",
    "\n",
    "# Set use_pretrain and is_mlp_ae\n",
    "use_pretrain = True # Set True for pretraining autoencoder or set False for using already pretrained weights\n",
    "is_mlp_ae = False # Set True for tabular datasets e.g. pendigits or set False for image datasets e.g. emnist_mnist\n"
   ]
  },
  {
   "cell_type": "markdown",
   "metadata": {
    "id": "M2P-UOuHDOXV"
   },
   "source": [
    "### Create Autoencoder Model"
   ]
  },
  {
   "cell_type": "code",
   "execution_count": null,
   "metadata": {
    "executionInfo": {
     "elapsed": 321,
     "status": "aborted",
     "timestamp": 1690896732866,
     "user": {
      "displayName": "ΙΩΑΝΝΗΣ ΠΑΠΑΚΩΣΤΑΣ",
      "userId": "05054721977669331577"
     },
     "user_tz": -180
    },
    "id": "PBkI9U0tgoZ1"
   },
   "outputs": [],
   "source": [
    "if is_mlp_ae:\n",
    "    autoencoder = Autoencoder(device=device, n_clusters=n_clusters, input_dim=input_dim, latent_dim=latent_dim, negative_slope=negative_slope)\n",
    "else:\n",
    "    autoencoder = CD_Autoencoder(device=device, n_clusters=n_clusters, input_dim=input_dim, latent_dim=latent_dim, negative_slope=negative_slope)\n",
    "\n",
    "autoencoder.set_general_training_variables(dataloader=dataloader, batch_size=batch_size)\n",
    "autoencoder.set_pretraining_variables(n_pret_epochs=n_pret_epochs, pret_lr=pret_lr)\n",
    "autoencoder.set_training_variables(n_epochs=n_epochs, lr=lr, sil_lambda=sil_lambda, entr_lambda=entr_lambda)\n",
    "autoencoder.set_path_variables(path_to_module=path_to_module, dataset_name=dataset_name)\n",
    "autoencoder.set_path()\n",
    "autoencoder = autoencoder.to(device)"
   ]
  },
  {
   "cell_type": "markdown",
   "metadata": {},
   "source": [
    "### Pretrain Autoencoder"
   ]
  },
  {
   "cell_type": "code",
   "execution_count": null,
   "metadata": {
    "scrolled": true
   },
   "outputs": [],
   "source": [
    "if(use_pretrain):\n",
    "    autoencoder.pretrain_autoencoder()\n",
    "    autoencoder.save_pretrained_weights()\n",
    "else:\n",
    "    model_save_path = autoencoder.data_dir_path + '/Weigths/autoencoder_weights.pth'\n",
    "    autoencoder.load_state_dict(torch.load(model_save_path))"
   ]
  },
  {
   "cell_type": "markdown",
   "metadata": {},
   "source": [
    "### Initialize the clustering layer using k-means"
   ]
  },
  {
   "cell_type": "code",
   "execution_count": null,
   "metadata": {},
   "outputs": [],
   "source": [
    "autoencoder.kmeans_initialization(n_init=100)"
   ]
  },
  {
   "cell_type": "markdown",
   "metadata": {},
   "source": [
    "### Train Autoencoder"
   ]
  },
  {
   "cell_type": "code",
   "execution_count": null,
   "metadata": {
    "executionInfo": {
     "elapsed": 313,
     "status": "aborted",
     "timestamp": 1690896732869,
     "user": {
      "displayName": "ΙΩΑΝΝΗΣ ΠΑΠΑΚΩΣΤΑΣ",
      "userId": "05054721977669331577"
     },
     "user_tz": -180
    },
    "id": "GVXfROTxGNJ2"
   },
   "outputs": [],
   "source": [
    "latent_data, labels, clustering = autoencoder.train_autoencoder()"
   ]
  },
  {
   "cell_type": "markdown",
   "metadata": {},
   "source": [
    "### Save Clustering Results"
   ]
  },
  {
   "cell_type": "code",
   "execution_count": null,
   "metadata": {},
   "outputs": [],
   "source": [
    "General_Functions().save_excel(autoencoder.data_dir_path, autoencoder.df_eval)"
   ]
  },
  {
   "cell_type": "markdown",
   "metadata": {},
   "source": [
    "### Plot Clustering Results"
   ]
  },
  {
   "cell_type": "code",
   "execution_count": null,
   "metadata": {},
   "outputs": [],
   "source": [
    "cluster_centers = autoencoder.get_cluster_centers().cpu().detach().numpy()\n",
    "data, latent_data, labels = autoencoder.get_latent_data()\n",
    "visualization.plot_tsne(latent_data, labels, clustering, cluster_centers, autoencoder.data_dir_path)"
   ]
  }
 ],
 "metadata": {
  "accelerator": "GPU",
  "colab": {
   "provenance": [
    {
     "file_id": "121w-F_LopS2b6ATyJPxh0a_i4mceFfzN",
     "timestamp": 1688385039773
    }
   ]
  },
  "kernelspec": {
   "display_name": "Python 3 (ipykernel)",
   "language": "python",
   "name": "python3"
  },
  "language_info": {
   "codemirror_mode": {
    "name": "ipython",
    "version": 3
   },
   "file_extension": ".py",
   "mimetype": "text/x-python",
   "name": "python",
   "nbconvert_exporter": "python",
   "pygments_lexer": "ipython3",
   "version": "3.11.4"
  }
 },
 "nbformat": 4,
 "nbformat_minor": 1
}
