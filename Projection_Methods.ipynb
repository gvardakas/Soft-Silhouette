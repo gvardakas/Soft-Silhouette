{
 "cells": [
  {
   "cell_type": "code",
   "execution_count": 1,
   "id": "c2ce3775",
   "metadata": {},
   "outputs": [],
   "source": [
    "import numpy as np\n",
    "\n",
    "from DCNAutoencoder import DCNAutoencoder, DCNCDAutoencoder\n",
    "from General_Functions import General_Functions\n",
    "\n",
    "from sklearn.decomposition import PCA, TruncatedSVD, NMF\n",
    "from sklearn.manifold import LocallyLinearEmbedding, SpectralEmbedding\n",
    "\n",
    "import torch\n",
    "\n",
    "import os\n",
    "import sys\n",
    "\n",
    "from Datasets.Datasets_Functions import *\n",
    "from Visualization import Visualization"
   ]
  },
  {
   "cell_type": "code",
   "execution_count": 2,
   "id": "6287da44",
   "metadata": {},
   "outputs": [],
   "source": [
    "path_to_module = './'\n",
    "sys.path.append(path_to_module)\n",
    "os.environ['OMP_NUM_THREADS'] = '6'\n",
    "\n",
    "device = torch.device('cuda:0' if torch.cuda.is_available() else 'cpu')\n",
    "torch.cuda.set_device(device)"
   ]
  },
  {
   "cell_type": "code",
   "execution_count": 3,
   "id": "10c7919d",
   "metadata": {},
   "outputs": [
    {
     "name": "stdout",
     "output_type": "stream",
     "text": [
      "{'tcga': {'batch_size': 256, 'n_clusters': 5, 'module_name': 'Datasets.Datasets'}, 'emnist_balanced_letters': {'batch_size': 1024, 'n_clusters': 10, 'module_name': 'Datasets.Datasets'}, 'emnist_mnist': {'batch_size': 1024, 'n_clusters': 10, 'module_name': 'Datasets.Datasets'}, 'emnist_balanced_digits': {'batch_size': 1024, 'n_clusters': 10, 'module_name': 'Datasets.Datasets'}, 'dermatology': {'batch_size': 64, 'n_clusters': 6, 'module_name': 'Datasets.Datasets'}, 'ecoil': {'batch_size': 64, 'n_clusters': 8, 'module_name': 'Datasets.Datasets'}, 'iris': {'batch_size': 64, 'n_clusters': 3, 'module_name': 'Datasets.Datasets'}, 'rings': {'batch_size': 64, 'n_clusters': 2, 'module_name': 'Datasets.Datasets'}, 'wine': {'batch_size': 64, 'n_clusters': 3, 'module_name': 'Datasets.Datasets'}, 'australian': {'batch_size': 64, 'n_clusters': 2, 'module_name': 'Datasets.Datasets'}, 'moons': {'batch_size': 64, 'n_clusters': 2, 'module_name': 'Datasets.Datasets'}, 'squeezed_gauss': {'batch_size': 64, 'n_clusters': 2, 'module_name': 'Datasets.Datasets'}, 'gauss_densities': {'batch_size': 64, 'n_clusters': 3, 'module_name': 'Datasets.Datasets'}, 'pendigits': {'batch_size': 256, 'n_clusters': 10, 'module_name': 'Datasets.Datasets'}, 'fashionmnist': {'batch_size': 1024, 'n_clusters': 10, 'module_name': 'Datasets.Datasets'}, '3dspheres': {'batch_size': 256, 'n_clusters': 2, 'module_name': 'Datasets.Datasets'}, '20_newsgroups': {'batch_size': 256, 'n_clusters': 10, 'module_name': 'Datasets.Datasets'}, 'coil20': {'batch_size': 200, 'n_clusters': 20, 'module_name': 'Datasets.Image_Datasets'}, 'cifar10': {'batch_size': 1024, 'n_clusters': 10, 'module_name': 'Datasets.Image_Datasets'}, 'stl10': {'batch_size': 1024, 'n_clusters': 10, 'module_name': 'Datasets.Image_Datasets'}, 'r15': {'batch_size': 50, 'n_clusters': 15, 'module_name': 'Datasets.Datasets'}, 'r3': {'batch_size': 100, 'n_clusters': 3, 'module_name': 'Datasets.Datasets'}, 'olivetti_faces': {'batch_size': 32, 'n_clusters': 40, 'module_name': 'Datasets.Datasets'}, 'r100': {'batch_size': 1024, 'n_clusters': 4, 'module_name': 'Datasets.Datasets'}, '10x73k': {'batch_size': 1024, 'n_clusters': 8, 'module_name': 'Datasets.Datasets'}, 'usps': {'batch_size': 256, 'n_clusters': 10, 'module_name': 'Datasets.Datasets'}, 'kmnist': {'batch_size': 1024, 'n_clusters': 10, 'module_name': 'Datasets.Datasets'}, 'reuters_4': {'batch_size': 1024, 'n_clusters': 4, 'module_name': 'Datasets.Datasets'}}\n"
     ]
    },
    {
     "name": "stderr",
     "output_type": "stream",
     "text": [
      "[nltk_data] Downloading package punkt to C:\\Users\\PAPASOFT\n",
      "[nltk_data]     INC\\AppData\\Roaming\\nltk_data...\n",
      "[nltk_data]   Package punkt is already up-to-date!\n",
      "[nltk_data] Downloading package stopwords to C:\\Users\\PAPASOFT\n",
      "[nltk_data]     INC\\AppData\\Roaming\\nltk_data...\n",
      "[nltk_data]   Package stopwords is already up-to-date!\n"
     ]
    }
   ],
   "source": [
    "hashmap_path = path_to_module + 'Datasets/'\n",
    "hashmap = get_hashmap(hashmap_path)\n",
    "print(hashmap)\n",
    "dataset_name = \"emnist_mnist\"\n",
    "dataset_properties = hashmap[dataset_name]\n",
    "dataloader, input_dim, data_np, labels = function_get_dataset(dataset_name, dataset_properties)"
   ]
  },
  {
   "cell_type": "code",
   "execution_count": 4,
   "id": "91742e9f",
   "metadata": {},
   "outputs": [],
   "source": [
    "visualization = Visualization()"
   ]
  },
  {
   "cell_type": "markdown",
   "id": "2f8e3e04",
   "metadata": {},
   "source": [
    "### Dcn"
   ]
  },
  {
   "cell_type": "code",
   "execution_count": null,
   "id": "93a39599",
   "metadata": {},
   "outputs": [
    {
     "name": "stdout",
     "output_type": "stream",
     "text": [
      "Epoch: 0, Loss: 57.878246\n",
      "Epoch: 1, Loss: 44.381665\n",
      "Epoch: 2, Loss: 40.039383\n",
      "Epoch: 3, Loss: 37.751005\n",
      "Epoch: 4, Loss: 36.178536\n",
      "Epoch: 5, Loss: 34.918702\n",
      "Epoch: 6, Loss: 33.817791\n",
      "Epoch: 7, Loss: 32.831305\n",
      "Epoch: 8, Loss: 31.913072\n",
      "Epoch: 9, Loss: 31.061251\n",
      "Epoch: 10, Loss: 30.241447\n",
      "Epoch: 11, Loss: 29.459086\n",
      "Epoch: 12, Loss: 28.710967\n",
      "Epoch: 13, Loss: 27.984415\n",
      "Epoch: 14, Loss: 27.298416\n",
      "Epoch: 15, Loss: 26.619446\n",
      "Epoch: 16, Loss: 25.970250\n",
      "Epoch: 17, Loss: 25.343650\n",
      "Epoch: 18, Loss: 24.716896\n",
      "Epoch: 19, Loss: 24.127905\n",
      "Epoch: 20, Loss: 23.556659\n",
      "Epoch: 21, Loss: 22.981664\n",
      "Epoch: 22, Loss: 22.437308\n",
      "Epoch: 23, Loss: 21.903899\n",
      "Epoch: 24, Loss: 21.367074\n",
      "Epoch: 25, Loss: 20.862991\n",
      "Epoch: 26, Loss: 20.362430\n",
      "Epoch: 27, Loss: 19.871736\n",
      "Epoch: 28, Loss: 19.394160\n",
      "Epoch: 29, Loss: 18.933405\n",
      "Epoch: 30, Loss: 18.473266\n",
      "Epoch: 31, Loss: 18.026228\n",
      "Epoch: 32, Loss: 17.584330\n",
      "Epoch: 33, Loss: 17.158226\n",
      "Epoch: 34, Loss: 16.739284\n",
      "Epoch: 35, Loss: 16.321924\n",
      "Epoch: 36, Loss: 15.920406\n",
      "Epoch: 37, Loss: 15.521079\n",
      "Epoch: 38, Loss: 15.129064\n",
      "Epoch: 39, Loss: 14.751820\n",
      "Epoch: 40, Loss: 14.369791\n",
      "Epoch: 41, Loss: 14.015736\n",
      "Epoch: 42, Loss: 13.652552\n"
     ]
    }
   ],
   "source": [
    "\n",
    "\"\"\"\n",
    "parser.add_argument('--n-classes', type=int, default=10,\n",
    "                    help='output dimension')\n",
    "\"\"\"\n",
    "n_clusters = dataset_properties['n_clusters']\n",
    "\n",
    "# Batch Size and Number of Clusters\n",
    "batch_size = dataset_properties['batch_size']\n",
    "\n",
    "# Pre-Training Epochs and Learning Rate\n",
    "\"\"\"\n",
    "parser.add_argument('--pre-epoch', type=int, default=50, \n",
    "                    help='number of pre-train epochs')\n",
    "\"\"\"\n",
    "n_pret_epochs = 50\n",
    "pret_lr = 1e-4\n",
    "\n",
    "# Lamdas, Training Epochs and Learning Rate\n",
    "\"\"\"\n",
    "parser.add_argument('--epoch', type=int, default=100,\n",
    "                    help='number of epochs to train')\n",
    "\"\"\"\n",
    "n_epochs = 100\n",
    "\"\"\"\n",
    "parser.add_argument('--lr', type=float, default=1e-4,\n",
    "                    help='learning rate (default: 1e-4)')\n",
    "\"\"\"\n",
    "lr = 1e-4\n",
    "\"\"\"\n",
    "parser.add_argument('--lamda', type=float, default=1,\n",
    "                    help='coefficient of the reconstruction loss')\n",
    "\"\"\"\n",
    "lamda = 1\n",
    "\"\"\"\n",
    "parser.add_argument('--beta', type=float, default=1,\n",
    "                    help=('coefficient of the regularization term on '\n",
    "                          'clustering'))\n",
    "\"\"\"\n",
    "beta = 0.01\n",
    "\"\"\"\n",
    "parser.add_argument('--latent_dim', type=int, default=10,\n",
    "                    help='latent space dimension')\n",
    "\"\"\"\n",
    "latent_dim = 10\n",
    "input_dim = 1\n",
    "n_channels = 1\n",
    "dcn_autoencoder = DCNCDAutoencoder(device=device, n_clusters=n_clusters, input_dim=input_dim, latent_dim=latent_dim, n_channels=n_channels)\n",
    "dcn_autoencoder.set_general_training_variables(dataloader=dataloader, batch_size=batch_size)\n",
    "dcn_autoencoder.set_pretraining_variables(n_pret_epochs=n_pret_epochs, pret_lr=pret_lr)\n",
    "dcn_autoencoder.set_training_variables(n_epochs=n_epochs, lr=lr, lamda=lamda, beta=beta )\n",
    "dcn_autoencoder.set_path_variables(path_to_module=path_to_module, dataset_name=dataset_name)\n",
    "dcn_autoencoder.set_path()\n",
    "dcn_autoencoder = dcn_autoencoder.to(device)\n",
    "\n",
    "dcn_autoencoder.pretrain_autoencoder()"
   ]
  },
  {
   "cell_type": "code",
   "execution_count": null,
   "id": "3f0fcf5b",
   "metadata": {},
   "outputs": [],
   "source": [
    "dcn_autoencoder.train_autoencoder()\n",
    "cluster_centers = dcn_autoencoder.get_cluster_centers()\n",
    "_, dcn_autoencoder_reduced_data, labels = dcn_autoencoder.get_latent_data()\n",
    "General_Functions().save_excel(dcn_autoencoder.data_dir_path, dcn_autoencoder.df_eval)\n",
    "visualization.plot_tsne(dcn_autoencoder_reduced_data, labels, labels, cluster_centers, dcn_autoencoder.data_dir_path)"
   ]
  },
  {
   "cell_type": "markdown",
   "id": "82c846f6",
   "metadata": {},
   "source": [
    "### Pca"
   ]
  },
  {
   "cell_type": "code",
   "execution_count": null,
   "id": "e6eaefbb",
   "metadata": {},
   "outputs": [],
   "source": [
    "# Create a PCA object\n",
    "pca = PCA(n_components=2)  # Choose the number of components\n",
    "\n",
    "# Fit and transform the data to the lower-dimensional space\n",
    "pca_reduced_data = pca.fit_transform(data_np)\n",
    "\n",
    "visualization.plot(pca_reduced_data, labels, labels, np.empty(0), \"./Results/r100/PCA\")"
   ]
  },
  {
   "cell_type": "markdown",
   "id": "5a3b56de",
   "metadata": {},
   "source": [
    "### Svd"
   ]
  },
  {
   "cell_type": "code",
   "execution_count": null,
   "id": "20471e01",
   "metadata": {},
   "outputs": [],
   "source": [
    "# Apply Truncated SVD for dimensionality reduction\n",
    "svd = TruncatedSVD(n_components=2)\n",
    "svd_reduced_data = svd.fit_transform(data_np)\n",
    "\n",
    "visualization.plot(svd_reduced_data, labels, labels, np.empty(0), \"./Results/r100/SVD\")"
   ]
  },
  {
   "cell_type": "markdown",
   "id": "f6d77675",
   "metadata": {},
   "source": [
    "### Nmf"
   ]
  },
  {
   "cell_type": "code",
   "execution_count": null,
   "id": "75676677",
   "metadata": {},
   "outputs": [],
   "source": [
    "# Apply NMF for dimensionality reduction\n",
    "nmf = NMF(n_components=2)\n",
    "nmf_reduced_data = nmf.fit_transform(data_np)\n",
    "\n",
    "visualization.plot(nmf_reduced_data, labels, labels, np.empty(0), \"./Results/r100/NMF\")"
   ]
  },
  {
   "cell_type": "markdown",
   "id": "0552a3ce",
   "metadata": {},
   "source": [
    "### Lle"
   ]
  },
  {
   "cell_type": "code",
   "execution_count": null,
   "id": "22dadfcc",
   "metadata": {},
   "outputs": [],
   "source": [
    "lle = LocallyLinearEmbedding(n_components=2, n_neighbors=10)  # Adjust n_neighbors as needed\n",
    "lle_reduced_data = lle.fit_transform(data_np)\n",
    "\n",
    "visualization.plot(lle_reduced_data, labels, labels, np.empty(0), \"./Results/r100/LLE\")"
   ]
  },
  {
   "cell_type": "markdown",
   "id": "3bacf012",
   "metadata": {},
   "source": [
    "### LapEig"
   ]
  },
  {
   "cell_type": "code",
   "execution_count": null,
   "id": "16dc4648",
   "metadata": {},
   "outputs": [],
   "source": [
    "spectral_embedding = SpectralEmbedding(n_components=2, affinity='rbf')\n",
    "spectral_reduced_data = spectral_embedding.fit_transform(data_np)\n",
    "\n",
    "visualization.plot(spectral_reduced_data, labels, labels, np.empty(0), \"./Results/r100/LapEig\")"
   ]
  },
  {
   "cell_type": "markdown",
   "id": "37d88e8b",
   "metadata": {},
   "source": [
    "### Dcn"
   ]
  },
  {
   "cell_type": "code",
   "execution_count": null,
   "id": "5142f289",
   "metadata": {},
   "outputs": [],
   "source": []
  },
  {
   "cell_type": "code",
   "execution_count": null,
   "id": "26d190be",
   "metadata": {},
   "outputs": [],
   "source": []
  },
  {
   "cell_type": "markdown",
   "id": "0b97870d",
   "metadata": {},
   "source": [
    "### Dec"
   ]
  },
  {
   "cell_type": "markdown",
   "id": "704785d9",
   "metadata": {},
   "source": [
    "### Sae"
   ]
  }
 ],
 "metadata": {
  "kernelspec": {
   "display_name": "Python 3 (ipykernel)",
   "language": "python",
   "name": "python3"
  },
  "language_info": {
   "codemirror_mode": {
    "name": "ipython",
    "version": 3
   },
   "file_extension": ".py",
   "mimetype": "text/x-python",
   "name": "python",
   "nbconvert_exporter": "python",
   "pygments_lexer": "ipython3",
   "version": "3.10.9"
  }
 },
 "nbformat": 4,
 "nbformat_minor": 5
}
