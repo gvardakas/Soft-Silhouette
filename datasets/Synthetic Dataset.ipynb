{
 "cells": [
  {
   "cell_type": "code",
   "execution_count": 1,
   "metadata": {},
   "outputs": [],
   "source": [
    "import numpy as np\n",
    "import pandas as pd\n",
    "from sklearn.preprocessing import MinMaxScaler"
   ]
  },
  {
   "cell_type": "code",
   "execution_count": 17,
   "metadata": {},
   "outputs": [
    {
     "data": {
      "text/plain": [
       "<matplotlib.axes._subplots.AxesSubplot at 0x7f53178b06d8>"
      ]
     },
     "execution_count": 17,
     "metadata": {},
     "output_type": "execute_result"
    },
    {
     "data": {
      "image/png": "[encoded data removed]",
      "text/plain": [
       "<Figure size 432x288 with 1 Axes>"
      ]
     },
     "metadata": {
      "needs_background": "light"
     },
     "output_type": "display_data"
    }
   ],
   "source": [
    "n_samples_0 = 200\n",
    "n_samples_1 = 50\n",
    "n_samples_2 = 50\n",
    "n_samples_3 = 5\n",
    "#z_dimention = 2\n",
    "#size = (n_samples, z_dimention)\n",
    "\n",
    "var = 1\n",
    "covar = 0\n",
    "center = 7\n",
    "\n",
    "mu_0 = [0, 0]\n",
    "cov_0 = [[var, covar], \n",
    "         [covar, var]]\n",
    "#samples_0 = np.random.normal(mu_0, sigma, size)\n",
    "samples_0 = np.random.multivariate_normal(mu_0, cov_0, size=n_samples_0)\n",
    "labels_0 = np.full((n_samples_0), 0)\n",
    "\n",
    "mu_1 = (0, center)\n",
    "cov_1 = [[var, -covar], \n",
    "         [-covar, var]]\n",
    "#samples_1 = np.random.normal(mu, sigma, size)\n",
    "samples_1 = np.random.multivariate_normal(mu_1, cov_1, size=n_samples_1)\n",
    "labels_1 = np.full((n_samples_1), 1)\n",
    "\n",
    "mu_2 = (center, 0)\n",
    "cov_2 = [[var, -covar], \n",
    "         [-covar, var]]\n",
    "#samples_2 = np.random.normal(mu, sigma, size)\n",
    "samples_2 = np.random.multivariate_normal(mu_2, cov_2, size=n_samples_2)\n",
    "labels_2 = np.full((n_samples_2), 2)\n",
    "\n",
    "mu_3 = (center, center)\n",
    "cov_3 = [[var, covar], \n",
    "         [covar, var]]\n",
    "#samples_3 = np.random.normal(mu, sigma, size)\n",
    "samples_3 = np.random.multivariate_normal(mu_3, cov_3, size=n_samples_3)\n",
    "labels_3 = np.full((n_samples_3), 3)\n",
    "\n",
    "samples = np.append(samples_0, samples_1, axis=0)\n",
    "samples = np.append(samples, samples_2, axis=0)\n",
    "samples = np.append(samples, samples_3, axis=0)\n",
    "\n",
    "labels = np.append(labels_0, labels_1)\n",
    "labels = np.append(labels, labels_2)\n",
    "labels = np.append(labels, labels_3)\n",
    "\n",
    "samples_df = pd.DataFrame(samples)\n",
    "samples_df[\"labels\"] = labels\n",
    "\n",
    "samples_df.plot.scatter(x=0, y=1)"
   ]
  },
  {
   "cell_type": "code",
   "execution_count": 18,
   "metadata": {},
   "outputs": [],
   "source": [
    "np.save(\"Synthetic/synthetic.npy\", samples)\n",
    "np.save(\"Synthetic/synthetic_labels.npy\", labels)"
   ]
  },
  {
   "cell_type": "code",
   "execution_count": null,
   "metadata": {},
   "outputs": [],
   "source": []
  }
 ],
 "metadata": {
  "kernelspec": {
   "display_name": "Python 2",
   "language": "python",
   "name": "python2"
  },
  "language_info": {
   "codemirror_mode": {
    "name": "ipython",
    "version": 3
   },
   "file_extension": ".py",
   "mimetype": "text/x-python",
   "name": "python",
   "nbconvert_exporter": "python",
   "pygments_lexer": "ipython3",
   "version": "3.6.9"
  }
 },
 "nbformat": 4,
 "nbformat_minor": 4
}
